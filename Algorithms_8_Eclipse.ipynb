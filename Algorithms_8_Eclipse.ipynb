{
  "nbformat": 4,
  "nbformat_minor": 0,
  "metadata": {
    "colab": {
      "name": "Algorithms 7. - Eclipse.ipynb",
      "provenance": [],
      "collapsed_sections": [
        "hP7hV2yIskD4",
        "Kd_kWodukquh",
        "2TrZHY0IMr2t",
        "ImEFheNp8gDK",
        "P4ebuy6AAAwx",
        "Vm9HRWS7AFao",
        "EGzaIjqDAK0c",
        "8rhPyjr8BFj7",
        "ny9nPliOXztE",
        "28TWDrq-UHiu",
        "am6KuZjD_R4j"
      ],
      "include_colab_link": true
    },
    "kernelspec": {
      "display_name": "Python 3",
      "name": "python3"
    }
  },
  "cells": [
    {
      "cell_type": "markdown",
      "metadata": {
        "id": "view-in-github",
        "colab_type": "text"
      },
      "source": [
        "<a href=\"https://colab.research.google.com/github/brunorodriguesti/Experiment_CF_ML_Bug_Fixing_Time/blob/main/Algorithms_8_Eclipse.ipynb\" target=\"_parent\"><img src=\"https://colab.research.google.com/assets/colab-badge.svg\" alt=\"Open In Colab\"/></a>"
      ]
    },
    {
      "cell_type": "code",
      "metadata": {
        "colab": {
          "base_uri": "https://localhost:8080/"
        },
        "id": "2jYhOYH44MSG",
        "outputId": "1dbe1982-1575-41d8-cae1-ea8c83e20269"
      },
      "source": [
        "from google.colab import drive\n",
        "drive.mount('/content/gdrive')"
      ],
      "execution_count": null,
      "outputs": [
        {
          "output_type": "stream",
          "name": "stdout",
          "text": [
            "Mounted at /content/gdrive\n"
          ]
        }
      ]
    },
    {
      "cell_type": "code",
      "metadata": {
        "colab": {
          "base_uri": "https://localhost:8080/"
        },
        "id": "ctrnxQMl7RGG",
        "outputId": "8c63b73e-cfa2-46d4-b2f8-4916473e8698"
      },
      "source": [
        "cd /content/gdrive/My Drive/"
      ],
      "execution_count": null,
      "outputs": [
        {
          "output_type": "stream",
          "name": "stdout",
          "text": [
            "/content/gdrive/My Drive\n"
          ]
        }
      ]
    },
    {
      "cell_type": "code",
      "metadata": {
        "colab": {
          "base_uri": "https://localhost:8080/"
        },
        "id": "_k5ye4-Z7gax",
        "outputId": "673ff84b-35ab-4483-86fe-fb2535e0bfd8"
      },
      "source": [
        "cd Colab\\ Notebooks"
      ],
      "execution_count": null,
      "outputs": [
        {
          "output_type": "stream",
          "name": "stdout",
          "text": [
            "/content/gdrive/My Drive/Colab Notebooks\n"
          ]
        }
      ]
    },
    {
      "cell_type": "code",
      "metadata": {
        "id": "_ss567U68J44"
      },
      "source": [
        "import pandas as pd\n",
        "import numpy as np\n",
        "import matplotlib.pyplot as plt\n",
        "import datetime\n",
        "import nltk\n",
        "import time\n",
        "from datetime import timedelta\n",
        "from sklearn.metrics.pairwise import pairwise_distances\n",
        "from sklearn.feature_selection import chi2"
      ],
      "execution_count": null,
      "outputs": []
    },
    {
      "cell_type": "code",
      "metadata": {
        "id": "vk2jiYkL-6nm"
      },
      "source": [
        "#start = time.time()\n",
        "#for i in range(1,100):\n",
        "#  print(i)\n"
      ],
      "execution_count": null,
      "outputs": []
    },
    {
      "cell_type": "code",
      "metadata": {
        "id": "86ADl5EH_KZW"
      },
      "source": [
        "#end = time.time()\n",
        "#print('elapsed time: ',timedelta(seconds= end - start))"
      ],
      "execution_count": null,
      "outputs": []
    },
    {
      "cell_type": "code",
      "metadata": {
        "id": "UNMZc7cJuAC6"
      },
      "source": [
        "#bugfixclass = pd.read_csv('/content/gdrive/My Drive/Colab Notebooks/eclipse_clean.csv', low_memory=False)\n",
        "#bugfixclass = pd.read_csv('/content/gdrive/My Drive/Colab Notebooks/netbeans_clean.csv', low_memory=False)\n",
        "#bugfixclass = pd.read_csv('/content/gdrive/My Drive/Colab Notebooks/NetBeansclean_new.csv', low_memory=False)\n",
        "bugfixclass = pd.read_csv('/content/gdrive/My Drive/Colab Notebooks/Eclipse_Plataformclean_new.csv', low_memory=False)"
      ],
      "execution_count": null,
      "outputs": []
    },
    {
      "cell_type": "code",
      "metadata": {
        "colab": {
          "base_uri": "https://localhost:8080/"
        },
        "id": "1QWZbkIu8-nl",
        "outputId": "bdc11e34-d39d-4925-c890-58bd9d917063"
      },
      "source": [
        "bugfixclass['classification'].value_counts()"
      ],
      "execution_count": null,
      "outputs": [
        {
          "output_type": "execute_result",
          "data": {
            "text/plain": [
              "0.0    12353\n",
              "1.0    12353\n",
              "Name: classification, dtype: int64"
            ]
          },
          "metadata": {},
          "execution_count": 6
        }
      ]
    },
    {
      "cell_type": "code",
      "metadata": {
        "id": "KvfTi7Fc6Kgr"
      },
      "source": [
        "#bugfixclass.columns"
      ],
      "execution_count": null,
      "outputs": []
    },
    {
      "cell_type": "code",
      "metadata": {
        "id": "8BcfvgIe58j_"
      },
      "source": [
        "#bugfixclass[['classification', 'days','rating_avg_reporter', 'rating_reporter', 'reporter']]"
      ],
      "execution_count": null,
      "outputs": []
    },
    {
      "cell_type": "code",
      "metadata": {
        "id": "iR8-EdME6zMq"
      },
      "source": [
        "#bugfixclass[bugfixclass['reporter']== 53]"
      ],
      "execution_count": null,
      "outputs": []
    },
    {
      "cell_type": "code",
      "metadata": {
        "id": "TprndhBx6vpM"
      },
      "source": [
        "#bugteste = bugfixclass[bugfixclass['reporter']== 53]"
      ],
      "execution_count": null,
      "outputs": []
    },
    {
      "cell_type": "code",
      "metadata": {
        "id": "Jm1kxSc87BCW"
      },
      "source": [
        "#bugteste[['classification', 'days','rating_avg_reporter', 'rating_reporter', 'reporter']][:30]"
      ],
      "execution_count": null,
      "outputs": []
    },
    {
      "cell_type": "markdown",
      "metadata": {
        "id": "Nm4Dq2LLwIj6"
      },
      "source": [
        "#Texts"
      ]
    },
    {
      "cell_type": "code",
      "metadata": {
        "colab": {
          "base_uri": "https://localhost:8080/"
        },
        "id": "xBoKRn8AyUya",
        "outputId": "66167fca-6366-4349-cb8a-480ddeb12588"
      },
      "source": [
        "nltk.download('punkt')\n",
        "nltk.download('averaged_perceptron_tagger')\n",
        "nltk.download('tagsets')\n",
        "nltk.download(\"stopwords\")\n",
        "nltk.download('wordnet')\n",
        "from nltk.tokenize import RegexpTokenizer\n",
        "from nltk.stem import WordNetLemmatizer,PorterStemmer\n",
        "from nltk.corpus import stopwords\n",
        "import re\n",
        "lemmatizer = WordNetLemmatizer()\n",
        "stemmer = PorterStemmer() \n"
      ],
      "execution_count": null,
      "outputs": [
        {
          "output_type": "stream",
          "name": "stdout",
          "text": [
            "[nltk_data] Downloading package punkt to /root/nltk_data...\n",
            "[nltk_data]   Unzipping tokenizers/punkt.zip.\n",
            "[nltk_data] Downloading package averaged_perceptron_tagger to\n",
            "[nltk_data]     /root/nltk_data...\n",
            "[nltk_data]   Unzipping taggers/averaged_perceptron_tagger.zip.\n",
            "[nltk_data] Downloading package tagsets to /root/nltk_data...\n",
            "[nltk_data]   Unzipping help/tagsets.zip.\n",
            "[nltk_data] Downloading package stopwords to /root/nltk_data...\n",
            "[nltk_data]   Unzipping corpora/stopwords.zip.\n",
            "[nltk_data] Downloading package wordnet to /root/nltk_data...\n",
            "[nltk_data]   Unzipping corpora/wordnet.zip.\n"
          ]
        }
      ]
    },
    {
      "cell_type": "code",
      "metadata": {
        "id": "imEKU453xoIG"
      },
      "source": [
        "def preprocess(sentence):\n",
        "    sentence=str(sentence)\n",
        "    sentence = sentence.lower()\n",
        "    sentence=sentence.replace('{html}',\"\") \n",
        "    cleanr = re.compile('<.*?>')\n",
        "    cleantext = re.sub(cleanr, '', sentence)\n",
        "    rem_url=re.sub(r'http\\S+', '',cleantext)\n",
        "    rem_num = re.sub('[0-9]+', '', rem_url)\n",
        "    tokenizer = RegexpTokenizer(r'\\w+')\n",
        "    tokens = tokenizer.tokenize(rem_num)  \n",
        "    filtered_words = [w for w in tokens if len(w) > 2 if not w in stopwords.words('english')]\n",
        "    stem_words=[stemmer.stem(w) for w in filtered_words]\n",
        "    #lemma_words=[lemmatizer.lemmatize(w) for w in stem_words]\n",
        "    return \" \".join(stem_words)"
      ],
      "execution_count": null,
      "outputs": []
    },
    {
      "cell_type": "code",
      "metadata": {
        "id": "0UnrRluutVng"
      },
      "source": [
        "def getchunks(iterable, chunk_size):\n",
        "    size = len(iterable)\n",
        "    if size < chunk_size:\n",
        "        yield iterable\n",
        "    chunks_nb = int(size / chunk_size)\n",
        "    iter_ints = range(0, chunks_nb)\n",
        "    for i in iter_ints:\n",
        "        j = i * chunk_size\n",
        "        if i+1 < chunks_nb:\n",
        "            k = j + chunk_size\n",
        "            yield iterable[j:k]\n",
        "        else:\n",
        "            yield iterable[j:]"
      ],
      "execution_count": null,
      "outputs": []
    },
    {
      "cell_type": "code",
      "metadata": {
        "id": "0342eRFdUcFZ"
      },
      "source": [
        "bugfixclass['summary_plus_comment']= bugfixclass['short_desc']+\" \" +bugfixclass['comments']"
      ],
      "execution_count": null,
      "outputs": []
    },
    {
      "cell_type": "code",
      "metadata": {
        "id": "9eNcKxd9UnC8"
      },
      "source": [
        "#pd.set_option('display.max_colwidth', -1)\n",
        "#bugfixclass['summary_plus_comment'][:10]"
      ],
      "execution_count": null,
      "outputs": []
    },
    {
      "cell_type": "code",
      "metadata": {
        "id": "vU6KMOugxpyQ"
      },
      "source": [
        "#bugfixclass['summary_tokenize']=np.array(bugfixclass['short_desc'].map(lambda s:preprocess(s)))\n",
        "#bugfixclass['comment_tokenize']=np.array(bugfixclass['comments'].map(lambda s:preprocess(s)))\n",
        "bugfixclass['summary_plus_comment_tok']= np.array(bugfixclass['summary_plus_comment'].map(lambda s:preprocess(s)))"
      ],
      "execution_count": null,
      "outputs": []
    },
    {
      "cell_type": "markdown",
      "metadata": {
        "id": "hP7hV2yIskD4"
      },
      "source": [
        "#Countvect"
      ]
    },
    {
      "cell_type": "code",
      "metadata": {
        "id": "RNGJKv_MFQZ1"
      },
      "source": [
        "# funcionando from sklearn.feature_extraction.text import CountVectorizer\n",
        "#countVect = CountVectorizer(max_features=1000)\n",
        "#countVect = CountVectorizer()\n",
        "# funcionando countVect = CountVectorizer(min_df=0.005)"
      ],
      "execution_count": null,
      "outputs": []
    },
    {
      "cell_type": "code",
      "metadata": {
        "id": "TsgMqZHMFxV-"
      },
      "source": [
        "#se não for usar o tfidf_transformer chamar a variável de sentence\n",
        "#sentence_count_vect = countVect.fit_transform(bugfixclass['summary_tokenize'])\n",
        "#sentence_count_vect = countVect.fit_transform(bugfixclass['comment_tokenize'])\n",
        "# funcionando sentence_count_vect = countVect.fit_transform(bugfixclass['summary_plus_comment_tok'])"
      ],
      "execution_count": null,
      "outputs": []
    },
    {
      "cell_type": "code",
      "metadata": {
        "id": "nRSRIQewGEvx"
      },
      "source": [
        " #sentence_count_vect.shape"
      ],
      "execution_count": null,
      "outputs": []
    },
    {
      "cell_type": "code",
      "metadata": {
        "id": "H6FXUVzo5zuF"
      },
      "source": [
        "#count_vect_df = pd.DataFrame(sentence.todense(), columns=countVect.get_feature_names())"
      ],
      "execution_count": null,
      "outputs": []
    },
    {
      "cell_type": "code",
      "metadata": {
        "colab": {
          "base_uri": "https://localhost:8080/"
        },
        "id": "X5hBTP8-Rcp9",
        "outputId": "d34ea863-6f20-49b2-bc46-75ef2fda6eea"
      },
      "source": [
        "#count_vect_df.shape"
      ],
      "execution_count": null,
      "outputs": [
        {
          "data": {
            "text/plain": [
              "(114411, 1000)"
            ]
          },
          "execution_count": 52,
          "metadata": {
            "tags": []
          },
          "output_type": "execute_result"
        }
      ]
    },
    {
      "cell_type": "code",
      "metadata": {
        "id": "VbkyO6pdVmHJ"
      },
      "source": [
        "# funcionando from sklearn.feature_extraction.text import TfidfTransformer"
      ],
      "execution_count": null,
      "outputs": []
    },
    {
      "cell_type": "code",
      "metadata": {
        "id": "4nq5whDZWNBT"
      },
      "source": [
        "# funcionando tfidf_transformer = TfidfTransformer()\n",
        "#X_train_tfidf = tfidf_transformer.fit_transform(sentence_count_vect)\n",
        "# funcionando X_train_tfidf = tfidf_transformer.fit_transform(sentence_count_vect)"
      ],
      "execution_count": null,
      "outputs": []
    },
    {
      "cell_type": "code",
      "metadata": {
        "id": "UyFG0BaXcTOp"
      },
      "source": [
        "# funcionando sentence = X_train_tfidf"
      ],
      "execution_count": null,
      "outputs": []
    },
    {
      "cell_type": "code",
      "metadata": {
        "colab": {
          "base_uri": "https://localhost:8080/"
        },
        "id": "2HG2bE4KcU3Y",
        "outputId": "5fe8b331-88e6-4181-d52f-34d83078d479"
      },
      "source": [
        "#sentence.shape"
      ],
      "execution_count": null,
      "outputs": [
        {
          "data": {
            "text/plain": [
              "(113904, 1262)"
            ]
          },
          "execution_count": 80,
          "metadata": {
            "tags": []
          },
          "output_type": "execute_result"
        }
      ]
    },
    {
      "cell_type": "code",
      "metadata": {
        "id": "ec7znAlQr2tu"
      },
      "source": [
        "#Only with max features\n",
        "# funcionando count_vect_df = pd.DataFrame(sentence.todense(), columns=countVect.get_feature_names())"
      ],
      "execution_count": null,
      "outputs": []
    },
    {
      "cell_type": "code",
      "metadata": {
        "id": "h3oL-q0pFqHi"
      },
      "source": [
        ""
      ],
      "execution_count": null,
      "outputs": []
    },
    {
      "cell_type": "markdown",
      "metadata": {
        "id": "aacn1eVXsdwk"
      },
      "source": [
        "#TF-IDF"
      ]
    },
    {
      "cell_type": "code",
      "metadata": {
        "id": "Qt7-EuoustAt"
      },
      "source": [
        "from sklearn.feature_extraction.text import TfidfVectorizer\n",
        "#tfidf = TfidfVectorizer(ngram_range=(2, 10), max_features=1000)\n",
        "tfidf = TfidfVectorizer(max_features=1000)"
      ],
      "execution_count": null,
      "outputs": []
    },
    {
      "cell_type": "code",
      "metadata": {
        "id": "S_trD0C6sxeg"
      },
      "source": [
        "# acho que não precisa disso dtm = tfidf.fit_transform(bugfixclass['summary_plus_comment_tok'])"
      ],
      "execution_count": null,
      "outputs": []
    },
    {
      "cell_type": "code",
      "metadata": {
        "id": "L-elK5mvs0Y3"
      },
      "source": [
        "#bugfixclass['summary_plus_comment'] = np.array(tfidf.fit_transform(bugfixclass['descriptionpluscomment']))\n",
        "#Original\n",
        "dtm_chunked = []\n",
        "for chunk in getchunks(bugfixclass['summary_plus_comment_tok'], bugfixclass.shape[0]):\n",
        "    dtm_chunked.append(tfidf.fit_transform(chunk))"
      ],
      "execution_count": null,
      "outputs": []
    },
    {
      "cell_type": "code",
      "metadata": {
        "id": "dHwMRwPjs2dv"
      },
      "source": [
        "# matrices concates\n",
        "from scipy import sparse\n",
        "dtm = sparse.vstack(dtm_chunked)"
      ],
      "execution_count": null,
      "outputs": []
    },
    {
      "cell_type": "code",
      "metadata": {
        "colab": {
          "base_uri": "https://localhost:8080/"
        },
        "id": "CcZaTzJ9s6xr",
        "outputId": "6da16a31-6443-447c-cb78-e3cc1706f563"
      },
      "source": [
        "X_text = pd.DataFrame(dtm.toarray(), columns=tfidf.get_feature_names())"
      ],
      "execution_count": null,
      "outputs": [
        {
          "output_type": "stream",
          "name": "stderr",
          "text": [
            "/usr/local/lib/python3.7/dist-packages/sklearn/utils/deprecation.py:87: FutureWarning: Function get_feature_names is deprecated; get_feature_names is deprecated in 1.0 and will be removed in 1.2. Please use get_feature_names_out instead.\n",
            "  warnings.warn(msg, category=FutureWarning)\n"
          ]
        }
      ]
    },
    {
      "cell_type": "markdown",
      "metadata": {
        "id": "K2CHtLvojR7M"
      },
      "source": [
        "#Features"
      ]
    },
    {
      "cell_type": "code",
      "metadata": {
        "id": "j_9vAJEYfncj"
      },
      "source": [
        "#bugfixclass['combination_feature_weight'] = bugfixclass[bugfixclass['reporter'] *\n",
        "bugfixclass['combination_feature_weight_reporter'] = bugfixclass['reporter_reputation_new'] * bugfixclass['rating_reporter']\n",
        "bugfixclass['combination_feature_weight_developer'] = bugfixclass['developer_reputation_new'] * bugfixclass['rating_reporter']"
      ],
      "execution_count": null,
      "outputs": []
    },
    {
      "cell_type": "code",
      "metadata": {
        "id": "KEq7SEp0gn46"
      },
      "source": [
        ""
      ],
      "execution_count": null,
      "outputs": []
    },
    {
      "cell_type": "code",
      "metadata": {
        "id": "3lzA5y-iwM4M",
        "colab": {
          "base_uri": "https://localhost:8080/",
          "height": 128
        },
        "outputId": "f1c3945c-09dc-4846-f9ff-3bb5bda933bc"
      },
      "source": [
        "## primeiro teste de features\n",
        "'''\n",
        "features = ['reporter',  'assigned_to', 'priority_n', 'severity_n', 'number_cc','number_attachment', 'product_id', 'component_id', 'op_sys_n', 'month_creation', 'year_creation']\n",
        "features_reputation = ['reporter', 'reporter_reputation_new', 'assigned_to', 'developer_reputation_new', 'priority_n', 'severity_n', 'number_cc', 'number_attachment', 'product_id', 'component_id', 'op_sys_n', 'month_creation', 'year_creation' ]\n",
        "features_rating = ['reporter', 'rating_reporter', 'assigned_to', 'rating_developer', 'priority_n', 'severity_n', 'number_cc', 'number_attachment', 'product_id', 'component_id', 'op_sys_n', 'month_creation', 'year_creation' ]\n",
        "features_avg_rating = ['reporter', 'rating_avg_reporter', 'assigned_to', 'rating_avg_developer', 'priority_n', 'severity_n', 'number_cc', 'number_attachment', 'product_id', 'component_id', 'op_sys_n', 'month_creation', 'year_creation' ]\n",
        "features_weight = ['reporter',  'assigned_to', 'combination_feature_weight_reporter', 'combination_feature_weight_developer', 'priority_n', 'severity_n', 'number_cc','number_attachment', 'product_id', 'component_id', 'op_sys_n', 'month_creation', 'year_creation']\n",
        "features_togethers = ['reporter',  'assigned_to', 'reporter_reputation_new', 'rating_reporter', 'developer_reputation_new', 'rating_developer',  'priority_n', 'severity_n', 'number_cc','number_attachment', 'product_id', 'component_id', 'op_sys_n', 'month_creation', 'year_creation']\n",
        "'''"
      ],
      "execution_count": null,
      "outputs": [
        {
          "output_type": "execute_result",
          "data": {
            "application/vnd.google.colaboratory.intrinsic+json": {
              "type": "string"
            },
            "text/plain": [
              "\"\\nfeatures = ['reporter',  'assigned_to', 'priority_n', 'severity_n', 'number_cc','number_attachment', 'product_id', 'component_id', 'op_sys_n', 'month_creation', 'year_creation']\\nfeatures_reputation = ['reporter', 'reporter_reputation_new', 'assigned_to', 'developer_reputation_new', 'priority_n', 'severity_n', 'number_cc', 'number_attachment', 'product_id', 'component_id', 'op_sys_n', 'month_creation', 'year_creation' ]\\nfeatures_rating = ['reporter', 'rating_reporter', 'assigned_to', 'rating_developer', 'priority_n', 'severity_n', 'number_cc', 'number_attachment', 'product_id', 'component_id', 'op_sys_n', 'month_creation', 'year_creation' ]\\nfeatures_avg_rating = ['reporter', 'rating_avg_reporter', 'assigned_to', 'rating_avg_developer', 'priority_n', 'severity_n', 'number_cc', 'number_attachment', 'product_id', 'component_id', 'op_sys_n', 'month_creation', 'year_creation' ]\\nfeatures_weight = ['reporter',  'assigned_to', 'combination_feature_weight_reporter', 'combination_feature_weight_developer', 'priority_n', 'severity_n', 'number_cc','number_attachment', 'product_id', 'component_id', 'op_sys_n', 'month_creation', 'year_creation']\\nfeatures_togethers = ['reporter',  'assigned_to', 'reporter_reputation_new', 'rating_reporter', 'developer_reputation_new', 'rating_developer',  'priority_n', 'severity_n', 'number_cc','number_attachment', 'product_id', 'component_id', 'op_sys_n', 'month_creation', 'year_creation']\\n\""
            ]
          },
          "metadata": {},
          "execution_count": 29
        }
      ]
    },
    {
      "cell_type": "code",
      "metadata": {
        "id": "ljaqHUL4bagX"
      },
      "source": [
        "## estava ok features = ['reporter',  'assigned_to', 'priority_n', 'severity_n', 'product_id', 'component_id', 'month_creation', 'year_creation', 'number_cc','number_attachment' ]\n",
        "features_normal = ['reporter',  'assigned_to', 'priority_n', 'severity_n', 'product_id', 'component_id', 'op_sys_n', 'month_creation', 'year_creation']\n",
        "#features_normal = ['reporter',  'assigned_to', 'priority_n', 'severity_n',  'year_creation']\n",
        "features_cc = ['reporter',  'assigned_to', 'priority_n', 'severity_n', 'number_cc', 'product_id', 'component_id', 'op_sys_n', 'month_creation', 'year_creation']\n",
        "features_atachment = ['reporter',  'assigned_to', 'priority_n', 'severity_n', 'number_attachment', 'product_id', 'component_id', 'op_sys_n', 'month_creation', 'year_creation']\n",
        "features_reporter_reputation = ['reporter', 'reporter_reputation_new', 'assigned_to', 'priority_n', 'severity_n', 'product_id', 'component_id', 'op_sys_n', 'month_creation', 'year_creation' ]\n",
        "features_developer_reputation = ['reporter', 'assigned_to', 'developer_reputation_new', 'priority_n', 'severity_n', 'product_id', 'component_id', 'op_sys_n', 'month_creation', 'year_creation' ]\n",
        "features_reputations = ['reporter', 'reporter_reputation_new', 'assigned_to', 'developer_reputation_new', 'priority_n', 'severity_n', 'product_id', 'component_id', 'op_sys_n', 'month_creation', 'year_creation' ]\n",
        "features_reporter_rating = ['reporter', 'rating_reporter', 'assigned_to', 'priority_n', 'severity_n', 'product_id', 'component_id', 'op_sys_n', 'month_creation', 'year_creation' ]\n",
        "features_developer_rating = ['reporter', 'assigned_to', 'rating_developer', 'priority_n', 'severity_n', 'product_id', 'component_id', 'op_sys_n', 'month_creation', 'year_creation' ]\n",
        "features_ratings = ['reporter', 'rating_reporter', 'assigned_to', 'rating_developer', 'priority_n', 'severity_n', 'product_id', 'component_id', 'op_sys_n', 'month_creation', 'year_creation' ]\n",
        "features_avg_rating = ['reporter', 'rating_avg_reporter', 'assigned_to', 'rating_avg_developer', 'priority_n', 'severity_n', 'product_id', 'component_id', 'op_sys_n', 'month_creation', 'year_creation' ]\n",
        "features_weight = ['reporter',  'assigned_to', 'combination_feature_weight_reporter', 'combination_feature_weight_developer', 'priority_n', 'severity_n', 'product_id', 'component_id', 'op_sys_n', 'month_creation', 'year_creation']\n",
        "#features_togethers = ['reporter',  'assigned_to', 'reporter_reputation_new', 'rating_reporter', 'developer_reputation_new', 'rating_developer',  'priority_n', 'severity_n', 'number_cc','number_attachment', 'product_id', 'component_id', 'op_sys_n', 'month_creation', 'year_creation']\n",
        "features_togethers = ['reporter',  'assigned_to', 'reporter_reputation_new', 'rating_reporter', 'developer_reputation_new', 'rating_developer',  'priority_n', 'severity_n', 'component_id', 'op_sys_n', 'month_creation', 'year_creation']\n",
        "features_togethes_reporter = ['reporter', 'assigned_to', 'reporter_reputation_new', 'rating_reporter', 'priority_n', 'severity_n', 'component_id', 'op_sys_n', 'month_creation', 'year_creation']\n",
        "features_togethers_developer = ['reporter',  'assigned_to', 'developer_reputation_new', 'rating_developer',  'priority_n', 'severity_n', 'component_id', 'op_sys_n', 'month_creation', 'year_creation']\n",
        "features_without_developer_reputation = ['reporter', 'reporter_reputation_new', 'priority_n', 'severity_n', 'number_cc', 'product_id', 'component_id', 'op_sys_n', 'month_creation', 'year_creation']\n",
        "features_without_developer_ratings = ['reporter',  'rating_reporter',  'priority_n', 'severity_n', 'number_cc', 'product_id', 'component_id', 'op_sys_n', 'month_creation', 'year_creation']"
      ],
      "execution_count": null,
      "outputs": []
    },
    {
      "cell_type": "code",
      "metadata": {
        "colab": {
          "base_uri": "https://localhost:8080/"
        },
        "id": "9OzIFXDJH1s1",
        "outputId": "2ea5a081-aa1a-4f9b-c560-d3e40a11dbb6"
      },
      "source": [
        "bugfixclass.columns"
      ],
      "execution_count": null,
      "outputs": [
        {
          "data": {
            "text/plain": [
              "Index(['Unnamed: 0', 'bug_id', 'assigned_to', 'bug_severity', 'priority',\n",
              "       'bug_status', 'creation_ts', 'delta_ts', 'short_desc', 'short_desc.1',\n",
              "       'comments', 'op_sys', 'rep_platform', 'reporter', 'version',\n",
              "       'resolution', 'lastdiffed', 'estimated_time', 'product_id',\n",
              "       'component_id', 'days', 'year_creation', 'year_creation_n',\n",
              "       'month_creation', 'year_lastdiffed', 'month_lastdiffed', 'number_cc',\n",
              "       'number_attachment', 'classification', 'ratings', 'rating_reporter',\n",
              "       'rating_avg_reporter', 'rating_avg_developer', 'rating_developer',\n",
              "       'reporter_reputation_new', 'developer_reputation',\n",
              "       'developer_reputation_new', 'priority_n', 'severity_n'],\n",
              "      dtype='object')"
            ]
          },
          "execution_count": 8,
          "metadata": {},
          "output_type": "execute_result"
        }
      ]
    },
    {
      "cell_type": "code",
      "metadata": {
        "id": "qO3D8odpUOrd"
      },
      "source": [
        "#X = pd.concat([bugfixclass[features], count_vect_df], axis=1)\n",
        "#X = count_vect_df\n",
        "#X = sentence\n",
        "Xnormal = bugfixclass[features_normal]\n",
        "Xreputation = bugfixclass[features_reputations]\n",
        "Xreporter_reputation = bugfixclass[features_reporter_reputation]\n",
        "Xdeveloper_reputation = bugfixclass[features_developer_reputation]\n",
        "Xrating = bugfixclass[features_ratings]\n",
        "Xreporter_rating = bugfixclass[features_reporter_rating]\n",
        "Xdeveloper_rating = bugfixclass[features_developer_rating]\n",
        "XratingAvg = bugfixclass[features_avg_rating]\n",
        "Xweight = bugfixclass[features_weight]\n",
        "Xtogether = bugfixclass[features_togethers]\n",
        "XAtachment = bugfixclass[features_atachment]\n",
        "XCC = bugfixclass[features_cc]\n",
        "XtogetherDeveloper = bugfixclass[features_togethers_developer]\n",
        "XtogetherReporter = bugfixclass[features_togethes_reporter]\n",
        "'''\n",
        "X_text_reputation = pd.concat([bugfixclass[features_reputations], X_text], axis=1)\n",
        "X_text_reporter_reputation = pd.concat([bugfixclass[features_reporter_reputation], X_text], axis=1)\n",
        "X_text_developer_reputation = pd.concat([bugfixclass[features_developer_reputation], X_text], axis=1)\n",
        "X_text_rating = pd.concat([bugfixclass[features_ratings], X_text], axis=1)\n",
        "X_text_reporter_rating = pd.concat([bugfixclass[features_reporter_rating], X_text], axis=1)\n",
        "X_text_developer_rating = pd.concat([bugfixclass[features_developer_rating], X_text], axis=1)\n",
        "'''\n",
        "XWithoutDeveloperReputation = bugfixclass[features_without_developer_reputation]\n",
        "XWithoutDeveloperRating = bugfixclass[features_without_developer_ratings]\n",
        "\n",
        "#XsD = bugfixclass[featuresSD]\n",
        "#XcDA = bugfixclass[featuresCDA]\n",
        "#XcD = bugfixclass[featuresCD]\n"
      ],
      "execution_count": null,
      "outputs": []
    },
    {
      "cell_type": "code",
      "metadata": {
        "id": "sIgwy0SGxRhZ"
      },
      "source": [
        "y = bugfixclass['classification']\n",
        "yD = bugfixclass['days']"
      ],
      "execution_count": null,
      "outputs": []
    },
    {
      "cell_type": "code",
      "metadata": {
        "id": "R1OtwgFXvcMy"
      },
      "source": [
        "from sklearn.model_selection import train_test_split, KFold, cross_val_score\n",
        "from sklearn import metrics"
      ],
      "execution_count": null,
      "outputs": []
    },
    {
      "cell_type": "code",
      "metadata": {
        "id": "ovAUUv4wwTH_"
      },
      "source": [
        "#X_train, X_test, y_train, y_test = train_test_split(X, y, test_size=0.2,random_state=42)"
      ],
      "execution_count": null,
      "outputs": []
    },
    {
      "cell_type": "code",
      "metadata": {
        "id": "GbfwNqjLe-57"
      },
      "source": [
        "X_train_reputation, X_test_reputation, y_train_reputation, y_test_reputation = train_test_split(Xreputation, y, test_size=0.2,random_state=42)\n",
        "X_train_rating, X_test_rating, y_train_rating, y_test_rating = train_test_split(Xrating, y, test_size=0.2,random_state=42)"
      ],
      "execution_count": null,
      "outputs": []
    },
    {
      "cell_type": "markdown",
      "metadata": {
        "id": "dBHFFh-PnN1J"
      },
      "source": [
        "#Chi square"
      ]
    },
    {
      "cell_type": "code",
      "metadata": {
        "id": "S7H-79mFnPGu"
      },
      "source": [
        "chi_scores = chi2(Xtogether , y)\n",
        "scores = pd.Series(chi_scores[0], index=Xtogether.columns)\n",
        "pvalues = pd.Series(chi_scores[1], index=Xtogether.columns)"
      ],
      "execution_count": null,
      "outputs": []
    },
    {
      "cell_type": "code",
      "metadata": {
        "id": "QyR8bkSxxUzS"
      },
      "source": [
        "chi_scores = chi2(Xtogether, yD)\n",
        "scores = pd.Series(chi_scores[0], index=Xtogether.columns)\n",
        "pvalues = pd.Series(chi_scores[1], index=Xtogether.columns)"
      ],
      "execution_count": null,
      "outputs": []
    },
    {
      "cell_type": "code",
      "metadata": {
        "colab": {
          "base_uri": "https://localhost:8080/",
          "height": 514
        },
        "id": "3LTFi2vdnkto",
        "outputId": "3a05fb21-f8bf-4b24-e269-0527bc1f9175"
      },
      "source": [
        "pd.DataFrame({'Chi2':scores, 'p-Value':pvalues})"
      ],
      "execution_count": null,
      "outputs": [
        {
          "output_type": "execute_result",
          "data": {
            "text/html": [
              "<div>\n",
              "<style scoped>\n",
              "    .dataframe tbody tr th:only-of-type {\n",
              "        vertical-align: middle;\n",
              "    }\n",
              "\n",
              "    .dataframe tbody tr th {\n",
              "        vertical-align: top;\n",
              "    }\n",
              "\n",
              "    .dataframe thead th {\n",
              "        text-align: right;\n",
              "    }\n",
              "</style>\n",
              "<table border=\"1\" class=\"dataframe\">\n",
              "  <thead>\n",
              "    <tr style=\"text-align: right;\">\n",
              "      <th></th>\n",
              "      <th>Chi2</th>\n",
              "      <th>p-Value</th>\n",
              "    </tr>\n",
              "  </thead>\n",
              "  <tbody>\n",
              "    <tr>\n",
              "      <th>reporter</th>\n",
              "      <td>9.627291e+06</td>\n",
              "      <td>0.000000e+00</td>\n",
              "    </tr>\n",
              "    <tr>\n",
              "      <th>assigned_to</th>\n",
              "      <td>6.838764e+06</td>\n",
              "      <td>0.000000e+00</td>\n",
              "    </tr>\n",
              "    <tr>\n",
              "      <th>reporter_reputation_new</th>\n",
              "      <td>6.449577e+01</td>\n",
              "      <td>1.000000e+00</td>\n",
              "    </tr>\n",
              "    <tr>\n",
              "      <th>rating_reporter</th>\n",
              "      <td>4.367661e+02</td>\n",
              "      <td>5.535027e-32</td>\n",
              "    </tr>\n",
              "    <tr>\n",
              "      <th>developer_reputation_new</th>\n",
              "      <td>1.339133e+01</td>\n",
              "      <td>1.000000e+00</td>\n",
              "    </tr>\n",
              "    <tr>\n",
              "      <th>rating_developer</th>\n",
              "      <td>1.025107e+03</td>\n",
              "      <td>4.322471e-134</td>\n",
              "    </tr>\n",
              "    <tr>\n",
              "      <th>priority_n</th>\n",
              "      <td>3.482815e+01</td>\n",
              "      <td>1.000000e+00</td>\n",
              "    </tr>\n",
              "    <tr>\n",
              "      <th>severity_n</th>\n",
              "      <td>7.074045e+01</td>\n",
              "      <td>9.999999e-01</td>\n",
              "    </tr>\n",
              "    <tr>\n",
              "      <th>number_cc</th>\n",
              "      <td>7.407668e+02</td>\n",
              "      <td>3.987100e-82</td>\n",
              "    </tr>\n",
              "    <tr>\n",
              "      <th>number_attachment</th>\n",
              "      <td>2.499260e+02</td>\n",
              "      <td>4.407971e-08</td>\n",
              "    </tr>\n",
              "    <tr>\n",
              "      <th>product_id</th>\n",
              "      <td>7.289660e-29</td>\n",
              "      <td>1.000000e+00</td>\n",
              "    </tr>\n",
              "    <tr>\n",
              "      <th>component_id</th>\n",
              "      <td>1.754286e+04</td>\n",
              "      <td>0.000000e+00</td>\n",
              "    </tr>\n",
              "    <tr>\n",
              "      <th>op_sys_n</th>\n",
              "      <td>1.364550e+03</td>\n",
              "      <td>3.494538e-199</td>\n",
              "    </tr>\n",
              "    <tr>\n",
              "      <th>month_creation</th>\n",
              "      <td>8.171877e+02</td>\n",
              "      <td>9.127560e-96</td>\n",
              "    </tr>\n",
              "    <tr>\n",
              "      <th>year_creation</th>\n",
              "      <td>1.294239e+00</td>\n",
              "      <td>1.000000e+00</td>\n",
              "    </tr>\n",
              "  </tbody>\n",
              "</table>\n",
              "</div>"
            ],
            "text/plain": [
              "                                  Chi2        p-Value\n",
              "reporter                  9.627291e+06   0.000000e+00\n",
              "assigned_to               6.838764e+06   0.000000e+00\n",
              "reporter_reputation_new   6.449577e+01   1.000000e+00\n",
              "rating_reporter           4.367661e+02   5.535027e-32\n",
              "developer_reputation_new  1.339133e+01   1.000000e+00\n",
              "rating_developer          1.025107e+03  4.322471e-134\n",
              "priority_n                3.482815e+01   1.000000e+00\n",
              "severity_n                7.074045e+01   9.999999e-01\n",
              "number_cc                 7.407668e+02   3.987100e-82\n",
              "number_attachment         2.499260e+02   4.407971e-08\n",
              "product_id                7.289660e-29   1.000000e+00\n",
              "component_id              1.754286e+04   0.000000e+00\n",
              "op_sys_n                  1.364550e+03  3.494538e-199\n",
              "month_creation            8.171877e+02   9.127560e-96\n",
              "year_creation             1.294239e+00   1.000000e+00"
            ]
          },
          "metadata": {},
          "execution_count": 20
        }
      ]
    },
    {
      "cell_type": "markdown",
      "metadata": {
        "id": "_2tYtQWTZ16n"
      },
      "source": [
        "# Training Test"
      ]
    },
    {
      "cell_type": "code",
      "metadata": {
        "id": "ke8tnOGUZ5Aq"
      },
      "source": [
        "def training_test(algo, algorithm, X_train, y_train, X_test, y_test):\n",
        "  algo.fit(X_train, y_train)\n",
        "  y_pred = algo.predict(X_test)\n",
        "  print(algorithm)\n",
        "  print( \"F-score: \",metrics.f1_score(y_test, y_pred))\n",
        "  print( \"Precision:\",metrics.precision_score(y_test, y_pred))\n",
        "  print( \"Recall:\",metrics.recall_score(y_test, y_pred))\n",
        "  print(\"RMSE: \", metrics.mean_squared_error(y_test, y_pred))\n",
        "  print(\"MAE: \", metrics.mean_absolute_error(y_test, y_pred))"
      ],
      "execution_count": null,
      "outputs": []
    },
    {
      "cell_type": "markdown",
      "metadata": {
        "id": "BPXf-KBHKY7p"
      },
      "source": [
        "#Cross validation"
      ]
    },
    {
      "cell_type": "code",
      "metadata": {
        "id": "A8Fq5Tl__32-"
      },
      "source": [
        "def cross_validation(X, y, c, model,v=0):\n",
        "  return {'precision': cross_val_score(model, X, y, scoring=\"precision\", cv=c, verbose=v), 'recall': cross_val_score(model, X, y, scoring=\"recall\", cv=c, verbose = v), 'f1_score': cross_val_score(model, X, y, scoring=\"f1\", cv=c, verbose=v)};  \n"
      ],
      "execution_count": null,
      "outputs": []
    },
    {
      "cell_type": "code",
      "metadata": {
        "id": "9rEB1ROtUZor"
      },
      "source": [
        "kf = KFold(n_splits=10,shuffle=True)"
      ],
      "execution_count": null,
      "outputs": []
    },
    {
      "cell_type": "code",
      "metadata": {
        "id": "RqdfbSrDfQ9B"
      },
      "source": [
        "def execute_cross_validation(algorithm, Xx):\n",
        "  start = time.time()\n",
        "  varScore = cross_validation(Xx, y, kf, algorithm)\n",
        "  end = time.time()\n",
        "  print('elapsed time: ', timedelta(seconds= end - start))\n",
        "  print(\"Mean results\")\n",
        "  print ('Precision: ', round(varScore['precision'].mean(),2)*100, ' recall: ', round(varScore['recall'].mean(),2)*100, ' f-measure: ', round(varScore['f1_score'].mean(),2)*100)\n",
        "  print(\"Mean results\")\n",
        "  print ('Precision: ', varScore['precision'].mean(), ' recall: ', varScore['recall'].mean(), ' f-measure: ', varScore['f1_score'].mean())\n",
        "  print ('Precision max: ', max(varScore['precision']))\n",
        "  print ('Precision min: ', min(varScore['precision']))\n",
        "  print ('recall max: ', max(varScore['recall']))\n",
        "  print ('recall min: ', min(varScore['recall']))\n",
        "  print ('f-measure max: ', max(varScore['f1_score']))\n",
        "  print ('f-measure min: ', min(varScore['f1_score']))\n",
        "  print ('f-measure standard deviation: ', (varScore['f1_score'].std()))\n",
        "  print ('f-measure standard variance: ', (varScore['f1_score'].var()))\n",
        "\n"
      ],
      "execution_count": null,
      "outputs": []
    },
    {
      "cell_type": "markdown",
      "metadata": {
        "id": "Kd_kWodukquh"
      },
      "source": [
        "#Naive Bayes"
      ]
    },
    {
      "cell_type": "code",
      "metadata": {
        "id": "g-PI9aizks33"
      },
      "source": [
        "from sklearn.naive_bayes import GaussianNB\n",
        "#from sklearn.naive_bayes import MultinomialNB"
      ],
      "execution_count": null,
      "outputs": []
    },
    {
      "cell_type": "code",
      "metadata": {
        "id": "fb_n-IFylIp4"
      },
      "source": [
        "gnb = GaussianNB()\n",
        "#classifier = MultinomialNB()"
      ],
      "execution_count": null,
      "outputs": []
    },
    {
      "cell_type": "code",
      "metadata": {
        "id": "a9fSDHD8eAit"
      },
      "source": [
        "#training_test(gnb, \"Naive Bayes - GaussianNB\", X_train_reputation, y_train_reputation, X_test_reputation, y_test_reputation)"
      ],
      "execution_count": null,
      "outputs": []
    },
    {
      "cell_type": "code",
      "metadata": {
        "id": "1hd9g0C_f7HG"
      },
      "source": [
        "#training_test(gnb, \"Naive Bayes - GaussianNB\", X_train_rating, y_train_rating, X_test_rating, y_test_rating)"
      ],
      "execution_count": null,
      "outputs": []
    },
    {
      "cell_type": "code",
      "metadata": {
        "colab": {
          "base_uri": "https://localhost:8080/"
        },
        "id": "69q1PfpYGkgh",
        "outputId": "e811c7ce-15ce-4b41-ba38-0cc3c9857b68"
      },
      "source": [
        "execute_cross_validation(gnb, Xnormal)"
      ],
      "execution_count": null,
      "outputs": [
        {
          "name": "stdout",
          "output_type": "stream",
          "text": [
            "elapsed time:  0:00:00.482398\n",
            "Mean results\n",
            "Precision:  59.0  recall:  25.0  f-measure:  35.0\n",
            "Mean results\n",
            "Precision:  0.5865696920584015  recall:  0.25222783333819504  f-measure:  0.35296159416595213\n",
            "Precision max:  0.635036496350365\n",
            "Precision min:  0.5692883895131086\n",
            "recall max:  0.2727272727272727\n",
            "recall min:  0.22927241962774958\n",
            "f-measure max:  0.37309214245336353\n",
            "f-measure min:  0.33789954337899547\n",
            "f-measure standard deviation:  0.010364190574906697\n",
            "f-measure standard variance:  0.00010741644627298484\n"
          ]
        }
      ]
    },
    {
      "cell_type": "code",
      "metadata": {
        "colab": {
          "base_uri": "https://localhost:8080/"
        },
        "id": "Qti78WV2fcIJ",
        "outputId": "5bc0da7b-f5d4-46e9-ba86-12659f49d429"
      },
      "source": [
        "execute_cross_validation(gnb, Xreporter_reputation)"
      ],
      "execution_count": null,
      "outputs": [
        {
          "name": "stdout",
          "output_type": "stream",
          "text": [
            "elapsed time:  0:00:00.501720\n",
            "Mean results\n",
            "Precision:  59.0  recall:  25.0  f-measure:  35.0\n",
            "Mean results\n",
            "Precision:  0.5907167977358212  recall:  0.2508498272822987  f-measure:  0.3528618469987283\n",
            "Precision max:  0.6330798479087453\n",
            "Precision min:  0.5474452554744526\n",
            "recall max:  0.2762520193861066\n",
            "recall min:  0.24\n",
            "f-measure max:  0.3802112284602557\n",
            "f-measure min:  0.32547699214365877\n",
            "f-measure standard deviation:  0.014846208192386601\n",
            "f-measure standard variance:  0.00022040989769168701\n"
          ]
        }
      ]
    },
    {
      "cell_type": "code",
      "metadata": {
        "colab": {
          "base_uri": "https://localhost:8080/"
        },
        "id": "WCmUSDi_0cMz",
        "outputId": "b1af85fb-bc82-4ef4-f945-e501c03d8eaf"
      },
      "source": [
        "execute_cross_validation(gnb, Xdeveloper_reputation)"
      ],
      "execution_count": null,
      "outputs": [
        {
          "name": "stdout",
          "output_type": "stream",
          "text": [
            "elapsed time:  0:00:00.494837\n",
            "Mean results\n",
            "Precision:  59.0  recall:  26.0  f-measure:  36.0\n",
            "Mean results\n",
            "Precision:  0.5878110322830981  recall:  0.2578964685430248  f-measure:  0.3581378920212065\n",
            "Precision max:  0.609942638623327\n",
            "Precision min:  0.5580952380952381\n",
            "recall max:  0.27692307692307694\n",
            "recall min:  0.24121013900245297\n",
            "f-measure max:  0.3908296943231441\n",
            "f-measure min:  0.320973348783314\n",
            "f-measure standard deviation:  0.02255017782398453\n",
            "f-measure standard variance:  0.0005085105198933237\n"
          ]
        }
      ]
    },
    {
      "cell_type": "code",
      "metadata": {
        "colab": {
          "base_uri": "https://localhost:8080/"
        },
        "id": "2AIQzh120jP8",
        "outputId": "ec63a251-06e5-4787-e9e5-054b42164e84"
      },
      "source": [
        "execute_cross_validation(gnb, Xreputation)"
      ],
      "execution_count": null,
      "outputs": [
        {
          "name": "stdout",
          "output_type": "stream",
          "text": [
            "elapsed time:  0:00:00.509896\n",
            "Mean results\n",
            "Precision:  59.0  recall:  26.0  f-measure:  36.0\n",
            "Mean results\n",
            "Precision:  0.5904844882689164  recall:  0.2590913933166855  f-measure:  0.35797550721924754\n",
            "Precision max:  0.6115537848605578\n",
            "Precision min:  0.547486033519553\n",
            "recall max:  0.2965686274509804\n",
            "recall min:  0.23514851485148514\n",
            "f-measure max:  0.39269911504424776\n",
            "f-measure min:  0.33333333333333337\n",
            "f-measure standard deviation:  0.014333457052199561\n",
            "f-measure standard variance:  0.00020544799106724933\n"
          ]
        }
      ]
    },
    {
      "cell_type": "code",
      "metadata": {
        "colab": {
          "base_uri": "https://localhost:8080/"
        },
        "id": "rNHvDB6Z0oYi",
        "outputId": "619cf90b-356f-4114-8385-6f4fdb9733bb"
      },
      "source": [
        "execute_cross_validation(gnb, Xreporter_rating)"
      ],
      "execution_count": null,
      "outputs": [
        {
          "name": "stdout",
          "output_type": "stream",
          "text": [
            "elapsed time:  0:00:00.511017\n",
            "Mean results\n",
            "Precision:  60.0  recall:  30.0  f-measure:  40.0\n",
            "Mean results\n",
            "Precision:  0.5995767120442772  recall:  0.304878760633397  f-measure:  0.4034087822400757\n",
            "Precision max:  0.6365105008077544\n",
            "Precision min:  0.5697478991596638\n",
            "recall max:  0.3469387755102041\n",
            "recall min:  0.2717219589257504\n",
            "f-measure max:  0.43209229155742\n",
            "f-measure min:  0.36475181260457334\n",
            "f-measure standard deviation:  0.01907872418411059\n",
            "f-measure standard variance:  0.00036399771649336634\n"
          ]
        }
      ]
    },
    {
      "cell_type": "code",
      "metadata": {
        "colab": {
          "base_uri": "https://localhost:8080/"
        },
        "id": "hM5G-EzK0rTv",
        "outputId": "b5242752-64f4-40d5-eff7-f486689a5423"
      },
      "source": [
        "execute_cross_validation(gnb, Xdeveloper_rating)"
      ],
      "execution_count": null,
      "outputs": [
        {
          "name": "stdout",
          "output_type": "stream",
          "text": [
            "elapsed time:  0:00:00.474359\n",
            "Mean results\n",
            "Precision:  63.0  recall:  37.0  f-measure:  47.0\n",
            "Mean results\n",
            "Precision:  0.6312112892114409  recall:  0.374583270069191  f-measure:  0.4690420375730569\n",
            "Precision max:  0.639030612244898\n",
            "Precision min:  0.611716621253406\n",
            "recall max:  0.41492776886035315\n",
            "recall min:  0.3591931730023274\n",
            "f-measure max:  0.4928861788617886\n",
            "f-measure min:  0.4369134515119917\n",
            "f-measure standard deviation:  0.018064256382992094\n",
            "f-measure standard variance:  0.00032631735867047056\n"
          ]
        }
      ]
    },
    {
      "cell_type": "code",
      "metadata": {
        "colab": {
          "base_uri": "https://localhost:8080/"
        },
        "id": "qO45_Kdy0ukh",
        "outputId": "bbc8bebb-9de2-4294-c52a-facd1a0d4787"
      },
      "source": [
        "execute_cross_validation(gnb, Xrating)"
      ],
      "execution_count": null,
      "outputs": [
        {
          "name": "stdout",
          "output_type": "stream",
          "text": [
            "elapsed time:  0:00:00.518315\n",
            "Mean results\n",
            "Precision:  65.0  recall:  44.0  f-measure:  52.0\n",
            "Mean results\n",
            "Precision:  0.6505780727615593  recall:  0.43581281871733174  f-measure:  0.5231333140447185\n",
            "Precision max:  0.6892052194543298\n",
            "Precision min:  0.6202830188679245\n",
            "recall max:  0.4541734860883797\n",
            "recall min:  0.4188102893890675\n",
            "f-measure max:  0.5484633569739953\n",
            "f-measure min:  0.5043301069791136\n",
            "f-measure standard deviation:  0.013552616355685438\n",
            "f-measure standard variance:  0.00018367341008439244\n"
          ]
        }
      ]
    },
    {
      "cell_type": "code",
      "metadata": {
        "colab": {
          "base_uri": "https://localhost:8080/"
        },
        "id": "2jFWKRM4cU7C",
        "outputId": "999a4478-e189-4032-dbb7-bab4d8587461"
      },
      "source": [
        "execute_cross_validation(gnb, XAtachment)"
      ],
      "execution_count": null,
      "outputs": [
        {
          "name": "stdout",
          "output_type": "stream",
          "text": [
            "elapsed time:  0:00:00.487951\n",
            "Mean results\n",
            "Precision:  59.0  recall:  27.0  f-measure:  37.0\n",
            "Mean results\n",
            "Precision:  0.5877534265219254  recall:  0.26768382987035705  f-measure:  0.36762902165261446\n",
            "Precision max:  0.6340579710144928\n",
            "Precision min:  0.5547945205479452\n",
            "recall max:  0.3083528493364559\n",
            "recall min:  0.2429831595829992\n",
            "f-measure max:  0.4044568245125348\n",
            "f-measure min:  0.3379966424174594\n",
            "f-measure standard deviation:  0.019660197901721327\n",
            "f-measure standard variance:  0.00038652338153484766\n"
          ]
        }
      ]
    },
    {
      "cell_type": "code",
      "metadata": {
        "colab": {
          "base_uri": "https://localhost:8080/"
        },
        "id": "pfT1xBpNcbaB",
        "outputId": "f50e44fd-9f63-4160-84ac-c72b7067708e"
      },
      "source": [
        "execute_cross_validation(gnb, XCC)"
      ],
      "execution_count": null,
      "outputs": [
        {
          "name": "stdout",
          "output_type": "stream",
          "text": [
            "elapsed time:  0:00:00.481197\n",
            "Mean results\n",
            "Precision:  57.99999999999999  recall:  25.0  f-measure:  35.0\n",
            "Mean results\n",
            "Precision:  0.5758359267351489  recall:  0.24830756859365163  f-measure:  0.34776909912253917\n",
            "Precision max:  0.5991983967935872\n",
            "Precision min:  0.5410714285714285\n",
            "recall max:  0.27986906710310966\n",
            "recall min:  0.21842732327243844\n",
            "f-measure max:  0.36404494382022473\n",
            "f-measure min:  0.3217097862767154\n",
            "f-measure standard deviation:  0.014473908442594765\n",
            "f-measure standard variance:  0.00020949402560461604\n"
          ]
        }
      ]
    },
    {
      "cell_type": "code",
      "metadata": {
        "colab": {
          "base_uri": "https://localhost:8080/"
        },
        "id": "uoAzB-GJ8eUJ",
        "outputId": "7a079609-4c33-4645-eff3-ecb30a67429c"
      },
      "source": [
        "execute_cross_validation(gnb, XratingAvg)"
      ],
      "execution_count": null,
      "outputs": [
        {
          "name": "stdout",
          "output_type": "stream",
          "text": [
            "elapsed time:  0:00:00.498909\n",
            "Mean results\n",
            "Precision:  62.0  recall:  30.0  f-measure:  41.0\n",
            "Mean results\n",
            "Precision:  0.6180259204896428  recall:  0.3020889342395755  f-measure:  0.4057672866994998\n",
            "Precision max:  0.6602254428341385\n",
            "Precision min:  0.5956006768189509\n",
            "recall max:  0.3172920065252855\n",
            "recall min:  0.28132387706855794\n",
            "f-measure max:  0.4263689526847422\n",
            "f-measure min:  0.3784683684794672\n",
            "f-measure standard deviation:  0.013273663490627509\n",
            "f-measure standard variance:  0.00017619014246241765\n"
          ]
        }
      ]
    },
    {
      "cell_type": "code",
      "metadata": {
        "colab": {
          "base_uri": "https://localhost:8080/"
        },
        "id": "fzku7BQuwXnb",
        "outputId": "4e2e5a16-a4bc-4f3a-9eba-a513755dafb9"
      },
      "source": [
        "execute_cross_validation(gnb, X_text)"
      ],
      "execution_count": null,
      "outputs": [
        {
          "name": "stdout",
          "output_type": "stream",
          "text": [
            "elapsed time:  0:00:10.574478\n",
            "Mean results\n",
            "Precision:  56.99999999999999  recall:  57.99999999999999  f-measure:  56.99999999999999\n",
            "Mean results\n",
            "Precision:  0.5685388404629942  recall:  0.5813513636860035  f-measure:  0.5737746137617968\n",
            "Precision max:  0.5959514170040486\n",
            "Precision min:  0.5243111831442464\n",
            "recall max:  0.5955518945634267\n",
            "recall min:  0.565183450429352\n",
            "f-measure max:  0.5925636007827788\n",
            "f-measure min:  0.5615015974440895\n",
            "f-measure standard deviation:  0.009518705548476171\n",
            "f-measure standard variance:  9.060575531859106e-05\n"
          ]
        }
      ]
    },
    {
      "cell_type": "code",
      "metadata": {
        "colab": {
          "base_uri": "https://localhost:8080/"
        },
        "id": "iixKkgvyhCPq",
        "outputId": "dbe3e170-fc24-432a-c6cb-6108f8aeb00f"
      },
      "source": [
        "execute_cross_validation(gnb, Xweight)"
      ],
      "execution_count": null,
      "outputs": [
        {
          "name": "stdout",
          "output_type": "stream",
          "text": [
            "elapsed time:  0:00:00.513080\n",
            "Mean results\n",
            "Precision:  61.0  recall:  35.0  f-measure:  45.0\n",
            "Mean results\n",
            "Precision:  0.6092535891260283  recall:  0.35418163136927794  f-measure:  0.4486683095541397\n",
            "Precision max:  0.6303116147308782\n",
            "Precision min:  0.5732574679943101\n",
            "recall max:  0.373134328358209\n",
            "recall min:  0.33119486768243783\n",
            "f-measure max:  0.46604938271604934\n",
            "f-measure min:  0.42446419236800836\n",
            "f-measure standard deviation:  0.012443603356018665\n",
            "f-measure standard variance:  0.00015484326448191897\n"
          ]
        }
      ]
    },
    {
      "cell_type": "code",
      "metadata": {
        "colab": {
          "base_uri": "https://localhost:8080/"
        },
        "id": "MsxXqctCijHK",
        "outputId": "64454be1-c823-41b2-9eb7-f64cfe66cc20"
      },
      "source": [
        "execute_cross_validation(gnb, Xtogether)"
      ],
      "execution_count": null,
      "outputs": [
        {
          "output_type": "stream",
          "name": "stdout",
          "text": [
            "elapsed time:  0:00:00.533982\n",
            "Mean results\n",
            "Precision:  65.0  recall:  44.0  f-measure:  52.0\n",
            "Mean results\n",
            "Precision:  0.6540626934466129  recall:  0.43768126475886193  f-measure:  0.5242726818566876\n",
            "Precision max:  0.6675062972292192\n",
            "Precision min:  0.6466591166477916\n",
            "recall max:  0.4602272727272727\n",
            "recall min:  0.40691927512355847\n",
            "f-measure max:  0.5475070555032926\n",
            "f-measure min:  0.49677739216658406\n",
            "f-measure standard deviation:  0.014460066560787492\n",
            "f-measure standard variance:  0.0002090935249424046\n"
          ]
        }
      ]
    },
    {
      "cell_type": "code",
      "metadata": {
        "colab": {
          "base_uri": "https://localhost:8080/"
        },
        "id": "HsNvfkXZkjWU",
        "outputId": "7289fa51-fc8f-4ca1-b41f-723d486f28ab"
      },
      "source": [
        "execute_cross_validation(gnb, XtogetherReporter)"
      ],
      "execution_count": null,
      "outputs": [
        {
          "output_type": "stream",
          "name": "stdout",
          "text": [
            "elapsed time:  0:00:00.495980\n",
            "Mean results\n",
            "Precision:  60.0  recall:  28.999999999999996  f-measure:  40.0\n",
            "Mean results\n",
            "Precision:  0.602271288687106  recall:  0.29445413225901806  f-measure:  0.395704918935495\n",
            "Precision max:  0.6277128547579299\n",
            "Precision min:  0.5515548281505729\n",
            "recall max:  0.31540930979133225\n",
            "recall min:  0.28203062046736505\n",
            "f-measure max:  0.42529989094874593\n",
            "f-measure min:  0.3736986301369863\n",
            "f-measure standard deviation:  0.015211875637331947\n",
            "f-measure standard variance:  0.00023140116040565325\n"
          ]
        }
      ]
    },
    {
      "cell_type": "code",
      "metadata": {
        "colab": {
          "base_uri": "https://localhost:8080/"
        },
        "id": "bN_1MpiHkjxD",
        "outputId": "02e63d7d-522e-4ec8-ca3a-17652a85e582"
      },
      "source": [
        "execute_cross_validation(gnb, XtogetherDeveloper)"
      ],
      "execution_count": null,
      "outputs": [
        {
          "output_type": "stream",
          "name": "stdout",
          "text": [
            "elapsed time:  0:00:00.501791\n",
            "Mean results\n",
            "Precision:  63.0  recall:  38.0  f-measure:  48.0\n",
            "Mean results\n",
            "Precision:  0.6313073334709629  recall:  0.38426898834909273  f-measure:  0.47809706525770207\n",
            "Precision max:  0.6761658031088082\n",
            "Precision min:  0.6058495821727019\n",
            "recall max:  0.42811244979919677\n",
            "recall min:  0.3560666137985726\n",
            "f-measure max:  0.5080922020598332\n",
            "f-measure min:  0.4362050163576881\n",
            "f-measure standard deviation:  0.01973723220501543\n",
            "f-measure standard variance:  0.00038955833511469817\n"
          ]
        }
      ]
    },
    {
      "cell_type": "code",
      "metadata": {
        "colab": {
          "base_uri": "https://localhost:8080/"
        },
        "id": "WmKt3ExWD7-S",
        "outputId": "ebb48271-1450-4238-b2a6-2baf031b9f57"
      },
      "source": [
        "execute_cross_validation(gnb, X_text_reputation)"
      ],
      "execution_count": null,
      "outputs": [
        {
          "name": "stdout",
          "output_type": "stream",
          "text": [
            "elapsed time:  0:00:13.965662\n",
            "Mean results\n",
            "Precision:  59.0  recall:  26.0  f-measure:  36.0\n",
            "Mean results\n",
            "Precision:  0.5939493543016116  recall:  0.25810276028228024  f-measure:  0.36181141479015894\n",
            "Precision max:  0.6332737030411449\n",
            "Precision min:  0.5714285714285714\n",
            "recall max:  0.27346938775510204\n",
            "recall min:  0.22149837133550487\n",
            "f-measure max:  0.3840909090909091\n",
            "f-measure min:  0.3373219373219373\n",
            "f-measure standard deviation:  0.017119001628349593\n",
            "f-measure standard variance:  0.00029306021675143607\n"
          ]
        }
      ]
    },
    {
      "cell_type": "code",
      "metadata": {
        "colab": {
          "base_uri": "https://localhost:8080/"
        },
        "id": "0gTlJ-1dD-Xe",
        "outputId": "baefa167-c670-4504-8523-11b49fac83b8"
      },
      "source": [
        "execute_cross_validation(gnb, X_text_rating)"
      ],
      "execution_count": null,
      "outputs": [
        {
          "name": "stdout",
          "output_type": "stream",
          "text": [
            "elapsed time:  0:00:13.802510\n",
            "Mean results\n",
            "Precision:  65.0  recall:  44.0  f-measure:  52.0\n",
            "Mean results\n",
            "Precision:  0.6532442088978332  recall:  0.43704016189974554  f-measure:  0.5231655702253547\n",
            "Precision max:  0.691358024691358\n",
            "Precision min:  0.6219512195121951\n",
            "recall max:  0.4675431388660641\n",
            "recall min:  0.4152744630071599\n",
            "f-measure max:  0.5470332850940665\n",
            "f-measure min:  0.4965786901270773\n",
            "f-measure standard deviation:  0.01419323991380924\n",
            "f-measure standard variance:  0.00020144805925094772\n"
          ]
        }
      ]
    },
    {
      "cell_type": "code",
      "metadata": {
        "id": "tZyizVUnMrcN"
      },
      "source": [
        ""
      ],
      "execution_count": null,
      "outputs": []
    },
    {
      "cell_type": "markdown",
      "metadata": {
        "id": "2TrZHY0IMr2t"
      },
      "source": [
        "#Naive Bayes - Multinominal"
      ]
    },
    {
      "cell_type": "code",
      "metadata": {
        "id": "yF92qleIMr2u"
      },
      "source": [
        "from sklearn.naive_bayes import MultinomialNB"
      ],
      "execution_count": null,
      "outputs": []
    },
    {
      "cell_type": "code",
      "metadata": {
        "id": "RYSuJ7WbMr2u"
      },
      "source": [
        "mnb = MultinomialNB()"
      ],
      "execution_count": null,
      "outputs": []
    },
    {
      "cell_type": "code",
      "metadata": {
        "colab": {
          "base_uri": "https://localhost:8080/"
        },
        "id": "Iaghh9zKMr2u",
        "outputId": "d72ba388-b530-4d2e-9c8f-c738b789559c"
      },
      "source": [
        "execute_cross_validation(mnb, Xnormal)"
      ],
      "execution_count": null,
      "outputs": [
        {
          "output_type": "stream",
          "name": "stdout",
          "text": [
            "elapsed time:  0:00:00.715684\n",
            "Mean results\n",
            "Precision:  56.99999999999999  recall:  34.0  f-measure:  42.0\n",
            "Mean results\n",
            "Precision:  0.5712163587999717  recall:  0.33743937558418746  f-measure:  0.4249428974415612\n",
            "Precision max:  0.5994236311239193\n",
            "Precision min:  0.5254691689008043\n",
            "recall max:  0.3559322033898305\n",
            "recall min:  0.30085470085470084\n",
            "f-measure max:  0.4466019417475728\n",
            "f-measure min:  0.40380761523046094\n",
            "f-measure standard deviation:  0.012251475024870147\n",
            "f-measure standard variance:  0.00015009864028501697\n"
          ]
        }
      ]
    },
    {
      "cell_type": "code",
      "metadata": {
        "colab": {
          "base_uri": "https://localhost:8080/"
        },
        "id": "B0kpb4ccMr2u",
        "outputId": "2f40a566-ac1b-4bdb-dcd9-02154e48db13"
      },
      "source": [
        "execute_cross_validation(mnb, Xreporter_reputation)"
      ],
      "execution_count": null,
      "outputs": [
        {
          "name": "stdout",
          "output_type": "stream",
          "text": [
            "elapsed time:  0:00:00.701121\n",
            "Mean results\n",
            "Precision:  56.99999999999999  recall:  34.0  f-measure:  42.0\n",
            "Mean results\n",
            "Precision:  0.5710054215979782  recall:  0.337391953181635  f-measure:  0.42389809231016856\n",
            "Precision max:  0.6054054054054054\n",
            "Precision min:  0.5255376344086021\n",
            "recall max:  0.34918032786885245\n",
            "recall min:  0.31792376317923765\n",
            "f-measure max:  0.4472289156626506\n",
            "f-measure min:  0.40229286086503385\n",
            "f-measure standard deviation:  0.01506059871904891\n",
            "f-measure standard variance:  0.00022682163377621767\n"
          ]
        }
      ]
    },
    {
      "cell_type": "code",
      "metadata": {
        "colab": {
          "base_uri": "https://localhost:8080/"
        },
        "id": "QlhWsYrCMr2v",
        "outputId": "b479e3f7-7af5-4d62-9ce2-061afae96843"
      },
      "source": [
        "execute_cross_validation(mnb, Xdeveloper_reputation)"
      ],
      "execution_count": null,
      "outputs": [
        {
          "name": "stdout",
          "output_type": "stream",
          "text": [
            "elapsed time:  0:00:00.695086\n",
            "Mean results\n",
            "Precision:  56.99999999999999  recall:  34.0  f-measure:  42.0\n",
            "Mean results\n",
            "Precision:  0.5705039530358954  recall:  0.338303045511893  f-measure:  0.4234649696485227\n",
            "Precision max:  0.5963938973647711\n",
            "Precision min:  0.5552367288378766\n",
            "recall max:  0.36492890995260663\n",
            "recall min:  0.3145424836601307\n",
            "f-measure max:  0.452344152498712\n",
            "f-measure min:  0.3976975405546834\n",
            "f-measure standard deviation:  0.01614236604274607\n",
            "f-measure standard variance:  0.00026057598145800133\n"
          ]
        }
      ]
    },
    {
      "cell_type": "code",
      "metadata": {
        "colab": {
          "base_uri": "https://localhost:8080/"
        },
        "id": "h-WvYmyhMr2v",
        "outputId": "5012130a-2f94-40b9-dc3b-7c9b31cf74b4"
      },
      "source": [
        "execute_cross_validation(mnb, Xreputation)"
      ],
      "execution_count": null,
      "outputs": [
        {
          "name": "stdout",
          "output_type": "stream",
          "text": [
            "elapsed time:  0:00:00.693283\n",
            "Mean results\n",
            "Precision:  56.99999999999999  recall:  34.0  f-measure:  42.0\n",
            "Mean results\n",
            "Precision:  0.5717179184634458  recall:  0.3365355012545609  f-measure:  0.4228669322816018\n",
            "Precision max:  0.591044776119403\n",
            "Precision min:  0.5606469002695418\n",
            "recall max:  0.358161648177496\n",
            "recall min:  0.30794430794430794\n",
            "f-measure max:  0.43882709807886755\n",
            "f-measure min:  0.4062031015507754\n",
            "f-measure standard deviation:  0.010049753900702292\n",
            "f-measure standard variance:  0.00010099755346468093\n"
          ]
        }
      ]
    },
    {
      "cell_type": "code",
      "metadata": {
        "colab": {
          "base_uri": "https://localhost:8080/"
        },
        "id": "BrSKdLacMr2v",
        "outputId": "57fb4c9e-d1f0-44dd-d84f-3c925d81c227"
      },
      "source": [
        "execute_cross_validation(mnb, Xreporter_rating)"
      ],
      "execution_count": null,
      "outputs": [
        {
          "name": "stdout",
          "output_type": "stream",
          "text": [
            "elapsed time:  0:00:00.697647\n",
            "Mean results\n",
            "Precision:  56.99999999999999  recall:  34.0  f-measure:  43.0\n",
            "Mean results\n",
            "Precision:  0.5691899571332687  recall:  0.3376700244489842  f-measure:  0.4266840655597412\n",
            "Precision max:  0.5943661971830986\n",
            "Precision min:  0.5369127516778524\n",
            "recall max:  0.3526608419380461\n",
            "recall min:  0.3129644921552436\n",
            "f-measure max:  0.44883485309017224\n",
            "f-measure min:  0.38515330823023125\n",
            "f-measure standard deviation:  0.01889394657957865\n",
            "f-measure standard variance:  0.00035698121735197174\n"
          ]
        }
      ]
    },
    {
      "cell_type": "code",
      "metadata": {
        "colab": {
          "base_uri": "https://localhost:8080/"
        },
        "id": "hOdkUB0lMr2v",
        "outputId": "db7c8cf9-0c33-4ead-924d-481d282c57bc"
      },
      "source": [
        "execute_cross_validation(mnb, Xdeveloper_rating)"
      ],
      "execution_count": null,
      "outputs": [
        {
          "name": "stdout",
          "output_type": "stream",
          "text": [
            "elapsed time:  0:00:00.708438\n",
            "Mean results\n",
            "Precision:  56.99999999999999  recall:  34.0  f-measure:  43.0\n",
            "Mean results\n",
            "Precision:  0.5712700678765087  recall:  0.3390463005512533  f-measure:  0.4251606588472483\n",
            "Precision max:  0.6080246913580247\n",
            "Precision min:  0.5306122448979592\n",
            "recall max:  0.3739565943238731\n",
            "recall min:  0.31685575364667745\n",
            "f-measure max:  0.4553255931347805\n",
            "f-measure min:  0.4073506891271057\n",
            "f-measure standard deviation:  0.016328878234749416\n",
            "f-measure standard variance:  0.00026663226440527317\n"
          ]
        }
      ]
    },
    {
      "cell_type": "code",
      "metadata": {
        "colab": {
          "base_uri": "https://localhost:8080/"
        },
        "id": "hSe488FuMr2v",
        "outputId": "d7cf3e4d-542a-48fc-c671-49bc59a82b2d"
      },
      "source": [
        "execute_cross_validation(mnb, Xrating)"
      ],
      "execution_count": null,
      "outputs": [
        {
          "name": "stdout",
          "output_type": "stream",
          "text": [
            "elapsed time:  0:00:00.715663\n",
            "Mean results\n",
            "Precision:  56.99999999999999  recall:  34.0  f-measure:  42.0\n",
            "Mean results\n",
            "Precision:  0.5723628089905567  recall:  0.3385022130517898  f-measure:  0.4238990384396977\n",
            "Precision max:  0.600547195622435\n",
            "Precision min:  0.5306122448979592\n",
            "recall max:  0.36563517915309446\n",
            "recall min:  0.3192338387869114\n",
            "f-measure max:  0.44356435643564357\n",
            "f-measure min:  0.40122199592668023\n",
            "f-measure standard deviation:  0.011973006157048632\n",
            "f-measure standard variance:  0.00014335287643672446\n"
          ]
        }
      ]
    },
    {
      "cell_type": "code",
      "metadata": {
        "colab": {
          "base_uri": "https://localhost:8080/"
        },
        "id": "nRVwIwhcMr2v",
        "outputId": "73215e92-7fec-4be3-cb62-72a7d3939405"
      },
      "source": [
        "execute_cross_validation(mnb, XAtachment)"
      ],
      "execution_count": null,
      "outputs": [
        {
          "name": "stdout",
          "output_type": "stream",
          "text": [
            "elapsed time:  0:00:00.712340\n",
            "Mean results\n",
            "Precision:  56.99999999999999  recall:  34.0  f-measure:  42.0\n",
            "Mean results\n",
            "Precision:  0.5722717322110136  recall:  0.33929961154040245  f-measure:  0.4231749811230908\n",
            "Precision max:  0.6045272969374168\n",
            "Precision min:  0.5438356164383562\n",
            "recall max:  0.3533173461231015\n",
            "recall min:  0.32529118136439267\n",
            "f-measure max:  0.4387291981845688\n",
            "f-measure min:  0.40506329113924056\n",
            "f-measure standard deviation:  0.01164388624259168\n",
            "f-measure standard variance:  0.0001355800868304158\n"
          ]
        }
      ]
    },
    {
      "cell_type": "code",
      "metadata": {
        "colab": {
          "base_uri": "https://localhost:8080/"
        },
        "id": "3cYNb4BXMr2v",
        "outputId": "2d8afc13-f5cd-4db9-d9c5-0a6dbf55a3f4"
      },
      "source": [
        "execute_cross_validation(mnb, XCC)"
      ],
      "execution_count": null,
      "outputs": [
        {
          "name": "stdout",
          "output_type": "stream",
          "text": [
            "elapsed time:  0:00:00.703035\n",
            "Mean results\n",
            "Precision:  56.99999999999999  recall:  34.0  f-measure:  42.0\n",
            "Mean results\n",
            "Precision:  0.5720101861110657  recall:  0.33597869702017125  f-measure:  0.4244113543528047\n",
            "Precision max:  0.6\n",
            "Precision min:  0.548941798941799\n",
            "recall max:  0.3528468323977546\n",
            "recall min:  0.315136476426799\n",
            "f-measure max:  0.43768693918245266\n",
            "f-measure min:  0.40690376569037656\n",
            "f-measure standard deviation:  0.009834833874524124\n",
            "f-measure standard variance:  9.672395733948719e-05\n"
          ]
        }
      ]
    },
    {
      "cell_type": "code",
      "metadata": {
        "colab": {
          "base_uri": "https://localhost:8080/"
        },
        "id": "RfLyLgIAMr2w",
        "outputId": "fdc26d06-df6b-452c-e0e1-d9598e758c00"
      },
      "source": [
        "execute_cross_validation(mnb, XratingAvg)"
      ],
      "execution_count": null,
      "outputs": [
        {
          "name": "stdout",
          "output_type": "stream",
          "text": [
            "elapsed time:  0:00:00.715351\n",
            "Mean results\n",
            "Precision:  56.99999999999999  recall:  34.0  f-measure:  43.0\n",
            "Mean results\n",
            "Precision:  0.5708302857518154  recall:  0.3387279839099112  f-measure:  0.4254645809805666\n",
            "Precision max:  0.595536959553696\n",
            "Precision min:  0.5390428211586902\n",
            "recall max:  0.36327185244587007\n",
            "recall min:  0.3074459567654123\n",
            "f-measure max:  0.4435483870967742\n",
            "f-measure min:  0.4057230454777721\n",
            "f-measure standard deviation:  0.011995897920370724\n",
            "f-measure standard variance:  0.00014390156691595465\n"
          ]
        }
      ]
    },
    {
      "cell_type": "code",
      "metadata": {
        "colab": {
          "base_uri": "https://localhost:8080/"
        },
        "id": "2Au6QPZUMr2w",
        "outputId": "45666a86-bd3c-41d4-e1da-3f2408095a9c"
      },
      "source": [
        "execute_cross_validation(mnb, X_text)"
      ],
      "execution_count": null,
      "outputs": [
        {
          "name": "stdout",
          "output_type": "stream",
          "text": [
            "elapsed time:  0:00:05.412268\n",
            "Mean results\n",
            "Precision:  57.99999999999999  recall:  64.0  f-measure:  60.0\n",
            "Mean results\n",
            "Precision:  0.5780956097692315  recall:  0.6371872951434697  f-measure:  0.6048824690882733\n",
            "Precision max:  0.5945742275810098\n",
            "Precision min:  0.5617559523809523\n",
            "recall max:  0.6639276910435498\n",
            "recall min:  0.6159420289855072\n",
            "f-measure max:  0.6170212765957447\n",
            "f-measure min:  0.5950037850113551\n",
            "f-measure standard deviation:  0.007077038571086027\n",
            "f-measure standard variance:  5.0084474936639364e-05\n"
          ]
        }
      ]
    },
    {
      "cell_type": "code",
      "metadata": {
        "id": "HLGmC_iKMr2z"
      },
      "source": [
        "#execute_cross_validation(mnb, Xweight)"
      ],
      "execution_count": null,
      "outputs": []
    },
    {
      "cell_type": "code",
      "metadata": {
        "colab": {
          "base_uri": "https://localhost:8080/"
        },
        "id": "Xf65V8yvMr2z",
        "outputId": "d90da226-ac91-45d8-b1b6-b2223ed9d4d0"
      },
      "source": [
        "execute_cross_validation(mnb, Xtogether)"
      ],
      "execution_count": null,
      "outputs": [
        {
          "output_type": "stream",
          "name": "stdout",
          "text": [
            "elapsed time:  0:00:00.727690\n",
            "Mean results\n",
            "Precision:  56.99999999999999  recall:  34.0  f-measure:  43.0\n",
            "Mean results\n",
            "Precision:  0.5715966759363  recall:  0.33780305427412965  f-measure:  0.42520492679005156\n",
            "Precision max:  0.623448275862069\n",
            "Precision min:  0.5324324324324324\n",
            "recall max:  0.35891286970423664\n",
            "recall min:  0.31906300484652667\n",
            "f-measure max:  0.437625754527163\n",
            "f-measure min:  0.4054621848739496\n",
            "f-measure standard deviation:  0.010859204262285881\n",
            "f-measure standard variance:  0.00011792231721004785\n"
          ]
        }
      ]
    },
    {
      "cell_type": "code",
      "metadata": {
        "colab": {
          "base_uri": "https://localhost:8080/"
        },
        "id": "_EdyVlKlk2Sp",
        "outputId": "ad24eead-5f66-4aea-d756-d39d433c71e4"
      },
      "source": [
        "execute_cross_validation(mnb, XtogetherReporter)"
      ],
      "execution_count": null,
      "outputs": [
        {
          "output_type": "stream",
          "name": "stdout",
          "text": [
            "elapsed time:  0:00:00.697364\n",
            "Mean results\n",
            "Precision:  56.99999999999999  recall:  34.0  f-measure:  43.0\n",
            "Mean results\n",
            "Precision:  0.5714296372276944  recall:  0.34015287855639537  f-measure:  0.4251484953554199\n",
            "Precision max:  0.5908479138627187\n",
            "Precision min:  0.5256756756756756\n",
            "recall max:  0.35912531539108494\n",
            "recall min:  0.30739299610894943\n",
            "f-measure max:  0.4382308083375699\n",
            "f-measure min:  0.40669371196754556\n",
            "f-measure standard deviation:  0.009635160333489393\n",
            "f-measure standard variance:  9.283631465204741e-05\n"
          ]
        }
      ]
    },
    {
      "cell_type": "code",
      "metadata": {
        "colab": {
          "base_uri": "https://localhost:8080/"
        },
        "id": "q5wVj13ck5HQ",
        "outputId": "acf4e472-0974-441c-a401-7d2c63ca2159"
      },
      "source": [
        "execute_cross_validation(mnb, XtogetherDeveloper)"
      ],
      "execution_count": null,
      "outputs": [
        {
          "output_type": "stream",
          "name": "stdout",
          "text": [
            "elapsed time:  0:00:00.695876\n",
            "Mean results\n",
            "Precision:  56.99999999999999  recall:  34.0  f-measure:  42.0\n",
            "Mean results\n",
            "Precision:  0.5700185088061067  recall:  0.3359232088798139  f-measure:  0.4247111751833275\n",
            "Precision max:  0.5920114122681883\n",
            "Precision min:  0.5507246376811594\n",
            "recall max:  0.35633116883116883\n",
            "recall min:  0.3169181890389198\n",
            "f-measure max:  0.4516445753559155\n",
            "f-measure min:  0.39813374805598756\n",
            "f-measure standard deviation:  0.015090462287214248\n",
            "f-measure standard variance:  0.0002277220520418355\n"
          ]
        }
      ]
    },
    {
      "cell_type": "code",
      "metadata": {
        "colab": {
          "base_uri": "https://localhost:8080/"
        },
        "id": "Y-45foy2Mr2z",
        "outputId": "bc75f8c3-0483-4f93-a514-b0092f629f62"
      },
      "source": [
        "execute_cross_validation(mnb, X_text_reputation)"
      ],
      "execution_count": null,
      "outputs": [
        {
          "name": "stdout",
          "output_type": "stream",
          "text": [
            "elapsed time:  0:00:06.949634\n",
            "Mean results\n",
            "Precision:  56.99999999999999  recall:  34.0  f-measure:  43.0\n",
            "Mean results\n",
            "Precision:  0.5706890560433583  recall:  0.3391387951536057  f-measure:  0.4259938215878451\n",
            "Precision max:  0.5926430517711172\n",
            "Precision min:  0.552\n",
            "recall max:  0.3502824858757062\n",
            "recall min:  0.325\n",
            "f-measure max:  0.4574307304785894\n",
            "f-measure min:  0.40526849037487334\n",
            "f-measure standard deviation:  0.01597154980876319\n",
            "f-measure standard variance:  0.00025509040329380354\n"
          ]
        }
      ]
    },
    {
      "cell_type": "code",
      "metadata": {
        "colab": {
          "base_uri": "https://localhost:8080/"
        },
        "id": "Zvf9JEyMMr2z",
        "outputId": "ba31356b-feb7-4c02-95ad-54a344df8124"
      },
      "source": [
        "execute_cross_validation(mnb, X_text_rating)"
      ],
      "execution_count": null,
      "outputs": [
        {
          "name": "stdout",
          "output_type": "stream",
          "text": [
            "elapsed time:  0:00:06.967887\n",
            "Mean results\n",
            "Precision:  56.99999999999999  recall:  34.0  f-measure:  43.0\n",
            "Mean results\n",
            "Precision:  0.5698440449627136  recall:  0.3385650111846094  f-measure:  0.425773506175966\n",
            "Precision max:  0.6213333333333333\n",
            "Precision min:  0.536096256684492\n",
            "recall max:  0.3646677471636953\n",
            "recall min:  0.31727574750830567\n",
            "f-measure max:  0.44985394352482966\n",
            "f-measure min:  0.38794926004228325\n",
            "f-measure standard deviation:  0.018412733634743363\n",
            "f-measure standard variance:  0.0003390287599040095\n"
          ]
        }
      ]
    },
    {
      "cell_type": "markdown",
      "metadata": {
        "id": "ImEFheNp8gDK"
      },
      "source": [
        "#Decision Tree"
      ]
    },
    {
      "cell_type": "code",
      "metadata": {
        "id": "NuXTWc808ikU"
      },
      "source": [
        "from sklearn.tree import DecisionTreeClassifier "
      ],
      "execution_count": null,
      "outputs": []
    },
    {
      "cell_type": "code",
      "metadata": {
        "id": "bnaOjL8JSXYU"
      },
      "source": [
        "cdt = DecisionTreeClassifier(criterion='gini', max_depth=None)"
      ],
      "execution_count": null,
      "outputs": []
    },
    {
      "cell_type": "code",
      "metadata": {
        "colab": {
          "base_uri": "https://localhost:8080/"
        },
        "id": "utfRSE4ORWsK",
        "outputId": "276f3c0c-78e5-44f8-8a5b-6ae338ab0ca7"
      },
      "source": [
        "execute_cross_validation(cdt, Xnormal)"
      ],
      "execution_count": null,
      "outputs": [
        {
          "output_type": "stream",
          "name": "stdout",
          "text": [
            "elapsed time:  0:00:02.809937\n",
            "Mean results\n",
            "Precision:  63.0  recall:  60.0  f-measure:  62.0\n",
            "Mean results\n",
            "Precision:  0.6333410320833609  recall:  0.6027727708454792  f-measure:  0.6193121472991141\n",
            "Precision max:  0.6590709903593339\n",
            "Precision min:  0.6088379705400983\n",
            "recall max:  0.6212970376301041\n",
            "recall min:  0.5933977455716586\n",
            "f-measure max:  0.642620232172471\n",
            "f-measure min:  0.599750104123282\n",
            "f-measure standard deviation:  0.014667944544932175\n",
            "f-measure standard variance:  0.00021514859717320555\n"
          ]
        }
      ]
    },
    {
      "cell_type": "code",
      "metadata": {
        "colab": {
          "base_uri": "https://localhost:8080/"
        },
        "id": "4HBwBGRoddTX",
        "outputId": "1d517d73-b590-4caf-d599-f18182851c90"
      },
      "source": [
        "execute_cross_validation(cdt, Xreporter_reputation)"
      ],
      "execution_count": null,
      "outputs": [
        {
          "name": "stdout",
          "output_type": "stream",
          "text": [
            "elapsed time:  0:00:03.594998\n",
            "Mean results\n",
            "Precision:  63.0  recall:  62.0  f-measure:  62.0\n",
            "Mean results\n",
            "Precision:  0.6253769988326794  recall:  0.6176334700198934  f-measure:  0.6227331499559113\n",
            "Precision max:  0.6433621366849961\n",
            "Precision min:  0.6012913640032284\n",
            "recall max:  0.638001638001638\n",
            "recall min:  0.5862903225806452\n",
            "f-measure max:  0.6460696128275322\n",
            "f-measure min:  0.6107438016528925\n",
            "f-measure standard deviation:  0.009887851628482885\n",
            "f-measure standard variance:  9.776960982689165e-05\n"
          ]
        }
      ]
    },
    {
      "cell_type": "code",
      "metadata": {
        "colab": {
          "base_uri": "https://localhost:8080/"
        },
        "id": "TlebUb5_dfYz",
        "outputId": "3a484273-5be8-41af-91cd-4dc2a3737d29"
      },
      "source": [
        "execute_cross_validation(cdt, Xdeveloper_reputation)"
      ],
      "execution_count": null,
      "outputs": [
        {
          "name": "stdout",
          "output_type": "stream",
          "text": [
            "elapsed time:  0:00:03.768918\n",
            "Mean results\n",
            "Precision:  64.0  recall:  63.0  f-measure:  63.0\n",
            "Mean results\n",
            "Precision:  0.6432610937925032  recall:  0.6314507316527365  f-measure:  0.6323689347372217\n",
            "Precision max:  0.6612209802235598\n",
            "Precision min:  0.6100164203612479\n",
            "recall max:  0.6477832512315271\n",
            "recall min:  0.6153212520593081\n",
            "f-measure max:  0.6424785976355483\n",
            "f-measure min:  0.6099173553719008\n",
            "f-measure standard deviation:  0.010498614824959188\n",
            "f-measure standard variance:  0.00011022091324285283\n"
          ]
        }
      ]
    },
    {
      "cell_type": "code",
      "metadata": {
        "colab": {
          "base_uri": "https://localhost:8080/"
        },
        "id": "m_TkwB_y8n8-",
        "outputId": "f23aa67b-819b-4328-8b7c-099f9881f983"
      },
      "source": [
        "execute_cross_validation(cdt, Xreputation)"
      ],
      "execution_count": null,
      "outputs": [
        {
          "name": "stdout",
          "output_type": "stream",
          "text": [
            "elapsed time:  0:00:04.436033\n",
            "Mean results\n",
            "Precision:  63.0  recall:  63.0  f-measure:  63.0\n",
            "Mean results\n",
            "Precision:  0.6338348935951277  recall:  0.6251960418151952  f-measure:  0.6302324222963056\n",
            "Precision max:  0.6623164763458401\n",
            "Precision min:  0.6158886158886159\n",
            "recall max:  0.6500815660685155\n",
            "recall min:  0.6051752921535893\n",
            "f-measure max:  0.6498599439775911\n",
            "f-measure min:  0.6034768211920529\n",
            "f-measure standard deviation:  0.012684361212234218\n",
            "f-measure standard variance:  0.0001608930193624319\n"
          ]
        }
      ]
    },
    {
      "cell_type": "code",
      "metadata": {
        "colab": {
          "base_uri": "https://localhost:8080/"
        },
        "id": "lqmrkkPag1mz",
        "outputId": "7afc0498-5f51-42dc-aed1-8698de05dc96"
      },
      "source": [
        "execute_cross_validation(cdt, Xreporter_rating)"
      ],
      "execution_count": null,
      "outputs": [
        {
          "name": "stdout",
          "output_type": "stream",
          "text": [
            "elapsed time:  0:00:03.190853\n",
            "Mean results\n",
            "Precision:  61.0  recall:  59.0  f-measure:  60.0\n",
            "Mean results\n",
            "Precision:  0.607919610758749  recall:  0.5883494581562896  f-measure:  0.5959003380161367\n",
            "Precision max:  0.6291768541157294\n",
            "Precision min:  0.5851063829787234\n",
            "recall max:  0.6152597402597403\n",
            "recall min:  0.5614754098360656\n",
            "f-measure max:  0.6309859154929579\n",
            "f-measure min:  0.5795502757742894\n",
            "f-measure standard deviation:  0.01598650849732789\n",
            "f-measure standard variance:  0.00025556845393513684\n"
          ]
        }
      ]
    },
    {
      "cell_type": "code",
      "metadata": {
        "colab": {
          "base_uri": "https://localhost:8080/"
        },
        "id": "6xizsUfRh8XY",
        "outputId": "d76972c7-6850-4707-f991-7496cce94bd4"
      },
      "source": [
        "execute_cross_validation(cdt, Xdeveloper_rating)"
      ],
      "execution_count": null,
      "outputs": [
        {
          "name": "stdout",
          "output_type": "stream",
          "text": [
            "elapsed time:  0:00:03.218532\n",
            "Mean results\n",
            "Precision:  61.0  recall:  60.0  f-measure:  61.0\n",
            "Mean results\n",
            "Precision:  0.614000614183489  recall:  0.5964525034472555  f-measure:  0.6061406664808119\n",
            "Precision max:  0.6509584664536742\n",
            "Precision min:  0.5962360992301112\n",
            "recall max:  0.6150159744408946\n",
            "recall min:  0.5753424657534246\n",
            "f-measure max:  0.6208333333333333\n",
            "f-measure min:  0.5893390191897654\n",
            "f-measure standard deviation:  0.01120807233830056\n",
            "f-measure standard variance:  0.00012562088554057818\n"
          ]
        }
      ]
    },
    {
      "cell_type": "code",
      "metadata": {
        "colab": {
          "base_uri": "https://localhost:8080/"
        },
        "id": "rV2vA0cNwxzx",
        "outputId": "12a6fa65-40e6-45a7-bf8c-b252d0b41ca8"
      },
      "source": [
        "execute_cross_validation(cdt, Xrating)"
      ],
      "execution_count": null,
      "outputs": [
        {
          "name": "stdout",
          "output_type": "stream",
          "text": [
            "elapsed time:  0:00:03.530191\n",
            "Mean results\n",
            "Precision:  60.0  recall:  59.0  f-measure:  60.0\n",
            "Mean results\n",
            "Precision:  0.6045459749421215  recall:  0.5949801963069314  f-measure:  0.5983933412827327\n",
            "Precision max:  0.6305254378648875\n",
            "Precision min:  0.579950289975145\n",
            "recall max:  0.6348178137651822\n",
            "recall min:  0.574265289912629\n",
            "f-measure max:  0.6195696305318718\n",
            "f-measure min:  0.5864962045545346\n",
            "f-measure standard deviation:  0.009729919980852923\n",
            "f-measure standard variance:  9.467134283380096e-05\n"
          ]
        }
      ]
    },
    {
      "cell_type": "code",
      "metadata": {
        "colab": {
          "base_uri": "https://localhost:8080/"
        },
        "id": "qt9537srhZxg",
        "outputId": "d3527f95-101d-4963-aeff-7803d88c3270"
      },
      "source": [
        "execute_cross_validation(cdt, XAtachment)"
      ],
      "execution_count": null,
      "outputs": [
        {
          "name": "stdout",
          "output_type": "stream",
          "text": [
            "elapsed time:  0:00:02.990304\n",
            "Mean results\n",
            "Precision:  63.0  recall:  60.0  f-measure:  61.0\n",
            "Mean results\n",
            "Precision:  0.6273987939493884  recall:  0.5991397278486913  f-measure:  0.6115271195856079\n",
            "Precision max:  0.6434995911692559\n",
            "Precision min:  0.6036943744752309\n",
            "recall max:  0.6176470588235294\n",
            "recall min:  0.5720130932896891\n",
            "f-measure max:  0.6256796319531577\n",
            "f-measure min:  0.6016528925619836\n",
            "f-measure standard deviation:  0.008734002501986879\n",
            "f-measure standard variance:  7.628279970471304e-05\n"
          ]
        }
      ]
    },
    {
      "cell_type": "code",
      "metadata": {
        "colab": {
          "base_uri": "https://localhost:8080/"
        },
        "id": "cQ-BeEs6iwxV",
        "outputId": "64ccadde-00f1-4682-a7c5-608933502dd2"
      },
      "source": [
        "execute_cross_validation(cdt, XCC)"
      ],
      "execution_count": null,
      "outputs": [
        {
          "name": "stdout",
          "output_type": "stream",
          "text": [
            "elapsed time:  0:00:02.995546\n",
            "Mean results\n",
            "Precision:  63.0  recall:  60.0  f-measure:  62.0\n",
            "Mean results\n",
            "Precision:  0.6293047510737706  recall:  0.5963315166417755  f-measure:  0.6174064888306051\n",
            "Precision max:  0.6498740554156172\n",
            "Precision min:  0.5891536565324569\n",
            "recall max:  0.6233552631578947\n",
            "recall min:  0.5797570850202429\n",
            "f-measure max:  0.6406124093473005\n",
            "f-measure min:  0.5859178541492036\n",
            "f-measure standard deviation:  0.01433678748087751\n",
            "f-measure standard variance:  0.0002055434752718461\n"
          ]
        }
      ]
    },
    {
      "cell_type": "code",
      "metadata": {
        "colab": {
          "base_uri": "https://localhost:8080/"
        },
        "id": "gdtB_YtcdvSa",
        "outputId": "2c859a64-e4d4-4f09-a320-8ca078f94e2b"
      },
      "source": [
        "execute_cross_validation(cdt, XratingAvg)"
      ],
      "execution_count": null,
      "outputs": [
        {
          "name": "stdout",
          "output_type": "stream",
          "text": [
            "elapsed time:  0:00:05.170850\n",
            "Mean results\n",
            "Precision:  61.0  recall:  62.0  f-measure:  61.0\n",
            "Mean results\n",
            "Precision:  0.6128312536421865  recall:  0.6158417593326927  f-measure:  0.6134475562763525\n",
            "Precision max:  0.6275\n",
            "Precision min:  0.5948844884488449\n",
            "recall max:  0.6424914675767918\n",
            "recall min:  0.5985518905872889\n",
            "f-measure max:  0.6350749291211016\n",
            "f-measure min:  0.5681444991789819\n",
            "f-measure standard deviation:  0.018655606571164596\n",
            "f-measure standard variance:  0.00034803165653807966\n"
          ]
        }
      ]
    },
    {
      "cell_type": "code",
      "metadata": {
        "colab": {
          "base_uri": "https://localhost:8080/"
        },
        "id": "tI62YlpGdx3m",
        "outputId": "d17117ab-a35f-4b90-d3d0-e046101fa18f"
      },
      "source": [
        "execute_cross_validation(cdt, X_text)"
      ],
      "execution_count": null,
      "outputs": [
        {
          "name": "stdout",
          "output_type": "stream",
          "text": [
            "elapsed time:  0:04:13.256122\n",
            "Mean results\n",
            "Precision:  54.0  recall:  54.0  f-measure:  53.0\n",
            "Mean results\n",
            "Precision:  0.5416131935807686  recall:  0.5372144383266859  f-measure:  0.5347118173019527\n",
            "Precision max:  0.5675453047775947\n",
            "Precision min:  0.5232100708103855\n",
            "recall max:  0.5550986842105263\n",
            "recall min:  0.5227655986509275\n",
            "f-measure max:  0.5431893687707642\n",
            "f-measure min:  0.5200327064595257\n",
            "f-measure standard deviation:  0.006304362038091894\n",
            "f-measure standard variance:  3.974498070733419e-05\n"
          ]
        }
      ]
    },
    {
      "cell_type": "code",
      "metadata": {
        "colab": {
          "base_uri": "https://localhost:8080/"
        },
        "id": "YnSSUjLJQW3Z",
        "outputId": "dc07f9e7-2437-4a29-8654-73426af6f76a"
      },
      "source": [
        "execute_cross_validation(cdt, Xtogether)"
      ],
      "execution_count": null,
      "outputs": [
        {
          "output_type": "stream",
          "name": "stdout",
          "text": [
            "elapsed time:  0:00:05.301883\n",
            "Mean results\n",
            "Precision:  60.0  recall:  60.0  f-measure:  61.0\n",
            "Mean results\n",
            "Precision:  0.6047616903514886  recall:  0.6049670907826015  f-measure:  0.6059281461227087\n",
            "Precision max:  0.619887730553328\n",
            "Precision min:  0.5894039735099338\n",
            "recall max:  0.6291600633914421\n",
            "recall min:  0.5794165316045381\n",
            "f-measure max:  0.6202174788562222\n",
            "f-measure min:  0.5835370823145885\n",
            "f-measure standard deviation:  0.011560691610145904\n",
            "f-measure standard variance:  0.0001336495905048979\n"
          ]
        }
      ]
    },
    {
      "cell_type": "code",
      "metadata": {
        "colab": {
          "base_uri": "https://localhost:8080/"
        },
        "id": "pzuTotrhlDhb",
        "outputId": "6632ab17-2b74-4aab-8a67-ae8d668d44ec"
      },
      "source": [
        "execute_cross_validation(cdt, XtogetherReporter)"
      ],
      "execution_count": null,
      "outputs": [
        {
          "output_type": "stream",
          "name": "stdout",
          "text": [
            "elapsed time:  0:00:03.949718\n",
            "Mean results\n",
            "Precision:  60.0  recall:  60.0  f-measure:  59.0\n",
            "Mean results\n",
            "Precision:  0.5991337614045609  recall:  0.5979245342893218  f-measure:  0.5940225615737268\n",
            "Precision max:  0.6172441579371475\n",
            "Precision min:  0.5801886792452831\n",
            "recall max:  0.6170046801872074\n",
            "recall min:  0.5711960943856794\n",
            "f-measure max:  0.6184834123222749\n",
            "f-measure min:  0.5628691983122364\n",
            "f-measure standard deviation:  0.015446080820491741\n",
            "f-measure standard variance:  0.00023858141271316282\n"
          ]
        }
      ]
    },
    {
      "cell_type": "code",
      "metadata": {
        "colab": {
          "base_uri": "https://localhost:8080/"
        },
        "id": "QtWwo6_MlFhU",
        "outputId": "e1f57453-4057-4d4f-c22b-6f9681c2e1c5"
      },
      "source": [
        "execute_cross_validation(cdt, XtogetherDeveloper)"
      ],
      "execution_count": null,
      "outputs": [
        {
          "output_type": "stream",
          "name": "stdout",
          "text": [
            "elapsed time:  0:00:04.126109\n",
            "Mean results\n",
            "Precision:  62.0  recall:  63.0  f-measure:  62.0\n",
            "Mean results\n",
            "Precision:  0.6210153539566391  recall:  0.6252412806157274  f-measure:  0.6192754162289621\n",
            "Precision max:  0.6468673718470301\n",
            "Precision min:  0.6036977491961415\n",
            "recall max:  0.6449799196787148\n",
            "recall min:  0.5906656465187452\n",
            "f-measure max:  0.6291309669522643\n",
            "f-measure min:  0.6090163934426228\n",
            "f-measure standard deviation:  0.006235610455322225\n",
            "f-measure standard variance:  3.888283775052385e-05\n"
          ]
        }
      ]
    },
    {
      "cell_type": "code",
      "metadata": {
        "colab": {
          "base_uri": "https://localhost:8080/"
        },
        "id": "G_uv0E94QXL-",
        "outputId": "db41821c-b5f1-45e3-b606-89b4d05ca993"
      },
      "source": [
        "execute_cross_validation(cdt, X_text_reputation)"
      ],
      "execution_count": null,
      "outputs": [
        {
          "name": "stdout",
          "output_type": "stream",
          "text": [
            "elapsed time:  0:03:09.788211\n",
            "Mean results\n",
            "Precision:  59.0  recall:  57.99999999999999  f-measure:  59.0\n",
            "Mean results\n",
            "Precision:  0.5852339159232838  recall:  0.5795351288752085  f-measure:  0.5859308127090516\n",
            "Precision max:  0.6040650406504066\n",
            "Precision min:  0.571780147662018\n",
            "recall max:  0.6087649402390438\n",
            "recall min:  0.5542071197411004\n",
            "f-measure max:  0.5996745321399513\n",
            "f-measure min:  0.5761316872427984\n",
            "f-measure standard deviation:  0.007563359113041553\n",
            "f-measure standard variance:  5.7204401072828706e-05\n"
          ]
        }
      ]
    },
    {
      "cell_type": "code",
      "metadata": {
        "colab": {
          "base_uri": "https://localhost:8080/"
        },
        "id": "NmstHTGUQeiu",
        "outputId": "ab9f8cdd-4e1d-484c-de5b-41f3a162749f"
      },
      "source": [
        "execute_cross_validation(cdt, X_text_rating)"
      ],
      "execution_count": null,
      "outputs": [
        {
          "name": "stdout",
          "output_type": "stream",
          "text": [
            "elapsed time:  0:04:27.780856\n",
            "Mean results\n",
            "Precision:  59.0  recall:  59.0  f-measure:  59.0\n",
            "Mean results\n",
            "Precision:  0.5880482100687768  recall:  0.5858422256560323  f-measure:  0.585930386939081\n",
            "Precision max:  0.6215538847117794\n",
            "Precision min:  0.5657788539144472\n",
            "recall max:  0.6130081300813008\n",
            "recall min:  0.5624483043837882\n",
            "f-measure max:  0.6054394954670871\n",
            "f-measure min:  0.5581395348837209\n",
            "f-measure standard deviation:  0.013417276427108478\n",
            "f-measure standard variance:  0.00018002330672144083\n"
          ]
        }
      ]
    },
    {
      "cell_type": "code",
      "metadata": {
        "id": "IGmIkYPNQfMx"
      },
      "source": [
        ""
      ],
      "execution_count": null,
      "outputs": []
    },
    {
      "cell_type": "markdown",
      "metadata": {
        "id": "P4ebuy6AAAwx"
      },
      "source": [
        "#KNN"
      ]
    },
    {
      "cell_type": "code",
      "metadata": {
        "id": "VxhwqSRNAEuF"
      },
      "source": [
        "from sklearn.neighbors import KNeighborsClassifier"
      ],
      "execution_count": null,
      "outputs": []
    },
    {
      "cell_type": "code",
      "metadata": {
        "id": "qpIpSgS6yy0N"
      },
      "source": [
        "knn = KNeighborsClassifier(n_neighbors=3, metric='cosine')"
      ],
      "execution_count": null,
      "outputs": []
    },
    {
      "cell_type": "code",
      "metadata": {
        "colab": {
          "base_uri": "https://localhost:8080/"
        },
        "id": "BaT8CbvchEcs",
        "outputId": "9cfb6433-d18f-46df-d482-dd69b68c11a1"
      },
      "source": [
        "execute_cross_validation(knn, Xnormal)"
      ],
      "execution_count": null,
      "outputs": [
        {
          "name": "stdout",
          "output_type": "stream",
          "text": [
            "elapsed time:  0:00:22.500326\n",
            "Mean results\n",
            "Precision:  61.0  recall:  59.0  f-measure:  61.0\n",
            "Mean results\n",
            "Precision:  0.6071225423594502  recall:  0.5905245772370468  f-measure:  0.6051207450737887\n",
            "Precision max:  0.6264855687606112\n",
            "Precision min:  0.5923728813559322\n",
            "recall max:  0.6168614357262103\n",
            "recall min:  0.57166392092257\n",
            "f-measure max:  0.620242914979757\n",
            "f-measure min:  0.5853658536585366\n",
            "f-measure standard deviation:  0.010401020366642961\n",
            "f-measure standard variance:  0.00010818122466732167\n"
          ]
        }
      ]
    },
    {
      "cell_type": "code",
      "metadata": {
        "colab": {
          "base_uri": "https://localhost:8080/"
        },
        "id": "pRJzpJOJ1AqY",
        "outputId": "44ac1ab5-8cfa-4b49-ae1f-990b9d469829"
      },
      "source": [
        "execute_cross_validation(knn, Xreporter_reputation)"
      ],
      "execution_count": null,
      "outputs": [
        {
          "name": "stdout",
          "output_type": "stream",
          "text": [
            "elapsed time:  0:00:22.302661\n",
            "Mean results\n",
            "Precision:  61.0  recall:  59.0  f-measure:  60.0\n",
            "Mean results\n",
            "Precision:  0.6137160396320706  recall:  0.5936243002572771  f-measure:  0.6010153658040904\n",
            "Precision max:  0.6360544217687075\n",
            "Precision min:  0.5975409836065574\n",
            "recall max:  0.6255178127589064\n",
            "recall min:  0.5626003210272873\n",
            "f-measure max:  0.6212182331585318\n",
            "f-measure min:  0.5841217605923489\n",
            "f-measure standard deviation:  0.012526465069595432\n",
            "f-measure standard variance:  0.00015691232713979452\n"
          ]
        }
      ]
    },
    {
      "cell_type": "code",
      "metadata": {
        "colab": {
          "base_uri": "https://localhost:8080/"
        },
        "id": "IGJazi6G1EB6",
        "outputId": "c60c8e31-e05b-469d-aed2-2fe267a4c0fb"
      },
      "source": [
        "execute_cross_validation(knn, Xdeveloper_reputation)"
      ],
      "execution_count": null,
      "outputs": [
        {
          "name": "stdout",
          "output_type": "stream",
          "text": [
            "elapsed time:  0:00:22.294946\n",
            "Mean results\n",
            "Precision:  61.0  recall:  59.0  f-measure:  60.0\n",
            "Mean results\n",
            "Precision:  0.6107652305690933  recall:  0.5941553773854995  f-measure:  0.6032306385888341\n",
            "Precision max:  0.6408094435075885\n",
            "Precision min:  0.5667752442996743\n",
            "recall max:  0.6158059467918623\n",
            "recall min:  0.5570522979397782\n",
            "f-measure max:  0.6146572104018911\n",
            "f-measure min:  0.5931208053691275\n",
            "f-measure standard deviation:  0.007329688974123869\n",
            "f-measure standard variance:  5.372434045739302e-05\n"
          ]
        }
      ]
    },
    {
      "cell_type": "code",
      "metadata": {
        "colab": {
          "base_uri": "https://localhost:8080/"
        },
        "id": "WMoXN5Il1HJa",
        "outputId": "7448da7d-1465-4850-987a-a6b40bd1cf34"
      },
      "source": [
        "execute_cross_validation(knn, Xreputation)"
      ],
      "execution_count": null,
      "outputs": [
        {
          "name": "stdout",
          "output_type": "stream",
          "text": [
            "elapsed time:  0:00:22.318825\n",
            "Mean results\n",
            "Precision:  61.0  recall:  59.0  f-measure:  60.0\n",
            "Mean results\n",
            "Precision:  0.6115825555749557  recall:  0.59020357448479  f-measure:  0.6026972847868292\n",
            "Precision max:  0.6223539373412362\n",
            "Precision min:  0.5986733001658375\n",
            "recall max:  0.6085526315789473\n",
            "recall min:  0.570268074735987\n",
            "f-measure max:  0.6188340807174888\n",
            "f-measure min:  0.5898617511520737\n",
            "f-measure standard deviation:  0.009806193104237011\n",
            "f-measure standard variance:  9.616142319758551e-05\n"
          ]
        }
      ]
    },
    {
      "cell_type": "code",
      "metadata": {
        "colab": {
          "base_uri": "https://localhost:8080/"
        },
        "id": "ru-eCCku1IwW",
        "outputId": "c32fd19b-ba68-4fee-975d-35f038660ee3"
      },
      "source": [
        "execute_cross_validation(knn, Xreporter_rating)"
      ],
      "execution_count": null,
      "outputs": [
        {
          "name": "stdout",
          "output_type": "stream",
          "text": [
            "elapsed time:  0:00:22.152724\n",
            "Mean results\n",
            "Precision:  61.0  recall:  59.0  f-measure:  61.0\n",
            "Mean results\n",
            "Precision:  0.6091416294070704  recall:  0.5946377350062899  f-measure:  0.605112776252639\n",
            "Precision max:  0.6254180602006689\n",
            "Precision min:  0.5934426229508196\n",
            "recall max:  0.6155679110405083\n",
            "recall min:  0.5654320987654321\n",
            "f-measure max:  0.6151970743600162\n",
            "f-measure min:  0.5942148760330578\n",
            "f-measure standard deviation:  0.00559607933276099\n",
            "f-measure standard variance:  3.1316103898554687e-05\n"
          ]
        }
      ]
    },
    {
      "cell_type": "code",
      "metadata": {
        "colab": {
          "base_uri": "https://localhost:8080/"
        },
        "id": "ukdaYaRO1OBs",
        "outputId": "9ddcbbea-30a8-443c-b855-3464e8268bb1"
      },
      "source": [
        "execute_cross_validation(knn, Xdeveloper_rating)"
      ],
      "execution_count": null,
      "outputs": [
        {
          "name": "stdout",
          "output_type": "stream",
          "text": [
            "elapsed time:  0:00:22.411268\n",
            "Mean results\n",
            "Precision:  61.0  recall:  59.0  f-measure:  60.0\n",
            "Mean results\n",
            "Precision:  0.6128225951513759  recall:  0.5923861122285504  f-measure:  0.6019493038013024\n",
            "Precision max:  0.6335814722911497\n",
            "Precision min:  0.5921985815602837\n",
            "recall max:  0.6143896523848019\n",
            "recall min:  0.5745721271393643\n",
            "f-measure max:  0.6151315789473684\n",
            "f-measure min:  0.5877926421404682\n",
            "f-measure standard deviation:  0.00946046026287025\n",
            "f-measure standard variance:  8.950030838534704e-05\n"
          ]
        }
      ]
    },
    {
      "cell_type": "code",
      "metadata": {
        "colab": {
          "base_uri": "https://localhost:8080/"
        },
        "id": "y9PTJuad1bik",
        "outputId": "a333933f-e6e7-45aa-fb80-6571e935da26"
      },
      "source": [
        "execute_cross_validation(knn, Xrating)"
      ],
      "execution_count": null,
      "outputs": [
        {
          "name": "stdout",
          "output_type": "stream",
          "text": [
            "elapsed time:  0:00:22.256779\n",
            "Mean results\n",
            "Precision:  61.0  recall:  59.0  f-measure:  60.0\n",
            "Mean results\n",
            "Precision:  0.6082460087606852  recall:  0.5925100845236946  f-measure:  0.6025588578892196\n",
            "Precision max:  0.632263660017346\n",
            "Precision min:  0.5883838383838383\n",
            "recall max:  0.6162117452440034\n",
            "recall min:  0.5680713128038898\n",
            "f-measure max:  0.6213355048859935\n",
            "f-measure min:  0.5745950554134698\n",
            "f-measure standard deviation:  0.013674286754407461\n",
            "f-measure standard variance:  0.00018698611824176332\n"
          ]
        }
      ]
    },
    {
      "cell_type": "code",
      "metadata": {
        "colab": {
          "base_uri": "https://localhost:8080/"
        },
        "id": "suxRxdQbfPxX",
        "outputId": "fec47189-f2ff-4a54-997c-839781ae6f3c"
      },
      "source": [
        "execute_cross_validation(knn, XAtachment)"
      ],
      "execution_count": null,
      "outputs": [
        {
          "name": "stdout",
          "output_type": "stream",
          "text": [
            "elapsed time:  0:00:22.232308\n",
            "Mean results\n",
            "Precision:  61.0  recall:  59.0  f-measure:  60.0\n",
            "Mean results\n",
            "Precision:  0.6058614495397501  recall:  0.5934480232644085  f-measure:  0.6036814907887884\n",
            "Precision max:  0.6218487394957983\n",
            "Precision min:  0.5777202072538861\n",
            "recall max:  0.6169154228855721\n",
            "recall min:  0.5718824463860207\n",
            "f-measure max:  0.6119343211854226\n",
            "f-measure min:  0.5868365180467091\n",
            "f-measure standard deviation:  0.008338347056748715\n",
            "f-measure standard variance:  6.952803163878995e-05\n"
          ]
        }
      ]
    },
    {
      "cell_type": "code",
      "metadata": {
        "colab": {
          "base_uri": "https://localhost:8080/"
        },
        "id": "zq0AWkG7fWCc",
        "outputId": "2fa2d96e-86b1-4cde-dba0-120c71161729"
      },
      "source": [
        "execute_cross_validation(knn, XCC)"
      ],
      "execution_count": null,
      "outputs": [
        {
          "name": "stdout",
          "output_type": "stream",
          "text": [
            "elapsed time:  0:00:22.279315\n",
            "Mean results\n",
            "Precision:  61.0  recall:  59.0  f-measure:  60.0\n",
            "Mean results\n",
            "Precision:  0.6068212217795428  recall:  0.5883154122384557  f-measure:  0.5991490726745106\n",
            "Precision max:  0.6257261410788382\n",
            "Precision min:  0.5845012366034625\n",
            "recall max:  0.601593625498008\n",
            "recall min:  0.5736677115987461\n",
            "f-measure max:  0.6160164271047228\n",
            "f-measure min:  0.5800756620428751\n",
            "f-measure standard deviation:  0.010930032449072672\n",
            "f-measure standard variance:  0.00011946560933778158\n"
          ]
        }
      ]
    },
    {
      "cell_type": "code",
      "metadata": {
        "colab": {
          "base_uri": "https://localhost:8080/"
        },
        "id": "vUSSlmG_hGdm",
        "outputId": "e850bd10-3afb-4734-f22a-ae86fcd21aee"
      },
      "source": [
        "execute_cross_validation(knn, XratingAvg)"
      ],
      "execution_count": null,
      "outputs": [
        {
          "name": "stdout",
          "output_type": "stream",
          "text": [
            "elapsed time:  0:00:22.366734\n",
            "Mean results\n",
            "Precision:  61.0  recall:  60.0  f-measure:  61.0\n",
            "Mean results\n",
            "Precision:  0.6102668942572087  recall:  0.595301212223787  f-measure:  0.605135568721604\n",
            "Precision max:  0.6341659951651893\n",
            "Precision min:  0.5869017632241813\n",
            "recall max:  0.6113902847571189\n",
            "recall min:  0.5838103025347506\n",
            "f-measure max:  0.6166134185303515\n",
            "f-measure min:  0.5906821963394343\n",
            "f-measure standard deviation:  0.007287233048000672\n",
            "f-measure standard variance:  5.310376549587316e-05\n"
          ]
        }
      ]
    },
    {
      "cell_type": "code",
      "metadata": {
        "colab": {
          "base_uri": "https://localhost:8080/"
        },
        "id": "a8y_7XpAhymr",
        "outputId": "94a80dd2-c0a9-4b69-a4d4-fcd0e315f127"
      },
      "source": [
        "execute_cross_validation(knn, X_text)"
      ],
      "execution_count": null,
      "outputs": [
        {
          "name": "stdout",
          "output_type": "stream",
          "text": [
            "elapsed time:  0:02:04.217560\n",
            "Mean results\n",
            "Precision:  56.00000000000001  recall:  54.0  f-measure:  55.00000000000001\n",
            "Mean results\n",
            "Precision:  0.5554650858037526  recall:  0.5396391912417575  f-measure:  0.5482355636810616\n",
            "Precision max:  0.5770212765957446\n",
            "Precision min:  0.5388429752066116\n",
            "recall max:  0.5616113744075829\n",
            "recall min:  0.50201126307321\n",
            "f-measure max:  0.5745105872952457\n",
            "f-measure min:  0.5379825653798257\n",
            "f-measure standard deviation:  0.009732961400668556\n",
            "f-measure standard variance:  9.473053762690402e-05\n"
          ]
        }
      ]
    },
    {
      "cell_type": "code",
      "metadata": {
        "colab": {
          "base_uri": "https://localhost:8080/"
        },
        "id": "ItlM15TX870U",
        "outputId": "901ea6b8-c396-4f03-fc65-8ee696e3daa8"
      },
      "source": [
        "execute_cross_validation(knn, Xtogether)"
      ],
      "execution_count": null,
      "outputs": [
        {
          "output_type": "stream",
          "name": "stdout",
          "text": [
            "elapsed time:  0:00:22.575492\n",
            "Mean results\n",
            "Precision:  61.0  recall:  59.0  f-measure:  60.0\n",
            "Mean results\n",
            "Precision:  0.6146761395667527  recall:  0.5933781953585764  f-measure:  0.600489158566142\n",
            "Precision max:  0.6403940886699507\n",
            "Precision min:  0.5891341256366723\n",
            "recall max:  0.6244995996797438\n",
            "recall min:  0.5716666666666667\n",
            "f-measure max:  0.6146864686468647\n",
            "f-measure min:  0.5924071756362118\n",
            "f-measure standard deviation:  0.006813654178788656\n",
            "f-measure standard variance:  4.642588326812412e-05\n"
          ]
        }
      ]
    },
    {
      "cell_type": "code",
      "metadata": {
        "colab": {
          "base_uri": "https://localhost:8080/"
        },
        "id": "TTi-smKWlYdl",
        "outputId": "92209fcd-3def-4ff9-a07b-f81eeb6ae00f"
      },
      "source": [
        "execute_cross_validation(knn, XtogetherReporter)"
      ],
      "execution_count": null,
      "outputs": [
        {
          "output_type": "stream",
          "name": "stdout",
          "text": [
            "elapsed time:  0:00:22.323421\n",
            "Mean results\n",
            "Precision:  61.0  recall:  59.0  f-measure:  60.0\n",
            "Mean results\n",
            "Precision:  0.6084429591551974  recall:  0.5928981294992036  f-measure:  0.599180120269555\n",
            "Precision max:  0.6323051948051948\n",
            "Precision min:  0.5888077858880778\n",
            "recall max:  0.6163265306122448\n",
            "recall min:  0.5665584415584416\n",
            "f-measure max:  0.6156909597769813\n",
            "f-measure min:  0.5765242637909582\n",
            "f-measure standard deviation:  0.014536492444313159\n",
            "f-measure standard variance:  0.00021130961258357357\n"
          ]
        }
      ]
    },
    {
      "cell_type": "code",
      "metadata": {
        "colab": {
          "base_uri": "https://localhost:8080/"
        },
        "id": "CBmeJrE1laBJ",
        "outputId": "3264222b-5e60-4897-ae8a-517f8913d2ae"
      },
      "source": [
        "execute_cross_validation(knn, XtogetherDeveloper)"
      ],
      "execution_count": null,
      "outputs": [
        {
          "output_type": "stream",
          "name": "stdout",
          "text": [
            "elapsed time:  0:00:22.084149\n",
            "Mean results\n",
            "Precision:  61.0  recall:  60.0  f-measure:  61.0\n",
            "Mean results\n",
            "Precision:  0.6125588152352514  recall:  0.5970637624902946  f-measure:  0.6069052077171457\n",
            "Precision max:  0.6201680672268908\n",
            "Precision min:  0.6\n",
            "recall max:  0.6214876033057851\n",
            "recall min:  0.5631067961165048\n",
            "f-measure max:  0.6279725916968965\n",
            "f-measure min:  0.597971602434077\n",
            "f-measure standard deviation:  0.008712166913995121\n",
            "f-measure standard variance:  7.590185233731126e-05\n"
          ]
        }
      ]
    },
    {
      "cell_type": "code",
      "metadata": {
        "colab": {
          "base_uri": "https://localhost:8080/"
        },
        "id": "A-9QMJb2w1cn",
        "outputId": "e57effb6-104a-4527-b85a-d65f73559d8c"
      },
      "source": [
        "execute_cross_validation(knn, X_text_reputation)"
      ],
      "execution_count": null,
      "outputs": [
        {
          "name": "stdout",
          "output_type": "stream",
          "text": [
            "elapsed time:  0:02:07.152728\n",
            "Mean results\n",
            "Precision:  61.0  recall:  60.0  f-measure:  60.0\n",
            "Mean results\n",
            "Precision:  0.6110990086971501  recall:  0.595146197057893  f-measure:  0.603383914009456\n",
            "Precision max:  0.62248322147651\n",
            "Precision min:  0.5928984310487201\n",
            "recall max:  0.6139497161394971\n",
            "recall min:  0.5786924939467313\n",
            "f-measure max:  0.6154461784713885\n",
            "f-measure min:  0.5889164598842019\n",
            "f-measure standard deviation:  0.008452945823835248\n",
            "f-measure standard variance:  7.145229310069376e-05\n"
          ]
        }
      ]
    },
    {
      "cell_type": "code",
      "metadata": {
        "colab": {
          "base_uri": "https://localhost:8080/"
        },
        "id": "hz8mvgIrhspD",
        "outputId": "c8f36f61-553a-4ca3-cfbb-6f6f41139ffe"
      },
      "source": [
        "execute_cross_validation(knn, X_text_rating)"
      ],
      "execution_count": null,
      "outputs": [
        {
          "name": "stdout",
          "output_type": "stream",
          "text": [
            "elapsed time:  0:02:07.165246\n",
            "Mean results\n",
            "Precision:  61.0  recall:  59.0  f-measure:  60.0\n",
            "Mean results\n",
            "Precision:  0.6103559367537217  recall:  0.5906771272565507  f-measure:  0.5999402846411276\n",
            "Precision max:  0.6258278145695364\n",
            "Precision min:  0.5986336464560205\n",
            "recall max:  0.6097560975609756\n",
            "recall min:  0.5684210526315789\n",
            "f-measure max:  0.6224783861671469\n",
            "f-measure min:  0.5918536990856194\n",
            "f-measure standard deviation:  0.009583318111345697\n",
            "f-measure standard variance:  9.183998602324646e-05\n"
          ]
        }
      ]
    },
    {
      "cell_type": "markdown",
      "metadata": {
        "id": "Vm9HRWS7AFao"
      },
      "source": [
        "#Random Forest"
      ]
    },
    {
      "cell_type": "code",
      "metadata": {
        "id": "Both_i7oAKK3"
      },
      "source": [
        "from sklearn.ensemble import RandomForestClassifier"
      ],
      "execution_count": null,
      "outputs": []
    },
    {
      "cell_type": "code",
      "metadata": {
        "id": "j16Vx-zdh8rD"
      },
      "source": [
        "rfc=RandomForestClassifier(n_estimators=100)"
      ],
      "execution_count": null,
      "outputs": []
    },
    {
      "cell_type": "code",
      "metadata": {
        "colab": {
          "base_uri": "https://localhost:8080/"
        },
        "id": "uNgLTrWriA77",
        "outputId": "792c3793-fe0a-4d23-d6b9-092076b2cec5"
      },
      "source": [
        "execute_cross_validation(rfc, Xnormal)"
      ],
      "execution_count": null,
      "outputs": [
        {
          "output_type": "stream",
          "name": "stdout",
          "text": [
            "elapsed time:  0:01:16.620762\n",
            "Mean results\n",
            "Precision:  67.0  recall:  66.0  f-measure:  67.0\n",
            "Mean results\n",
            "Precision:  0.670174662699188  recall:  0.6611624179614518  f-measure:  0.6666289993118971\n",
            "Precision max:  0.6776586974443528\n",
            "Precision min:  0.6553122465531225\n",
            "recall max:  0.6841659610499576\n",
            "recall min:  0.6433566433566433\n",
            "f-measure max:  0.6810239739943112\n",
            "f-measure min:  0.6573884568153909\n",
            "f-measure standard deviation:  0.0061532744614874344\n",
            "f-measure standard variance:  3.786278659839348e-05\n"
          ]
        }
      ]
    },
    {
      "cell_type": "code",
      "metadata": {
        "colab": {
          "base_uri": "https://localhost:8080/"
        },
        "id": "02pb9DSSfcW2",
        "outputId": "e882df5f-7915-44dc-f69a-c8cc0dbf018e"
      },
      "source": [
        "execute_cross_validation(rfc, Xreporter_reputation)"
      ],
      "execution_count": null,
      "outputs": [
        {
          "name": "stdout",
          "output_type": "stream",
          "text": [
            "elapsed time:  0:01:30.489855\n",
            "Mean results\n",
            "Precision:  67.0  recall:  66.0  f-measure:  67.0\n",
            "Mean results\n",
            "Precision:  0.6731160921775649  recall:  0.6627209325917992  f-measure:  0.6711405267527873\n",
            "Precision max:  0.6908333333333333\n",
            "Precision min:  0.6636661211129297\n",
            "recall max:  0.6872461413484972\n",
            "recall min:  0.6383673469387755\n",
            "f-measure max:  0.689516129032258\n",
            "f-measure min:  0.6558573165788407\n",
            "f-measure standard deviation:  0.011549332395443973\n",
            "f-measure standard variance:  0.00013338707878045162\n"
          ]
        }
      ]
    },
    {
      "cell_type": "code",
      "metadata": {
        "colab": {
          "base_uri": "https://localhost:8080/"
        },
        "id": "Nl3fZfsMfcio",
        "outputId": "68bf6f68-6755-40a4-d447-6880fdab1bab"
      },
      "source": [
        "execute_cross_validation(rfc, Xdeveloper_reputation)"
      ],
      "execution_count": null,
      "outputs": [
        {
          "name": "stdout",
          "output_type": "stream",
          "text": [
            "elapsed time:  0:01:32.988974\n",
            "Mean results\n",
            "Precision:  68.0  recall:  67.0  f-measure:  68.0\n",
            "Mean results\n",
            "Precision:  0.6833234997441636  recall:  0.6747653123613793  f-measure:  0.6773823111161039\n",
            "Precision max:  0.6961189099917423\n",
            "Precision min:  0.6718367346938775\n",
            "recall max:  0.694467382328654\n",
            "recall min:  0.6498447204968945\n",
            "f-measure max:  0.6988727858293076\n",
            "f-measure min:  0.6481639624252775\n",
            "f-measure standard deviation:  0.013566642425760195\n",
            "f-measure standard variance:  0.00018405378670843648\n"
          ]
        }
      ]
    },
    {
      "cell_type": "code",
      "metadata": {
        "colab": {
          "base_uri": "https://localhost:8080/"
        },
        "id": "Z061yFn5iHBX",
        "outputId": "a9035490-daea-4800-db35-ad47daca8d9c"
      },
      "source": [
        "execute_cross_validation(rfc, Xreputation)"
      ],
      "execution_count": null,
      "outputs": [
        {
          "name": "stdout",
          "output_type": "stream",
          "text": [
            "elapsed time:  0:01:41.560913\n",
            "Mean results\n",
            "Precision:  68.0  recall:  67.0  f-measure:  68.0\n",
            "Mean results\n",
            "Precision:  0.6818603826102166  recall:  0.6711770179417396  f-measure:  0.6778843797266855\n",
            "Precision max:  0.6954356846473029\n",
            "Precision min:  0.6677551020408163\n",
            "recall max:  0.6913183279742765\n",
            "recall min:  0.6540627514078842\n",
            "f-measure max:  0.6965572457966374\n",
            "f-measure min:  0.6645004061738424\n",
            "f-measure standard deviation:  0.009017088307660119\n",
            "f-measure standard variance:  8.130788154814083e-05\n"
          ]
        }
      ]
    },
    {
      "cell_type": "code",
      "metadata": {
        "colab": {
          "base_uri": "https://localhost:8080/"
        },
        "id": "BthJgP0YiIv2",
        "outputId": "84bdbe2c-89ca-4958-c402-c232de2a48ad"
      },
      "source": [
        "execute_cross_validation(rfc, Xreporter_rating)"
      ],
      "execution_count": null,
      "outputs": [
        {
          "name": "stdout",
          "output_type": "stream",
          "text": [
            "elapsed time:  0:01:21.443739\n",
            "Mean results\n",
            "Precision:  66.0  recall:  64.0  f-measure:  65.0\n",
            "Mean results\n",
            "Precision:  0.6560177248683089  recall:  0.6441556395990489  f-measure:  0.6499446035727592\n",
            "Precision max:  0.6760443307757886\n",
            "Precision min:  0.6408977556109726\n",
            "recall max:  0.6597164303586321\n",
            "recall min:  0.6147859922178989\n",
            "f-measure max:  0.6715210355987055\n",
            "f-measure min:  0.6399338569656883\n",
            "f-measure standard deviation:  0.009925655381151347\n",
            "f-measure standard variance:  9.851863474537868e-05\n"
          ]
        }
      ]
    },
    {
      "cell_type": "code",
      "metadata": {
        "colab": {
          "base_uri": "https://localhost:8080/"
        },
        "id": "q-3jd0kb9Ovc",
        "outputId": "b6dec086-ce60-49b3-e2d5-d78b9c7dc559"
      },
      "source": [
        "execute_cross_validation(rfc, Xdeveloper_rating)"
      ],
      "execution_count": null,
      "outputs": [
        {
          "name": "stdout",
          "output_type": "stream",
          "text": [
            "elapsed time:  0:01:21.554843\n",
            "Mean results\n",
            "Precision:  67.0  recall:  64.0  f-measure:  66.0\n",
            "Mean results\n",
            "Precision:  0.6655143028597272  recall:  0.6446866062504792  f-measure:  0.6582371446351308\n",
            "Precision max:  0.6863070539419087\n",
            "Precision min:  0.6520618556701031\n",
            "recall max:  0.6563265306122449\n",
            "recall min:  0.6326194398682042\n",
            "f-measure max:  0.672077922077922\n",
            "f-measure min:  0.6461025427261359\n",
            "f-measure standard deviation:  0.009711978439326112\n",
            "f-measure standard variance:  9.432252520593526e-05\n"
          ]
        }
      ]
    },
    {
      "cell_type": "code",
      "metadata": {
        "colab": {
          "base_uri": "https://localhost:8080/"
        },
        "id": "BQynuHrIw6kP",
        "outputId": "0cdb53c2-ce20-4c31-a850-348a27b27f9e"
      },
      "source": [
        "execute_cross_validation(rfc, Xrating)"
      ],
      "execution_count": null,
      "outputs": [
        {
          "name": "stdout",
          "output_type": "stream",
          "text": [
            "elapsed time:  0:01:22.350260\n",
            "Mean results\n",
            "Precision:  66.0  recall:  64.0  f-measure:  65.0\n",
            "Mean results\n",
            "Precision:  0.6633804792917696  recall:  0.6434144837538228  f-measure:  0.6509934360351342\n",
            "Precision max:  0.6821247892074199\n",
            "Precision min:  0.6430976430976431\n",
            "recall max:  0.6589595375722543\n",
            "recall min:  0.6211031175059952\n",
            "f-measure max:  0.6734362307067425\n",
            "f-measure min:  0.6310025273799496\n",
            "f-measure standard deviation:  0.01036050672795276\n",
            "f-measure standard variance:  0.00010734009965995441\n"
          ]
        }
      ]
    },
    {
      "cell_type": "code",
      "metadata": {
        "id": "hjrIPccMwEP1"
      },
      "source": [
        "#randonForestScore = np.array(rfcScore['f1_score'])"
      ],
      "execution_count": null,
      "outputs": []
    },
    {
      "cell_type": "code",
      "metadata": {
        "colab": {
          "base_uri": "https://localhost:8080/"
        },
        "id": "MlxaWgT5h1B7",
        "outputId": "ce06f04e-2f53-4cd0-85ed-982f7e4a0c92"
      },
      "source": [
        "execute_cross_validation(rfc, XAtachment)"
      ],
      "execution_count": null,
      "outputs": [
        {
          "name": "stdout",
          "output_type": "stream",
          "text": [
            "elapsed time:  0:01:19.032332\n",
            "Mean results\n",
            "Precision:  67.0  recall:  66.0  f-measure:  66.0\n",
            "Mean results\n",
            "Precision:  0.6731374552425009  recall:  0.6594401502204692  f-measure:  0.6643392851562903\n",
            "Precision max:  0.6943986820428336\n",
            "Precision min:  0.6540016168148747\n",
            "recall max:  0.6823248407643312\n",
            "recall min:  0.640737770649559\n",
            "f-measure max:  0.676482617586912\n",
            "f-measure min:  0.653416149068323\n",
            "f-measure standard deviation:  0.0071641942816025395\n",
            "f-measure standard variance:  5.132567970454653e-05\n"
          ]
        }
      ]
    },
    {
      "cell_type": "code",
      "metadata": {
        "colab": {
          "base_uri": "https://localhost:8080/"
        },
        "id": "i3P9tF_ai8Cz",
        "outputId": "5375f8a6-05fb-4fc2-e8b2-76530cc0ba22"
      },
      "source": [
        "execute_cross_validation(rfc, XCC)"
      ],
      "execution_count": null,
      "outputs": [
        {
          "name": "stdout",
          "output_type": "stream",
          "text": [
            "elapsed time:  0:01:19.782576\n",
            "Mean results\n",
            "Precision:  67.0  recall:  66.0  f-measure:  66.0\n",
            "Mean results\n",
            "Precision:  0.6711647021684184  recall:  0.6576870258255755  f-measure:  0.6637164674904693\n",
            "Precision max:  0.6949559647718174\n",
            "Precision min:  0.6528239202657807\n",
            "recall max:  0.6701361088871097\n",
            "recall min:  0.642512077294686\n",
            "f-measure max:  0.680628272251309\n",
            "f-measure min:  0.6530110610405573\n",
            "f-measure standard deviation:  0.008109515876183065\n",
            "f-measure standard variance:  6.576424774606519e-05\n"
          ]
        }
      ]
    },
    {
      "cell_type": "code",
      "metadata": {
        "colab": {
          "base_uri": "https://localhost:8080/"
        },
        "id": "C4uPKBz6GSaP",
        "outputId": "17f1c875-2650-49bf-eef2-a99caf020408"
      },
      "source": [
        "execute_cross_validation(rfc, XratingAvg)"
      ],
      "execution_count": null,
      "outputs": [
        {
          "name": "stdout",
          "output_type": "stream",
          "text": [
            "elapsed time:  0:01:51.384285\n",
            "Mean results\n",
            "Precision:  68.0  recall:  66.0  f-measure:  67.0\n",
            "Mean results\n",
            "Precision:  0.6772286905266964  recall:  0.6605130365951661  f-measure:  0.6705580702178935\n",
            "Precision max:  0.6995033112582781\n",
            "Precision min:  0.6588628762541806\n",
            "recall max:  0.6784249384741592\n",
            "recall min:  0.6493083807973963\n",
            "f-measure max:  0.682591093117409\n",
            "f-measure min:  0.6472327841149134\n",
            "f-measure standard deviation:  0.010661642383265531\n",
            "f-measure standard variance:  0.00011367061830864391\n"
          ]
        }
      ]
    },
    {
      "cell_type": "code",
      "metadata": {
        "colab": {
          "base_uri": "https://localhost:8080/"
        },
        "id": "-bll6ncMGYqH",
        "outputId": "a52eb21a-1e12-4863-d255-65a140360c5b"
      },
      "source": [
        "execute_cross_validation(rfc, X_text)"
      ],
      "execution_count": null,
      "outputs": [
        {
          "name": "stdout",
          "output_type": "stream",
          "text": [
            "elapsed time:  0:11:26.683945\n",
            "Mean results\n",
            "Precision:  60.0  recall:  63.0  f-measure:  61.0\n",
            "Mean results\n",
            "Precision:  0.5966440114775909  recall:  0.627865575364529  f-measure:  0.6064008699865822\n",
            "Precision max:  0.6205250596658711\n",
            "Precision min:  0.5790285273708559\n",
            "recall max:  0.6548956661316212\n",
            "recall min:  0.598546042003231\n",
            "f-measure max:  0.6212299255777517\n",
            "f-measure min:  0.5913461538461539\n",
            "f-measure standard deviation:  0.009433283761134417\n",
            "f-measure standard variance:  8.898684251808228e-05\n"
          ]
        }
      ]
    },
    {
      "cell_type": "code",
      "metadata": {
        "colab": {
          "base_uri": "https://localhost:8080/"
        },
        "id": "9_wQn8hjSjNl",
        "outputId": "b9f65667-f57b-427a-e81f-d3e2fd68c3a8"
      },
      "source": [
        "execute_cross_validation(rfc, Xtogether)"
      ],
      "execution_count": null,
      "outputs": [
        {
          "output_type": "stream",
          "name": "stdout",
          "text": [
            "elapsed time:  0:01:46.363967\n",
            "Mean results\n",
            "Precision:  67.0  recall:  65.0  f-measure:  66.0\n",
            "Mean results\n",
            "Precision:  0.6701171286581811  recall:  0.6463142050902356  f-measure:  0.6583926055027801\n",
            "Precision max:  0.6939115929941618\n",
            "Precision min:  0.6582827406764961\n",
            "recall max:  0.6658415841584159\n",
            "recall min:  0.6256077795786061\n",
            "f-measure max:  0.6677672307057368\n",
            "f-measure min:  0.6444351813255523\n",
            "f-measure standard deviation:  0.006565408347837455\n",
            "f-measure standard variance:  4.310458677385374e-05\n"
          ]
        }
      ]
    },
    {
      "cell_type": "code",
      "metadata": {
        "colab": {
          "base_uri": "https://localhost:8080/"
        },
        "id": "Bj2bXFxMSjv-",
        "outputId": "25b29213-8b4f-4d9e-bbd7-55a6be438f5f"
      },
      "source": [
        "execute_cross_validation(rfc, X_text_reputation)"
      ],
      "execution_count": null,
      "outputs": [
        {
          "name": "stdout",
          "output_type": "stream",
          "text": [
            "elapsed time:  0:11:42.812319\n",
            "Mean results\n",
            "Precision:  64.0  recall:  65.0  f-measure:  64.0\n",
            "Mean results\n",
            "Precision:  0.6385146251641503  recall:  0.6503749605644463  f-measure:  0.6424004996530523\n",
            "Precision max:  0.6666666666666666\n",
            "Precision min:  0.6162881754111198\n",
            "recall max:  0.6677471636952999\n",
            "recall min:  0.6328\n",
            "f-measure max:  0.6690476190476191\n",
            "f-measure min:  0.6269137792103142\n",
            "f-measure standard deviation:  0.010486519867033563\n",
            "f-measure standard variance:  0.00010996709892168962\n"
          ]
        }
      ]
    },
    {
      "cell_type": "code",
      "metadata": {
        "colab": {
          "base_uri": "https://localhost:8080/"
        },
        "id": "aILNrI4cSkGf",
        "outputId": "fc24d182-b7f7-446d-afc4-de66034cf264"
      },
      "source": [
        "execute_cross_validation(rfc, X_text_rating)"
      ],
      "execution_count": null,
      "outputs": [
        {
          "name": "stdout",
          "output_type": "stream",
          "text": [
            "elapsed time:  0:11:56.632061\n",
            "Mean results\n",
            "Precision:  67.0  recall:  68.0  f-measure:  68.0\n",
            "Mean results\n",
            "Precision:  0.6699415678591758  recall:  0.6760554397235672  f-measure:  0.6759334365551262\n",
            "Precision max:  0.6958234830575256\n",
            "Precision min:  0.6476510067114094\n",
            "recall max:  0.7069958847736626\n",
            "recall min:  0.6645914396887159\n",
            "f-measure max:  0.6942215088282504\n",
            "f-measure min:  0.6624843161856965\n",
            "f-measure standard deviation:  0.00806025261787116\n",
            "f-measure standard variance:  6.496767226389888e-05\n"
          ]
        }
      ]
    },
    {
      "cell_type": "code",
      "metadata": {
        "id": "UADWFvtuSkde"
      },
      "source": [
        "execute_cross_validation(rfc, X_text)"
      ],
      "execution_count": null,
      "outputs": []
    },
    {
      "cell_type": "code",
      "metadata": {
        "colab": {
          "base_uri": "https://localhost:8080/"
        },
        "id": "jjEUdVSLGBgT",
        "outputId": "e1815497-c716-41a7-9a40-e83dbe234676"
      },
      "source": [
        "execute_cross_validation(rfc, XWithoutDeveloperReputation)"
      ],
      "execution_count": null,
      "outputs": [
        {
          "output_type": "stream",
          "name": "stdout",
          "text": [
            "elapsed time:  0:01:21.908945\n",
            "Mean results\n",
            "Precision:  66.0  recall:  65.0  f-measure:  65.0\n",
            "Mean results\n",
            "Precision:  0.6564758739349859  recall:  0.6526833702674113  f-measure:  0.653599464868817\n",
            "Precision max:  0.6761904761904762\n",
            "Precision min:  0.6291338582677165\n",
            "recall max:  0.6738437001594896\n",
            "recall min:  0.6291497975708502\n",
            "f-measure max:  0.6680211296221048\n",
            "f-measure min:  0.6422093981863148\n",
            "f-measure standard deviation:  0.0077821305912216\n",
            "f-measure standard variance:  6.056155653882706e-05\n"
          ]
        }
      ]
    },
    {
      "cell_type": "code",
      "metadata": {
        "colab": {
          "base_uri": "https://localhost:8080/"
        },
        "id": "AgfU2pRRGKgk",
        "outputId": "4ffd1464-daaa-413d-e8c5-4cf27f1296c3"
      },
      "source": [
        "execute_cross_validation(rfc, XWithoutDeveloperRating)"
      ],
      "execution_count": null,
      "outputs": [
        {
          "output_type": "stream",
          "name": "stdout",
          "text": [
            "elapsed time:  0:01:13.931961\n",
            "Mean results\n",
            "Precision:  63.0  recall:  63.0  f-measure:  63.0\n",
            "Mean results\n",
            "Precision:  0.6343442767397968  recall:  0.6281967105111137  f-measure:  0.6333591857093883\n",
            "Precision max:  0.6612349914236707\n",
            "Precision min:  0.6146938775510205\n",
            "recall max:  0.6432160804020101\n",
            "recall min:  0.6098765432098765\n",
            "f-measure max:  0.6503164556962024\n",
            "f-measure min:  0.6119339822259838\n",
            "f-measure standard deviation:  0.01195265038481367\n",
            "f-measure standard variance:  0.00014286585122158635\n"
          ]
        }
      ]
    },
    {
      "cell_type": "markdown",
      "metadata": {
        "id": "EGzaIjqDAK0c"
      },
      "source": [
        "#SGD Classifier"
      ]
    },
    {
      "cell_type": "code",
      "metadata": {
        "id": "mTaSWkjsAOAa"
      },
      "source": [
        "#from sklearn import svm\n",
        "from sklearn.linear_model import SGDClassifier\n",
        "#from sklearn.svm import LinearSVC"
      ],
      "execution_count": null,
      "outputs": []
    },
    {
      "cell_type": "code",
      "metadata": {
        "id": "DTZgxBSlwvv4"
      },
      "source": [
        "#svmclf = svm.SVC(kernel='rbf', cache_size=1000)\n",
        "#svmclf = clf = LinearSVC(verbose=0)\n",
        "#svmclf = svm.SVC(C=1.0, kernel='linear', degree=3, gamma='auto')\n",
        "svmclf = SGDClassifier(loss='hinge', penalty='l2',alpha=1e-3, random_state=42, max_iter=100, tol=None) # max_iter estava igual a 5"
      ],
      "execution_count": null,
      "outputs": []
    },
    {
      "cell_type": "code",
      "metadata": {
        "colab": {
          "base_uri": "https://localhost:8080/"
        },
        "id": "svtY19yVeeh5",
        "outputId": "497dbd00-ba41-4c8e-aa4f-c0df07c4d099"
      },
      "source": [
        "execute_cross_validation(svmclf, Xnormal)"
      ],
      "execution_count": null,
      "outputs": [
        {
          "name": "stdout",
          "output_type": "stream",
          "text": [
            "elapsed time:  0:00:07.432469\n",
            "Mean results\n",
            "Precision:  50.0  recall:  64.0  f-measure:  51.0\n",
            "Mean results\n",
            "Precision:  0.5028247747334247  recall:  0.6351919252370342  f-measure:  0.5108270386768969\n",
            "Precision max:  0.530835734870317\n",
            "Precision min:  0.4634721131186174\n",
            "recall max:  0.9975942261427426\n",
            "recall min:  0.2703826955074875\n",
            "f-measure max:  0.6634172759274304\n",
            "f-measure min:  0.0\n",
            "f-measure standard deviation:  0.18146193886737866\n",
            "f-measure standard variance:  0.03292843525750827\n"
          ]
        }
      ]
    },
    {
      "cell_type": "code",
      "metadata": {
        "colab": {
          "base_uri": "https://localhost:8080/"
        },
        "id": "eKUUyfQwzVgF",
        "outputId": "89fa2126-7fd2-4bb6-b8ac-7aa952d3275b"
      },
      "source": [
        "execute_cross_validation(svmclf, Xreporter_reputation)"
      ],
      "execution_count": null,
      "outputs": [
        {
          "name": "stdout",
          "output_type": "stream",
          "text": [
            "elapsed time:  0:00:07.545437\n",
            "Mean results\n",
            "Precision:  50.0  recall:  55.00000000000001  f-measure:  53.0\n",
            "Mean results\n",
            "Precision:  0.4988503108443287  recall:  0.5474501362922005  f-measure:  0.5280034368673165\n",
            "Precision max:  0.5271444082519001\n",
            "Precision min:  0.4296577946768061\n",
            "recall max:  0.9991961414790996\n",
            "recall min:  0.0\n",
            "f-measure max:  0.673469387755102\n",
            "f-measure min:  0.3857142857142857\n",
            "f-measure standard deviation:  0.11320058216810544\n",
            "f-measure standard variance:  0.01281437180319799\n"
          ]
        }
      ]
    },
    {
      "cell_type": "code",
      "metadata": {
        "colab": {
          "base_uri": "https://localhost:8080/"
        },
        "id": "aHhQ68VJzY-L",
        "outputId": "e78f653d-cc00-4faa-879f-2fda26a697c3"
      },
      "source": [
        "execute_cross_validation(svmclf, Xdeveloper_reputation)"
      ],
      "execution_count": null,
      "outputs": [
        {
          "name": "stdout",
          "output_type": "stream",
          "text": [
            "elapsed time:  0:00:07.621287\n",
            "Mean results\n",
            "Precision:  49.0  recall:  54.0  f-measure:  51.0\n",
            "Mean results\n",
            "Precision:  0.49411997772092536  recall:  0.5383938902156621  f-measure:  0.5065297019608693\n",
            "Precision max:  0.5385647216633133\n",
            "Precision min:  0.45074946466809424\n",
            "recall max:  0.7979397781299524\n",
            "recall min:  0.1381306865177833\n",
            "f-measure max:  0.6646475770925111\n",
            "f-measure min:  0.2665876777251185\n",
            "f-measure standard deviation:  0.1545064237103028\n",
            "f-measure standard variance:  0.023872234967747617\n"
          ]
        }
      ]
    },
    {
      "cell_type": "code",
      "metadata": {
        "colab": {
          "base_uri": "https://localhost:8080/"
        },
        "id": "5JNZladTv2PV",
        "outputId": "a9636178-4280-4bc3-b295-a72c4617a59d"
      },
      "source": [
        "execute_cross_validation(svmclf, Xreputation)"
      ],
      "execution_count": null,
      "outputs": [
        {
          "name": "stdout",
          "output_type": "stream",
          "text": [
            "elapsed time:  0:00:07.974116\n",
            "Mean results\n",
            "Precision:  50.0  recall:  61.0  f-measure:  55.00000000000001\n",
            "Mean results\n",
            "Precision:  0.5022405833028839  recall:  0.6058815378526332  f-measure:  0.5497843310243009\n",
            "Precision max:  0.5412107950401167\n",
            "Precision min:  0.4471445929526124\n",
            "recall max:  0.9917965545529123\n",
            "recall min:  0.0\n",
            "f-measure max:  0.655719759168035\n",
            "f-measure min:  0.36415908001916625\n",
            "f-measure standard deviation:  0.07697135745364683\n",
            "f-measure standard variance:  0.005924589868257073\n"
          ]
        }
      ]
    },
    {
      "cell_type": "code",
      "metadata": {
        "colab": {
          "base_uri": "https://localhost:8080/"
        },
        "id": "tSu8p6Prv6nw",
        "outputId": "03af18a3-f9cd-4beb-e636-5782dbc9f580"
      },
      "source": [
        "execute_cross_validation(svmclf, Xreporter_rating)"
      ],
      "execution_count": null,
      "outputs": [
        {
          "name": "stdout",
          "output_type": "stream",
          "text": [
            "elapsed time:  0:00:07.610379\n",
            "Mean results\n",
            "Precision:  53.0  recall:  74.0  f-measure:  60.0\n",
            "Mean results\n",
            "Precision:  0.5285264813114262  recall:  0.7449176617476757  f-measure:  0.5996063289090434\n",
            "Precision max:  0.7777777777777778\n",
            "Precision min:  0.48017148981779206\n",
            "recall max:  0.9992119779353822\n",
            "recall min:  0.4602649006622517\n",
            "f-measure max:  0.6789628441593157\n",
            "f-measure min:  0.3234624145785877\n",
            "f-measure standard deviation:  0.10180439280958195\n",
            "f-measure standard variance:  0.01036413439532766\n"
          ]
        }
      ]
    },
    {
      "cell_type": "code",
      "metadata": {
        "colab": {
          "base_uri": "https://localhost:8080/"
        },
        "id": "6igtfniNjsEb",
        "outputId": "5501bcf7-97db-4259-cfdc-3062fc138866"
      },
      "source": [
        "execute_cross_validation(svmclf, Xdeveloper_rating)"
      ],
      "execution_count": null,
      "outputs": [
        {
          "name": "stdout",
          "output_type": "stream",
          "text": [
            "elapsed time:  0:00:07.610265\n",
            "Mean results\n",
            "Precision:  52.0  recall:  71.0  f-measure:  52.0\n",
            "Mean results\n",
            "Precision:  0.5182216097077272  recall:  0.7119710556770171  f-measure:  0.5225530008274744\n",
            "Precision max:  0.565359477124183\n",
            "Precision min:  0.4656188605108055\n",
            "recall max:  0.9983818770226537\n",
            "recall min:  0.29576338928856916\n",
            "f-measure max:  0.65798947659928\n",
            "f-measure min:  0.325077399380805\n",
            "f-measure standard deviation:  0.09517081581587372\n",
            "f-measure standard variance:  0.00905748418305896\n"
          ]
        }
      ]
    },
    {
      "cell_type": "code",
      "metadata": {
        "colab": {
          "base_uri": "https://localhost:8080/"
        },
        "id": "4ywpRmQQw_VU",
        "outputId": "12689f0c-d83e-4267-930d-62c001f2c961"
      },
      "source": [
        "execute_cross_validation(svmclf, Xrating)"
      ],
      "execution_count": null,
      "outputs": [
        {
          "name": "stderr",
          "output_type": "stream",
          "text": [
            "/usr/local/lib/python3.7/dist-packages/sklearn/metrics/_classification.py:1308: UndefinedMetricWarning: Precision is ill-defined and being set to 0.0 due to no predicted samples. Use `zero_division` parameter to control this behavior.\n",
            "  _warn_prf(average, modifier, msg_start, len(result))\n"
          ]
        },
        {
          "name": "stdout",
          "output_type": "stream",
          "text": [
            "elapsed time:  0:00:08.005641\n",
            "Mean results\n",
            "Precision:  46.0  recall:  59.0  f-measure:  44.0\n",
            "Mean results\n",
            "Precision:  0.46305652175425377  recall:  0.5865641590576413  f-measure:  0.4351248568355617\n",
            "Precision max:  0.552865213882163\n",
            "Precision min:  0.0\n",
            "recall max:  0.9009819967266776\n",
            "recall min:  0.2532258064516129\n",
            "f-measure max:  0.667807242657542\n",
            "f-measure min:  0.04592240696753761\n",
            "f-measure standard deviation:  0.1764879222135091\n",
            "f-measure standard variance:  0.031147986687241634\n"
          ]
        }
      ]
    },
    {
      "cell_type": "code",
      "metadata": {
        "colab": {
          "base_uri": "https://localhost:8080/"
        },
        "id": "ueZWTjLyJplW",
        "outputId": "0e486d2f-b909-49be-83da-c1a768d601db"
      },
      "source": [
        "execute_cross_validation(svmclf, XAtachment)"
      ],
      "execution_count": null,
      "outputs": [
        {
          "name": "stdout",
          "output_type": "stream",
          "text": [
            "elapsed time:  0:00:07.669001\n",
            "Mean results\n",
            "Precision:  49.0  recall:  60.0  f-measure:  51.0\n",
            "Mean results\n",
            "Precision:  0.49373167782852906  recall:  0.600019319682475  f-measure:  0.5070606137650396\n",
            "Precision max:  0.5352190793122573\n",
            "Precision min:  0.4326923076923077\n",
            "recall max:  0.8435980551053485\n",
            "recall min:  0.3189935064935065\n",
            "f-measure max:  0.6161521671343936\n",
            "f-measure min:  0.29321663019693656\n",
            "f-measure standard deviation:  0.10111356478608287\n",
            "f-measure standard variance:  0.010223952983749379\n"
          ]
        }
      ]
    },
    {
      "cell_type": "code",
      "metadata": {
        "colab": {
          "base_uri": "https://localhost:8080/"
        },
        "id": "K8ac4FiDJrdI",
        "outputId": "5ee77ba1-105c-41f3-cc4e-624ad14b2bfd"
      },
      "source": [
        "execute_cross_validation(svmclf, XCC)"
      ],
      "execution_count": null,
      "outputs": [
        {
          "name": "stdout",
          "output_type": "stream",
          "text": [
            "elapsed time:  0:00:07.657106\n",
            "Mean results\n",
            "Precision:  50.0  recall:  69.0  f-measure:  48.0\n",
            "Mean results\n",
            "Precision:  0.49712667127996896  recall:  0.6912655401050827  f-measure:  0.48114176417059545\n",
            "Precision max:  0.5542264752791068\n",
            "Precision min:  0.46113445378151263\n",
            "recall max:  0.9927477840451249\n",
            "recall min:  0.29\n",
            "f-measure max:  0.6520022560631697\n",
            "f-measure min:  0.06337509211495947\n",
            "f-measure standard deviation:  0.16110746275963278\n",
            "f-measure standard variance:  0.025955614556846467\n"
          ]
        }
      ]
    },
    {
      "cell_type": "code",
      "metadata": {
        "colab": {
          "base_uri": "https://localhost:8080/"
        },
        "id": "XPlR2D70TRqY",
        "outputId": "29b80681-b26d-4899-c1a2-7f83337bfbf7"
      },
      "source": [
        "execute_cross_validation(svmclf, XratingAvg)"
      ],
      "execution_count": null,
      "outputs": [
        {
          "name": "stdout",
          "output_type": "stream",
          "text": [
            "elapsed time:  0:00:07.972887\n",
            "Mean results\n",
            "Precision:  50.0  recall:  51.0  f-measure:  53.0\n",
            "Mean results\n",
            "Precision:  0.5043145318469676  recall:  0.5085468093645465  f-measure:  0.5269251334721047\n",
            "Precision max:  0.5632183908045977\n",
            "Precision min:  0.4485407066052227\n",
            "recall max:  0.9614438063986874\n",
            "recall min:  0.0\n",
            "f-measure max:  0.658887381275441\n",
            "f-measure min:  0.012738853503184712\n",
            "f-measure standard deviation:  0.18264454414472897\n",
            "f-measure standard variance:  0.03335902950583585\n"
          ]
        }
      ]
    },
    {
      "cell_type": "code",
      "metadata": {
        "colab": {
          "base_uri": "https://localhost:8080/"
        },
        "id": "ZieFwGk1TRyX",
        "outputId": "8bdf2313-d6a2-4b3e-f752-a28f2de9a358"
      },
      "source": [
        "execute_cross_validation(svmclf, X_text)"
      ],
      "execution_count": null,
      "outputs": [
        {
          "name": "stdout",
          "output_type": "stream",
          "text": [
            "elapsed time:  0:04:09.377990\n",
            "Mean results\n",
            "Precision:  57.99999999999999  recall:  66.0  f-measure:  62.0\n",
            "Mean results\n",
            "Precision:  0.579747231712817  recall:  0.6609771098029216  f-measure:  0.6156892871693482\n",
            "Precision max:  0.6002824858757062\n",
            "Precision min:  0.5554765291607396\n",
            "recall max:  0.7048242027800491\n",
            "recall min:  0.6184519155590305\n",
            "f-measure max:  0.6296018031555223\n",
            "f-measure min:  0.6044207317073171\n",
            "f-measure standard deviation:  0.008274469789796452\n",
            "f-measure standard variance:  6.846685030225414e-05\n"
          ]
        }
      ]
    },
    {
      "cell_type": "code",
      "metadata": {
        "colab": {
          "base_uri": "https://localhost:8080/"
        },
        "id": "NbWrUuMVTR6k",
        "outputId": "c9a11474-2ef8-4aed-ae18-4d932cd13aa3"
      },
      "source": [
        "execute_cross_validation(svmclf, Xtogether)"
      ],
      "execution_count": null,
      "outputs": [
        {
          "output_type": "stream",
          "name": "stderr",
          "text": [
            "/usr/local/lib/python3.7/dist-packages/sklearn/metrics/_classification.py:1308: UndefinedMetricWarning: Precision is ill-defined and being set to 0.0 due to no predicted samples. Use `zero_division` parameter to control this behavior.\n",
            "  _warn_prf(average, modifier, msg_start, len(result))\n"
          ]
        },
        {
          "output_type": "stream",
          "name": "stdout",
          "text": [
            "elapsed time:  0:00:08.092483\n",
            "Mean results\n",
            "Precision:  46.0  recall:  53.0  f-measure:  48.0\n",
            "Mean results\n",
            "Precision:  0.45686324941058  recall:  0.5342411208855331  f-measure:  0.478296193285568\n",
            "Precision max:  0.5746730901582932\n",
            "Precision min:  0.0\n",
            "recall max:  1.0\n",
            "recall min:  0.13640032284100082\n",
            "f-measure max:  0.59375\n",
            "f-measure min:  0.23951367781155014\n",
            "f-measure standard deviation:  0.11490012146917106\n",
            "f-measure standard variance:  0.013202037913630263\n"
          ]
        }
      ]
    },
    {
      "cell_type": "code",
      "metadata": {
        "colab": {
          "base_uri": "https://localhost:8080/"
        },
        "id": "eWYQwh_ymQUY",
        "outputId": "9edbef95-65ca-4779-e842-c7f2c882996a"
      },
      "source": [
        "execute_cross_validation(svmclf, XtogetherReporter)"
      ],
      "execution_count": null,
      "outputs": [
        {
          "output_type": "stream",
          "name": "stderr",
          "text": [
            "/usr/local/lib/python3.7/dist-packages/sklearn/metrics/_classification.py:1308: UndefinedMetricWarning: Precision is ill-defined and being set to 0.0 due to no predicted samples. Use `zero_division` parameter to control this behavior.\n",
            "  _warn_prf(average, modifier, msg_start, len(result))\n"
          ]
        },
        {
          "output_type": "stream",
          "name": "stdout",
          "text": [
            "elapsed time:  0:00:07.608865\n",
            "Mean results\n",
            "Precision:  46.0  recall:  39.0  f-measure:  47.0\n",
            "Mean results\n",
            "Precision:  0.4563463106993854  recall:  0.3862054347090044  f-measure:  0.46631216974372236\n",
            "Precision max:  0.5532102022867195\n",
            "Precision min:  0.0\n",
            "recall max:  0.7841444270015698\n",
            "recall min:  0.0\n",
            "f-measure max:  0.6513979773944081\n",
            "f-measure min:  0.33962264150943394\n",
            "f-measure standard deviation:  0.10103977441655641\n",
            "f-measure standard variance:  0.010209036014148607\n"
          ]
        }
      ]
    },
    {
      "cell_type": "code",
      "metadata": {
        "colab": {
          "base_uri": "https://localhost:8080/"
        },
        "id": "FSjqo9w4mUcn",
        "outputId": "704c0bd9-85b5-428a-f4e5-60ac88de07c4"
      },
      "source": [
        "execute_cross_validation(svmclf, XtogetherDeveloper)"
      ],
      "execution_count": null,
      "outputs": [
        {
          "output_type": "stream",
          "name": "stdout",
          "text": [
            "elapsed time:  0:00:07.545463\n",
            "Mean results\n",
            "Precision:  53.0  recall:  74.0  f-measure:  44.0\n",
            "Mean results\n",
            "Precision:  0.5278180368983995  recall:  0.7402205372554975  f-measure:  0.4418675708018445\n",
            "Precision max:  0.5616554054054054\n",
            "Precision min:  0.48461926374180536\n",
            "recall max:  0.9991809991809992\n",
            "recall min:  0.46411483253588515\n",
            "f-measure max:  0.6776636019469984\n",
            "f-measure min:  0.028309741881765195\n",
            "f-measure standard deviation:  0.18212476643021291\n",
            "f-measure standard variance:  0.033169430547259605\n"
          ]
        }
      ]
    },
    {
      "cell_type": "code",
      "metadata": {
        "colab": {
          "base_uri": "https://localhost:8080/"
        },
        "id": "6WjJDb3aTSCX",
        "outputId": "16dc6558-a686-4b3c-8248-78c1b497b30d"
      },
      "source": [
        "execute_cross_validation(svmclf, X_text_reputation)"
      ],
      "execution_count": null,
      "outputs": [
        {
          "name": "stderr",
          "output_type": "stream",
          "text": [
            "/usr/local/lib/python3.7/dist-packages/sklearn/metrics/_classification.py:1308: UndefinedMetricWarning: Precision is ill-defined and being set to 0.0 due to no predicted samples. Use `zero_division` parameter to control this behavior.\n",
            "  _warn_prf(average, modifier, msg_start, len(result))\n",
            "/usr/local/lib/python3.7/dist-packages/sklearn/metrics/_classification.py:1308: UndefinedMetricWarning: Precision is ill-defined and being set to 0.0 due to no predicted samples. Use `zero_division` parameter to control this behavior.\n",
            "  _warn_prf(average, modifier, msg_start, len(result))\n",
            "/usr/local/lib/python3.7/dist-packages/sklearn/metrics/_classification.py:1308: UndefinedMetricWarning: Precision is ill-defined and being set to 0.0 due to no predicted samples. Use `zero_division` parameter to control this behavior.\n",
            "  _warn_prf(average, modifier, msg_start, len(result))\n"
          ]
        },
        {
          "name": "stdout",
          "output_type": "stream",
          "text": [
            "elapsed time:  0:03:27.199535\n",
            "Mean results\n",
            "Precision:  35.0  recall:  52.0  f-measure:  56.99999999999999\n",
            "Mean results\n",
            "Precision:  0.35344930523478035  recall:  0.524119990499859  f-measure:  0.5657955956943798\n",
            "Precision max:  0.5682281059063137\n",
            "Precision min:  0.0\n",
            "recall max:  1.0\n",
            "recall min:  0.21570247933884298\n",
            "f-measure max:  0.6824846707544655\n",
            "f-measure min:  0.38548057259713703\n",
            "f-measure standard deviation:  0.09460789865706919\n",
            "f-measure standard variance:  0.008950654488306273\n"
          ]
        }
      ]
    },
    {
      "cell_type": "code",
      "metadata": {
        "colab": {
          "base_uri": "https://localhost:8080/"
        },
        "id": "aFYT8uJhTSKj",
        "outputId": "0fe11262-df12-4b2f-d62e-795a33d614ef"
      },
      "source": [
        "execute_cross_validation(svmclf, X_text_rating)"
      ],
      "execution_count": null,
      "outputs": [
        {
          "name": "stderr",
          "output_type": "stream",
          "text": [
            "/usr/local/lib/python3.7/dist-packages/sklearn/metrics/_classification.py:1308: UndefinedMetricWarning: Precision is ill-defined and being set to 0.0 due to no predicted samples. Use `zero_division` parameter to control this behavior.\n",
            "  _warn_prf(average, modifier, msg_start, len(result))\n"
          ]
        },
        {
          "name": "stdout",
          "output_type": "stream",
          "text": [
            "elapsed time:  0:03:26.791933\n",
            "Mean results\n",
            "Precision:  47.0  recall:  48.0  f-measure:  39.0\n",
            "Mean results\n",
            "Precision:  0.4703260297769571  recall:  0.48070498372186865  f-measure:  0.38710009248703886\n",
            "Precision max:  0.6666666666666666\n",
            "Precision min:  0.0\n",
            "recall max:  0.9488188976377953\n",
            "recall min:  0.04777070063694268\n",
            "f-measure max:  0.5424091233071988\n",
            "f-measure min:  0.02618657937806874\n",
            "f-measure standard deviation:  0.17013051018450173\n",
            "f-measure standard variance:  0.02894439049563885\n"
          ]
        }
      ]
    },
    {
      "cell_type": "code",
      "metadata": {
        "id": "fB5BGwTMTSSY"
      },
      "source": [
        ""
      ],
      "execution_count": null,
      "outputs": []
    },
    {
      "cell_type": "code",
      "metadata": {
        "id": "UMHBNV1_TSZ_"
      },
      "source": [
        ""
      ],
      "execution_count": null,
      "outputs": []
    },
    {
      "cell_type": "markdown",
      "metadata": {
        "id": "8rhPyjr8BFj7"
      },
      "source": [
        "#SVM  Linear SVC"
      ]
    },
    {
      "cell_type": "code",
      "metadata": {
        "id": "27UUcHEbBFj8"
      },
      "source": [
        "from sklearn.svm import LinearSVC"
      ],
      "execution_count": null,
      "outputs": []
    },
    {
      "cell_type": "code",
      "metadata": {
        "id": "MfODFJvaBFj8"
      },
      "source": [
        "svmLinear = clf = LinearSVC(verbose=0, max_iter=10000) #estava max_ite=5"
      ],
      "execution_count": null,
      "outputs": []
    },
    {
      "cell_type": "code",
      "metadata": {
        "colab": {
          "base_uri": "https://localhost:8080/"
        },
        "id": "u_cRFQKwBFj9",
        "outputId": "d286044d-d696-4fbe-9744-36762f98a0a4"
      },
      "source": [
        "execute_cross_validation(svmLinear, Xnormal)"
      ],
      "execution_count": null,
      "outputs": [
        {
          "name": "stderr",
          "output_type": "stream",
          "text": [
            "/usr/local/lib/python3.7/dist-packages/sklearn/svm/_base.py:1208: ConvergenceWarning: Liblinear failed to converge, increase the number of iterations.\n",
            "  ConvergenceWarning,\n",
            "/usr/local/lib/python3.7/dist-packages/sklearn/svm/_base.py:1208: ConvergenceWarning: Liblinear failed to converge, increase the number of iterations.\n",
            "  ConvergenceWarning,\n",
            "/usr/local/lib/python3.7/dist-packages/sklearn/svm/_base.py:1208: ConvergenceWarning: Liblinear failed to converge, increase the number of iterations.\n",
            "  ConvergenceWarning,\n",
            "/usr/local/lib/python3.7/dist-packages/sklearn/svm/_base.py:1208: ConvergenceWarning: Liblinear failed to converge, increase the number of iterations.\n",
            "  ConvergenceWarning,\n",
            "/usr/local/lib/python3.7/dist-packages/sklearn/svm/_base.py:1208: ConvergenceWarning: Liblinear failed to converge, increase the number of iterations.\n",
            "  ConvergenceWarning,\n",
            "/usr/local/lib/python3.7/dist-packages/sklearn/svm/_base.py:1208: ConvergenceWarning: Liblinear failed to converge, increase the number of iterations.\n",
            "  ConvergenceWarning,\n"
          ]
        },
        {
          "name": "stdout",
          "output_type": "stream",
          "text": [
            "elapsed time:  0:08:41.997675\n",
            "Mean results\n",
            "Precision:  44.0  recall:  56.99999999999999  f-measure:  40.0\n",
            "Mean results\n",
            "Precision:  0.4424269304113239  recall:  0.5687927690262966  f-measure:  0.39697739656969705\n",
            "Precision max:  0.5637393767705382\n",
            "Precision min:  0.0\n",
            "recall max:  1.0\n",
            "recall min:  0.02481389578163772\n",
            "f-measure max:  0.6770219603642207\n",
            "f-measure min:  0.00990916597853014\n",
            "f-measure standard deviation:  0.2231491260075944\n",
            "f-measure standard variance:  0.04979553243795325\n"
          ]
        },
        {
          "name": "stderr",
          "output_type": "stream",
          "text": [
            "/usr/local/lib/python3.7/dist-packages/sklearn/svm/_base.py:1208: ConvergenceWarning: Liblinear failed to converge, increase the number of iterations.\n",
            "  ConvergenceWarning,\n"
          ]
        }
      ]
    },
    {
      "cell_type": "code",
      "metadata": {
        "colab": {
          "base_uri": "https://localhost:8080/"
        },
        "id": "EHgLA0wvzmjO",
        "outputId": "d3d1e907-e8ca-435d-d680-bcc0fcb2760b"
      },
      "source": [
        "execute_cross_validation(svmLinear, Xreporter_reputation)"
      ],
      "execution_count": null,
      "outputs": [
        {
          "name": "stderr",
          "output_type": "stream",
          "text": [
            "/usr/local/lib/python3.7/dist-packages/sklearn/svm/_base.py:1208: ConvergenceWarning: Liblinear failed to converge, increase the number of iterations.\n",
            "  ConvergenceWarning,\n",
            "/usr/local/lib/python3.7/dist-packages/sklearn/metrics/_classification.py:1308: UndefinedMetricWarning: Precision is ill-defined and being set to 0.0 due to no predicted samples. Use `zero_division` parameter to control this behavior.\n",
            "  _warn_prf(average, modifier, msg_start, len(result))\n",
            "/usr/local/lib/python3.7/dist-packages/sklearn/svm/_base.py:1208: ConvergenceWarning: Liblinear failed to converge, increase the number of iterations.\n",
            "  ConvergenceWarning,\n",
            "/usr/local/lib/python3.7/dist-packages/sklearn/svm/_base.py:1208: ConvergenceWarning: Liblinear failed to converge, increase the number of iterations.\n",
            "  ConvergenceWarning,\n",
            "/usr/local/lib/python3.7/dist-packages/sklearn/svm/_base.py:1208: ConvergenceWarning: Liblinear failed to converge, increase the number of iterations.\n",
            "  ConvergenceWarning,\n",
            "/usr/local/lib/python3.7/dist-packages/sklearn/svm/_base.py:1208: ConvergenceWarning: Liblinear failed to converge, increase the number of iterations.\n",
            "  ConvergenceWarning,\n",
            "/usr/local/lib/python3.7/dist-packages/sklearn/svm/_base.py:1208: ConvergenceWarning: Liblinear failed to converge, increase the number of iterations.\n",
            "  ConvergenceWarning,\n",
            "/usr/local/lib/python3.7/dist-packages/sklearn/svm/_base.py:1208: ConvergenceWarning: Liblinear failed to converge, increase the number of iterations.\n",
            "  ConvergenceWarning,\n",
            "/usr/local/lib/python3.7/dist-packages/sklearn/svm/_base.py:1208: ConvergenceWarning: Liblinear failed to converge, increase the number of iterations.\n",
            "  ConvergenceWarning,\n",
            "/usr/local/lib/python3.7/dist-packages/sklearn/svm/_base.py:1208: ConvergenceWarning: Liblinear failed to converge, increase the number of iterations.\n",
            "  ConvergenceWarning,\n",
            "/usr/local/lib/python3.7/dist-packages/sklearn/metrics/_classification.py:1308: UndefinedMetricWarning: Precision is ill-defined and being set to 0.0 due to no predicted samples. Use `zero_division` parameter to control this behavior.\n",
            "  _warn_prf(average, modifier, msg_start, len(result))\n",
            "/usr/local/lib/python3.7/dist-packages/sklearn/svm/_base.py:1208: ConvergenceWarning: Liblinear failed to converge, increase the number of iterations.\n",
            "  ConvergenceWarning,\n",
            "/usr/local/lib/python3.7/dist-packages/sklearn/svm/_base.py:1208: ConvergenceWarning: Liblinear failed to converge, increase the number of iterations.\n",
            "  ConvergenceWarning,\n",
            "/usr/local/lib/python3.7/dist-packages/sklearn/svm/_base.py:1208: ConvergenceWarning: Liblinear failed to converge, increase the number of iterations.\n",
            "  ConvergenceWarning,\n",
            "/usr/local/lib/python3.7/dist-packages/sklearn/svm/_base.py:1208: ConvergenceWarning: Liblinear failed to converge, increase the number of iterations.\n",
            "  ConvergenceWarning,\n",
            "/usr/local/lib/python3.7/dist-packages/sklearn/svm/_base.py:1208: ConvergenceWarning: Liblinear failed to converge, increase the number of iterations.\n",
            "  ConvergenceWarning,\n",
            "/usr/local/lib/python3.7/dist-packages/sklearn/svm/_base.py:1208: ConvergenceWarning: Liblinear failed to converge, increase the number of iterations.\n",
            "  ConvergenceWarning,\n",
            "/usr/local/lib/python3.7/dist-packages/sklearn/svm/_base.py:1208: ConvergenceWarning: Liblinear failed to converge, increase the number of iterations.\n",
            "  ConvergenceWarning,\n",
            "/usr/local/lib/python3.7/dist-packages/sklearn/svm/_base.py:1208: ConvergenceWarning: Liblinear failed to converge, increase the number of iterations.\n",
            "  ConvergenceWarning,\n",
            "/usr/local/lib/python3.7/dist-packages/sklearn/svm/_base.py:1208: ConvergenceWarning: Liblinear failed to converge, increase the number of iterations.\n",
            "  ConvergenceWarning,\n",
            "/usr/local/lib/python3.7/dist-packages/sklearn/svm/_base.py:1208: ConvergenceWarning: Liblinear failed to converge, increase the number of iterations.\n",
            "  ConvergenceWarning,\n",
            "/usr/local/lib/python3.7/dist-packages/sklearn/svm/_base.py:1208: ConvergenceWarning: Liblinear failed to converge, increase the number of iterations.\n",
            "  ConvergenceWarning,\n",
            "/usr/local/lib/python3.7/dist-packages/sklearn/svm/_base.py:1208: ConvergenceWarning: Liblinear failed to converge, increase the number of iterations.\n",
            "  ConvergenceWarning,\n",
            "/usr/local/lib/python3.7/dist-packages/sklearn/svm/_base.py:1208: ConvergenceWarning: Liblinear failed to converge, increase the number of iterations.\n",
            "  ConvergenceWarning,\n",
            "/usr/local/lib/python3.7/dist-packages/sklearn/svm/_base.py:1208: ConvergenceWarning: Liblinear failed to converge, increase the number of iterations.\n",
            "  ConvergenceWarning,\n",
            "/usr/local/lib/python3.7/dist-packages/sklearn/svm/_base.py:1208: ConvergenceWarning: Liblinear failed to converge, increase the number of iterations.\n",
            "  ConvergenceWarning,\n",
            "/usr/local/lib/python3.7/dist-packages/sklearn/svm/_base.py:1208: ConvergenceWarning: Liblinear failed to converge, increase the number of iterations.\n",
            "  ConvergenceWarning,\n",
            "/usr/local/lib/python3.7/dist-packages/sklearn/svm/_base.py:1208: ConvergenceWarning: Liblinear failed to converge, increase the number of iterations.\n",
            "  ConvergenceWarning,\n",
            "/usr/local/lib/python3.7/dist-packages/sklearn/svm/_base.py:1208: ConvergenceWarning: Liblinear failed to converge, increase the number of iterations.\n",
            "  ConvergenceWarning,\n",
            "/usr/local/lib/python3.7/dist-packages/sklearn/svm/_base.py:1208: ConvergenceWarning: Liblinear failed to converge, increase the number of iterations.\n",
            "  ConvergenceWarning,\n",
            "/usr/local/lib/python3.7/dist-packages/sklearn/svm/_base.py:1208: ConvergenceWarning: Liblinear failed to converge, increase the number of iterations.\n",
            "  ConvergenceWarning,\n"
          ]
        },
        {
          "name": "stdout",
          "output_type": "stream",
          "text": [
            "elapsed time:  0:09:21.169724\n",
            "Mean results\n",
            "Precision:  42.0  recall:  69.0  f-measure:  39.0\n",
            "Mean results\n",
            "Precision:  0.4231668558348519  recall:  0.6908899476805941  f-measure:  0.39064982310110674\n",
            "Precision max:  0.6666666666666666\n",
            "Precision min:  0.0\n",
            "recall max:  1.0\n",
            "recall min:  0.0\n",
            "f-measure max:  0.6632404652420882\n",
            "f-measure min:  0.0\n",
            "f-measure standard deviation:  0.2268834931968299\n",
            "f-measure standard variance:  0.05147611948519597\n"
          ]
        },
        {
          "name": "stderr",
          "output_type": "stream",
          "text": [
            "/usr/local/lib/python3.7/dist-packages/sklearn/svm/_base.py:1208: ConvergenceWarning: Liblinear failed to converge, increase the number of iterations.\n",
            "  ConvergenceWarning,\n"
          ]
        }
      ]
    },
    {
      "cell_type": "code",
      "metadata": {
        "colab": {
          "base_uri": "https://localhost:8080/"
        },
        "id": "0J5cOw2qzoql",
        "outputId": "fd70b156-f42e-48ad-c812-0d999f822733"
      },
      "source": [
        "execute_cross_validation(svmLinear, Xdeveloper_reputation)"
      ],
      "execution_count": null,
      "outputs": [
        {
          "name": "stderr",
          "output_type": "stream",
          "text": [
            "/usr/local/lib/python3.7/dist-packages/sklearn/svm/_base.py:1208: ConvergenceWarning: Liblinear failed to converge, increase the number of iterations.\n",
            "  ConvergenceWarning,\n",
            "/usr/local/lib/python3.7/dist-packages/sklearn/svm/_base.py:1208: ConvergenceWarning: Liblinear failed to converge, increase the number of iterations.\n",
            "  ConvergenceWarning,\n",
            "/usr/local/lib/python3.7/dist-packages/sklearn/svm/_base.py:1208: ConvergenceWarning: Liblinear failed to converge, increase the number of iterations.\n",
            "  ConvergenceWarning,\n",
            "/usr/local/lib/python3.7/dist-packages/sklearn/svm/_base.py:1208: ConvergenceWarning: Liblinear failed to converge, increase the number of iterations.\n",
            "  ConvergenceWarning,\n",
            "/usr/local/lib/python3.7/dist-packages/sklearn/svm/_base.py:1208: ConvergenceWarning: Liblinear failed to converge, increase the number of iterations.\n",
            "  ConvergenceWarning,\n",
            "/usr/local/lib/python3.7/dist-packages/sklearn/svm/_base.py:1208: ConvergenceWarning: Liblinear failed to converge, increase the number of iterations.\n",
            "  ConvergenceWarning,\n",
            "/usr/local/lib/python3.7/dist-packages/sklearn/metrics/_classification.py:1308: UndefinedMetricWarning: Precision is ill-defined and being set to 0.0 due to no predicted samples. Use `zero_division` parameter to control this behavior.\n",
            "  _warn_prf(average, modifier, msg_start, len(result))\n",
            "/usr/local/lib/python3.7/dist-packages/sklearn/svm/_base.py:1208: ConvergenceWarning: Liblinear failed to converge, increase the number of iterations.\n",
            "  ConvergenceWarning,\n",
            "/usr/local/lib/python3.7/dist-packages/sklearn/svm/_base.py:1208: ConvergenceWarning: Liblinear failed to converge, increase the number of iterations.\n",
            "  ConvergenceWarning,\n",
            "/usr/local/lib/python3.7/dist-packages/sklearn/svm/_base.py:1208: ConvergenceWarning: Liblinear failed to converge, increase the number of iterations.\n",
            "  ConvergenceWarning,\n",
            "/usr/local/lib/python3.7/dist-packages/sklearn/svm/_base.py:1208: ConvergenceWarning: Liblinear failed to converge, increase the number of iterations.\n",
            "  ConvergenceWarning,\n",
            "/usr/local/lib/python3.7/dist-packages/sklearn/svm/_base.py:1208: ConvergenceWarning: Liblinear failed to converge, increase the number of iterations.\n",
            "  ConvergenceWarning,\n",
            "/usr/local/lib/python3.7/dist-packages/sklearn/svm/_base.py:1208: ConvergenceWarning: Liblinear failed to converge, increase the number of iterations.\n",
            "  ConvergenceWarning,\n",
            "/usr/local/lib/python3.7/dist-packages/sklearn/svm/_base.py:1208: ConvergenceWarning: Liblinear failed to converge, increase the number of iterations.\n",
            "  ConvergenceWarning,\n",
            "/usr/local/lib/python3.7/dist-packages/sklearn/svm/_base.py:1208: ConvergenceWarning: Liblinear failed to converge, increase the number of iterations.\n",
            "  ConvergenceWarning,\n",
            "/usr/local/lib/python3.7/dist-packages/sklearn/svm/_base.py:1208: ConvergenceWarning: Liblinear failed to converge, increase the number of iterations.\n",
            "  ConvergenceWarning,\n",
            "/usr/local/lib/python3.7/dist-packages/sklearn/svm/_base.py:1208: ConvergenceWarning: Liblinear failed to converge, increase the number of iterations.\n",
            "  ConvergenceWarning,\n",
            "/usr/local/lib/python3.7/dist-packages/sklearn/svm/_base.py:1208: ConvergenceWarning: Liblinear failed to converge, increase the number of iterations.\n",
            "  ConvergenceWarning,\n",
            "/usr/local/lib/python3.7/dist-packages/sklearn/svm/_base.py:1208: ConvergenceWarning: Liblinear failed to converge, increase the number of iterations.\n",
            "  ConvergenceWarning,\n",
            "/usr/local/lib/python3.7/dist-packages/sklearn/svm/_base.py:1208: ConvergenceWarning: Liblinear failed to converge, increase the number of iterations.\n",
            "  ConvergenceWarning,\n",
            "/usr/local/lib/python3.7/dist-packages/sklearn/svm/_base.py:1208: ConvergenceWarning: Liblinear failed to converge, increase the number of iterations.\n",
            "  ConvergenceWarning,\n",
            "/usr/local/lib/python3.7/dist-packages/sklearn/svm/_base.py:1208: ConvergenceWarning: Liblinear failed to converge, increase the number of iterations.\n",
            "  ConvergenceWarning,\n",
            "/usr/local/lib/python3.7/dist-packages/sklearn/svm/_base.py:1208: ConvergenceWarning: Liblinear failed to converge, increase the number of iterations.\n",
            "  ConvergenceWarning,\n",
            "/usr/local/lib/python3.7/dist-packages/sklearn/svm/_base.py:1208: ConvergenceWarning: Liblinear failed to converge, increase the number of iterations.\n",
            "  ConvergenceWarning,\n",
            "/usr/local/lib/python3.7/dist-packages/sklearn/svm/_base.py:1208: ConvergenceWarning: Liblinear failed to converge, increase the number of iterations.\n",
            "  ConvergenceWarning,\n",
            "/usr/local/lib/python3.7/dist-packages/sklearn/svm/_base.py:1208: ConvergenceWarning: Liblinear failed to converge, increase the number of iterations.\n",
            "  ConvergenceWarning,\n",
            "/usr/local/lib/python3.7/dist-packages/sklearn/svm/_base.py:1208: ConvergenceWarning: Liblinear failed to converge, increase the number of iterations.\n",
            "  ConvergenceWarning,\n",
            "/usr/local/lib/python3.7/dist-packages/sklearn/svm/_base.py:1208: ConvergenceWarning: Liblinear failed to converge, increase the number of iterations.\n",
            "  ConvergenceWarning,\n",
            "/usr/local/lib/python3.7/dist-packages/sklearn/svm/_base.py:1208: ConvergenceWarning: Liblinear failed to converge, increase the number of iterations.\n",
            "  ConvergenceWarning,\n",
            "/usr/local/lib/python3.7/dist-packages/sklearn/svm/_base.py:1208: ConvergenceWarning: Liblinear failed to converge, increase the number of iterations.\n",
            "  ConvergenceWarning,\n"
          ]
        },
        {
          "name": "stdout",
          "output_type": "stream",
          "text": [
            "elapsed time:  0:09:12.272151\n",
            "Mean results\n",
            "Precision:  49.0  recall:  44.0  f-measure:  42.0\n",
            "Mean results\n",
            "Precision:  0.4888683710503175  recall:  0.44262630840586176  f-measure:  0.42061469080334524\n",
            "Precision max:  0.6666666666666666\n",
            "Precision min:  0.0\n",
            "recall max:  0.9734939759036144\n",
            "recall min:  0.0\n",
            "f-measure max:  0.6679245283018868\n",
            "f-measure min:  0.0\n",
            "f-measure standard deviation:  0.1998651029040442\n",
            "f-measure standard variance:  0.03994605935884417\n"
          ]
        },
        {
          "name": "stderr",
          "output_type": "stream",
          "text": [
            "/usr/local/lib/python3.7/dist-packages/sklearn/svm/_base.py:1208: ConvergenceWarning: Liblinear failed to converge, increase the number of iterations.\n",
            "  ConvergenceWarning,\n"
          ]
        }
      ]
    },
    {
      "cell_type": "code",
      "metadata": {
        "colab": {
          "base_uri": "https://localhost:8080/"
        },
        "id": "a2XtTdaKBFj-",
        "outputId": "ac64a719-06a8-40ef-e0f8-9fc99d45d35b"
      },
      "source": [
        "execute_cross_validation(svmLinear, Xreputation)"
      ],
      "execution_count": null,
      "outputs": [
        {
          "name": "stderr",
          "output_type": "stream",
          "text": [
            "/usr/local/lib/python3.7/dist-packages/sklearn/svm/_base.py:1208: ConvergenceWarning: Liblinear failed to converge, increase the number of iterations.\n",
            "  ConvergenceWarning,\n",
            "/usr/local/lib/python3.7/dist-packages/sklearn/svm/_base.py:1208: ConvergenceWarning: Liblinear failed to converge, increase the number of iterations.\n",
            "  ConvergenceWarning,\n",
            "/usr/local/lib/python3.7/dist-packages/sklearn/svm/_base.py:1208: ConvergenceWarning: Liblinear failed to converge, increase the number of iterations.\n",
            "  ConvergenceWarning,\n",
            "/usr/local/lib/python3.7/dist-packages/sklearn/svm/_base.py:1208: ConvergenceWarning: Liblinear failed to converge, increase the number of iterations.\n",
            "  ConvergenceWarning,\n",
            "/usr/local/lib/python3.7/dist-packages/sklearn/svm/_base.py:1208: ConvergenceWarning: Liblinear failed to converge, increase the number of iterations.\n",
            "  ConvergenceWarning,\n",
            "/usr/local/lib/python3.7/dist-packages/sklearn/svm/_base.py:1208: ConvergenceWarning: Liblinear failed to converge, increase the number of iterations.\n",
            "  ConvergenceWarning,\n",
            "/usr/local/lib/python3.7/dist-packages/sklearn/svm/_base.py:1208: ConvergenceWarning: Liblinear failed to converge, increase the number of iterations.\n",
            "  ConvergenceWarning,\n",
            "/usr/local/lib/python3.7/dist-packages/sklearn/svm/_base.py:1208: ConvergenceWarning: Liblinear failed to converge, increase the number of iterations.\n",
            "  ConvergenceWarning,\n",
            "/usr/local/lib/python3.7/dist-packages/sklearn/svm/_base.py:1208: ConvergenceWarning: Liblinear failed to converge, increase the number of iterations.\n",
            "  ConvergenceWarning,\n",
            "/usr/local/lib/python3.7/dist-packages/sklearn/svm/_base.py:1208: ConvergenceWarning: Liblinear failed to converge, increase the number of iterations.\n",
            "  ConvergenceWarning,\n",
            "/usr/local/lib/python3.7/dist-packages/sklearn/metrics/_classification.py:1308: UndefinedMetricWarning: Precision is ill-defined and being set to 0.0 due to no predicted samples. Use `zero_division` parameter to control this behavior.\n",
            "  _warn_prf(average, modifier, msg_start, len(result))\n",
            "/usr/local/lib/python3.7/dist-packages/sklearn/svm/_base.py:1208: ConvergenceWarning: Liblinear failed to converge, increase the number of iterations.\n",
            "  ConvergenceWarning,\n",
            "/usr/local/lib/python3.7/dist-packages/sklearn/svm/_base.py:1208: ConvergenceWarning: Liblinear failed to converge, increase the number of iterations.\n",
            "  ConvergenceWarning,\n",
            "/usr/local/lib/python3.7/dist-packages/sklearn/svm/_base.py:1208: ConvergenceWarning: Liblinear failed to converge, increase the number of iterations.\n",
            "  ConvergenceWarning,\n",
            "/usr/local/lib/python3.7/dist-packages/sklearn/svm/_base.py:1208: ConvergenceWarning: Liblinear failed to converge, increase the number of iterations.\n",
            "  ConvergenceWarning,\n",
            "/usr/local/lib/python3.7/dist-packages/sklearn/svm/_base.py:1208: ConvergenceWarning: Liblinear failed to converge, increase the number of iterations.\n",
            "  ConvergenceWarning,\n",
            "/usr/local/lib/python3.7/dist-packages/sklearn/svm/_base.py:1208: ConvergenceWarning: Liblinear failed to converge, increase the number of iterations.\n",
            "  ConvergenceWarning,\n",
            "/usr/local/lib/python3.7/dist-packages/sklearn/svm/_base.py:1208: ConvergenceWarning: Liblinear failed to converge, increase the number of iterations.\n",
            "  ConvergenceWarning,\n",
            "/usr/local/lib/python3.7/dist-packages/sklearn/svm/_base.py:1208: ConvergenceWarning: Liblinear failed to converge, increase the number of iterations.\n",
            "  ConvergenceWarning,\n",
            "/usr/local/lib/python3.7/dist-packages/sklearn/svm/_base.py:1208: ConvergenceWarning: Liblinear failed to converge, increase the number of iterations.\n",
            "  ConvergenceWarning,\n",
            "/usr/local/lib/python3.7/dist-packages/sklearn/svm/_base.py:1208: ConvergenceWarning: Liblinear failed to converge, increase the number of iterations.\n",
            "  ConvergenceWarning,\n",
            "/usr/local/lib/python3.7/dist-packages/sklearn/svm/_base.py:1208: ConvergenceWarning: Liblinear failed to converge, increase the number of iterations.\n",
            "  ConvergenceWarning,\n",
            "/usr/local/lib/python3.7/dist-packages/sklearn/svm/_base.py:1208: ConvergenceWarning: Liblinear failed to converge, increase the number of iterations.\n",
            "  ConvergenceWarning,\n",
            "/usr/local/lib/python3.7/dist-packages/sklearn/svm/_base.py:1208: ConvergenceWarning: Liblinear failed to converge, increase the number of iterations.\n",
            "  ConvergenceWarning,\n",
            "/usr/local/lib/python3.7/dist-packages/sklearn/svm/_base.py:1208: ConvergenceWarning: Liblinear failed to converge, increase the number of iterations.\n",
            "  ConvergenceWarning,\n",
            "/usr/local/lib/python3.7/dist-packages/sklearn/svm/_base.py:1208: ConvergenceWarning: Liblinear failed to converge, increase the number of iterations.\n",
            "  ConvergenceWarning,\n",
            "/usr/local/lib/python3.7/dist-packages/sklearn/svm/_base.py:1208: ConvergenceWarning: Liblinear failed to converge, increase the number of iterations.\n",
            "  ConvergenceWarning,\n",
            "/usr/local/lib/python3.7/dist-packages/sklearn/svm/_base.py:1208: ConvergenceWarning: Liblinear failed to converge, increase the number of iterations.\n",
            "  ConvergenceWarning,\n",
            "/usr/local/lib/python3.7/dist-packages/sklearn/svm/_base.py:1208: ConvergenceWarning: Liblinear failed to converge, increase the number of iterations.\n",
            "  ConvergenceWarning,\n",
            "/usr/local/lib/python3.7/dist-packages/sklearn/svm/_base.py:1208: ConvergenceWarning: Liblinear failed to converge, increase the number of iterations.\n",
            "  ConvergenceWarning,\n"
          ]
        },
        {
          "name": "stdout",
          "output_type": "stream",
          "text": [
            "elapsed time:  0:10:19.762941\n",
            "Mean results\n",
            "Precision:  51.0  recall:  52.0  f-measure:  25.0\n",
            "Mean results\n",
            "Precision:  0.5135471090217594  recall:  0.516235937746333  f-measure:  0.248033970944173\n",
            "Precision max:  1.0\n",
            "Precision min:  0.0\n",
            "recall max:  1.0\n",
            "recall min:  0.10277324632952692\n",
            "f-measure max:  0.6617925805578121\n",
            "f-measure min:  0.0\n",
            "f-measure standard deviation:  0.2639891474448924\n",
            "f-measure standard variance:  0.06969026996868112\n"
          ]
        },
        {
          "name": "stderr",
          "output_type": "stream",
          "text": [
            "/usr/local/lib/python3.7/dist-packages/sklearn/svm/_base.py:1208: ConvergenceWarning: Liblinear failed to converge, increase the number of iterations.\n",
            "  ConvergenceWarning,\n"
          ]
        }
      ]
    },
    {
      "cell_type": "code",
      "metadata": {
        "colab": {
          "base_uri": "https://localhost:8080/"
        },
        "id": "ah9qg9RLBml3",
        "outputId": "92bd8b1a-11a3-4da0-e909-fdbaf6d46c4c"
      },
      "source": [
        "execute_cross_validation(svmLinear, Xreporter_rating)"
      ],
      "execution_count": null,
      "outputs": [
        {
          "name": "stderr",
          "output_type": "stream",
          "text": [
            "/usr/local/lib/python3.7/dist-packages/sklearn/svm/_base.py:1208: ConvergenceWarning: Liblinear failed to converge, increase the number of iterations.\n",
            "  ConvergenceWarning,\n",
            "/usr/local/lib/python3.7/dist-packages/sklearn/svm/_base.py:1208: ConvergenceWarning: Liblinear failed to converge, increase the number of iterations.\n",
            "  ConvergenceWarning,\n",
            "/usr/local/lib/python3.7/dist-packages/sklearn/svm/_base.py:1208: ConvergenceWarning: Liblinear failed to converge, increase the number of iterations.\n",
            "  ConvergenceWarning,\n",
            "/usr/local/lib/python3.7/dist-packages/sklearn/metrics/_classification.py:1308: UndefinedMetricWarning: Precision is ill-defined and being set to 0.0 due to no predicted samples. Use `zero_division` parameter to control this behavior.\n",
            "  _warn_prf(average, modifier, msg_start, len(result))\n",
            "/usr/local/lib/python3.7/dist-packages/sklearn/svm/_base.py:1208: ConvergenceWarning: Liblinear failed to converge, increase the number of iterations.\n",
            "  ConvergenceWarning,\n",
            "/usr/local/lib/python3.7/dist-packages/sklearn/svm/_base.py:1208: ConvergenceWarning: Liblinear failed to converge, increase the number of iterations.\n",
            "  ConvergenceWarning,\n",
            "/usr/local/lib/python3.7/dist-packages/sklearn/svm/_base.py:1208: ConvergenceWarning: Liblinear failed to converge, increase the number of iterations.\n",
            "  ConvergenceWarning,\n",
            "/usr/local/lib/python3.7/dist-packages/sklearn/svm/_base.py:1208: ConvergenceWarning: Liblinear failed to converge, increase the number of iterations.\n",
            "  ConvergenceWarning,\n",
            "/usr/local/lib/python3.7/dist-packages/sklearn/svm/_base.py:1208: ConvergenceWarning: Liblinear failed to converge, increase the number of iterations.\n",
            "  ConvergenceWarning,\n",
            "/usr/local/lib/python3.7/dist-packages/sklearn/svm/_base.py:1208: ConvergenceWarning: Liblinear failed to converge, increase the number of iterations.\n",
            "  ConvergenceWarning,\n",
            "/usr/local/lib/python3.7/dist-packages/sklearn/svm/_base.py:1208: ConvergenceWarning: Liblinear failed to converge, increase the number of iterations.\n",
            "  ConvergenceWarning,\n",
            "/usr/local/lib/python3.7/dist-packages/sklearn/svm/_base.py:1208: ConvergenceWarning: Liblinear failed to converge, increase the number of iterations.\n",
            "  ConvergenceWarning,\n",
            "/usr/local/lib/python3.7/dist-packages/sklearn/svm/_base.py:1208: ConvergenceWarning: Liblinear failed to converge, increase the number of iterations.\n",
            "  ConvergenceWarning,\n",
            "/usr/local/lib/python3.7/dist-packages/sklearn/svm/_base.py:1208: ConvergenceWarning: Liblinear failed to converge, increase the number of iterations.\n",
            "  ConvergenceWarning,\n",
            "/usr/local/lib/python3.7/dist-packages/sklearn/svm/_base.py:1208: ConvergenceWarning: Liblinear failed to converge, increase the number of iterations.\n",
            "  ConvergenceWarning,\n",
            "/usr/local/lib/python3.7/dist-packages/sklearn/svm/_base.py:1208: ConvergenceWarning: Liblinear failed to converge, increase the number of iterations.\n",
            "  ConvergenceWarning,\n",
            "/usr/local/lib/python3.7/dist-packages/sklearn/svm/_base.py:1208: ConvergenceWarning: Liblinear failed to converge, increase the number of iterations.\n",
            "  ConvergenceWarning,\n",
            "/usr/local/lib/python3.7/dist-packages/sklearn/svm/_base.py:1208: ConvergenceWarning: Liblinear failed to converge, increase the number of iterations.\n",
            "  ConvergenceWarning,\n",
            "/usr/local/lib/python3.7/dist-packages/sklearn/svm/_base.py:1208: ConvergenceWarning: Liblinear failed to converge, increase the number of iterations.\n",
            "  ConvergenceWarning,\n",
            "/usr/local/lib/python3.7/dist-packages/sklearn/svm/_base.py:1208: ConvergenceWarning: Liblinear failed to converge, increase the number of iterations.\n",
            "  ConvergenceWarning,\n",
            "/usr/local/lib/python3.7/dist-packages/sklearn/svm/_base.py:1208: ConvergenceWarning: Liblinear failed to converge, increase the number of iterations.\n",
            "  ConvergenceWarning,\n",
            "/usr/local/lib/python3.7/dist-packages/sklearn/svm/_base.py:1208: ConvergenceWarning: Liblinear failed to converge, increase the number of iterations.\n",
            "  ConvergenceWarning,\n",
            "/usr/local/lib/python3.7/dist-packages/sklearn/svm/_base.py:1208: ConvergenceWarning: Liblinear failed to converge, increase the number of iterations.\n",
            "  ConvergenceWarning,\n",
            "/usr/local/lib/python3.7/dist-packages/sklearn/svm/_base.py:1208: ConvergenceWarning: Liblinear failed to converge, increase the number of iterations.\n",
            "  ConvergenceWarning,\n",
            "/usr/local/lib/python3.7/dist-packages/sklearn/svm/_base.py:1208: ConvergenceWarning: Liblinear failed to converge, increase the number of iterations.\n",
            "  ConvergenceWarning,\n",
            "/usr/local/lib/python3.7/dist-packages/sklearn/svm/_base.py:1208: ConvergenceWarning: Liblinear failed to converge, increase the number of iterations.\n",
            "  ConvergenceWarning,\n",
            "/usr/local/lib/python3.7/dist-packages/sklearn/svm/_base.py:1208: ConvergenceWarning: Liblinear failed to converge, increase the number of iterations.\n",
            "  ConvergenceWarning,\n",
            "/usr/local/lib/python3.7/dist-packages/sklearn/svm/_base.py:1208: ConvergenceWarning: Liblinear failed to converge, increase the number of iterations.\n",
            "  ConvergenceWarning,\n",
            "/usr/local/lib/python3.7/dist-packages/sklearn/svm/_base.py:1208: ConvergenceWarning: Liblinear failed to converge, increase the number of iterations.\n",
            "  ConvergenceWarning,\n",
            "/usr/local/lib/python3.7/dist-packages/sklearn/svm/_base.py:1208: ConvergenceWarning: Liblinear failed to converge, increase the number of iterations.\n",
            "  ConvergenceWarning,\n"
          ]
        },
        {
          "name": "stdout",
          "output_type": "stream",
          "text": [
            "elapsed time:  0:09:37.883271\n",
            "Mean results\n",
            "Precision:  50.0  recall:  61.0  f-measure:  35.0\n",
            "Mean results\n",
            "Precision:  0.4988651895098779  recall:  0.6092955713243179  f-measure:  0.35230746207007035\n",
            "Precision max:  0.7878787878787878\n",
            "Precision min:  0.0\n",
            "recall max:  0.998351195383347\n",
            "recall min:  0.0\n",
            "f-measure max:  0.665045921123717\n",
            "f-measure min:  0.0\n",
            "f-measure standard deviation:  0.21506350814545558\n",
            "f-measure standard variance:  0.04625231253583044\n"
          ]
        },
        {
          "name": "stderr",
          "output_type": "stream",
          "text": [
            "/usr/local/lib/python3.7/dist-packages/sklearn/svm/_base.py:1208: ConvergenceWarning: Liblinear failed to converge, increase the number of iterations.\n",
            "  ConvergenceWarning,\n"
          ]
        }
      ]
    },
    {
      "cell_type": "code",
      "metadata": {
        "colab": {
          "base_uri": "https://localhost:8080/"
        },
        "id": "nNlI5FJTBqGA",
        "outputId": "e15b8aa5-de93-41cf-de4d-70a5f16ffc92"
      },
      "source": [
        "execute_cross_validation(svmLinear, XratingAvg)"
      ],
      "execution_count": null,
      "outputs": [
        {
          "name": "stderr",
          "output_type": "stream",
          "text": [
            "/usr/local/lib/python3.7/dist-packages/sklearn/svm/_base.py:1208: ConvergenceWarning: Liblinear failed to converge, increase the number of iterations.\n",
            "  ConvergenceWarning,\n",
            "/usr/local/lib/python3.7/dist-packages/sklearn/svm/_base.py:1208: ConvergenceWarning: Liblinear failed to converge, increase the number of iterations.\n",
            "  ConvergenceWarning,\n",
            "/usr/local/lib/python3.7/dist-packages/sklearn/svm/_base.py:1208: ConvergenceWarning: Liblinear failed to converge, increase the number of iterations.\n",
            "  ConvergenceWarning,\n",
            "/usr/local/lib/python3.7/dist-packages/sklearn/svm/_base.py:1208: ConvergenceWarning: Liblinear failed to converge, increase the number of iterations.\n",
            "  ConvergenceWarning,\n",
            "/usr/local/lib/python3.7/dist-packages/sklearn/svm/_base.py:1208: ConvergenceWarning: Liblinear failed to converge, increase the number of iterations.\n",
            "  ConvergenceWarning,\n",
            "/usr/local/lib/python3.7/dist-packages/sklearn/svm/_base.py:1208: ConvergenceWarning: Liblinear failed to converge, increase the number of iterations.\n",
            "  ConvergenceWarning,\n",
            "/usr/local/lib/python3.7/dist-packages/sklearn/svm/_base.py:1208: ConvergenceWarning: Liblinear failed to converge, increase the number of iterations.\n",
            "  ConvergenceWarning,\n",
            "/usr/local/lib/python3.7/dist-packages/sklearn/svm/_base.py:1208: ConvergenceWarning: Liblinear failed to converge, increase the number of iterations.\n",
            "  ConvergenceWarning,\n",
            "/usr/local/lib/python3.7/dist-packages/sklearn/svm/_base.py:1208: ConvergenceWarning: Liblinear failed to converge, increase the number of iterations.\n",
            "  ConvergenceWarning,\n",
            "/usr/local/lib/python3.7/dist-packages/sklearn/svm/_base.py:1208: ConvergenceWarning: Liblinear failed to converge, increase the number of iterations.\n",
            "  ConvergenceWarning,\n",
            "/usr/local/lib/python3.7/dist-packages/sklearn/svm/_base.py:1208: ConvergenceWarning: Liblinear failed to converge, increase the number of iterations.\n",
            "  ConvergenceWarning,\n",
            "/usr/local/lib/python3.7/dist-packages/sklearn/svm/_base.py:1208: ConvergenceWarning: Liblinear failed to converge, increase the number of iterations.\n",
            "  ConvergenceWarning,\n",
            "/usr/local/lib/python3.7/dist-packages/sklearn/svm/_base.py:1208: ConvergenceWarning: Liblinear failed to converge, increase the number of iterations.\n",
            "  ConvergenceWarning,\n",
            "/usr/local/lib/python3.7/dist-packages/sklearn/svm/_base.py:1208: ConvergenceWarning: Liblinear failed to converge, increase the number of iterations.\n",
            "  ConvergenceWarning,\n",
            "/usr/local/lib/python3.7/dist-packages/sklearn/svm/_base.py:1208: ConvergenceWarning: Liblinear failed to converge, increase the number of iterations.\n",
            "  ConvergenceWarning,\n",
            "/usr/local/lib/python3.7/dist-packages/sklearn/svm/_base.py:1208: ConvergenceWarning: Liblinear failed to converge, increase the number of iterations.\n",
            "  ConvergenceWarning,\n",
            "/usr/local/lib/python3.7/dist-packages/sklearn/svm/_base.py:1208: ConvergenceWarning: Liblinear failed to converge, increase the number of iterations.\n",
            "  ConvergenceWarning,\n",
            "/usr/local/lib/python3.7/dist-packages/sklearn/svm/_base.py:1208: ConvergenceWarning: Liblinear failed to converge, increase the number of iterations.\n",
            "  ConvergenceWarning,\n",
            "/usr/local/lib/python3.7/dist-packages/sklearn/svm/_base.py:1208: ConvergenceWarning: Liblinear failed to converge, increase the number of iterations.\n",
            "  ConvergenceWarning,\n",
            "/usr/local/lib/python3.7/dist-packages/sklearn/svm/_base.py:1208: ConvergenceWarning: Liblinear failed to converge, increase the number of iterations.\n",
            "  ConvergenceWarning,\n",
            "/usr/local/lib/python3.7/dist-packages/sklearn/svm/_base.py:1208: ConvergenceWarning: Liblinear failed to converge, increase the number of iterations.\n",
            "  ConvergenceWarning,\n",
            "/usr/local/lib/python3.7/dist-packages/sklearn/svm/_base.py:1208: ConvergenceWarning: Liblinear failed to converge, increase the number of iterations.\n",
            "  ConvergenceWarning,\n",
            "/usr/local/lib/python3.7/dist-packages/sklearn/svm/_base.py:1208: ConvergenceWarning: Liblinear failed to converge, increase the number of iterations.\n",
            "  ConvergenceWarning,\n",
            "/usr/local/lib/python3.7/dist-packages/sklearn/svm/_base.py:1208: ConvergenceWarning: Liblinear failed to converge, increase the number of iterations.\n",
            "  ConvergenceWarning,\n",
            "/usr/local/lib/python3.7/dist-packages/sklearn/svm/_base.py:1208: ConvergenceWarning: Liblinear failed to converge, increase the number of iterations.\n",
            "  ConvergenceWarning,\n",
            "/usr/local/lib/python3.7/dist-packages/sklearn/svm/_base.py:1208: ConvergenceWarning: Liblinear failed to converge, increase the number of iterations.\n",
            "  ConvergenceWarning,\n",
            "/usr/local/lib/python3.7/dist-packages/sklearn/svm/_base.py:1208: ConvergenceWarning: Liblinear failed to converge, increase the number of iterations.\n",
            "  ConvergenceWarning,\n",
            "/usr/local/lib/python3.7/dist-packages/sklearn/svm/_base.py:1208: ConvergenceWarning: Liblinear failed to converge, increase the number of iterations.\n",
            "  ConvergenceWarning,\n",
            "/usr/local/lib/python3.7/dist-packages/sklearn/svm/_base.py:1208: ConvergenceWarning: Liblinear failed to converge, increase the number of iterations.\n",
            "  ConvergenceWarning,\n"
          ]
        },
        {
          "name": "stdout",
          "output_type": "stream",
          "text": [
            "elapsed time:  0:10:32.845294\n",
            "Mean results\n",
            "Precision:  65.0  recall:  52.0  f-measure:  36.0\n",
            "Mean results\n",
            "Precision:  0.653852995319198  recall:  0.5226382708264101  f-measure:  0.3643205178615321\n",
            "Precision max:  1.0\n",
            "Precision min:  0.4967585089141005\n",
            "recall max:  1.0\n",
            "recall min:  0.048559670781893\n",
            "f-measure max:  0.5654984688669615\n",
            "f-measure min:  0.008547008547008548\n",
            "f-measure standard deviation:  0.23825064599005727\n",
            "f-measure standard variance:  0.056763370314679595\n"
          ]
        },
        {
          "name": "stderr",
          "output_type": "stream",
          "text": [
            "/usr/local/lib/python3.7/dist-packages/sklearn/svm/_base.py:1208: ConvergenceWarning: Liblinear failed to converge, increase the number of iterations.\n",
            "  ConvergenceWarning,\n"
          ]
        }
      ]
    },
    {
      "cell_type": "code",
      "metadata": {
        "colab": {
          "base_uri": "https://localhost:8080/"
        },
        "id": "EqNENyGYxUS1",
        "outputId": "418d27c4-6ad6-416e-8347-74a8533b2cd1"
      },
      "source": [
        "execute_cross_validation(svmLinear, Xdeveloper_rating)"
      ],
      "execution_count": null,
      "outputs": [
        {
          "name": "stderr",
          "output_type": "stream",
          "text": [
            "/usr/local/lib/python3.7/dist-packages/sklearn/svm/_base.py:1208: ConvergenceWarning: Liblinear failed to converge, increase the number of iterations.\n",
            "  ConvergenceWarning,\n",
            "/usr/local/lib/python3.7/dist-packages/sklearn/svm/_base.py:1208: ConvergenceWarning: Liblinear failed to converge, increase the number of iterations.\n",
            "  ConvergenceWarning,\n",
            "/usr/local/lib/python3.7/dist-packages/sklearn/svm/_base.py:1208: ConvergenceWarning: Liblinear failed to converge, increase the number of iterations.\n",
            "  ConvergenceWarning,\n",
            "/usr/local/lib/python3.7/dist-packages/sklearn/svm/_base.py:1208: ConvergenceWarning: Liblinear failed to converge, increase the number of iterations.\n",
            "  ConvergenceWarning,\n",
            "/usr/local/lib/python3.7/dist-packages/sklearn/svm/_base.py:1208: ConvergenceWarning: Liblinear failed to converge, increase the number of iterations.\n",
            "  ConvergenceWarning,\n",
            "/usr/local/lib/python3.7/dist-packages/sklearn/svm/_base.py:1208: ConvergenceWarning: Liblinear failed to converge, increase the number of iterations.\n",
            "  ConvergenceWarning,\n",
            "/usr/local/lib/python3.7/dist-packages/sklearn/svm/_base.py:1208: ConvergenceWarning: Liblinear failed to converge, increase the number of iterations.\n",
            "  ConvergenceWarning,\n",
            "/usr/local/lib/python3.7/dist-packages/sklearn/svm/_base.py:1208: ConvergenceWarning: Liblinear failed to converge, increase the number of iterations.\n",
            "  ConvergenceWarning,\n",
            "/usr/local/lib/python3.7/dist-packages/sklearn/svm/_base.py:1208: ConvergenceWarning: Liblinear failed to converge, increase the number of iterations.\n",
            "  ConvergenceWarning,\n",
            "/usr/local/lib/python3.7/dist-packages/sklearn/svm/_base.py:1208: ConvergenceWarning: Liblinear failed to converge, increase the number of iterations.\n",
            "  ConvergenceWarning,\n",
            "/usr/local/lib/python3.7/dist-packages/sklearn/svm/_base.py:1208: ConvergenceWarning: Liblinear failed to converge, increase the number of iterations.\n",
            "  ConvergenceWarning,\n",
            "/usr/local/lib/python3.7/dist-packages/sklearn/svm/_base.py:1208: ConvergenceWarning: Liblinear failed to converge, increase the number of iterations.\n",
            "  ConvergenceWarning,\n",
            "/usr/local/lib/python3.7/dist-packages/sklearn/svm/_base.py:1208: ConvergenceWarning: Liblinear failed to converge, increase the number of iterations.\n",
            "  ConvergenceWarning,\n",
            "/usr/local/lib/python3.7/dist-packages/sklearn/svm/_base.py:1208: ConvergenceWarning: Liblinear failed to converge, increase the number of iterations.\n",
            "  ConvergenceWarning,\n",
            "/usr/local/lib/python3.7/dist-packages/sklearn/svm/_base.py:1208: ConvergenceWarning: Liblinear failed to converge, increase the number of iterations.\n",
            "  ConvergenceWarning,\n",
            "/usr/local/lib/python3.7/dist-packages/sklearn/svm/_base.py:1208: ConvergenceWarning: Liblinear failed to converge, increase the number of iterations.\n",
            "  ConvergenceWarning,\n",
            "/usr/local/lib/python3.7/dist-packages/sklearn/svm/_base.py:1208: ConvergenceWarning: Liblinear failed to converge, increase the number of iterations.\n",
            "  ConvergenceWarning,\n",
            "/usr/local/lib/python3.7/dist-packages/sklearn/svm/_base.py:1208: ConvergenceWarning: Liblinear failed to converge, increase the number of iterations.\n",
            "  ConvergenceWarning,\n",
            "/usr/local/lib/python3.7/dist-packages/sklearn/svm/_base.py:1208: ConvergenceWarning: Liblinear failed to converge, increase the number of iterations.\n",
            "  ConvergenceWarning,\n",
            "/usr/local/lib/python3.7/dist-packages/sklearn/svm/_base.py:1208: ConvergenceWarning: Liblinear failed to converge, increase the number of iterations.\n",
            "  ConvergenceWarning,\n",
            "/usr/local/lib/python3.7/dist-packages/sklearn/svm/_base.py:1208: ConvergenceWarning: Liblinear failed to converge, increase the number of iterations.\n",
            "  ConvergenceWarning,\n",
            "/usr/local/lib/python3.7/dist-packages/sklearn/svm/_base.py:1208: ConvergenceWarning: Liblinear failed to converge, increase the number of iterations.\n",
            "  ConvergenceWarning,\n",
            "/usr/local/lib/python3.7/dist-packages/sklearn/svm/_base.py:1208: ConvergenceWarning: Liblinear failed to converge, increase the number of iterations.\n",
            "  ConvergenceWarning,\n",
            "/usr/local/lib/python3.7/dist-packages/sklearn/svm/_base.py:1208: ConvergenceWarning: Liblinear failed to converge, increase the number of iterations.\n",
            "  ConvergenceWarning,\n",
            "/usr/local/lib/python3.7/dist-packages/sklearn/svm/_base.py:1208: ConvergenceWarning: Liblinear failed to converge, increase the number of iterations.\n",
            "  ConvergenceWarning,\n",
            "/usr/local/lib/python3.7/dist-packages/sklearn/svm/_base.py:1208: ConvergenceWarning: Liblinear failed to converge, increase the number of iterations.\n",
            "  ConvergenceWarning,\n",
            "/usr/local/lib/python3.7/dist-packages/sklearn/svm/_base.py:1208: ConvergenceWarning: Liblinear failed to converge, increase the number of iterations.\n",
            "  ConvergenceWarning,\n",
            "/usr/local/lib/python3.7/dist-packages/sklearn/svm/_base.py:1208: ConvergenceWarning: Liblinear failed to converge, increase the number of iterations.\n",
            "  ConvergenceWarning,\n",
            "/usr/local/lib/python3.7/dist-packages/sklearn/svm/_base.py:1208: ConvergenceWarning: Liblinear failed to converge, increase the number of iterations.\n",
            "  ConvergenceWarning,\n"
          ]
        },
        {
          "name": "stdout",
          "output_type": "stream",
          "text": [
            "elapsed time:  0:09:20.309693\n",
            "Mean results\n",
            "Precision:  55.00000000000001  recall:  48.0  f-measure:  45.0\n",
            "Mean results\n",
            "Precision:  0.5541895465314266  recall:  0.47684830973119696  f-measure:  0.4462745341538448\n",
            "Precision max:  0.6197916666666666\n",
            "Precision min:  0.4893964110929853\n",
            "recall max:  1.0\n",
            "recall min:  0.0\n",
            "f-measure max:  0.6524822695035462\n",
            "f-measure min:  0.0\n",
            "f-measure standard deviation:  0.2481249205217946\n",
            "f-measure standard variance:  0.061565976183946894\n"
          ]
        },
        {
          "name": "stderr",
          "output_type": "stream",
          "text": [
            "/usr/local/lib/python3.7/dist-packages/sklearn/svm/_base.py:1208: ConvergenceWarning: Liblinear failed to converge, increase the number of iterations.\n",
            "  ConvergenceWarning,\n"
          ]
        }
      ]
    },
    {
      "cell_type": "code",
      "metadata": {
        "colab": {
          "base_uri": "https://localhost:8080/"
        },
        "id": "DT3vHY-gSdi8",
        "outputId": "aaaf83c1-0613-46fa-e523-b319aeba8902"
      },
      "source": [
        "execute_cross_validation(svmLinear, Xrating)"
      ],
      "execution_count": null,
      "outputs": [
        {
          "name": "stderr",
          "output_type": "stream",
          "text": [
            "/usr/local/lib/python3.7/dist-packages/sklearn/svm/_base.py:1208: ConvergenceWarning: Liblinear failed to converge, increase the number of iterations.\n",
            "  ConvergenceWarning,\n",
            "/usr/local/lib/python3.7/dist-packages/sklearn/svm/_base.py:1208: ConvergenceWarning: Liblinear failed to converge, increase the number of iterations.\n",
            "  ConvergenceWarning,\n",
            "/usr/local/lib/python3.7/dist-packages/sklearn/svm/_base.py:1208: ConvergenceWarning: Liblinear failed to converge, increase the number of iterations.\n",
            "  ConvergenceWarning,\n",
            "/usr/local/lib/python3.7/dist-packages/sklearn/svm/_base.py:1208: ConvergenceWarning: Liblinear failed to converge, increase the number of iterations.\n",
            "  ConvergenceWarning,\n",
            "/usr/local/lib/python3.7/dist-packages/sklearn/svm/_base.py:1208: ConvergenceWarning: Liblinear failed to converge, increase the number of iterations.\n",
            "  ConvergenceWarning,\n",
            "/usr/local/lib/python3.7/dist-packages/sklearn/svm/_base.py:1208: ConvergenceWarning: Liblinear failed to converge, increase the number of iterations.\n",
            "  ConvergenceWarning,\n",
            "/usr/local/lib/python3.7/dist-packages/sklearn/svm/_base.py:1208: ConvergenceWarning: Liblinear failed to converge, increase the number of iterations.\n",
            "  ConvergenceWarning,\n",
            "/usr/local/lib/python3.7/dist-packages/sklearn/svm/_base.py:1208: ConvergenceWarning: Liblinear failed to converge, increase the number of iterations.\n",
            "  ConvergenceWarning,\n",
            "/usr/local/lib/python3.7/dist-packages/sklearn/svm/_base.py:1208: ConvergenceWarning: Liblinear failed to converge, increase the number of iterations.\n",
            "  ConvergenceWarning,\n",
            "/usr/local/lib/python3.7/dist-packages/sklearn/svm/_base.py:1208: ConvergenceWarning: Liblinear failed to converge, increase the number of iterations.\n",
            "  ConvergenceWarning,\n",
            "/usr/local/lib/python3.7/dist-packages/sklearn/svm/_base.py:1208: ConvergenceWarning: Liblinear failed to converge, increase the number of iterations.\n",
            "  ConvergenceWarning,\n",
            "/usr/local/lib/python3.7/dist-packages/sklearn/svm/_base.py:1208: ConvergenceWarning: Liblinear failed to converge, increase the number of iterations.\n",
            "  ConvergenceWarning,\n",
            "/usr/local/lib/python3.7/dist-packages/sklearn/svm/_base.py:1208: ConvergenceWarning: Liblinear failed to converge, increase the number of iterations.\n",
            "  ConvergenceWarning,\n",
            "/usr/local/lib/python3.7/dist-packages/sklearn/svm/_base.py:1208: ConvergenceWarning: Liblinear failed to converge, increase the number of iterations.\n",
            "  ConvergenceWarning,\n",
            "/usr/local/lib/python3.7/dist-packages/sklearn/svm/_base.py:1208: ConvergenceWarning: Liblinear failed to converge, increase the number of iterations.\n",
            "  ConvergenceWarning,\n",
            "/usr/local/lib/python3.7/dist-packages/sklearn/svm/_base.py:1208: ConvergenceWarning: Liblinear failed to converge, increase the number of iterations.\n",
            "  ConvergenceWarning,\n",
            "/usr/local/lib/python3.7/dist-packages/sklearn/svm/_base.py:1208: ConvergenceWarning: Liblinear failed to converge, increase the number of iterations.\n",
            "  ConvergenceWarning,\n",
            "/usr/local/lib/python3.7/dist-packages/sklearn/svm/_base.py:1208: ConvergenceWarning: Liblinear failed to converge, increase the number of iterations.\n",
            "  ConvergenceWarning,\n",
            "/usr/local/lib/python3.7/dist-packages/sklearn/svm/_base.py:1208: ConvergenceWarning: Liblinear failed to converge, increase the number of iterations.\n",
            "  ConvergenceWarning,\n",
            "/usr/local/lib/python3.7/dist-packages/sklearn/svm/_base.py:1208: ConvergenceWarning: Liblinear failed to converge, increase the number of iterations.\n",
            "  ConvergenceWarning,\n",
            "/usr/local/lib/python3.7/dist-packages/sklearn/svm/_base.py:1208: ConvergenceWarning: Liblinear failed to converge, increase the number of iterations.\n",
            "  ConvergenceWarning,\n",
            "/usr/local/lib/python3.7/dist-packages/sklearn/svm/_base.py:1208: ConvergenceWarning: Liblinear failed to converge, increase the number of iterations.\n",
            "  ConvergenceWarning,\n",
            "/usr/local/lib/python3.7/dist-packages/sklearn/svm/_base.py:1208: ConvergenceWarning: Liblinear failed to converge, increase the number of iterations.\n",
            "  ConvergenceWarning,\n",
            "/usr/local/lib/python3.7/dist-packages/sklearn/svm/_base.py:1208: ConvergenceWarning: Liblinear failed to converge, increase the number of iterations.\n",
            "  ConvergenceWarning,\n",
            "/usr/local/lib/python3.7/dist-packages/sklearn/svm/_base.py:1208: ConvergenceWarning: Liblinear failed to converge, increase the number of iterations.\n",
            "  ConvergenceWarning,\n",
            "/usr/local/lib/python3.7/dist-packages/sklearn/svm/_base.py:1208: ConvergenceWarning: Liblinear failed to converge, increase the number of iterations.\n",
            "  ConvergenceWarning,\n",
            "/usr/local/lib/python3.7/dist-packages/sklearn/svm/_base.py:1208: ConvergenceWarning: Liblinear failed to converge, increase the number of iterations.\n",
            "  ConvergenceWarning,\n",
            "/usr/local/lib/python3.7/dist-packages/sklearn/svm/_base.py:1208: ConvergenceWarning: Liblinear failed to converge, increase the number of iterations.\n",
            "  ConvergenceWarning,\n",
            "/usr/local/lib/python3.7/dist-packages/sklearn/svm/_base.py:1208: ConvergenceWarning: Liblinear failed to converge, increase the number of iterations.\n",
            "  ConvergenceWarning,\n"
          ]
        },
        {
          "name": "stdout",
          "output_type": "stream",
          "text": [
            "elapsed time:  0:10:14.708517\n",
            "Mean results\n",
            "Precision:  53.0  recall:  42.0  f-measure:  45.0\n",
            "Mean results\n",
            "Precision:  0.5314913052646185  recall:  0.41965226062831695  f-measure:  0.4535139115796148\n",
            "Precision max:  0.625\n",
            "Precision min:  0.46622734761120266\n",
            "recall max:  0.9441295546558705\n",
            "recall min:  0.012520868113522538\n",
            "f-measure max:  0.6806083650190113\n",
            "f-measure min:  0.07332293291731669\n",
            "f-measure standard deviation:  0.205628975035846\n",
            "f-measure standard variance:  0.04228327537429258\n"
          ]
        },
        {
          "name": "stderr",
          "output_type": "stream",
          "text": [
            "/usr/local/lib/python3.7/dist-packages/sklearn/svm/_base.py:1208: ConvergenceWarning: Liblinear failed to converge, increase the number of iterations.\n",
            "  ConvergenceWarning,\n"
          ]
        }
      ]
    },
    {
      "cell_type": "markdown",
      "metadata": {
        "id": "zFDZ89exXxgh"
      },
      "source": [
        "#"
      ]
    },
    {
      "cell_type": "code",
      "metadata": {
        "colab": {
          "base_uri": "https://localhost:8080/"
        },
        "id": "NfiBKoyrSfy0",
        "outputId": "2ae7c136-48b3-456f-c13e-52ae419e2fc1"
      },
      "source": [
        "execute_cross_validation(svmLinear, XAtachment)"
      ],
      "execution_count": null,
      "outputs": [
        {
          "name": "stderr",
          "output_type": "stream",
          "text": [
            "/usr/local/lib/python3.7/dist-packages/sklearn/svm/_base.py:1208: ConvergenceWarning: Liblinear failed to converge, increase the number of iterations.\n",
            "  ConvergenceWarning,\n",
            "/usr/local/lib/python3.7/dist-packages/sklearn/svm/_base.py:1208: ConvergenceWarning: Liblinear failed to converge, increase the number of iterations.\n",
            "  ConvergenceWarning,\n",
            "/usr/local/lib/python3.7/dist-packages/sklearn/svm/_base.py:1208: ConvergenceWarning: Liblinear failed to converge, increase the number of iterations.\n",
            "  ConvergenceWarning,\n",
            "/usr/local/lib/python3.7/dist-packages/sklearn/svm/_base.py:1208: ConvergenceWarning: Liblinear failed to converge, increase the number of iterations.\n",
            "  ConvergenceWarning,\n",
            "/usr/local/lib/python3.7/dist-packages/sklearn/svm/_base.py:1208: ConvergenceWarning: Liblinear failed to converge, increase the number of iterations.\n",
            "  ConvergenceWarning,\n",
            "/usr/local/lib/python3.7/dist-packages/sklearn/svm/_base.py:1208: ConvergenceWarning: Liblinear failed to converge, increase the number of iterations.\n",
            "  ConvergenceWarning,\n",
            "/usr/local/lib/python3.7/dist-packages/sklearn/svm/_base.py:1208: ConvergenceWarning: Liblinear failed to converge, increase the number of iterations.\n",
            "  ConvergenceWarning,\n",
            "/usr/local/lib/python3.7/dist-packages/sklearn/svm/_base.py:1208: ConvergenceWarning: Liblinear failed to converge, increase the number of iterations.\n",
            "  ConvergenceWarning,\n",
            "/usr/local/lib/python3.7/dist-packages/sklearn/svm/_base.py:1208: ConvergenceWarning: Liblinear failed to converge, increase the number of iterations.\n",
            "  ConvergenceWarning,\n",
            "/usr/local/lib/python3.7/dist-packages/sklearn/svm/_base.py:1208: ConvergenceWarning: Liblinear failed to converge, increase the number of iterations.\n",
            "  ConvergenceWarning,\n",
            "/usr/local/lib/python3.7/dist-packages/sklearn/svm/_base.py:1208: ConvergenceWarning: Liblinear failed to converge, increase the number of iterations.\n",
            "  ConvergenceWarning,\n",
            "/usr/local/lib/python3.7/dist-packages/sklearn/svm/_base.py:1208: ConvergenceWarning: Liblinear failed to converge, increase the number of iterations.\n",
            "  ConvergenceWarning,\n",
            "/usr/local/lib/python3.7/dist-packages/sklearn/svm/_base.py:1208: ConvergenceWarning: Liblinear failed to converge, increase the number of iterations.\n",
            "  ConvergenceWarning,\n",
            "/usr/local/lib/python3.7/dist-packages/sklearn/svm/_base.py:1208: ConvergenceWarning: Liblinear failed to converge, increase the number of iterations.\n",
            "  ConvergenceWarning,\n",
            "/usr/local/lib/python3.7/dist-packages/sklearn/svm/_base.py:1208: ConvergenceWarning: Liblinear failed to converge, increase the number of iterations.\n",
            "  ConvergenceWarning,\n",
            "/usr/local/lib/python3.7/dist-packages/sklearn/svm/_base.py:1208: ConvergenceWarning: Liblinear failed to converge, increase the number of iterations.\n",
            "  ConvergenceWarning,\n",
            "/usr/local/lib/python3.7/dist-packages/sklearn/svm/_base.py:1208: ConvergenceWarning: Liblinear failed to converge, increase the number of iterations.\n",
            "  ConvergenceWarning,\n",
            "/usr/local/lib/python3.7/dist-packages/sklearn/svm/_base.py:1208: ConvergenceWarning: Liblinear failed to converge, increase the number of iterations.\n",
            "  ConvergenceWarning,\n",
            "/usr/local/lib/python3.7/dist-packages/sklearn/svm/_base.py:1208: ConvergenceWarning: Liblinear failed to converge, increase the number of iterations.\n",
            "  ConvergenceWarning,\n",
            "/usr/local/lib/python3.7/dist-packages/sklearn/svm/_base.py:1208: ConvergenceWarning: Liblinear failed to converge, increase the number of iterations.\n",
            "  ConvergenceWarning,\n",
            "/usr/local/lib/python3.7/dist-packages/sklearn/svm/_base.py:1208: ConvergenceWarning: Liblinear failed to converge, increase the number of iterations.\n",
            "  ConvergenceWarning,\n",
            "/usr/local/lib/python3.7/dist-packages/sklearn/svm/_base.py:1208: ConvergenceWarning: Liblinear failed to converge, increase the number of iterations.\n",
            "  ConvergenceWarning,\n",
            "/usr/local/lib/python3.7/dist-packages/sklearn/svm/_base.py:1208: ConvergenceWarning: Liblinear failed to converge, increase the number of iterations.\n",
            "  ConvergenceWarning,\n",
            "/usr/local/lib/python3.7/dist-packages/sklearn/svm/_base.py:1208: ConvergenceWarning: Liblinear failed to converge, increase the number of iterations.\n",
            "  ConvergenceWarning,\n",
            "/usr/local/lib/python3.7/dist-packages/sklearn/svm/_base.py:1208: ConvergenceWarning: Liblinear failed to converge, increase the number of iterations.\n",
            "  ConvergenceWarning,\n",
            "/usr/local/lib/python3.7/dist-packages/sklearn/svm/_base.py:1208: ConvergenceWarning: Liblinear failed to converge, increase the number of iterations.\n",
            "  ConvergenceWarning,\n",
            "/usr/local/lib/python3.7/dist-packages/sklearn/svm/_base.py:1208: ConvergenceWarning: Liblinear failed to converge, increase the number of iterations.\n",
            "  ConvergenceWarning,\n",
            "/usr/local/lib/python3.7/dist-packages/sklearn/svm/_base.py:1208: ConvergenceWarning: Liblinear failed to converge, increase the number of iterations.\n",
            "  ConvergenceWarning,\n",
            "/usr/local/lib/python3.7/dist-packages/sklearn/svm/_base.py:1208: ConvergenceWarning: Liblinear failed to converge, increase the number of iterations.\n",
            "  ConvergenceWarning,\n"
          ]
        },
        {
          "name": "stdout",
          "output_type": "stream",
          "text": [
            "elapsed time:  0:09:07.097413\n",
            "Mean results\n",
            "Precision:  51.0  recall:  22.0  f-measure:  28.999999999999996\n",
            "Mean results\n",
            "Precision:  0.5067146948283692  recall:  0.2192407650749332  f-measure:  0.2865634609309794\n",
            "Precision max:  0.596100278551532\n",
            "Precision min:  0.4397076735688185\n",
            "recall max:  1.0\n",
            "recall min:  0.0\n",
            "f-measure max:  0.6702586206896551\n",
            "f-measure min:  0.0\n",
            "f-measure standard deviation:  0.2533955102180366\n",
            "f-measure standard variance:  0.06420928459865909\n"
          ]
        },
        {
          "name": "stderr",
          "output_type": "stream",
          "text": [
            "/usr/local/lib/python3.7/dist-packages/sklearn/svm/_base.py:1208: ConvergenceWarning: Liblinear failed to converge, increase the number of iterations.\n",
            "  ConvergenceWarning,\n"
          ]
        }
      ]
    },
    {
      "cell_type": "code",
      "metadata": {
        "colab": {
          "base_uri": "https://localhost:8080/"
        },
        "id": "E9iCFfWmhgjs",
        "outputId": "9b8e6935-8609-41da-802f-5115a355fd49"
      },
      "source": [
        "execute_cross_validation(svmLinear, XCC)"
      ],
      "execution_count": null,
      "outputs": [
        {
          "name": "stderr",
          "output_type": "stream",
          "text": [
            "/usr/local/lib/python3.7/dist-packages/sklearn/svm/_base.py:1208: ConvergenceWarning: Liblinear failed to converge, increase the number of iterations.\n",
            "  ConvergenceWarning,\n",
            "/usr/local/lib/python3.7/dist-packages/sklearn/svm/_base.py:1208: ConvergenceWarning: Liblinear failed to converge, increase the number of iterations.\n",
            "  ConvergenceWarning,\n",
            "/usr/local/lib/python3.7/dist-packages/sklearn/svm/_base.py:1208: ConvergenceWarning: Liblinear failed to converge, increase the number of iterations.\n",
            "  ConvergenceWarning,\n",
            "/usr/local/lib/python3.7/dist-packages/sklearn/svm/_base.py:1208: ConvergenceWarning: Liblinear failed to converge, increase the number of iterations.\n",
            "  ConvergenceWarning,\n",
            "/usr/local/lib/python3.7/dist-packages/sklearn/svm/_base.py:1208: ConvergenceWarning: Liblinear failed to converge, increase the number of iterations.\n",
            "  ConvergenceWarning,\n",
            "/usr/local/lib/python3.7/dist-packages/sklearn/svm/_base.py:1208: ConvergenceWarning: Liblinear failed to converge, increase the number of iterations.\n",
            "  ConvergenceWarning,\n",
            "/usr/local/lib/python3.7/dist-packages/sklearn/svm/_base.py:1208: ConvergenceWarning: Liblinear failed to converge, increase the number of iterations.\n",
            "  ConvergenceWarning,\n",
            "/usr/local/lib/python3.7/dist-packages/sklearn/svm/_base.py:1208: ConvergenceWarning: Liblinear failed to converge, increase the number of iterations.\n",
            "  ConvergenceWarning,\n",
            "/usr/local/lib/python3.7/dist-packages/sklearn/svm/_base.py:1208: ConvergenceWarning: Liblinear failed to converge, increase the number of iterations.\n",
            "  ConvergenceWarning,\n",
            "/usr/local/lib/python3.7/dist-packages/sklearn/svm/_base.py:1208: ConvergenceWarning: Liblinear failed to converge, increase the number of iterations.\n",
            "  ConvergenceWarning,\n",
            "/usr/local/lib/python3.7/dist-packages/sklearn/svm/_base.py:1208: ConvergenceWarning: Liblinear failed to converge, increase the number of iterations.\n",
            "  ConvergenceWarning,\n",
            "/usr/local/lib/python3.7/dist-packages/sklearn/svm/_base.py:1208: ConvergenceWarning: Liblinear failed to converge, increase the number of iterations.\n",
            "  ConvergenceWarning,\n",
            "/usr/local/lib/python3.7/dist-packages/sklearn/svm/_base.py:1208: ConvergenceWarning: Liblinear failed to converge, increase the number of iterations.\n",
            "  ConvergenceWarning,\n",
            "/usr/local/lib/python3.7/dist-packages/sklearn/svm/_base.py:1208: ConvergenceWarning: Liblinear failed to converge, increase the number of iterations.\n",
            "  ConvergenceWarning,\n",
            "/usr/local/lib/python3.7/dist-packages/sklearn/svm/_base.py:1208: ConvergenceWarning: Liblinear failed to converge, increase the number of iterations.\n",
            "  ConvergenceWarning,\n",
            "/usr/local/lib/python3.7/dist-packages/sklearn/svm/_base.py:1208: ConvergenceWarning: Liblinear failed to converge, increase the number of iterations.\n",
            "  ConvergenceWarning,\n",
            "/usr/local/lib/python3.7/dist-packages/sklearn/svm/_base.py:1208: ConvergenceWarning: Liblinear failed to converge, increase the number of iterations.\n",
            "  ConvergenceWarning,\n",
            "/usr/local/lib/python3.7/dist-packages/sklearn/svm/_base.py:1208: ConvergenceWarning: Liblinear failed to converge, increase the number of iterations.\n",
            "  ConvergenceWarning,\n",
            "/usr/local/lib/python3.7/dist-packages/sklearn/svm/_base.py:1208: ConvergenceWarning: Liblinear failed to converge, increase the number of iterations.\n",
            "  ConvergenceWarning,\n",
            "/usr/local/lib/python3.7/dist-packages/sklearn/svm/_base.py:1208: ConvergenceWarning: Liblinear failed to converge, increase the number of iterations.\n",
            "  ConvergenceWarning,\n",
            "/usr/local/lib/python3.7/dist-packages/sklearn/svm/_base.py:1208: ConvergenceWarning: Liblinear failed to converge, increase the number of iterations.\n",
            "  ConvergenceWarning,\n",
            "/usr/local/lib/python3.7/dist-packages/sklearn/svm/_base.py:1208: ConvergenceWarning: Liblinear failed to converge, increase the number of iterations.\n",
            "  ConvergenceWarning,\n",
            "/usr/local/lib/python3.7/dist-packages/sklearn/svm/_base.py:1208: ConvergenceWarning: Liblinear failed to converge, increase the number of iterations.\n",
            "  ConvergenceWarning,\n",
            "/usr/local/lib/python3.7/dist-packages/sklearn/svm/_base.py:1208: ConvergenceWarning: Liblinear failed to converge, increase the number of iterations.\n",
            "  ConvergenceWarning,\n",
            "/usr/local/lib/python3.7/dist-packages/sklearn/svm/_base.py:1208: ConvergenceWarning: Liblinear failed to converge, increase the number of iterations.\n",
            "  ConvergenceWarning,\n",
            "/usr/local/lib/python3.7/dist-packages/sklearn/svm/_base.py:1208: ConvergenceWarning: Liblinear failed to converge, increase the number of iterations.\n",
            "  ConvergenceWarning,\n",
            "/usr/local/lib/python3.7/dist-packages/sklearn/svm/_base.py:1208: ConvergenceWarning: Liblinear failed to converge, increase the number of iterations.\n",
            "  ConvergenceWarning,\n",
            "/usr/local/lib/python3.7/dist-packages/sklearn/svm/_base.py:1208: ConvergenceWarning: Liblinear failed to converge, increase the number of iterations.\n",
            "  ConvergenceWarning,\n",
            "/usr/local/lib/python3.7/dist-packages/sklearn/svm/_base.py:1208: ConvergenceWarning: Liblinear failed to converge, increase the number of iterations.\n",
            "  ConvergenceWarning,\n"
          ]
        },
        {
          "name": "stdout",
          "output_type": "stream",
          "text": [
            "elapsed time:  0:09:11.092438\n",
            "Mean results\n",
            "Precision:  50.0  recall:  43.0  f-measure:  48.0\n",
            "Mean results\n",
            "Precision:  0.4961162917192614  recall:  0.4293332584567057  f-measure:  0.47570440044304074\n",
            "Precision max:  0.552479815455594\n",
            "Precision min:  0.4376278118609407\n",
            "recall max:  1.0\n",
            "recall min:  0.001652892561983471\n",
            "f-measure max:  0.6722192369693714\n",
            "f-measure min:  0.0\n",
            "f-measure standard deviation:  0.21787706615010202\n",
            "f-measure standard variance:  0.047470415954175935\n"
          ]
        },
        {
          "name": "stderr",
          "output_type": "stream",
          "text": [
            "/usr/local/lib/python3.7/dist-packages/sklearn/svm/_base.py:1208: ConvergenceWarning: Liblinear failed to converge, increase the number of iterations.\n",
            "  ConvergenceWarning,\n"
          ]
        }
      ]
    },
    {
      "cell_type": "code",
      "metadata": {
        "colab": {
          "base_uri": "https://localhost:8080/"
        },
        "id": "lO0rfeEChhRJ",
        "outputId": "1634f091-f486-488c-abd5-e9647bb60c21"
      },
      "source": [
        "execute_cross_validation(svmLinear, XratingAvg)"
      ],
      "execution_count": null,
      "outputs": [
        {
          "name": "stderr",
          "output_type": "stream",
          "text": [
            "/usr/local/lib/python3.7/dist-packages/sklearn/svm/_base.py:1208: ConvergenceWarning: Liblinear failed to converge, increase the number of iterations.\n",
            "  ConvergenceWarning,\n",
            "/usr/local/lib/python3.7/dist-packages/sklearn/svm/_base.py:1208: ConvergenceWarning: Liblinear failed to converge, increase the number of iterations.\n",
            "  ConvergenceWarning,\n",
            "/usr/local/lib/python3.7/dist-packages/sklearn/svm/_base.py:1208: ConvergenceWarning: Liblinear failed to converge, increase the number of iterations.\n",
            "  ConvergenceWarning,\n",
            "/usr/local/lib/python3.7/dist-packages/sklearn/svm/_base.py:1208: ConvergenceWarning: Liblinear failed to converge, increase the number of iterations.\n",
            "  ConvergenceWarning,\n",
            "/usr/local/lib/python3.7/dist-packages/sklearn/svm/_base.py:1208: ConvergenceWarning: Liblinear failed to converge, increase the number of iterations.\n",
            "  ConvergenceWarning,\n",
            "/usr/local/lib/python3.7/dist-packages/sklearn/svm/_base.py:1208: ConvergenceWarning: Liblinear failed to converge, increase the number of iterations.\n",
            "  ConvergenceWarning,\n",
            "/usr/local/lib/python3.7/dist-packages/sklearn/svm/_base.py:1208: ConvergenceWarning: Liblinear failed to converge, increase the number of iterations.\n",
            "  ConvergenceWarning,\n",
            "/usr/local/lib/python3.7/dist-packages/sklearn/svm/_base.py:1208: ConvergenceWarning: Liblinear failed to converge, increase the number of iterations.\n",
            "  ConvergenceWarning,\n",
            "/usr/local/lib/python3.7/dist-packages/sklearn/svm/_base.py:1208: ConvergenceWarning: Liblinear failed to converge, increase the number of iterations.\n",
            "  ConvergenceWarning,\n",
            "/usr/local/lib/python3.7/dist-packages/sklearn/svm/_base.py:1208: ConvergenceWarning: Liblinear failed to converge, increase the number of iterations.\n",
            "  ConvergenceWarning,\n",
            "/usr/local/lib/python3.7/dist-packages/sklearn/svm/_base.py:1208: ConvergenceWarning: Liblinear failed to converge, increase the number of iterations.\n",
            "  ConvergenceWarning,\n",
            "/usr/local/lib/python3.7/dist-packages/sklearn/svm/_base.py:1208: ConvergenceWarning: Liblinear failed to converge, increase the number of iterations.\n",
            "  ConvergenceWarning,\n",
            "/usr/local/lib/python3.7/dist-packages/sklearn/svm/_base.py:1208: ConvergenceWarning: Liblinear failed to converge, increase the number of iterations.\n",
            "  ConvergenceWarning,\n",
            "/usr/local/lib/python3.7/dist-packages/sklearn/svm/_base.py:1208: ConvergenceWarning: Liblinear failed to converge, increase the number of iterations.\n",
            "  ConvergenceWarning,\n",
            "/usr/local/lib/python3.7/dist-packages/sklearn/svm/_base.py:1208: ConvergenceWarning: Liblinear failed to converge, increase the number of iterations.\n",
            "  ConvergenceWarning,\n",
            "/usr/local/lib/python3.7/dist-packages/sklearn/svm/_base.py:1208: ConvergenceWarning: Liblinear failed to converge, increase the number of iterations.\n",
            "  ConvergenceWarning,\n",
            "/usr/local/lib/python3.7/dist-packages/sklearn/svm/_base.py:1208: ConvergenceWarning: Liblinear failed to converge, increase the number of iterations.\n",
            "  ConvergenceWarning,\n",
            "/usr/local/lib/python3.7/dist-packages/sklearn/svm/_base.py:1208: ConvergenceWarning: Liblinear failed to converge, increase the number of iterations.\n",
            "  ConvergenceWarning,\n",
            "/usr/local/lib/python3.7/dist-packages/sklearn/svm/_base.py:1208: ConvergenceWarning: Liblinear failed to converge, increase the number of iterations.\n",
            "  ConvergenceWarning,\n",
            "/usr/local/lib/python3.7/dist-packages/sklearn/svm/_base.py:1208: ConvergenceWarning: Liblinear failed to converge, increase the number of iterations.\n",
            "  ConvergenceWarning,\n",
            "/usr/local/lib/python3.7/dist-packages/sklearn/svm/_base.py:1208: ConvergenceWarning: Liblinear failed to converge, increase the number of iterations.\n",
            "  ConvergenceWarning,\n",
            "/usr/local/lib/python3.7/dist-packages/sklearn/svm/_base.py:1208: ConvergenceWarning: Liblinear failed to converge, increase the number of iterations.\n",
            "  ConvergenceWarning,\n",
            "/usr/local/lib/python3.7/dist-packages/sklearn/svm/_base.py:1208: ConvergenceWarning: Liblinear failed to converge, increase the number of iterations.\n",
            "  ConvergenceWarning,\n",
            "/usr/local/lib/python3.7/dist-packages/sklearn/svm/_base.py:1208: ConvergenceWarning: Liblinear failed to converge, increase the number of iterations.\n",
            "  ConvergenceWarning,\n",
            "/usr/local/lib/python3.7/dist-packages/sklearn/svm/_base.py:1208: ConvergenceWarning: Liblinear failed to converge, increase the number of iterations.\n",
            "  ConvergenceWarning,\n",
            "/usr/local/lib/python3.7/dist-packages/sklearn/svm/_base.py:1208: ConvergenceWarning: Liblinear failed to converge, increase the number of iterations.\n",
            "  ConvergenceWarning,\n",
            "/usr/local/lib/python3.7/dist-packages/sklearn/svm/_base.py:1208: ConvergenceWarning: Liblinear failed to converge, increase the number of iterations.\n",
            "  ConvergenceWarning,\n",
            "/usr/local/lib/python3.7/dist-packages/sklearn/svm/_base.py:1208: ConvergenceWarning: Liblinear failed to converge, increase the number of iterations.\n",
            "  ConvergenceWarning,\n",
            "/usr/local/lib/python3.7/dist-packages/sklearn/svm/_base.py:1208: ConvergenceWarning: Liblinear failed to converge, increase the number of iterations.\n",
            "  ConvergenceWarning,\n"
          ]
        },
        {
          "name": "stdout",
          "output_type": "stream",
          "text": [
            "elapsed time:  0:10:35.314400\n",
            "Mean results\n",
            "Precision:  59.0  recall:  68.0  f-measure:  43.0\n",
            "Mean results\n",
            "Precision:  0.5926611542029546  recall:  0.6764176713786147  f-measure:  0.4331677041841357\n",
            "Precision max:  1.0\n",
            "Precision min:  0.477992277992278\n",
            "recall max:  1.0\n",
            "recall min:  0.16286919831223629\n",
            "f-measure max:  0.6697173620457605\n",
            "f-measure min:  0.01129032258064516\n",
            "f-measure standard deviation:  0.25697347467946396\n",
            "f-measure standard variance:  0.06603536668883711\n"
          ]
        },
        {
          "name": "stderr",
          "output_type": "stream",
          "text": [
            "/usr/local/lib/python3.7/dist-packages/sklearn/svm/_base.py:1208: ConvergenceWarning: Liblinear failed to converge, increase the number of iterations.\n",
            "  ConvergenceWarning,\n"
          ]
        }
      ]
    },
    {
      "cell_type": "code",
      "metadata": {
        "colab": {
          "base_uri": "https://localhost:8080/"
        },
        "id": "QWefrjxthhsg",
        "outputId": "f2f806c9-189a-4964-8c61-304e9ee38b5c"
      },
      "source": [
        "execute_cross_validation(svmLinear, X_text)"
      ],
      "execution_count": null,
      "outputs": [
        {
          "name": "stdout",
          "output_type": "stream",
          "text": [
            "elapsed time:  0:00:19.861427\n",
            "Mean results\n",
            "Precision:  59.0  recall:  57.99999999999999  f-measure:  59.0\n",
            "Mean results\n",
            "Precision:  0.5854951681186777  recall:  0.5821106481185703  f-measure:  0.5870722713457297\n",
            "Precision max:  0.6066613798572561\n",
            "Precision min:  0.5636658556366586\n",
            "recall max:  0.607950116913484\n",
            "recall min:  0.5619208087615838\n",
            "f-measure max:  0.6011513157894737\n",
            "f-measure min:  0.5748652011613438\n",
            "f-measure standard deviation:  0.008985883382638733\n",
            "f-measure standard variance:  8.074610016638292e-05\n"
          ]
        }
      ]
    },
    {
      "cell_type": "code",
      "metadata": {
        "colab": {
          "base_uri": "https://localhost:8080/"
        },
        "id": "xFfyUd1chiYl",
        "outputId": "3ad99293-c419-4abf-b825-a533a4d85b50"
      },
      "source": [
        "execute_cross_validation(svmLinear, Xtogether)"
      ],
      "execution_count": null,
      "outputs": [
        {
          "name": "stderr",
          "output_type": "stream",
          "text": [
            "/usr/local/lib/python3.7/dist-packages/sklearn/svm/_base.py:1208: ConvergenceWarning: Liblinear failed to converge, increase the number of iterations.\n",
            "  ConvergenceWarning,\n",
            "/usr/local/lib/python3.7/dist-packages/sklearn/svm/_base.py:1208: ConvergenceWarning: Liblinear failed to converge, increase the number of iterations.\n",
            "  ConvergenceWarning,\n",
            "/usr/local/lib/python3.7/dist-packages/sklearn/svm/_base.py:1208: ConvergenceWarning: Liblinear failed to converge, increase the number of iterations.\n",
            "  ConvergenceWarning,\n",
            "/usr/local/lib/python3.7/dist-packages/sklearn/svm/_base.py:1208: ConvergenceWarning: Liblinear failed to converge, increase the number of iterations.\n",
            "  ConvergenceWarning,\n",
            "/usr/local/lib/python3.7/dist-packages/sklearn/svm/_base.py:1208: ConvergenceWarning: Liblinear failed to converge, increase the number of iterations.\n",
            "  ConvergenceWarning,\n",
            "/usr/local/lib/python3.7/dist-packages/sklearn/svm/_base.py:1208: ConvergenceWarning: Liblinear failed to converge, increase the number of iterations.\n",
            "  ConvergenceWarning,\n",
            "/usr/local/lib/python3.7/dist-packages/sklearn/svm/_base.py:1208: ConvergenceWarning: Liblinear failed to converge, increase the number of iterations.\n",
            "  ConvergenceWarning,\n",
            "/usr/local/lib/python3.7/dist-packages/sklearn/svm/_base.py:1208: ConvergenceWarning: Liblinear failed to converge, increase the number of iterations.\n",
            "  ConvergenceWarning,\n",
            "/usr/local/lib/python3.7/dist-packages/sklearn/svm/_base.py:1208: ConvergenceWarning: Liblinear failed to converge, increase the number of iterations.\n",
            "  ConvergenceWarning,\n",
            "/usr/local/lib/python3.7/dist-packages/sklearn/svm/_base.py:1208: ConvergenceWarning: Liblinear failed to converge, increase the number of iterations.\n",
            "  ConvergenceWarning,\n",
            "/usr/local/lib/python3.7/dist-packages/sklearn/metrics/_classification.py:1308: UndefinedMetricWarning: Precision is ill-defined and being set to 0.0 due to no predicted samples. Use `zero_division` parameter to control this behavior.\n",
            "  _warn_prf(average, modifier, msg_start, len(result))\n",
            "/usr/local/lib/python3.7/dist-packages/sklearn/svm/_base.py:1208: ConvergenceWarning: Liblinear failed to converge, increase the number of iterations.\n",
            "  ConvergenceWarning,\n",
            "/usr/local/lib/python3.7/dist-packages/sklearn/svm/_base.py:1208: ConvergenceWarning: Liblinear failed to converge, increase the number of iterations.\n",
            "  ConvergenceWarning,\n",
            "/usr/local/lib/python3.7/dist-packages/sklearn/svm/_base.py:1208: ConvergenceWarning: Liblinear failed to converge, increase the number of iterations.\n",
            "  ConvergenceWarning,\n",
            "/usr/local/lib/python3.7/dist-packages/sklearn/svm/_base.py:1208: ConvergenceWarning: Liblinear failed to converge, increase the number of iterations.\n",
            "  ConvergenceWarning,\n",
            "/usr/local/lib/python3.7/dist-packages/sklearn/svm/_base.py:1208: ConvergenceWarning: Liblinear failed to converge, increase the number of iterations.\n",
            "  ConvergenceWarning,\n",
            "/usr/local/lib/python3.7/dist-packages/sklearn/svm/_base.py:1208: ConvergenceWarning: Liblinear failed to converge, increase the number of iterations.\n",
            "  ConvergenceWarning,\n",
            "/usr/local/lib/python3.7/dist-packages/sklearn/svm/_base.py:1208: ConvergenceWarning: Liblinear failed to converge, increase the number of iterations.\n",
            "  ConvergenceWarning,\n",
            "/usr/local/lib/python3.7/dist-packages/sklearn/svm/_base.py:1208: ConvergenceWarning: Liblinear failed to converge, increase the number of iterations.\n",
            "  ConvergenceWarning,\n",
            "/usr/local/lib/python3.7/dist-packages/sklearn/svm/_base.py:1208: ConvergenceWarning: Liblinear failed to converge, increase the number of iterations.\n",
            "  ConvergenceWarning,\n",
            "/usr/local/lib/python3.7/dist-packages/sklearn/svm/_base.py:1208: ConvergenceWarning: Liblinear failed to converge, increase the number of iterations.\n",
            "  ConvergenceWarning,\n",
            "/usr/local/lib/python3.7/dist-packages/sklearn/svm/_base.py:1208: ConvergenceWarning: Liblinear failed to converge, increase the number of iterations.\n",
            "  ConvergenceWarning,\n",
            "/usr/local/lib/python3.7/dist-packages/sklearn/svm/_base.py:1208: ConvergenceWarning: Liblinear failed to converge, increase the number of iterations.\n",
            "  ConvergenceWarning,\n",
            "/usr/local/lib/python3.7/dist-packages/sklearn/svm/_base.py:1208: ConvergenceWarning: Liblinear failed to converge, increase the number of iterations.\n",
            "  ConvergenceWarning,\n",
            "/usr/local/lib/python3.7/dist-packages/sklearn/svm/_base.py:1208: ConvergenceWarning: Liblinear failed to converge, increase the number of iterations.\n",
            "  ConvergenceWarning,\n",
            "/usr/local/lib/python3.7/dist-packages/sklearn/svm/_base.py:1208: ConvergenceWarning: Liblinear failed to converge, increase the number of iterations.\n",
            "  ConvergenceWarning,\n",
            "/usr/local/lib/python3.7/dist-packages/sklearn/svm/_base.py:1208: ConvergenceWarning: Liblinear failed to converge, increase the number of iterations.\n",
            "  ConvergenceWarning,\n",
            "/usr/local/lib/python3.7/dist-packages/sklearn/svm/_base.py:1208: ConvergenceWarning: Liblinear failed to converge, increase the number of iterations.\n",
            "  ConvergenceWarning,\n",
            "/usr/local/lib/python3.7/dist-packages/sklearn/svm/_base.py:1208: ConvergenceWarning: Liblinear failed to converge, increase the number of iterations.\n",
            "  ConvergenceWarning,\n",
            "/usr/local/lib/python3.7/dist-packages/sklearn/svm/_base.py:1208: ConvergenceWarning: Liblinear failed to converge, increase the number of iterations.\n",
            "  ConvergenceWarning,\n"
          ]
        },
        {
          "name": "stdout",
          "output_type": "stream",
          "text": [
            "elapsed time:  0:12:25.144274\n",
            "Mean results\n",
            "Precision:  49.0  recall:  47.0  f-measure:  43.0\n",
            "Mean results\n",
            "Precision:  0.4870561632146314  recall:  0.46813301138027485  f-measure:  0.4269703000260499\n",
            "Precision max:  0.6169354838709677\n",
            "Precision min:  0.0\n",
            "recall max:  1.0\n",
            "recall min:  0.0\n",
            "f-measure max:  0.6713169642857143\n",
            "f-measure min:  0.021604938271604937\n",
            "f-measure standard deviation:  0.2614556817430375\n",
            "f-measure standard variance:  0.06835907351571653\n"
          ]
        },
        {
          "name": "stderr",
          "output_type": "stream",
          "text": [
            "/usr/local/lib/python3.7/dist-packages/sklearn/svm/_base.py:1208: ConvergenceWarning: Liblinear failed to converge, increase the number of iterations.\n",
            "  ConvergenceWarning,\n"
          ]
        }
      ]
    },
    {
      "cell_type": "code",
      "metadata": {
        "colab": {
          "base_uri": "https://localhost:8080/"
        },
        "id": "E_I_Drbehtxe",
        "outputId": "f2d0d0d5-a235-4a63-8f51-74f258e87aa5"
      },
      "source": [
        "execute_cross_validation(svmLinear, X_text_reputation)"
      ],
      "execution_count": null,
      "outputs": [
        {
          "name": "stderr",
          "output_type": "stream",
          "text": [
            "/usr/local/lib/python3.7/dist-packages/sklearn/svm/_base.py:1208: ConvergenceWarning: Liblinear failed to converge, increase the number of iterations.\n",
            "  ConvergenceWarning,\n",
            "/usr/local/lib/python3.7/dist-packages/sklearn/svm/_base.py:1208: ConvergenceWarning: Liblinear failed to converge, increase the number of iterations.\n",
            "  ConvergenceWarning,\n",
            "/usr/local/lib/python3.7/dist-packages/sklearn/svm/_base.py:1208: ConvergenceWarning: Liblinear failed to converge, increase the number of iterations.\n",
            "  ConvergenceWarning,\n",
            "/usr/local/lib/python3.7/dist-packages/sklearn/svm/_base.py:1208: ConvergenceWarning: Liblinear failed to converge, increase the number of iterations.\n",
            "  ConvergenceWarning,\n",
            "/usr/local/lib/python3.7/dist-packages/sklearn/svm/_base.py:1208: ConvergenceWarning: Liblinear failed to converge, increase the number of iterations.\n",
            "  ConvergenceWarning,\n",
            "/usr/local/lib/python3.7/dist-packages/sklearn/metrics/_classification.py:1308: UndefinedMetricWarning: Precision is ill-defined and being set to 0.0 due to no predicted samples. Use `zero_division` parameter to control this behavior.\n",
            "  _warn_prf(average, modifier, msg_start, len(result))\n",
            "/usr/local/lib/python3.7/dist-packages/sklearn/svm/_base.py:1208: ConvergenceWarning: Liblinear failed to converge, increase the number of iterations.\n",
            "  ConvergenceWarning,\n",
            "/usr/local/lib/python3.7/dist-packages/sklearn/svm/_base.py:1208: ConvergenceWarning: Liblinear failed to converge, increase the number of iterations.\n",
            "  ConvergenceWarning,\n",
            "/usr/local/lib/python3.7/dist-packages/sklearn/svm/_base.py:1208: ConvergenceWarning: Liblinear failed to converge, increase the number of iterations.\n",
            "  ConvergenceWarning,\n",
            "/usr/local/lib/python3.7/dist-packages/sklearn/svm/_base.py:1208: ConvergenceWarning: Liblinear failed to converge, increase the number of iterations.\n",
            "  ConvergenceWarning,\n",
            "/usr/local/lib/python3.7/dist-packages/sklearn/svm/_base.py:1208: ConvergenceWarning: Liblinear failed to converge, increase the number of iterations.\n",
            "  ConvergenceWarning,\n",
            "/usr/local/lib/python3.7/dist-packages/sklearn/svm/_base.py:1208: ConvergenceWarning: Liblinear failed to converge, increase the number of iterations.\n",
            "  ConvergenceWarning,\n",
            "/usr/local/lib/python3.7/dist-packages/sklearn/svm/_base.py:1208: ConvergenceWarning: Liblinear failed to converge, increase the number of iterations.\n",
            "  ConvergenceWarning,\n",
            "/usr/local/lib/python3.7/dist-packages/sklearn/svm/_base.py:1208: ConvergenceWarning: Liblinear failed to converge, increase the number of iterations.\n",
            "  ConvergenceWarning,\n",
            "/usr/local/lib/python3.7/dist-packages/sklearn/svm/_base.py:1208: ConvergenceWarning: Liblinear failed to converge, increase the number of iterations.\n",
            "  ConvergenceWarning,\n",
            "/usr/local/lib/python3.7/dist-packages/sklearn/svm/_base.py:1208: ConvergenceWarning: Liblinear failed to converge, increase the number of iterations.\n",
            "  ConvergenceWarning,\n",
            "/usr/local/lib/python3.7/dist-packages/sklearn/svm/_base.py:1208: ConvergenceWarning: Liblinear failed to converge, increase the number of iterations.\n",
            "  ConvergenceWarning,\n",
            "/usr/local/lib/python3.7/dist-packages/sklearn/svm/_base.py:1208: ConvergenceWarning: Liblinear failed to converge, increase the number of iterations.\n",
            "  ConvergenceWarning,\n",
            "/usr/local/lib/python3.7/dist-packages/sklearn/svm/_base.py:1208: ConvergenceWarning: Liblinear failed to converge, increase the number of iterations.\n",
            "  ConvergenceWarning,\n",
            "/usr/local/lib/python3.7/dist-packages/sklearn/svm/_base.py:1208: ConvergenceWarning: Liblinear failed to converge, increase the number of iterations.\n",
            "  ConvergenceWarning,\n",
            "/usr/local/lib/python3.7/dist-packages/sklearn/svm/_base.py:1208: ConvergenceWarning: Liblinear failed to converge, increase the number of iterations.\n",
            "  ConvergenceWarning,\n",
            "/usr/local/lib/python3.7/dist-packages/sklearn/svm/_base.py:1208: ConvergenceWarning: Liblinear failed to converge, increase the number of iterations.\n",
            "  ConvergenceWarning,\n",
            "/usr/local/lib/python3.7/dist-packages/sklearn/svm/_base.py:1208: ConvergenceWarning: Liblinear failed to converge, increase the number of iterations.\n",
            "  ConvergenceWarning,\n",
            "/usr/local/lib/python3.7/dist-packages/sklearn/svm/_base.py:1208: ConvergenceWarning: Liblinear failed to converge, increase the number of iterations.\n",
            "  ConvergenceWarning,\n",
            "/usr/local/lib/python3.7/dist-packages/sklearn/svm/_base.py:1208: ConvergenceWarning: Liblinear failed to converge, increase the number of iterations.\n",
            "  ConvergenceWarning,\n",
            "/usr/local/lib/python3.7/dist-packages/sklearn/svm/_base.py:1208: ConvergenceWarning: Liblinear failed to converge, increase the number of iterations.\n",
            "  ConvergenceWarning,\n",
            "/usr/local/lib/python3.7/dist-packages/sklearn/svm/_base.py:1208: ConvergenceWarning: Liblinear failed to converge, increase the number of iterations.\n",
            "  ConvergenceWarning,\n",
            "/usr/local/lib/python3.7/dist-packages/sklearn/svm/_base.py:1208: ConvergenceWarning: Liblinear failed to converge, increase the number of iterations.\n",
            "  ConvergenceWarning,\n",
            "/usr/local/lib/python3.7/dist-packages/sklearn/svm/_base.py:1208: ConvergenceWarning: Liblinear failed to converge, increase the number of iterations.\n",
            "  ConvergenceWarning,\n",
            "/usr/local/lib/python3.7/dist-packages/sklearn/svm/_base.py:1208: ConvergenceWarning: Liblinear failed to converge, increase the number of iterations.\n",
            "  ConvergenceWarning,\n"
          ]
        },
        {
          "name": "stdout",
          "output_type": "stream",
          "text": [
            "elapsed time:  0:45:59.989914\n",
            "Mean results\n",
            "Precision:  50.0  recall:  35.0  f-measure:  50.0\n",
            "Mean results\n",
            "Precision:  0.5040511109845539  recall:  0.3480410891459487  f-measure:  0.5035862605156778\n",
            "Precision max:  1.0\n",
            "Precision min:  0.0\n",
            "recall max:  0.9959349593495935\n",
            "recall min:  0.0\n",
            "f-measure max:  0.6514983351831299\n",
            "f-measure min:  0.0\n",
            "f-measure standard deviation:  0.19234753740833593\n",
            "f-measure standard variance:  0.036997575147051195\n"
          ]
        },
        {
          "name": "stderr",
          "output_type": "stream",
          "text": [
            "/usr/local/lib/python3.7/dist-packages/sklearn/svm/_base.py:1208: ConvergenceWarning: Liblinear failed to converge, increase the number of iterations.\n",
            "  ConvergenceWarning,\n"
          ]
        }
      ]
    },
    {
      "cell_type": "code",
      "metadata": {
        "colab": {
          "base_uri": "https://localhost:8080/"
        },
        "id": "kVCfTsNVhuDl",
        "outputId": "1fac96c9-ed9b-4fc3-cbdc-c3348f148966"
      },
      "source": [
        "execute_cross_validation(svmLinear, X_text_rating)"
      ],
      "execution_count": null,
      "outputs": [
        {
          "name": "stderr",
          "output_type": "stream",
          "text": [
            "/usr/local/lib/python3.7/dist-packages/sklearn/svm/_base.py:1208: ConvergenceWarning: Liblinear failed to converge, increase the number of iterations.\n",
            "  ConvergenceWarning,\n",
            "/usr/local/lib/python3.7/dist-packages/sklearn/svm/_base.py:1208: ConvergenceWarning: Liblinear failed to converge, increase the number of iterations.\n",
            "  ConvergenceWarning,\n",
            "/usr/local/lib/python3.7/dist-packages/sklearn/svm/_base.py:1208: ConvergenceWarning: Liblinear failed to converge, increase the number of iterations.\n",
            "  ConvergenceWarning,\n",
            "/usr/local/lib/python3.7/dist-packages/sklearn/svm/_base.py:1208: ConvergenceWarning: Liblinear failed to converge, increase the number of iterations.\n",
            "  ConvergenceWarning,\n",
            "/usr/local/lib/python3.7/dist-packages/sklearn/metrics/_classification.py:1308: UndefinedMetricWarning: Precision is ill-defined and being set to 0.0 due to no predicted samples. Use `zero_division` parameter to control this behavior.\n",
            "  _warn_prf(average, modifier, msg_start, len(result))\n",
            "/usr/local/lib/python3.7/dist-packages/sklearn/svm/_base.py:1208: ConvergenceWarning: Liblinear failed to converge, increase the number of iterations.\n",
            "  ConvergenceWarning,\n",
            "/usr/local/lib/python3.7/dist-packages/sklearn/svm/_base.py:1208: ConvergenceWarning: Liblinear failed to converge, increase the number of iterations.\n",
            "  ConvergenceWarning,\n",
            "/usr/local/lib/python3.7/dist-packages/sklearn/svm/_base.py:1208: ConvergenceWarning: Liblinear failed to converge, increase the number of iterations.\n",
            "  ConvergenceWarning,\n",
            "/usr/local/lib/python3.7/dist-packages/sklearn/svm/_base.py:1208: ConvergenceWarning: Liblinear failed to converge, increase the number of iterations.\n",
            "  ConvergenceWarning,\n",
            "/usr/local/lib/python3.7/dist-packages/sklearn/svm/_base.py:1208: ConvergenceWarning: Liblinear failed to converge, increase the number of iterations.\n",
            "  ConvergenceWarning,\n",
            "/usr/local/lib/python3.7/dist-packages/sklearn/svm/_base.py:1208: ConvergenceWarning: Liblinear failed to converge, increase the number of iterations.\n",
            "  ConvergenceWarning,\n",
            "/usr/local/lib/python3.7/dist-packages/sklearn/svm/_base.py:1208: ConvergenceWarning: Liblinear failed to converge, increase the number of iterations.\n",
            "  ConvergenceWarning,\n",
            "/usr/local/lib/python3.7/dist-packages/sklearn/svm/_base.py:1208: ConvergenceWarning: Liblinear failed to converge, increase the number of iterations.\n",
            "  ConvergenceWarning,\n",
            "/usr/local/lib/python3.7/dist-packages/sklearn/svm/_base.py:1208: ConvergenceWarning: Liblinear failed to converge, increase the number of iterations.\n",
            "  ConvergenceWarning,\n",
            "/usr/local/lib/python3.7/dist-packages/sklearn/svm/_base.py:1208: ConvergenceWarning: Liblinear failed to converge, increase the number of iterations.\n",
            "  ConvergenceWarning,\n",
            "/usr/local/lib/python3.7/dist-packages/sklearn/svm/_base.py:1208: ConvergenceWarning: Liblinear failed to converge, increase the number of iterations.\n",
            "  ConvergenceWarning,\n",
            "/usr/local/lib/python3.7/dist-packages/sklearn/svm/_base.py:1208: ConvergenceWarning: Liblinear failed to converge, increase the number of iterations.\n",
            "  ConvergenceWarning,\n",
            "/usr/local/lib/python3.7/dist-packages/sklearn/svm/_base.py:1208: ConvergenceWarning: Liblinear failed to converge, increase the number of iterations.\n",
            "  ConvergenceWarning,\n",
            "/usr/local/lib/python3.7/dist-packages/sklearn/svm/_base.py:1208: ConvergenceWarning: Liblinear failed to converge, increase the number of iterations.\n",
            "  ConvergenceWarning,\n",
            "/usr/local/lib/python3.7/dist-packages/sklearn/svm/_base.py:1208: ConvergenceWarning: Liblinear failed to converge, increase the number of iterations.\n",
            "  ConvergenceWarning,\n",
            "/usr/local/lib/python3.7/dist-packages/sklearn/svm/_base.py:1208: ConvergenceWarning: Liblinear failed to converge, increase the number of iterations.\n",
            "  ConvergenceWarning,\n",
            "/usr/local/lib/python3.7/dist-packages/sklearn/svm/_base.py:1208: ConvergenceWarning: Liblinear failed to converge, increase the number of iterations.\n",
            "  ConvergenceWarning,\n",
            "/usr/local/lib/python3.7/dist-packages/sklearn/svm/_base.py:1208: ConvergenceWarning: Liblinear failed to converge, increase the number of iterations.\n",
            "  ConvergenceWarning,\n",
            "/usr/local/lib/python3.7/dist-packages/sklearn/svm/_base.py:1208: ConvergenceWarning: Liblinear failed to converge, increase the number of iterations.\n",
            "  ConvergenceWarning,\n",
            "/usr/local/lib/python3.7/dist-packages/sklearn/svm/_base.py:1208: ConvergenceWarning: Liblinear failed to converge, increase the number of iterations.\n",
            "  ConvergenceWarning,\n",
            "/usr/local/lib/python3.7/dist-packages/sklearn/svm/_base.py:1208: ConvergenceWarning: Liblinear failed to converge, increase the number of iterations.\n",
            "  ConvergenceWarning,\n",
            "/usr/local/lib/python3.7/dist-packages/sklearn/svm/_base.py:1208: ConvergenceWarning: Liblinear failed to converge, increase the number of iterations.\n",
            "  ConvergenceWarning,\n",
            "/usr/local/lib/python3.7/dist-packages/sklearn/svm/_base.py:1208: ConvergenceWarning: Liblinear failed to converge, increase the number of iterations.\n",
            "  ConvergenceWarning,\n",
            "/usr/local/lib/python3.7/dist-packages/sklearn/svm/_base.py:1208: ConvergenceWarning: Liblinear failed to converge, increase the number of iterations.\n",
            "  ConvergenceWarning,\n",
            "/usr/local/lib/python3.7/dist-packages/sklearn/svm/_base.py:1208: ConvergenceWarning: Liblinear failed to converge, increase the number of iterations.\n",
            "  ConvergenceWarning,\n"
          ]
        },
        {
          "name": "stdout",
          "output_type": "stream",
          "text": [
            "elapsed time:  0:40:49.328322\n",
            "Mean results\n",
            "Precision:  51.0  recall:  36.0  f-measure:  52.0\n",
            "Mean results\n",
            "Precision:  0.5136031081337703  recall:  0.35975972647568416  f-measure:  0.5208511003739191\n",
            "Precision max:  0.75\n",
            "Precision min:  0.0\n",
            "recall max:  1.0\n",
            "recall min:  0.0\n",
            "f-measure max:  0.6682834815413635\n",
            "f-measure min:  0.0016366612111292963\n",
            "f-measure standard deviation:  0.18817856240044895\n",
            "f-measure standard variance:  0.03541117134709965\n"
          ]
        },
        {
          "name": "stderr",
          "output_type": "stream",
          "text": [
            "/usr/local/lib/python3.7/dist-packages/sklearn/svm/_base.py:1208: ConvergenceWarning: Liblinear failed to converge, increase the number of iterations.\n",
            "  ConvergenceWarning,\n"
          ]
        }
      ]
    },
    {
      "cell_type": "markdown",
      "metadata": {
        "id": "ny9nPliOXztE"
      },
      "source": [
        "#SVM"
      ]
    },
    {
      "cell_type": "code",
      "metadata": {
        "id": "XDvQsjlLB2y-"
      },
      "source": [
        "from sklearn import svm\n",
        "#from sklearn.linear_model import SGDClassifier\n",
        "#from sklearn.svm import LinearSVC"
      ],
      "execution_count": null,
      "outputs": []
    },
    {
      "cell_type": "code",
      "metadata": {
        "id": "6vBQT1laB2y-"
      },
      "source": [
        "svm = svm.SVC(kernel='rbf', cache_size=1000)\n",
        "#svmclf = clf = LinearSVC(verbose=0)\n",
        "#svmclf = svm.SVC(C=1.0, kernel='linear', degree=3, gamma='auto')\n",
        "#svmclf = SGDClassifier(loss='hinge', penalty='l2',alpha=1e-3, random_state=42, max_iter=5, tol=None)"
      ],
      "execution_count": null,
      "outputs": []
    },
    {
      "cell_type": "code",
      "metadata": {
        "colab": {
          "base_uri": "https://localhost:8080/"
        },
        "id": "62TSm9QFB2y-",
        "outputId": "d04cd2f9-e58b-4748-b27e-5f791998ac23"
      },
      "source": [
        "execute_cross_validation(svm, Xnormal)"
      ],
      "execution_count": null,
      "outputs": [
        {
          "name": "stdout",
          "output_type": "stream",
          "text": [
            "elapsed time:  0:20:08.854171\n",
            "Mean results\n",
            "Precision:  56.00000000000001  recall:  41.0  f-measure:  47.0\n",
            "Mean results\n",
            "Precision:  0.5615763927142393  recall:  0.41067440741551114  f-measure:  0.474319340332915\n",
            "Precision max:  0.5886363636363636\n",
            "Precision min:  0.5339470655926352\n",
            "recall max:  0.43832236842105265\n",
            "recall min:  0.3832145684877276\n",
            "f-measure max:  0.49606663581675153\n",
            "f-measure min:  0.4486803519061584\n",
            "f-measure standard deviation:  0.012513138662624419\n",
            "f-measure standard variance:  0.00015657863919006605\n"
          ]
        }
      ]
    },
    {
      "cell_type": "code",
      "metadata": {
        "colab": {
          "base_uri": "https://localhost:8080/"
        },
        "id": "4B8oRpE4zw6b",
        "outputId": "cee76fbe-fe2f-4108-db8d-c7c421ca30c7"
      },
      "source": [
        "execute_cross_validation(svm, Xreporter_reputation)"
      ],
      "execution_count": null,
      "outputs": [
        {
          "name": "stdout",
          "output_type": "stream",
          "text": [
            "elapsed time:  0:20:41.361559\n",
            "Mean results\n",
            "Precision:  56.00000000000001  recall:  41.0  f-measure:  47.0\n",
            "Mean results\n",
            "Precision:  0.5608901451369477  recall:  0.4107010330093699  f-measure:  0.47477183166232323\n",
            "Precision max:  0.5931198102016607\n",
            "Precision min:  0.5401129943502825\n",
            "recall max:  0.4273021001615509\n",
            "recall min:  0.3855421686746988\n",
            "f-measure max:  0.48381128584643845\n",
            "f-measure min:  0.45532319391634984\n",
            "f-measure standard deviation:  0.008962128508680835\n",
            "f-measure standard variance:  8.031974740610975e-05\n"
          ]
        }
      ]
    },
    {
      "cell_type": "code",
      "metadata": {
        "colab": {
          "base_uri": "https://localhost:8080/"
        },
        "id": "nT7nBgu6zy_j",
        "outputId": "03710911-b2fb-4beb-ae32-48a5e59cca71"
      },
      "source": [
        "execute_cross_validation(svm, Xdeveloper_reputation)"
      ],
      "execution_count": null,
      "outputs": [
        {
          "name": "stdout",
          "output_type": "stream",
          "text": [
            "elapsed time:  0:20:39.921975\n",
            "Mean results\n",
            "Precision:  56.00000000000001  recall:  41.0  f-measure:  47.0\n",
            "Mean results\n",
            "Precision:  0.5616642530409584  recall:  0.4104266117767363  f-measure:  0.47434001739426923\n",
            "Precision max:  0.5779294653014789\n",
            "Precision min:  0.5374732334047109\n",
            "recall max:  0.43007275666936134\n",
            "recall min:  0.3800796812749004\n",
            "f-measure max:  0.4906006419073819\n",
            "f-measure min:  0.4599531615925058\n",
            "f-measure standard deviation:  0.008794193198076677\n",
            "f-measure standard variance:  7.73378340050981e-05\n"
          ]
        }
      ]
    },
    {
      "cell_type": "code",
      "metadata": {
        "colab": {
          "base_uri": "https://localhost:8080/"
        },
        "id": "thd_3EnTB2y_",
        "outputId": "a58357c3-b823-4656-b29b-6817ff0ac62e"
      },
      "source": [
        "execute_cross_validation(svm, Xreputation)"
      ],
      "execution_count": null,
      "outputs": [
        {
          "name": "stdout",
          "output_type": "stream",
          "text": [
            "elapsed time:  0:21:28.643193\n",
            "Mean results\n",
            "Precision:  56.00000000000001  recall:  41.0  f-measure:  47.0\n",
            "Mean results\n",
            "Precision:  0.560714712429164  recall:  0.4057654605992084  f-measure:  0.4741741052041366\n",
            "Precision max:  0.5982532751091703\n",
            "Precision min:  0.5231277533039648\n",
            "recall max:  0.4380495603517186\n",
            "recall min:  0.361603700848111\n",
            "f-measure max:  0.4979517523896223\n",
            "f-measure min:  0.46291922531884744\n",
            "f-measure standard deviation:  0.010404351393382057\n",
            "f-measure standard variance:  0.00010825052791697115\n"
          ]
        }
      ]
    },
    {
      "cell_type": "code",
      "metadata": {
        "colab": {
          "base_uri": "https://localhost:8080/"
        },
        "id": "nI9_16GkB2y_",
        "outputId": "40377364-2154-4bed-ccd8-3caeb1280966"
      },
      "source": [
        "execute_cross_validation(svm, Xreporter_rating)"
      ],
      "execution_count": null,
      "outputs": [
        {
          "name": "stdout",
          "output_type": "stream",
          "text": [
            "elapsed time:  0:21:07.788776\n",
            "Mean results\n",
            "Precision:  56.00000000000001  recall:  41.0  f-measure:  47.0\n",
            "Mean results\n",
            "Precision:  0.5619113479173797  recall:  0.41077843889499155  f-measure:  0.4741196254188865\n",
            "Precision max:  0.5921348314606741\n",
            "Precision min:  0.5389908256880734\n",
            "recall max:  0.43007275666936134\n",
            "recall min:  0.3863822805578343\n",
            "f-measure max:  0.4995507637017071\n",
            "f-measure min:  0.44061481136469494\n",
            "f-measure standard deviation:  0.01545207669410721\n",
            "f-measure standard variance:  0.00023876667416057118\n"
          ]
        }
      ]
    },
    {
      "cell_type": "code",
      "metadata": {
        "colab": {
          "base_uri": "https://localhost:8080/"
        },
        "id": "7QaRovY1B2y_",
        "outputId": "7974358f-23ce-4272-a7a0-86a437a8770f"
      },
      "source": [
        "execute_cross_validation(svm, Xdeveloper_rating)"
      ],
      "execution_count": null,
      "outputs": [
        {
          "name": "stdout",
          "output_type": "stream",
          "text": [
            "elapsed time:  0:21:47.058767\n",
            "Mean results\n",
            "Precision:  56.00000000000001  recall:  41.0  f-measure:  47.0\n",
            "Mean results\n",
            "Precision:  0.5619859304203929  recall:  0.40957969758313667  f-measure:  0.47474273734780226\n",
            "Precision max:  0.5895096921322691\n",
            "Precision min:  0.5384615384615384\n",
            "recall max:  0.4407467532467532\n",
            "recall min:  0.3656776263031275\n",
            "f-measure max:  0.49018669219722355\n",
            "f-measure min:  0.4495114006514658\n",
            "f-measure standard deviation:  0.013078544931037578\n",
            "f-measure standard variance:  0.0001710483375131687\n"
          ]
        }
      ]
    },
    {
      "cell_type": "code",
      "metadata": {
        "colab": {
          "base_uri": "https://localhost:8080/"
        },
        "id": "Jv7oq1QwxZSW",
        "outputId": "31e56900-dd2a-4358-e0e6-16f4f17a33b2"
      },
      "source": [
        "execute_cross_validation(svm, Xrating)"
      ],
      "execution_count": null,
      "outputs": [
        {
          "name": "stdout",
          "output_type": "stream",
          "text": [
            "elapsed time:  0:22:16.257006\n",
            "Mean results\n",
            "Precision:  56.00000000000001  recall:  41.0  f-measure:  47.0\n",
            "Mean results\n",
            "Precision:  0.5611258587353469  recall:  0.41044155597868326  f-measure:  0.4735962250118956\n",
            "Precision max:  0.5955188679245284\n",
            "Precision min:  0.5311804008908686\n",
            "recall max:  0.4338051623646961\n",
            "recall min:  0.3938193343898574\n",
            "f-measure max:  0.5011473152822395\n",
            "f-measure min:  0.4468587623996221\n",
            "f-measure standard deviation:  0.015733430748830775\n",
            "f-measure standard variance:  0.0002475408431282537\n"
          ]
        }
      ]
    },
    {
      "cell_type": "code",
      "metadata": {
        "colab": {
          "base_uri": "https://localhost:8080/"
        },
        "id": "UTfWLBzBnEf0",
        "outputId": "3cd8c7bb-e1f6-4413-b8aa-39724624f5e0"
      },
      "source": [
        "execute_cross_validation(svm, XAtachment)"
      ],
      "execution_count": null,
      "outputs": [
        {
          "name": "stdout",
          "output_type": "stream",
          "text": [
            "elapsed time:  0:21:28.726457\n",
            "Mean results\n",
            "Precision:  56.00000000000001  recall:  41.0  f-measure:  47.0\n",
            "Mean results\n",
            "Precision:  0.562227266158299  recall:  0.4072455201569804  f-measure:  0.4730494526531824\n",
            "Precision max:  0.5863991081382386\n",
            "Precision min:  0.5369774919614148\n",
            "recall max:  0.44049586776859506\n",
            "recall min:  0.3723320158102767\n",
            "f-measure max:  0.5004651162790698\n",
            "f-measure min:  0.44754571703561113\n",
            "f-measure standard deviation:  0.017282423626298265\n",
            "f-measure standard variance:  0.0002986821663988325\n"
          ]
        }
      ]
    },
    {
      "cell_type": "code",
      "metadata": {
        "colab": {
          "base_uri": "https://localhost:8080/"
        },
        "id": "pHtB_Uq380QY",
        "outputId": "f68ee2fe-0b77-47ce-b2cb-d9ba2c8f405a"
      },
      "source": [
        "execute_cross_validation(svm, XCC)"
      ],
      "execution_count": null,
      "outputs": [
        {
          "name": "stdout",
          "output_type": "stream",
          "text": [
            "elapsed time:  0:22:12.033416\n",
            "Mean results\n",
            "Precision:  56.00000000000001  recall:  41.0  f-measure:  47.0\n",
            "Mean results\n",
            "Precision:  0.5609501006396451  recall:  0.40983068491053976  f-measure:  0.4742463043786171\n",
            "Precision max:  0.578420467185762\n",
            "Precision min:  0.5452513966480447\n",
            "recall max:  0.4337448559670782\n",
            "recall min:  0.3900245298446443\n",
            "f-measure max:  0.49428962996802184\n",
            "f-measure min:  0.45275958840037417\n",
            "f-measure standard deviation:  0.01390999572029936\n",
            "f-measure standard variance:  0.00019348798093874652\n"
          ]
        }
      ]
    },
    {
      "cell_type": "code",
      "metadata": {
        "colab": {
          "base_uri": "https://localhost:8080/"
        },
        "id": "DPN2EYIG9AQc",
        "outputId": "b471678b-4ecb-4bc9-ae7a-e6943da2b438"
      },
      "source": [
        "execute_cross_validation(svm, XratingAvg)"
      ],
      "execution_count": null,
      "outputs": [
        {
          "name": "stdout",
          "output_type": "stream",
          "text": [
            "elapsed time:  0:22:29.443270\n",
            "Mean results\n",
            "Precision:  56.00000000000001  recall:  41.0  f-measure:  47.0\n",
            "Mean results\n",
            "Precision:  0.5608530609320284  recall:  0.40949530772382703  f-measure:  0.47440464189333864\n",
            "Precision max:  0.580168776371308\n",
            "Precision min:  0.5254988913525499\n",
            "recall max:  0.4319478402607987\n",
            "recall min:  0.34258524980174465\n",
            "f-measure max:  0.4965517241379311\n",
            "f-measure min:  0.44691119691119696\n",
            "f-measure standard deviation:  0.012326034523071386\n",
            "f-measure standard variance:  0.00015193112706394767\n"
          ]
        }
      ]
    },
    {
      "cell_type": "code",
      "metadata": {
        "id": "QYglwbgNVf_n",
        "colab": {
          "base_uri": "https://localhost:8080/"
        },
        "outputId": "3e980c93-f716-4d2c-8979-d2235e639f3d"
      },
      "source": [
        "execute_cross_validation(svm, Xtogether)"
      ],
      "execution_count": null,
      "outputs": [
        {
          "output_type": "stream",
          "name": "stdout",
          "text": [
            "elapsed time:  0:21:56.399155\n",
            "Mean results\n",
            "Precision:  56.00000000000001  recall:  41.0  f-measure:  47.0\n",
            "Mean results\n",
            "Precision:  0.5610751931870471  recall:  0.40993119725944815  f-measure:  0.46894737116387414\n",
            "Precision max:  0.5860889395667047\n",
            "Precision min:  0.5381263616557734\n",
            "recall max:  0.4307944307944308\n",
            "recall min:  0.38492063492063494\n",
            "f-measure max:  0.5076233183856502\n",
            "f-measure min:  0.4338055691255495\n",
            "f-measure standard deviation:  0.021772526856235142\n",
            "f-measure standard variance:  0.0004740429257054805\n"
          ]
        }
      ]
    },
    {
      "cell_type": "code",
      "metadata": {
        "colab": {
          "base_uri": "https://localhost:8080/"
        },
        "id": "dZCM8-96ibIb",
        "outputId": "c7ed76f8-6785-43fe-bbe5-5f9a36476437"
      },
      "source": [
        "execute_cross_validation(svm, X_text)"
      ],
      "execution_count": null,
      "outputs": [
        {
          "name": "stdout",
          "output_type": "stream",
          "text": [
            "elapsed time:  4:01:17.484938\n",
            "Mean results\n",
            "Precision:  61.0  recall:  60.0  f-measure:  60.0\n",
            "Mean results\n",
            "Precision:  0.6053203755319194  recall:  0.5994087650330278  f-measure:  0.6013029777538643\n",
            "Precision max:  0.6291390728476821\n",
            "Precision min:  0.5843621399176955\n",
            "recall max:  0.6213753106876554\n",
            "recall min:  0.5706168831168831\n",
            "f-measure max:  0.621632488942501\n",
            "f-measure min:  0.5890466531440163\n",
            "f-measure standard deviation:  0.011278629444670311\n",
            "f-measure standard variance:  0.00012720748215018415\n"
          ]
        }
      ]
    },
    {
      "cell_type": "code",
      "metadata": {
        "colab": {
          "background_save": true
        },
        "id": "H1y-5SkXibkX",
        "outputId": "0feaa893-05f7-4f73-ae10-317a8e680fda"
      },
      "source": [
        "execute_cross_validation(svm, X_text_reputation)"
      ],
      "execution_count": null,
      "outputs": [
        {
          "name": "stdout",
          "output_type": "stream",
          "text": [
            "elapsed time:  4:17:34.055820\n",
            "Mean results\n",
            "Precision:  56.00000000000001  recall:  41.0  f-measure:  47.0\n",
            "Mean results\n",
            "Precision:  0.5615588785430408  recall:  0.4104157721238096  f-measure:  0.47261458754992985\n",
            "Precision max:  0.5835240274599542\n",
            "Precision min:  0.5303867403314917\n",
            "recall max:  0.4286871961102107\n",
            "recall min:  0.38535800482703136\n",
            "f-measure max:  0.48354792560801146\n",
            "f-measure min:  0.45944678856071264\n",
            "f-measure standard deviation:  0.007680859620046607\n",
            "f-measure standard variance:  5.89956045028625e-05\n"
          ]
        }
      ]
    },
    {
      "cell_type": "code",
      "metadata": {
        "id": "_PLpjzSWib-Q",
        "colab": {
          "base_uri": "https://localhost:8080/"
        },
        "outputId": "f56bf58b-1d71-4d69-e961-499962172c31"
      },
      "source": [
        "execute_cross_validation(svm, X_text_rating)"
      ],
      "execution_count": null,
      "outputs": [
        {
          "output_type": "stream",
          "name": "stdout",
          "text": [
            "elapsed time:  4:52:27.284264\n",
            "Mean results\n",
            "Precision:  56.00000000000001  recall:  41.0  f-measure:  47.0\n",
            "Mean results\n",
            "Precision:  0.5610140647422822  recall:  0.4117387212750355  f-measure:  0.47461679487858977\n",
            "Precision max:  0.5733634311512416\n",
            "Precision min:  0.5385450597176982\n",
            "recall max:  0.4466501240694789\n",
            "recall min:  0.38870431893687707\n",
            "f-measure max:  0.49325267566309905\n",
            "f-measure min:  0.4490196078431372\n",
            "f-measure standard deviation:  0.015154660616082697\n",
            "f-measure standard variance:  0.000229663738388648\n"
          ]
        }
      ]
    },
    {
      "cell_type": "markdown",
      "metadata": {
        "id": "28TWDrq-UHiu"
      },
      "source": [
        "#Logistic Regression - CV"
      ]
    },
    {
      "cell_type": "code",
      "metadata": {
        "id": "c3f1oK5DUKSp"
      },
      "source": [
        "from sklearn.linear_model import LogisticRegression"
      ],
      "execution_count": null,
      "outputs": []
    },
    {
      "cell_type": "code",
      "metadata": {
        "id": "j41k0cmHUOWO"
      },
      "source": [
        "#clf = LogisticRegression(C=1.0, class_weight=None, dual=False, fit_intercept=True, intercept_scaling=1, max_iter=100, multi_class='auto', n_jobs=None, penalty='l2', random_state=None, solver='liblinear', tol=0.0001, verbose=0, warm_start=False)"
      ],
      "execution_count": null,
      "outputs": []
    },
    {
      "cell_type": "code",
      "metadata": {
        "id": "1BtfLzhD3Nn-"
      },
      "source": [
        "#clf = LogisticRegression(max_iter=1000)\n",
        "clf = LogisticRegression(solver='lbfgs', max_iter=1000) # o Xrating da erro de iteração"
      ],
      "execution_count": null,
      "outputs": []
    },
    {
      "cell_type": "code",
      "metadata": {
        "colab": {
          "base_uri": "https://localhost:8080/"
        },
        "id": "IIBsCw0Kem2e",
        "outputId": "41f2ecc5-2f0d-46c4-9739-de1dbc728d75"
      },
      "source": [
        "execute_cross_validation(clf, Xnormal)"
      ],
      "execution_count": null,
      "outputs": [
        {
          "name": "stdout",
          "output_type": "stream",
          "text": [
            "elapsed time:  0:00:07.699881\n",
            "Mean results\n",
            "Precision:  56.99999999999999  recall:  40.0  f-measure:  48.0\n",
            "Mean results\n",
            "Precision:  0.5685951362974107  recall:  0.4032330970745573  f-measure:  0.47968839901887017\n",
            "Precision max:  0.6025\n",
            "Precision min:  0.5397196261682243\n",
            "recall max:  0.47130153597413094\n",
            "recall min:  0.3325281803542673\n",
            "f-measure max:  0.5070422535211268\n",
            "f-measure min:  0.42561983471074377\n",
            "f-measure standard deviation:  0.02657007865668819\n",
            "f-measure standard variance:  0.0007059690798225973\n"
          ]
        }
      ]
    },
    {
      "cell_type": "code",
      "metadata": {
        "colab": {
          "base_uri": "https://localhost:8080/"
        },
        "id": "stJe0Hss1674",
        "outputId": "d41e97b3-252f-4a4f-b693-da340c8dc314"
      },
      "source": [
        "execute_cross_validation(clf, Xreporter_reputation)"
      ],
      "execution_count": null,
      "outputs": [
        {
          "name": "stdout",
          "output_type": "stream",
          "text": [
            "elapsed time:  0:00:06.848443\n",
            "Mean results\n",
            "Precision:  56.99999999999999  recall:  42.0  f-measure:  47.0\n",
            "Mean results\n",
            "Precision:  0.5705973079650355  recall:  0.4193939334374627  f-measure:  0.4734650191703925\n",
            "Precision max:  0.5947302383939774\n",
            "Precision min:  0.5517241379310345\n",
            "recall max:  0.4756195043964828\n",
            "recall min:  0.324\n",
            "f-measure max:  0.5043005885015844\n",
            "f-measure min:  0.42535787321063395\n",
            "f-measure standard deviation:  0.031235552560146904\n",
            "f-measure standard variance:  0.0009756597437376999\n"
          ]
        }
      ]
    },
    {
      "cell_type": "code",
      "metadata": {
        "colab": {
          "base_uri": "https://localhost:8080/"
        },
        "id": "A3SDJSo7194V",
        "outputId": "27c4ddb8-6638-4259-b253-e1543b17afc9"
      },
      "source": [
        "execute_cross_validation(clf, Xdeveloper_reputation)"
      ],
      "execution_count": null,
      "outputs": [
        {
          "name": "stdout",
          "output_type": "stream",
          "text": [
            "elapsed time:  0:00:07.509038\n",
            "Mean results\n",
            "Precision:  56.99999999999999  recall:  40.0  f-measure:  48.0\n",
            "Mean results\n",
            "Precision:  0.5726457422551458  recall:  0.40215710938469834  f-measure:  0.4830843964673874\n",
            "Precision max:  0.6144121365360303\n",
            "Precision min:  0.5322966507177034\n",
            "recall max:  0.47953216374269003\n",
            "recall min:  0.3551020408163265\n",
            "f-measure max:  0.5073825503355704\n",
            "f-measure min:  0.44708209693372897\n",
            "f-measure standard deviation:  0.02081215076444987\n",
            "f-measure standard variance:  0.00043314561944219124\n"
          ]
        }
      ]
    },
    {
      "cell_type": "code",
      "metadata": {
        "colab": {
          "base_uri": "https://localhost:8080/"
        },
        "id": "1_mULDxS2KMD",
        "outputId": "79117f3f-c4b9-4041-d086-dd1f9ea3ff78"
      },
      "source": [
        "execute_cross_validation(clf, Xreputation)"
      ],
      "execution_count": null,
      "outputs": [
        {
          "name": "stdout",
          "output_type": "stream",
          "text": [
            "elapsed time:  0:00:07.209545\n",
            "Mean results\n",
            "Precision:  56.99999999999999  recall:  40.0  f-measure:  48.0\n",
            "Mean results\n",
            "Precision:  0.5721317261967833  recall:  0.4009715934830429  f-measure:  0.47863339720184134\n",
            "Precision max:  0.605072463768116\n",
            "Precision min:  0.5426278836509528\n",
            "recall max:  0.45179738562091504\n",
            "recall min:  0.3250798722044728\n",
            "f-measure max:  0.5308310991957104\n",
            "f-measure min:  0.4260178748758689\n",
            "f-measure standard deviation:  0.03257275967973585\n",
            "f-measure standard variance:  0.0010609846731538255\n"
          ]
        }
      ]
    },
    {
      "cell_type": "code",
      "metadata": {
        "colab": {
          "base_uri": "https://localhost:8080/"
        },
        "id": "_qV_s0XS2ArN",
        "outputId": "2fa1bf6c-e279-4f51-d288-9557f4158bd3"
      },
      "source": [
        "execute_cross_validation(clf, Xreporter_rating)"
      ],
      "execution_count": null,
      "outputs": [
        {
          "name": "stdout",
          "output_type": "stream",
          "text": [
            "elapsed time:  0:00:13.987700\n",
            "Mean results\n",
            "Precision:  59.0  recall:  57.99999999999999  f-measure:  56.00000000000001\n",
            "Mean results\n",
            "Precision:  0.5948977376989522  recall:  0.5779421071248514  f-measure:  0.5614990452513774\n",
            "Precision max:  0.6037277147487844\n",
            "Precision min:  0.5721311475409836\n",
            "recall max:  0.6185216652506372\n",
            "recall min:  0.5170454545454546\n",
            "f-measure max:  0.6015466015466016\n",
            "f-measure min:  0.3978947368421053\n",
            "f-measure standard deviation:  0.056784397432496844\n",
            "f-measure standard variance:  0.003224467791771754\n"
          ]
        }
      ]
    },
    {
      "cell_type": "code",
      "metadata": {
        "colab": {
          "base_uri": "https://localhost:8080/"
        },
        "id": "xv-uK-DG2FNz",
        "outputId": "fe0249a5-65b3-4922-c3ee-9e45589cb298"
      },
      "source": [
        "execute_cross_validation(clf, Xdeveloper_rating)"
      ],
      "execution_count": null,
      "outputs": [
        {
          "name": "stdout",
          "output_type": "stream",
          "text": [
            "elapsed time:  0:00:15.410956\n",
            "Mean results\n",
            "Precision:  64.0  recall:  68.0  f-measure:  66.0\n",
            "Mean results\n",
            "Precision:  0.6374561205631508  recall:  0.6770039671256761  f-measure:  0.6566219270112855\n",
            "Precision max:  0.6573643410852713\n",
            "Precision min:  0.6123802505526897\n",
            "recall max:  0.6923714759535655\n",
            "recall min:  0.6549019607843137\n",
            "f-measure max:  0.6738544474393531\n",
            "f-measure min:  0.6423183803096466\n",
            "f-measure standard deviation:  0.008774841128978786\n",
            "f-measure standard variance:  7.69978368388177e-05\n"
          ]
        }
      ]
    },
    {
      "cell_type": "code",
      "metadata": {
        "colab": {
          "base_uri": "https://localhost:8080/"
        },
        "id": "UvOhaOqK2RVQ",
        "outputId": "478a89c4-0ef2-4602-ad36-646036ea45fe"
      },
      "source": [
        "execute_cross_validation(clf, Xrating)"
      ],
      "execution_count": null,
      "outputs": [
        {
          "name": "stdout",
          "output_type": "stream",
          "text": [
            "elapsed time:  0:00:14.936572\n",
            "Mean results\n",
            "Precision:  64.0  recall:  66.0  f-measure:  65.0\n",
            "Mean results\n",
            "Precision:  0.6376051154704869  recall:  0.6556970176258002  f-measure:  0.6460432320175945\n",
            "Precision max:  0.6661404893449092\n",
            "Precision min:  0.6099236641221374\n",
            "recall max:  0.6785411365564037\n",
            "recall min:  0.6304\n",
            "f-measure max:  0.6669313219531561\n",
            "f-measure min:  0.62786029706945\n",
            "f-measure standard deviation:  0.011580037808788385\n",
            "f-measure standard variance:  0.0001340972756529685\n"
          ]
        }
      ]
    },
    {
      "cell_type": "code",
      "metadata": {
        "colab": {
          "base_uri": "https://localhost:8080/"
        },
        "id": "TRwvqde8kRQa",
        "outputId": "fea1c168-66b9-4005-f541-d0f2c30bce2a"
      },
      "source": [
        "execute_cross_validation(clf, XAtachment)"
      ],
      "execution_count": null,
      "outputs": [
        {
          "name": "stdout",
          "output_type": "stream",
          "text": [
            "elapsed time:  0:00:07.499092\n",
            "Mean results\n",
            "Precision:  56.99999999999999  recall:  39.0  f-measure:  48.0\n",
            "Mean results\n",
            "Precision:  0.5701603826048014  recall:  0.3894883397971387  f-measure:  0.4767088981892287\n",
            "Precision max:  0.5982241953385128\n",
            "Precision min:  0.5556660039761432\n",
            "recall max:  0.44471153846153844\n",
            "recall min:  0.3282747603833866\n",
            "f-measure max:  0.5070546737213403\n",
            "f-measure min:  0.40224032586558045\n",
            "f-measure standard deviation:  0.03256407272026045\n",
            "f-measure standard variance:  0.0010604188321304106\n"
          ]
        }
      ]
    },
    {
      "cell_type": "code",
      "metadata": {
        "colab": {
          "base_uri": "https://localhost:8080/"
        },
        "id": "hY-N7svkkTkw",
        "outputId": "bb3d4c48-a034-4160-84c3-fe8b0b9efe26"
      },
      "source": [
        "execute_cross_validation(clf, XCC)"
      ],
      "execution_count": null,
      "outputs": [
        {
          "name": "stdout",
          "output_type": "stream",
          "text": [
            "elapsed time:  0:00:06.344669\n",
            "Mean results\n",
            "Precision:  56.99999999999999  recall:  38.0  f-measure:  46.0\n",
            "Mean results\n",
            "Precision:  0.5685031285581762  recall:  0.3795210016453728  f-measure:  0.4582668967400103\n",
            "Precision max:  0.6126126126126126\n",
            "Precision min:  0.5401831129196337\n",
            "recall max:  0.45934618608549876\n",
            "recall min:  0.3111467522052927\n",
            "f-measure max:  0.5020352781546812\n",
            "f-measure min:  0.4061224489795918\n",
            "f-measure standard deviation:  0.032610995671995414\n",
            "f-measure standard variance:  0.0010634770387189035\n"
          ]
        }
      ]
    },
    {
      "cell_type": "code",
      "metadata": {
        "colab": {
          "base_uri": "https://localhost:8080/"
        },
        "id": "lmjNunCQj190",
        "outputId": "171bc94b-89ed-47f5-9288-3a1fe077c120"
      },
      "source": [
        "execute_cross_validation(clf, XratingAvg)"
      ],
      "execution_count": null,
      "outputs": [
        {
          "name": "stdout",
          "output_type": "stream",
          "text": [
            "elapsed time:  0:00:13.748148\n",
            "Mean results\n",
            "Precision:  57.99999999999999  recall:  47.0  f-measure:  53.0\n",
            "Mean results\n",
            "Precision:  0.5815582170796838  recall:  0.46621534409577714  f-measure:  0.529386798761102\n",
            "Precision max:  0.6056210335448776\n",
            "Precision min:  0.5526315789473685\n",
            "recall max:  0.5529801324503312\n",
            "recall min:  0.3120452708164915\n",
            "f-measure max:  0.5696308724832214\n",
            "f-measure min:  0.4376237623762376\n",
            "f-measure standard deviation:  0.04375864189803728\n",
            "f-measure standard variance:  0.0019148187407606633\n"
          ]
        }
      ]
    },
    {
      "cell_type": "code",
      "metadata": {
        "id": "0cxTnHqkytCp"
      },
      "source": [
        "#clf = LogisticRegression(solver='lbfgs', max_iter=1000) # o Xrating da erro de iteração"
      ],
      "execution_count": null,
      "outputs": []
    },
    {
      "cell_type": "code",
      "metadata": {
        "colab": {
          "base_uri": "https://localhost:8080/"
        },
        "id": "yYcNN55njzJA",
        "outputId": "e1de1061-dcfd-4b6c-982d-74d8d9553c70"
      },
      "source": [
        "execute_cross_validation(clf, X_text)"
      ],
      "execution_count": null,
      "outputs": [
        {
          "name": "stdout",
          "output_type": "stream",
          "text": [
            "elapsed time:  0:01:53.442573\n",
            "Mean results\n",
            "Precision:  59.0  recall:  59.0  f-measure:  59.0\n",
            "Mean results\n",
            "Precision:  0.59112956031608  recall:  0.5910730017609434  f-measure:  0.5908480554224191\n",
            "Precision max:  0.6183456183456183\n",
            "Precision min:  0.5751211631663974\n",
            "recall max:  0.6080645161290322\n",
            "recall min:  0.5702547247329499\n",
            "f-measure max:  0.5969153814089203\n",
            "f-measure min:  0.5802770986145069\n",
            "f-measure standard deviation:  0.005499951762542738\n",
            "f-measure standard variance:  3.0249469390296964e-05\n"
          ]
        }
      ]
    },
    {
      "cell_type": "code",
      "metadata": {
        "colab": {
          "base_uri": "https://localhost:8080/"
        },
        "id": "FG7fiRFH-2_J",
        "outputId": "3b28d883-f16d-45d6-ca39-7676ac7c5f92"
      },
      "source": [
        "execute_cross_validation(clf, Xtogether)"
      ],
      "execution_count": null,
      "outputs": [
        {
          "output_type": "stream",
          "name": "stdout",
          "text": [
            "elapsed time:  0:00:15.566957\n",
            "Mean results\n",
            "Precision:  64.0  recall:  66.0  f-measure:  65.0\n",
            "Mean results\n",
            "Precision:  0.637497351476366  recall:  0.6570689427529643  f-measure:  0.6471260295858426\n",
            "Precision max:  0.6634844868735084\n",
            "Precision min:  0.6215360253365004\n",
            "recall max:  0.6754098360655738\n",
            "recall min:  0.636068237205524\n",
            "f-measure max:  0.6598586017282011\n",
            "f-measure min:  0.6305139619587211\n",
            "f-measure standard deviation:  0.00951754545084903\n",
            "f-measure standard variance:  9.058367140897708e-05\n"
          ]
        }
      ]
    },
    {
      "cell_type": "code",
      "metadata": {
        "colab": {
          "base_uri": "https://localhost:8080/"
        },
        "id": "LlFuuiFhmpXY",
        "outputId": "709a7297-8205-42d3-a176-cd01cd74cba0"
      },
      "source": [
        "execute_cross_validation(clf, XtogetherReporter)"
      ],
      "execution_count": null,
      "outputs": [
        {
          "output_type": "stream",
          "name": "stdout",
          "text": [
            "elapsed time:  0:00:13.944499\n",
            "Mean results\n",
            "Precision:  59.0  recall:  57.99999999999999  f-measure:  59.0\n",
            "Mean results\n",
            "Precision:  0.5947675155623251  recall:  0.5787236614497387  f-measure:  0.5861050564671211\n",
            "Precision max:  0.6265876375952583\n",
            "Precision min:  0.5531077891424075\n",
            "recall max:  0.6210780370072405\n",
            "recall min:  0.5168100078186083\n",
            "f-measure max:  0.59991826726604\n",
            "f-measure min:  0.5484571925249891\n",
            "f-measure standard deviation:  0.015231185262714744\n",
            "f-measure standard variance:  0.0002319890045071388\n"
          ]
        }
      ]
    },
    {
      "cell_type": "code",
      "metadata": {
        "colab": {
          "base_uri": "https://localhost:8080/"
        },
        "id": "0SECqT15mrag",
        "outputId": "ff0664b1-a286-4e24-8bb3-2031f12e53bb"
      },
      "source": [
        "execute_cross_validation(clf, XtogetherDeveloper)"
      ],
      "execution_count": null,
      "outputs": [
        {
          "output_type": "stream",
          "name": "stdout",
          "text": [
            "elapsed time:  0:00:15.466917\n",
            "Mean results\n",
            "Precision:  64.0  recall:  68.0  f-measure:  66.0\n",
            "Mean results\n",
            "Precision:  0.6373883143603748  recall:  0.6776240217871117  f-measure:  0.6569377139930868\n",
            "Precision max:  0.6492027334851936\n",
            "Precision min:  0.6127819548872181\n",
            "recall max:  0.7023026315789473\n",
            "recall min:  0.6628940986257074\n",
            "f-measure max:  0.6687187379761447\n",
            "f-measure min:  0.6501182033096927\n",
            "f-measure standard deviation:  0.0058494662402558285\n",
            "f-measure standard variance:  3.4216255295892654e-05\n"
          ]
        }
      ]
    },
    {
      "cell_type": "code",
      "metadata": {
        "colab": {
          "base_uri": "https://localhost:8080/"
        },
        "id": "0sKEShB73SMx",
        "outputId": "a52899e4-2337-4c2f-9e68-f894e6e7b188"
      },
      "source": [
        "execute_cross_validation(clf, X_text_reputation)"
      ],
      "execution_count": null,
      "outputs": [
        {
          "name": "stdout",
          "output_type": "stream",
          "text": [
            "elapsed time:  0:01:36.694600\n",
            "Mean results\n",
            "Precision:  56.99999999999999  recall:  41.0  f-measure:  48.0\n",
            "Mean results\n",
            "Precision:  0.5688905981656969  recall:  0.4115725405296321  f-measure:  0.480326575891424\n",
            "Precision max:  0.6\n",
            "Precision min:  0.525390625\n",
            "recall max:  0.46210873146622733\n",
            "recall min:  0.3540790580319596\n",
            "f-measure max:  0.5360648740930432\n",
            "f-measure min:  0.44301288404360745\n",
            "f-measure standard deviation:  0.02984043162001877\n",
            "f-measure standard variance:  0.000890451359269016\n"
          ]
        }
      ]
    },
    {
      "cell_type": "code",
      "metadata": {
        "colab": {
          "base_uri": "https://localhost:8080/"
        },
        "id": "jfHzaM1rjUwM",
        "outputId": "065d398e-176f-4731-d9f0-fe7ffb1d7b93"
      },
      "source": [
        "execute_cross_validation(clf, X_text_rating)"
      ],
      "execution_count": null,
      "outputs": [
        {
          "name": "stdout",
          "output_type": "stream",
          "text": [
            "elapsed time:  0:03:04.215585\n",
            "Mean results\n",
            "Precision:  64.0  recall:  66.0  f-measure:  65.0\n",
            "Mean results\n",
            "Precision:  0.6369019816390789  recall:  0.6563808381946061  f-measure:  0.6467185099913428\n",
            "Precision max:  0.6703125\n",
            "Precision min:  0.6064414768263944\n",
            "recall max:  0.6784850926672039\n",
            "recall min:  0.633687653311529\n",
            "f-measure max:  0.6613097629570108\n",
            "f-measure min:  0.6251032204789431\n",
            "f-measure standard deviation:  0.0121913906294706\n",
            "f-measure standard variance:  0.00014863000548034355\n"
          ]
        }
      ]
    },
    {
      "cell_type": "markdown",
      "metadata": {
        "id": "am6KuZjD_R4j"
      },
      "source": [
        "#SVD + Logistic"
      ]
    },
    {
      "cell_type": "code",
      "metadata": {
        "id": "OJLPCD0C_UL2"
      },
      "source": [
        "from sklearn.decomposition import TruncatedSVD\n",
        "from sklearn.pipeline import Pipeline"
      ],
      "execution_count": null,
      "outputs": []
    },
    {
      "cell_type": "code",
      "metadata": {
        "id": "RYVlu2O7_zpZ"
      },
      "source": [
        "steps = [('svd', TruncatedSVD()), ('m', LogisticRegression())]\n",
        "model = Pipeline(steps=steps)"
      ],
      "execution_count": null,
      "outputs": []
    },
    {
      "cell_type": "code",
      "metadata": {
        "id": "35SbyEV2AMvc"
      },
      "source": [
        "#execute_cross_validation(model, Xnormal)"
      ],
      "execution_count": null,
      "outputs": []
    },
    {
      "cell_type": "code",
      "metadata": {
        "colab": {
          "base_uri": "https://localhost:8080/"
        },
        "id": "Ofx8UafexHSc",
        "outputId": "dc06a675-ab11-4ed9-e7cc-baaddb366d70"
      },
      "source": [
        "execute_cross_validation(model, XAtachment)"
      ],
      "execution_count": null,
      "outputs": [
        {
          "name": "stdout",
          "output_type": "stream",
          "text": [
            "elapsed time:  0:00:03.862022\n",
            "Mean results\n",
            "Precision:  50.0  recall:  100.0  f-measure:  67.0\n",
            "Mean results\n",
            "Precision:  0.4999991152428905  recall:  1.0  f-measure:  0.6665581151378747\n",
            "Precision max:  0.5155807365439093\n",
            "Precision min:  0.4876568191015783\n",
            "recall max:  1.0\n",
            "recall min:  1.0\n",
            "f-measure max:  0.6856382978723404\n",
            "f-measure min:  0.6484268125854993\n",
            "f-measure standard deviation:  0.01195313384782762\n",
            "f-measure standard variance:  0.00014287740878408232\n"
          ]
        }
      ]
    },
    {
      "cell_type": "code",
      "metadata": {
        "colab": {
          "base_uri": "https://localhost:8080/"
        },
        "id": "o330THY0xKRK",
        "outputId": "f28eabec-f9a0-4a32-9a6e-af6e10c8d369"
      },
      "source": [
        "execute_cross_validation(model, XCC)"
      ],
      "execution_count": null,
      "outputs": [
        {
          "name": "stdout",
          "output_type": "stream",
          "text": [
            "elapsed time:  0:00:03.855842\n",
            "Mean results\n",
            "Precision:  50.0  recall:  100.0  f-measure:  67.0\n",
            "Mean results\n",
            "Precision:  0.500000409609773  recall:  1.0  f-measure:  0.6666240463867984\n",
            "Precision max:  0.5204370700121408\n",
            "Precision min:  0.4860380412788345\n",
            "recall max:  1.0\n",
            "recall min:  1.0\n",
            "f-measure max:  0.6787911206204867\n",
            "f-measure min:  0.6497267759562841\n",
            "f-measure standard deviation:  0.007576946221386317\n",
            "f-measure standard variance:  5.741011404178038e-05\n"
          ]
        }
      ]
    },
    {
      "cell_type": "code",
      "metadata": {
        "colab": {
          "base_uri": "https://localhost:8080/"
        },
        "id": "GZQO3wQ8AStb",
        "outputId": "29ac5edc-aae4-4b9f-8787-8fe57d745c76"
      },
      "source": [
        "execute_cross_validation(model, Xreputation)"
      ],
      "execution_count": null,
      "outputs": [
        {
          "name": "stdout",
          "output_type": "stream",
          "text": [
            "elapsed time:  0:00:03.845723\n",
            "Mean results\n",
            "Precision:  50.0  recall:  100.0  f-measure:  67.0\n",
            "Mean results\n",
            "Precision:  0.5000004915317275  recall:  1.0  f-measure:  0.6666174565950308\n",
            "Precision max:  0.5194331983805668\n",
            "Precision min:  0.49190283400809715\n",
            "recall max:  1.0\n",
            "recall min:  1.0\n",
            "f-measure max:  0.6787911206204867\n",
            "f-measure min:  0.6502732240437158\n",
            "f-measure standard deviation:  0.008108267139250978\n",
            "f-measure standard variance:  6.574399600145722e-05\n"
          ]
        }
      ]
    },
    {
      "cell_type": "code",
      "metadata": {
        "colab": {
          "base_uri": "https://localhost:8080/"
        },
        "id": "Fsb3xL72AX4j",
        "outputId": "4ef6eb08-b80d-4cad-92f9-0f2f63a7a718"
      },
      "source": [
        "execute_cross_validation(model, Xrating)"
      ],
      "execution_count": null,
      "outputs": [
        {
          "name": "stdout",
          "output_type": "stream",
          "text": [
            "elapsed time:  0:00:04.033292\n",
            "Mean results\n",
            "Precision:  50.0  recall:  100.0  f-measure:  67.0\n",
            "Mean results\n",
            "Precision:  0.5000011632917551  recall:  1.0  f-measure:  0.6666198621073854\n",
            "Precision max:  0.5206477732793522\n",
            "Precision min:  0.48522865236746254\n",
            "recall max:  1.0\n",
            "recall min:  1.0\n",
            "f-measure max:  0.6845887676337503\n",
            "f-measure min:  0.6552380952380953\n",
            "f-measure standard deviation:  0.007867787747975504\n",
            "f-measure standard variance:  6.190208404719346e-05\n"
          ]
        }
      ]
    },
    {
      "cell_type": "code",
      "metadata": {
        "colab": {
          "base_uri": "https://localhost:8080/"
        },
        "id": "0T8yFDkrADLD",
        "outputId": "a660ad4f-e4c0-4f85-863f-63a519c303ab"
      },
      "source": [
        "execute_cross_validation(model, XratingAvg)"
      ],
      "execution_count": null,
      "outputs": [
        {
          "name": "stdout",
          "output_type": "stream",
          "text": [
            "elapsed time:  0:00:03.889568\n",
            "Mean results\n",
            "Precision:  50.0  recall:  100.0  f-measure:  67.0\n",
            "Mean results\n",
            "Precision:  0.49999960677461797  recall:  1.0  f-measure:  0.6666380842540748\n",
            "Precision max:  0.5151760420882234\n",
            "Precision min:  0.48502024291497975\n",
            "recall max:  1.0\n",
            "recall min:  1.0\n",
            "f-measure max:  0.6747117189595065\n",
            "f-measure min:  0.6559695403861844\n",
            "f-measure standard deviation:  0.006211845118576055\n",
            "f-measure standard variance:  3.8587019777177165e-05\n"
          ]
        }
      ]
    },
    {
      "cell_type": "code",
      "metadata": {
        "colab": {
          "base_uri": "https://localhost:8080/"
        },
        "id": "0t8qbud_y2Zg",
        "outputId": "47ef5950-f50b-4fa4-cb60-c95bcc5a76f0"
      },
      "source": [
        "execute_cross_validation(model, X_text)"
      ],
      "execution_count": null,
      "outputs": [
        {
          "name": "stdout",
          "output_type": "stream",
          "text": [
            "elapsed time:  0:00:54.693044\n",
            "Mean results\n",
            "Precision:  53.0  recall:  56.99999999999999  f-measure:  55.00000000000001\n",
            "Mean results\n",
            "Precision:  0.5308956015919046  recall:  0.56571755436109  f-measure:  0.5486911089488541\n",
            "Precision max:  0.5546218487394958\n",
            "Precision min:  0.5176294073518379\n",
            "recall max:  0.586435070306038\n",
            "recall min:  0.5524419535628503\n",
            "f-measure max:  0.5633154259401382\n",
            "f-measure min:  0.5369127516778524\n",
            "f-measure standard deviation:  0.008953234478428747\n",
            "f-measure standard variance:  8.016040762572529e-05\n"
          ]
        }
      ]
    },
    {
      "cell_type": "code",
      "metadata": {
        "colab": {
          "base_uri": "https://localhost:8080/"
        },
        "id": "zZrtFUwJjugo",
        "outputId": "0f8737ea-6d53-4b2b-aeb2-8ce3e3f4950c"
      },
      "source": [
        "execute_cross_validation(model, Xweight)"
      ],
      "execution_count": null,
      "outputs": [
        {
          "name": "stdout",
          "output_type": "stream",
          "text": [
            "elapsed time:  0:00:04.223192\n",
            "Mean results\n",
            "Precision:  50.0  recall:  100.0  f-measure:  67.0\n",
            "Mean results\n",
            "Precision:  0.49999998361560916  recall:  1.0  f-measure:  0.6665966039633813\n",
            "Precision max:  0.5123431808984217\n",
            "Precision min:  0.4834008097165992\n",
            "recall max:  1.0\n",
            "recall min:  1.0\n",
            "f-measure max:  0.6873837981407702\n",
            "f-measure min:  0.6541394335511982\n",
            "f-measure standard deviation:  0.009611137594850674\n",
            "f-measure standard variance:  9.237396586715201e-05\n"
          ]
        }
      ]
    },
    {
      "cell_type": "code",
      "metadata": {
        "colab": {
          "base_uri": "https://localhost:8080/"
        },
        "id": "oY25TklyjwLf",
        "outputId": "20ded100-20ee-4375-8e9a-97b72cac7483"
      },
      "source": [
        "execute_cross_validation(model, Xtogether)"
      ],
      "execution_count": null,
      "outputs": [
        {
          "name": "stdout",
          "output_type": "stream",
          "text": [
            "elapsed time:  0:00:04.547675\n",
            "Mean results\n",
            "Precision:  50.0  recall:  100.0  f-measure:  67.0\n",
            "Mean results\n",
            "Precision:  0.4999990333209358  recall:  1.0  f-measure:  0.6666413998822616\n",
            "Precision max:  0.528126264670174\n",
            "Precision min:  0.48582995951417\n",
            "recall max:  1.0\n",
            "recall min:  1.0\n",
            "f-measure max:  0.677376171352075\n",
            "f-measure min:  0.6548720740337507\n",
            "f-measure standard deviation:  0.005838596188477754\n",
            "f-measure standard variance:  3.408920545210695e-05\n"
          ]
        }
      ]
    },
    {
      "cell_type": "code",
      "metadata": {
        "colab": {
          "base_uri": "https://localhost:8080/"
        },
        "id": "XnSG72VbIqdG",
        "outputId": "837968ab-d323-49ed-b6b0-e3fd241f6b63"
      },
      "source": [
        "execute_cross_validation(model, X_text_reputation)"
      ],
      "execution_count": null,
      "outputs": [
        {
          "name": "stdout",
          "output_type": "stream",
          "text": [
            "elapsed time:  0:00:59.293460\n",
            "Mean results\n",
            "Precision:  50.0  recall:  100.0  f-measure:  67.0\n",
            "Mean results\n",
            "Precision:  0.49999995084682725  recall:  1.0  f-measure:  0.6665924072007309\n",
            "Precision max:  0.5184135977337111\n",
            "Precision min:  0.4876568191015783\n",
            "recall max:  1.0\n",
            "recall min:  1.0\n",
            "f-measure max:  0.6838881491344874\n",
            "f-measure min:  0.6458333333333334\n",
            "f-measure standard deviation:  0.009922900753961109\n",
            "f-measure standard variance:  9.846395937296193e-05\n"
          ]
        }
      ]
    },
    {
      "cell_type": "code",
      "metadata": {
        "colab": {
          "base_uri": "https://localhost:8080/"
        },
        "id": "0qGlxLP9ItQv",
        "outputId": "785f0427-3794-4878-efcc-0b65292c4c20"
      },
      "source": [
        "execute_cross_validation(model, X_text_rating)"
      ],
      "execution_count": null,
      "outputs": [
        {
          "name": "stdout",
          "output_type": "stream",
          "text": [
            "elapsed time:  0:00:58.627684\n",
            "Mean results\n",
            "Precision:  50.0  recall:  100.0  f-measure:  67.0\n",
            "Mean results\n",
            "Precision:  0.5000009175258915  recall:  1.0  f-measure:  0.6666068013271922\n",
            "Precision max:  0.5129554655870445\n",
            "Precision min:  0.48522865236746254\n",
            "recall max:  1.0\n",
            "recall min:  1.0\n",
            "f-measure max:  0.6852886405959032\n",
            "f-measure min:  0.6517467248908297\n",
            "f-measure standard deviation:  0.00889029914201951\n",
            "f-measure standard variance:  7.903741883459284e-05\n"
          ]
        }
      ]
    },
    {
      "cell_type": "markdown",
      "metadata": {
        "id": "RmFW1L040ppD"
      },
      "source": [
        "# MultLayer Perceptron\n"
      ]
    },
    {
      "cell_type": "code",
      "metadata": {
        "id": "cnVQGEjv0ppF"
      },
      "source": [
        "from sklearn.neural_network import MLPClassifier"
      ],
      "execution_count": null,
      "outputs": []
    },
    {
      "cell_type": "code",
      "metadata": {
        "id": "OAiLBk1N0ppG"
      },
      "source": [
        "mlp = MLPClassifier()"
      ],
      "execution_count": null,
      "outputs": []
    },
    {
      "cell_type": "code",
      "metadata": {
        "colab": {
          "base_uri": "https://localhost:8080/"
        },
        "id": "cgaMWCnk0ppG",
        "outputId": "6d3a78d7-381a-400c-92c0-861b64d68c08"
      },
      "source": [
        "execute_cross_validation(mlp, Xnormal)"
      ],
      "execution_count": null,
      "outputs": [
        {
          "output_type": "stream",
          "name": "stdout",
          "text": [
            "elapsed time:  0:02:12.885378\n",
            "Mean results\n",
            "Precision:  52.0  recall:  54.0  f-measure:  44.0\n",
            "Mean results\n",
            "Precision:  0.5166819234770557  recall:  0.5392668709913127  f-measure:  0.44042184325422057\n",
            "Precision max:  0.6220735785953178\n",
            "Precision min:  0.4791666666666667\n",
            "recall max:  0.9802955665024631\n",
            "recall min:  0.0008006405124099279\n",
            "f-measure max:  0.6593974175035868\n",
            "f-measure min:  0.03500397772474145\n",
            "f-measure standard deviation:  0.20607627008102192\n",
            "f-measure standard variance:  0.042467429090506284\n"
          ]
        }
      ]
    },
    {
      "cell_type": "code",
      "metadata": {
        "colab": {
          "base_uri": "https://localhost:8080/"
        },
        "id": "eOYS3ySI0ppH",
        "outputId": "7e47bc13-9907-40a9-ee93-42285d301d00"
      },
      "source": [
        "execute_cross_validation(mlp, Xreporter_reputation)"
      ],
      "execution_count": null,
      "outputs": [
        {
          "output_type": "stream",
          "name": "stdout",
          "text": [
            "elapsed time:  0:02:03.566191\n",
            "Mean results\n",
            "Precision:  55.00000000000001  recall:  55.00000000000001  f-measure:  52.0\n",
            "Mean results\n",
            "Precision:  0.5549564226278199  recall:  0.5495403608339297  f-measure:  0.5193946748373951\n",
            "Precision max:  0.6744186046511628\n",
            "Precision min:  0.49194661757938335\n",
            "recall max:  0.9958540630182421\n",
            "recall min:  0.1561216105176664\n",
            "f-measure max:  0.6244260789715335\n",
            "f-measure min:  0.33622183708838826\n",
            "f-measure standard deviation:  0.09142500140042963\n",
            "f-measure standard variance:  0.008358530881068558\n"
          ]
        }
      ]
    },
    {
      "cell_type": "code",
      "metadata": {
        "colab": {
          "base_uri": "https://localhost:8080/"
        },
        "id": "Yl63zVRI0ppH",
        "outputId": "ef41aaeb-8973-4e95-e32d-0f40308ca593"
      },
      "source": [
        "execute_cross_validation(mlp, Xdeveloper_reputation)"
      ],
      "execution_count": null,
      "outputs": [
        {
          "output_type": "stream",
          "name": "stdout",
          "text": [
            "elapsed time:  0:02:03.043634\n",
            "Mean results\n",
            "Precision:  54.0  recall:  44.0  f-measure:  49.0\n",
            "Mean results\n",
            "Precision:  0.5439545692220422  recall:  0.4378457953673155  f-measure:  0.48603977101386847\n",
            "Precision max:  0.6736842105263158\n",
            "Precision min:  0.4782608695652174\n",
            "recall max:  0.9960063897763578\n",
            "recall min:  0.022406639004149378\n",
            "f-measure max:  0.6802904006453349\n",
            "f-measure min:  0.2200132538104705\n",
            "f-measure standard deviation:  0.163472687597226\n",
            "f-measure standard variance:  0.026723319590260242\n"
          ]
        }
      ]
    },
    {
      "cell_type": "code",
      "metadata": {
        "colab": {
          "base_uri": "https://localhost:8080/"
        },
        "id": "hwahHcSn0ppI",
        "outputId": "45556bec-8784-4dd6-801b-2e279d69be0b"
      },
      "source": [
        "execute_cross_validation(mlp, Xreputation)"
      ],
      "execution_count": null,
      "outputs": [
        {
          "output_type": "stream",
          "name": "stdout",
          "text": [
            "elapsed time:  0:02:12.383447\n",
            "Mean results\n",
            "Precision:  54.0  recall:  51.0  f-measure:  52.0\n",
            "Mean results\n",
            "Precision:  0.5401772368582026  recall:  0.5141281425658992  f-measure:  0.5238103431576463\n",
            "Precision max:  0.7176470588235294\n",
            "Precision min:  0.4825061025223759\n",
            "recall max:  0.910159529806885\n",
            "recall min:  0.09631949882537197\n",
            "f-measure max:  0.6591304347826088\n",
            "f-measure min:  0.25\n",
            "f-measure standard deviation:  0.10735677314531272\n",
            "f-measure standard variance:  0.011525476740174139\n"
          ]
        }
      ]
    },
    {
      "cell_type": "code",
      "metadata": {
        "colab": {
          "base_uri": "https://localhost:8080/"
        },
        "id": "LCPlGwXi0ppI",
        "outputId": "bb31a952-1eb8-49b6-d3e2-730242afaa13"
      },
      "source": [
        "execute_cross_validation(mlp, Xreporter_rating)"
      ],
      "execution_count": null,
      "outputs": [
        {
          "output_type": "stream",
          "name": "stdout",
          "text": [
            "elapsed time:  0:02:05.607052\n",
            "Mean results\n",
            "Precision:  56.99999999999999  recall:  56.00000000000001  f-measure:  46.0\n",
            "Mean results\n",
            "Precision:  0.5669410317082513  recall:  0.5553010190219243  f-measure:  0.4581178816032301\n",
            "Precision max:  0.648854961832061\n",
            "Precision min:  0.5086737548964745\n",
            "recall max:  0.9211155378486056\n",
            "recall min:  0.027983539094650206\n",
            "f-measure max:  0.6382050483016516\n",
            "f-measure min:  0.04606830818109611\n",
            "f-measure standard deviation:  0.18631506622534452\n",
            "f-measure standard variance:  0.03471330390255451\n"
          ]
        }
      ]
    },
    {
      "cell_type": "code",
      "metadata": {
        "colab": {
          "base_uri": "https://localhost:8080/"
        },
        "id": "epCAzMv_0ppJ",
        "outputId": "3497ca53-5a96-443b-dbab-07694b91a08b"
      },
      "source": [
        "execute_cross_validation(mlp, Xdeveloper_rating)"
      ],
      "execution_count": null,
      "outputs": [
        {
          "output_type": "stream",
          "name": "stderr",
          "text": [
            "/usr/local/lib/python3.7/dist-packages/sklearn/metrics/_classification.py:1308: UndefinedMetricWarning: Precision is ill-defined and being set to 0.0 due to no predicted samples. Use `zero_division` parameter to control this behavior.\n",
            "  _warn_prf(average, modifier, msg_start, len(result))\n"
          ]
        },
        {
          "output_type": "stream",
          "name": "stdout",
          "text": [
            "elapsed time:  0:02:22.412199\n",
            "Mean results\n",
            "Precision:  50.0  recall:  59.0  f-measure:  54.0\n",
            "Mean results\n",
            "Precision:  0.4973550861451564  recall:  0.5864222683092815  f-measure:  0.5416993823609301\n",
            "Precision max:  0.66875\n",
            "Precision min:  0.0\n",
            "recall max:  0.9480851063829787\n",
            "recall min:  0.2235387045813586\n",
            "f-measure max:  0.6790123456790123\n",
            "f-measure min:  0.24441524310118265\n",
            "f-measure standard deviation:  0.15582963866028382\n",
            "f-measure standard variance:  0.024282876284994624\n"
          ]
        }
      ]
    },
    {
      "cell_type": "code",
      "metadata": {
        "colab": {
          "base_uri": "https://localhost:8080/"
        },
        "id": "AxoJzkaQ0ppJ",
        "outputId": "319419be-bbbe-4d3e-b3f6-d05632a81f55"
      },
      "source": [
        "execute_cross_validation(mlp, Xrating)"
      ],
      "execution_count": null,
      "outputs": [
        {
          "output_type": "stream",
          "name": "stdout",
          "text": [
            "elapsed time:  0:02:23.814168\n",
            "Mean results\n",
            "Precision:  56.99999999999999  recall:  50.0  f-measure:  46.0\n",
            "Mean results\n",
            "Precision:  0.5690368911547311  recall:  0.5015787412360677  f-measure:  0.4586685369930805\n",
            "Precision max:  0.6538461538461539\n",
            "Precision min:  0.5048625792811839\n",
            "recall max:  0.7948929159802306\n",
            "recall min:  0.2098865478119935\n",
            "f-measure max:  0.6567967698519515\n",
            "f-measure min:  0.15827338129496404\n",
            "f-measure standard deviation:  0.196541061781567\n",
            "f-measure standard variance:  0.03862838896622573\n"
          ]
        }
      ]
    },
    {
      "cell_type": "code",
      "metadata": {
        "colab": {
          "base_uri": "https://localhost:8080/"
        },
        "id": "JvWy3TqW0ppJ",
        "outputId": "7b8d9b4a-191d-4a02-89fa-fa1e1be85d50"
      },
      "source": [
        "execute_cross_validation(mlp, XAtachment)"
      ],
      "execution_count": null,
      "outputs": [
        {
          "output_type": "stream",
          "name": "stdout",
          "text": [
            "elapsed time:  0:02:26.879925\n",
            "Mean results\n",
            "Precision:  53.0  recall:  41.0  f-measure:  54.0\n",
            "Mean results\n",
            "Precision:  0.5289906890575287  recall:  0.4107703029994007  f-measure:  0.5406369785868473\n",
            "Precision max:  0.723404255319149\n",
            "Precision min:  0.4716180371352785\n",
            "recall max:  0.973170731707317\n",
            "recall min:  0.0049504950495049506\n",
            "f-measure max:  0.6650069156293223\n",
            "f-measure min:  0.4074402125775022\n",
            "f-measure standard deviation:  0.09016937374639018\n",
            "f-measure standard variance:  0.0081305159618162\n"
          ]
        }
      ]
    },
    {
      "cell_type": "code",
      "metadata": {
        "colab": {
          "base_uri": "https://localhost:8080/"
        },
        "id": "F3-HFuM90ppK",
        "outputId": "4b28c5c2-08a4-42cb-d4b1-7a3319da3737"
      },
      "source": [
        "execute_cross_validation(mlp, XCC)"
      ],
      "execution_count": null,
      "outputs": [
        {
          "output_type": "stream",
          "name": "stderr",
          "text": [
            "/usr/local/lib/python3.7/dist-packages/sklearn/metrics/_classification.py:1308: UndefinedMetricWarning: Precision is ill-defined and being set to 0.0 due to no predicted samples. Use `zero_division` parameter to control this behavior.\n",
            "  _warn_prf(average, modifier, msg_start, len(result))\n"
          ]
        },
        {
          "output_type": "stream",
          "name": "stdout",
          "text": [
            "elapsed time:  0:02:23.948334\n",
            "Mean results\n",
            "Precision:  51.0  recall:  43.0  f-measure:  50.0\n",
            "Mean results\n",
            "Precision:  0.5125319854042049  recall:  0.4302576339175285  f-measure:  0.504080378754665\n",
            "Precision max:  1.0\n",
            "Precision min:  0.0\n",
            "recall max:  0.9942857142857143\n",
            "recall min:  0.008136696501220505\n",
            "f-measure max:  0.677765843179377\n",
            "f-measure min:  0.23973941368078175\n",
            "f-measure standard deviation:  0.16226616188185372\n",
            "f-measure standard variance:  0.026330307291867954\n"
          ]
        }
      ]
    },
    {
      "cell_type": "code",
      "metadata": {
        "colab": {
          "base_uri": "https://localhost:8080/"
        },
        "id": "XGTKXrWf0ppK",
        "outputId": "f797a3d9-b2ae-42cf-cf65-d8457d51248d"
      },
      "source": [
        "execute_cross_validation(mlp, XratingAvg)"
      ],
      "execution_count": null,
      "outputs": [
        {
          "output_type": "stream",
          "name": "stdout",
          "text": [
            "elapsed time:  0:02:19.968532\n",
            "Mean results\n",
            "Precision:  52.0  recall:  32.0  f-measure:  42.0\n",
            "Mean results\n",
            "Precision:  0.5232186451184965  recall:  0.3160365111638407  f-measure:  0.41661569131938697\n",
            "Precision max:  0.5670498084291188\n",
            "Precision min:  0.4676390154968095\n",
            "recall max:  0.9959349593495935\n",
            "recall min:  0.002461033634126333\n",
            "f-measure max:  0.6718019257221458\n",
            "f-measure min:  0.0016501650165016502\n",
            "f-measure standard deviation:  0.2244976294591977\n",
            "f-measure standard variance:  0.050399185632799236\n"
          ]
        }
      ]
    },
    {
      "cell_type": "code",
      "metadata": {
        "colab": {
          "base_uri": "https://localhost:8080/"
        },
        "id": "EXADcDxz0ppL",
        "outputId": "b429df9a-d60c-4637-fb54-abb7cefdaa91"
      },
      "source": [
        "execute_cross_validation(mlp, Xtogether)"
      ],
      "execution_count": null,
      "outputs": [
        {
          "output_type": "stream",
          "name": "stdout",
          "text": [
            "elapsed time:  0:02:28.106615\n",
            "Mean results\n",
            "Precision:  56.99999999999999  recall:  51.0  f-measure:  54.0\n",
            "Mean results\n",
            "Precision:  0.5654153365906247  recall:  0.5094112016858836  f-measure:  0.5356617268937522\n",
            "Precision max:  0.6445396145610278\n",
            "Precision min:  0.5005040322580645\n",
            "recall max:  0.9780666125101544\n",
            "recall min:  0.011933174224343675\n",
            "f-measure max:  0.6718266253869969\n",
            "f-measure min:  0.2517394054395952\n",
            "f-measure standard deviation:  0.15201349830802308\n",
            "f-measure standard variance:  0.023108103667843334\n"
          ]
        }
      ]
    },
    {
      "cell_type": "code",
      "metadata": {
        "colab": {
          "base_uri": "https://localhost:8080/"
        },
        "id": "EEdUX85ym6-J",
        "outputId": "5717e9fc-6e42-4f01-b008-88a029296294"
      },
      "source": [
        "execute_cross_validation(mlp, XtogetherReporter)"
      ],
      "execution_count": null,
      "outputs": [
        {
          "output_type": "stream",
          "name": "stdout",
          "text": [
            "elapsed time:  0:02:13.073984\n",
            "Mean results\n",
            "Precision:  56.00000000000001  recall:  45.0  f-measure:  51.0\n",
            "Mean results\n",
            "Precision:  0.5574637212472974  recall:  0.4483931673989063  f-measure:  0.5106184607277978\n",
            "Precision max:  0.625\n",
            "Precision min:  0.4866666666666667\n",
            "recall max:  1.0\n",
            "recall min:  0.015661707126076743\n",
            "f-measure max:  0.6802139037433155\n",
            "f-measure min:  0.24871794871794872\n",
            "f-measure standard deviation:  0.1330411839022006\n",
            "f-measure standard variance:  0.017699956614099156\n"
          ]
        }
      ]
    },
    {
      "cell_type": "code",
      "metadata": {
        "colab": {
          "base_uri": "https://localhost:8080/"
        },
        "id": "eRjpPWLim9H9",
        "outputId": "aeb347a0-426c-4ea4-8fc3-c4289827cacf"
      },
      "source": [
        "execute_cross_validation(mlp, XtogetherDeveloper)"
      ],
      "execution_count": null,
      "outputs": [
        {
          "output_type": "stream",
          "name": "stdout",
          "text": [
            "elapsed time:  0:02:10.420828\n",
            "Mean results\n",
            "Precision:  55.00000000000001  recall:  56.00000000000001  f-measure:  55.00000000000001\n",
            "Mean results\n",
            "Precision:  0.5472546964186416  recall:  0.5615628570466067  f-measure:  0.5477169316415933\n",
            "Precision max:  0.6314285714285715\n",
            "Precision min:  0.5027051397655545\n",
            "recall max:  0.9486166007905138\n",
            "recall min:  0.08379013312451057\n",
            "f-measure max:  0.655901350557839\n",
            "f-measure min:  0.29716399506781754\n",
            "f-measure standard deviation:  0.11412389906793645\n",
            "f-measure standard variance:  0.013024264338468547\n"
          ]
        }
      ]
    },
    {
      "cell_type": "code",
      "metadata": {
        "colab": {
          "base_uri": "https://localhost:8080/"
        },
        "id": "yQFQJSXp0ppL",
        "outputId": "d84499af-8519-40a1-e957-70d8daf9d756"
      },
      "source": [
        "execute_cross_validation(mlp, X_text)"
      ],
      "execution_count": null,
      "outputs": [
        {
          "output_type": "stream",
          "name": "stdout",
          "text": [
            "elapsed time:  1:13:28.260194\n",
            "Mean results\n",
            "Precision:  56.99999999999999  recall:  56.99999999999999  f-measure:  57.99999999999999\n",
            "Mean results\n",
            "Precision:  0.5736706935595228  recall:  0.5693347485183082  f-measure:  0.5776656971942942\n",
            "Precision max:  0.588897827835881\n",
            "Precision min:  0.5404354587869362\n",
            "recall max:  0.6027508090614887\n",
            "recall min:  0.5419664268585132\n",
            "f-measure max:  0.6096888538794801\n",
            "f-measure min:  0.5590321234876929\n",
            "f-measure standard deviation:  0.01232930663181116\n",
            "f-measure standard variance:  0.00015201180202122267\n"
          ]
        }
      ]
    },
    {
      "cell_type": "code",
      "metadata": {
        "colab": {
          "base_uri": "https://localhost:8080/"
        },
        "id": "SWP9WlFY0ppM",
        "outputId": "95d16b8d-d536-4d21-f230-2e78e064ce3a"
      },
      "source": [
        "execute_cross_validation(mlp, X_text_reputation)"
      ],
      "execution_count": null,
      "outputs": [
        {
          "output_type": "stream",
          "name": "stdout",
          "text": [
            "elapsed time:  0:22:23.770616\n",
            "Mean results\n",
            "Precision:  56.99999999999999  recall:  69.0  f-measure:  60.0\n",
            "Mean results\n",
            "Precision:  0.5712314978027591  recall:  0.6912485435455672  f-measure:  0.5954292734222928\n",
            "Precision max:  0.5973397823458283\n",
            "Precision min:  0.5309309309309309\n",
            "recall max:  0.9148239148239148\n",
            "recall min:  0.07210031347962383\n",
            "f-measure max:  0.6886244118461112\n",
            "f-measure min:  0.43147472642001045\n",
            "f-measure standard deviation:  0.07826375955938167\n",
            "f-measure standard variance:  0.006125216060368705\n"
          ]
        }
      ]
    },
    {
      "cell_type": "code",
      "metadata": {
        "id": "nkbnwfOd0ppM",
        "colab": {
          "base_uri": "https://localhost:8080/"
        },
        "outputId": "7902c17e-0097-4f57-8377-3f9a44e03b0e"
      },
      "source": [
        "execute_cross_validation(mlp, X_text_rating)"
      ],
      "execution_count": null,
      "outputs": [
        {
          "output_type": "stream",
          "name": "stdout",
          "text": [
            "elapsed time:  0:20:06.728712\n",
            "Mean results\n",
            "Precision:  59.0  recall:  61.0  f-measure:  41.0\n",
            "Mean results\n",
            "Precision:  0.5872512981266529  recall:  0.6140648385234158  f-measure:  0.4092582296488967\n",
            "Precision max:  0.7122641509433962\n",
            "Precision min:  0.5008576329331046\n",
            "recall max:  0.9774193548387097\n",
            "recall min:  0.03105095541401274\n",
            "f-measure max:  0.6596448991874811\n",
            "f-measure min:  0.04075235109717868\n",
            "f-measure standard deviation:  0.20255199883014\n",
            "f-measure standard variance:  0.04102731223008503\n"
          ]
        }
      ]
    },
    {
      "cell_type": "markdown",
      "metadata": {
        "id": "uZ3Wp7Tv7lUI"
      },
      "source": [
        "#Gradient Boosting"
      ]
    },
    {
      "cell_type": "code",
      "metadata": {
        "id": "UWda0ZAy7lUJ"
      },
      "source": [
        "from sklearn.ensemble import GradientBoostingClassifier"
      ],
      "execution_count": null,
      "outputs": []
    },
    {
      "cell_type": "code",
      "metadata": {
        "id": "zp28-SJN7lUK"
      },
      "source": [
        "gbc = GradientBoostingClassifier(n_estimators=100, random_state=0)"
      ],
      "execution_count": null,
      "outputs": []
    },
    {
      "cell_type": "code",
      "metadata": {
        "id": "4JoyvENi7lUK",
        "colab": {
          "base_uri": "https://localhost:8080/"
        },
        "outputId": "42196aa2-2b42-4012-92f3-c96bed40ba4c"
      },
      "source": [
        "execute_cross_validation(gbc, Xnormal)"
      ],
      "execution_count": null,
      "outputs": [
        {
          "output_type": "stream",
          "name": "stdout",
          "text": [
            "elapsed time:  0:00:58.591443\n",
            "Mean results\n",
            "Precision:  66.0  recall:  63.0  f-measure:  65.0\n",
            "Mean results\n",
            "Precision:  0.6564277132460175  recall:  0.6327189710679761  f-measure:  0.6455193384307554\n",
            "Precision max:  0.68068669527897\n",
            "Precision min:  0.6353229762878169\n",
            "recall max:  0.6544175136825645\n",
            "recall min:  0.5948759007205765\n",
            "f-measure max:  0.6699507389162562\n",
            "f-measure min:  0.6193109315185028\n",
            "f-measure standard deviation:  0.014709936360435752\n",
            "f-measure standard variance:  0.00021638222772806984\n"
          ]
        }
      ]
    },
    {
      "cell_type": "code",
      "metadata": {
        "id": "PytiAypS7lUL",
        "colab": {
          "base_uri": "https://localhost:8080/"
        },
        "outputId": "4539c94f-835a-41ea-f697-dec172969eaa"
      },
      "source": [
        "execute_cross_validation(gbc, Xreporter_reputation)"
      ],
      "execution_count": null,
      "outputs": [
        {
          "output_type": "stream",
          "name": "stdout",
          "text": [
            "elapsed time:  0:01:11.708978\n",
            "Mean results\n",
            "Precision:  65.0  recall:  64.0  f-measure:  65.0\n",
            "Mean results\n",
            "Precision:  0.6520665897939251  recall:  0.6389845891591516  f-measure:  0.6458115692941566\n",
            "Precision max:  0.6635906040268457\n",
            "Precision min:  0.6399026763990268\n",
            "recall max:  0.6539708265802269\n",
            "recall min:  0.6145069274653626\n",
            "f-measure max:  0.6578525641025641\n",
            "f-measure min:  0.6248976248976248\n",
            "f-measure standard deviation:  0.009410971893606731\n",
            "f-measure standard variance:  8.856639198225585e-05\n"
          ]
        }
      ]
    },
    {
      "cell_type": "code",
      "metadata": {
        "id": "SqYhfmjR7lUL",
        "colab": {
          "base_uri": "https://localhost:8080/"
        },
        "outputId": "d7786ea5-d6c7-44c6-eabf-283e69815b57"
      },
      "source": [
        "execute_cross_validation(gbc, Xdeveloper_reputation)"
      ],
      "execution_count": null,
      "outputs": [
        {
          "output_type": "stream",
          "name": "stdout",
          "text": [
            "elapsed time:  0:01:14.672177\n",
            "Mean results\n",
            "Precision:  66.0  recall:  63.0  f-measure:  64.0\n",
            "Mean results\n",
            "Precision:  0.6557957285401621  recall:  0.630637176114506  f-measure:  0.6414860141239532\n",
            "Precision max:  0.6721311475409836\n",
            "Precision min:  0.6358428805237316\n",
            "recall max:  0.6503215434083601\n",
            "recall min:  0.6072\n",
            "f-measure max:  0.6738782051282051\n",
            "f-measure min:  0.6227996647108132\n",
            "f-measure standard deviation:  0.014931824387344694\n",
            "f-measure standard variance:  0.00022295937953450176\n"
          ]
        }
      ]
    },
    {
      "cell_type": "code",
      "metadata": {
        "id": "yQmOrn8c7lUM",
        "colab": {
          "base_uri": "https://localhost:8080/"
        },
        "outputId": "b6ff88a8-d42e-426a-efb3-79c20e4dea07"
      },
      "source": [
        "execute_cross_validation(gbc, Xreputation)"
      ],
      "execution_count": null,
      "outputs": [
        {
          "output_type": "stream",
          "name": "stdout",
          "text": [
            "elapsed time:  0:01:29.753956\n",
            "Mean results\n",
            "Precision:  65.0  recall:  64.0  f-measure:  65.0\n",
            "Mean results\n",
            "Precision:  0.6514439542740786  recall:  0.6407984636245496  f-measure:  0.6455014833679517\n",
            "Precision max:  0.6661237785016286\n",
            "Precision min:  0.6251039068994181\n",
            "recall max:  0.6675\n",
            "recall min:  0.6134387351778656\n",
            "f-measure max:  0.6584394904458598\n",
            "f-measure min:  0.6208588957055214\n",
            "f-measure standard deviation:  0.010767769010773266\n",
            "f-measure standard variance:  0.00011594484946936907\n"
          ]
        }
      ]
    },
    {
      "cell_type": "code",
      "metadata": {
        "id": "-3kzi-2P7lUM",
        "colab": {
          "base_uri": "https://localhost:8080/"
        },
        "outputId": "44a54db0-7d67-4b18-a8ec-9ff8dafe8ac0"
      },
      "source": [
        "execute_cross_validation(gbc, Xreporter_rating)"
      ],
      "execution_count": null,
      "outputs": [
        {
          "output_type": "stream",
          "name": "stdout",
          "text": [
            "elapsed time:  0:01:09.589595\n",
            "Mean results\n",
            "Precision:  65.0  recall:  64.0  f-measure:  65.0\n",
            "Mean results\n",
            "Precision:  0.6539771229809554  recall:  0.6412105476138925  f-measure:  0.6468236972232739\n",
            "Precision max:  0.6739659367396593\n",
            "Precision min:  0.6258992805755396\n",
            "recall max:  0.6596604688763137\n",
            "recall min:  0.6169686985172982\n",
            "f-measure max:  0.6739811912225705\n",
            "f-measure min:  0.6271186440677966\n",
            "f-measure standard deviation:  0.014410659715681076\n",
            "f-measure standard variance:  0.0002076671134411534\n"
          ]
        }
      ]
    },
    {
      "cell_type": "code",
      "metadata": {
        "id": "oOyLc68y7lUM",
        "colab": {
          "base_uri": "https://localhost:8080/"
        },
        "outputId": "66caa9e6-c53d-47fc-9674-cefea15ef595"
      },
      "source": [
        "execute_cross_validation(gbc, Xdeveloper_rating)"
      ],
      "execution_count": null,
      "outputs": [
        {
          "output_type": "stream",
          "name": "stdout",
          "text": [
            "elapsed time:  0:01:07.038524\n",
            "Mean results\n",
            "Precision:  67.0  recall:  66.0  f-measure:  67.0\n",
            "Mean results\n",
            "Precision:  0.6712688112349587  recall:  0.66130761993401  f-measure:  0.6665543307449052\n",
            "Precision max:  0.6861022364217252\n",
            "Precision min:  0.6435726210350584\n",
            "recall max:  0.6788990825688074\n",
            "recall min:  0.6472545757071547\n",
            "f-measure max:  0.6775777414075287\n",
            "f-measure min:  0.6563803169307757\n",
            "f-measure standard deviation:  0.007675438651361745\n",
            "f-measure standard variance:  5.8912358490817795e-05\n"
          ]
        }
      ]
    },
    {
      "cell_type": "code",
      "metadata": {
        "id": "X2oQQeBl7lUN",
        "colab": {
          "base_uri": "https://localhost:8080/"
        },
        "outputId": "15343ef1-255f-4448-a569-6dc163930d15"
      },
      "source": [
        "execute_cross_validation(gbc, Xrating)"
      ],
      "execution_count": null,
      "outputs": [
        {
          "output_type": "stream",
          "name": "stdout",
          "text": [
            "elapsed time:  0:01:07.571051\n",
            "Mean results\n",
            "Precision:  68.0  recall:  67.0  f-measure:  67.0\n",
            "Mean results\n",
            "Precision:  0.676682450369901  recall:  0.6717426993988365  f-measure:  0.6737712303087087\n",
            "Precision max:  0.6966475878986099\n",
            "Precision min:  0.6287328490718321\n",
            "recall max:  0.6875\n",
            "recall min:  0.6623481781376518\n",
            "f-measure max:  0.6957575757575757\n",
            "f-measure min:  0.6608982282653482\n",
            "f-measure standard deviation:  0.010935953902279059\n",
            "f-measure standard variance:  0.00011959508775277259\n"
          ]
        }
      ]
    },
    {
      "cell_type": "code",
      "metadata": {
        "id": "dc6g_SA_7lUN",
        "colab": {
          "base_uri": "https://localhost:8080/"
        },
        "outputId": "e9b2767c-4426-4907-ab2e-10e9ea3708cb"
      },
      "source": [
        "execute_cross_validation(gbc, XAtachment)"
      ],
      "execution_count": null,
      "outputs": [
        {
          "output_type": "stream",
          "name": "stdout",
          "text": [
            "elapsed time:  0:01:00.650650\n",
            "Mean results\n",
            "Precision:  66.0  recall:  63.0  f-measure:  64.0\n",
            "Mean results\n",
            "Precision:  0.6552469182063339  recall:  0.6315057716733613  f-measure:  0.6429725842550378\n",
            "Precision max:  0.6706081081081081\n",
            "Precision min:  0.6350550381033023\n",
            "recall max:  0.6618705035971223\n",
            "recall min:  0.6180048661800487\n",
            "f-measure max:  0.6663967611336032\n",
            "f-measure min:  0.622478386167147\n",
            "f-measure standard deviation:  0.010952146192968162\n",
            "f-measure standard variance:  0.000119949506232147\n"
          ]
        }
      ]
    },
    {
      "cell_type": "code",
      "metadata": {
        "id": "t0w3Jgh67lUO",
        "colab": {
          "base_uri": "https://localhost:8080/"
        },
        "outputId": "a3893890-cd8c-4c54-9080-71b623a502b1"
      },
      "source": [
        "execute_cross_validation(gbc, XCC)"
      ],
      "execution_count": null,
      "outputs": [
        {
          "output_type": "stream",
          "name": "stdout",
          "text": [
            "elapsed time:  0:01:01.475595\n",
            "Mean results\n",
            "Precision:  65.0  recall:  63.0  f-measure:  64.0\n",
            "Mean results\n",
            "Precision:  0.6544609551221794  recall:  0.6330173503769041  f-measure:  0.6436495833443996\n",
            "Precision max:  0.6768558951965066\n",
            "Precision min:  0.6271604938271605\n",
            "recall max:  0.663575042158516\n",
            "recall min:  0.6141607000795545\n",
            "f-measure max:  0.6607929515418502\n",
            "f-measure min:  0.6221662468513854\n",
            "f-measure standard deviation:  0.011363744685955473\n",
            "f-measure standard variance:  0.00012913469328758128\n"
          ]
        }
      ]
    },
    {
      "cell_type": "code",
      "metadata": {
        "id": "bkhQzHga7lUO",
        "colab": {
          "base_uri": "https://localhost:8080/"
        },
        "outputId": "b399bbb0-3f6f-48df-d3f0-753740318664"
      },
      "source": [
        "execute_cross_validation(gbc, XratingAvg)"
      ],
      "execution_count": null,
      "outputs": [
        {
          "output_type": "stream",
          "name": "stdout",
          "text": [
            "elapsed time:  0:01:41.543993\n",
            "Mean results\n",
            "Precision:  65.0  recall:  65.0  f-measure:  65.0\n",
            "Mean results\n",
            "Precision:  0.6524378378636362  recall:  0.6464167026867956  f-measure:  0.6491092592473707\n",
            "Precision max:  0.6725380304243395\n",
            "Precision min:  0.6350550381033023\n",
            "recall max:  0.6633499170812603\n",
            "recall min:  0.6073423782920989\n",
            "f-measure max:  0.6653027823240589\n",
            "f-measure min:  0.633373934226553\n",
            "f-measure standard deviation:  0.01097677686562161\n",
            "f-measure standard variance:  0.00012048963035764578\n"
          ]
        }
      ]
    },
    {
      "cell_type": "code",
      "metadata": {
        "id": "4StpaS187lUO",
        "colab": {
          "base_uri": "https://localhost:8080/"
        },
        "outputId": "9304289d-0065-4bce-d89f-9777d8d3659a"
      },
      "source": [
        "execute_cross_validation(gbc, Xtogether)"
      ],
      "execution_count": null,
      "outputs": [
        {
          "output_type": "stream",
          "name": "stdout",
          "text": [
            "elapsed time:  0:01:35.892443\n",
            "Mean results\n",
            "Precision:  68.0  recall:  67.0  f-measure:  68.0\n",
            "Mean results\n",
            "Precision:  0.6842965122122837  recall:  0.6730205952244537  f-measure:  0.6773215394387507\n",
            "Precision max:  0.7101214574898785\n",
            "Precision min:  0.6635983263598326\n",
            "recall max:  0.693522906793049\n",
            "recall min:  0.6582077716098335\n",
            "f-measure max:  0.6874500399680256\n",
            "f-measure min:  0.6666666666666666\n",
            "f-measure standard deviation:  0.006493623501835629\n",
            "f-measure standard variance:  4.216714618359202e-05\n"
          ]
        }
      ]
    },
    {
      "cell_type": "code",
      "metadata": {
        "id": "yOtlVrxt7lUP",
        "colab": {
          "base_uri": "https://localhost:8080/"
        },
        "outputId": "dd4f5e46-800f-45a5-fe8b-dcee1a431936"
      },
      "source": [
        "execute_cross_validation(gbc, X_text)"
      ],
      "execution_count": null,
      "outputs": [
        {
          "output_type": "stream",
          "name": "stdout",
          "text": [
            "elapsed time:  0:57:44.605428\n",
            "Mean results\n",
            "Precision:  60.0  recall:  59.0  f-measure:  60.0\n",
            "Mean results\n",
            "Precision:  0.5986297813756453  recall:  0.5879663183356023  f-measure:  0.5963498097172291\n",
            "Precision max:  0.6143790849673203\n",
            "Precision min:  0.585385226370135\n",
            "recall max:  0.6053921568627451\n",
            "recall min:  0.5378486055776892\n",
            "f-measure max:  0.6221672847136382\n",
            "f-measure min:  0.5591397849462365\n",
            "f-measure standard deviation:  0.01651811220471158\n",
            "f-measure standard variance:  0.00027284803080744157\n"
          ]
        }
      ]
    },
    {
      "cell_type": "code",
      "metadata": {
        "colab": {
          "base_uri": "https://localhost:8080/"
        },
        "id": "1NQ3sFhf7lUP",
        "outputId": "26e63527-700c-4326-b729-9464ebaa377c"
      },
      "source": [
        "execute_cross_validation(gbc, X_text_reputation)"
      ],
      "execution_count": null,
      "outputs": [
        {
          "output_type": "stream",
          "name": "stdout",
          "text": [
            "elapsed time:  0:28:45.609235\n",
            "Mean results\n",
            "Precision:  65.0  recall:  65.0  f-measure:  65.0\n",
            "Mean results\n",
            "Precision:  0.6513734555570021  recall:  0.6464873259005335  f-measure:  0.6526563937187329\n",
            "Precision max:  0.6703296703296703\n",
            "Precision min:  0.6180048661800487\n",
            "recall max:  0.664763458401305\n",
            "recall min:  0.6134185303514377\n",
            "f-measure max:  0.6655935613682092\n",
            "f-measure min:  0.6357289527720739\n",
            "f-measure standard deviation:  0.009072168054103302\n",
            "f-measure standard variance:  8.230423320189249e-05\n"
          ]
        }
      ]
    },
    {
      "cell_type": "code",
      "metadata": {
        "id": "6xdAVxG_7lUQ",
        "colab": {
          "base_uri": "https://localhost:8080/"
        },
        "outputId": "50e59a11-fb6f-47cb-c22d-b5a9e1b42175"
      },
      "source": [
        "execute_cross_validation(gbc, X_text_rating)"
      ],
      "execution_count": null,
      "outputs": [
        {
          "output_type": "stream",
          "name": "stdout",
          "text": [
            "elapsed time:  0:27:59.350169\n",
            "Mean results\n",
            "Precision:  68.0  recall:  68.0  f-measure:  68.0\n",
            "Mean results\n",
            "Precision:  0.6796906447424604  recall:  0.6805289218981837  f-measure:  0.6800545618277265\n",
            "Precision max:  0.7041072925398156\n",
            "Precision min:  0.6658673061550759\n",
            "recall max:  0.6958333333333333\n",
            "recall min:  0.6682887266828873\n",
            "f-measure max:  0.6979591836734694\n",
            "f-measure min:  0.6623897353648757\n",
            "f-measure standard deviation:  0.009660978026624974\n",
            "f-measure standard variance:  9.333449643093055e-05\n"
          ]
        }
      ]
    },
    {
      "cell_type": "code",
      "metadata": {
        "colab": {
          "base_uri": "https://localhost:8080/"
        },
        "id": "xDCkQahqG_fF",
        "outputId": "7ff2ae02-69da-4c71-e453-50903d6abb6a"
      },
      "source": [
        "execute_cross_validation(gbc, XWithoutDeveloperReputation)"
      ],
      "execution_count": null,
      "outputs": [
        {
          "output_type": "stream",
          "name": "stdout",
          "text": [
            "elapsed time:  0:01:01.147177\n",
            "Mean results\n",
            "Precision:  64.0  recall:  63.0  f-measure:  64.0\n",
            "Mean results\n",
            "Precision:  0.6440182276311966  recall:  0.633245273784353  f-measure:  0.6360920831826371\n",
            "Precision max:  0.6607287449392713\n",
            "Precision min:  0.628361858190709\n",
            "recall max:  0.667477696674777\n",
            "recall min:  0.6038647342995169\n",
            "f-measure max:  0.6666666666666667\n",
            "f-measure min:  0.6199261992619925\n",
            "f-measure standard deviation:  0.012823584789457203\n",
            "f-measure standard variance:  0.00016444432685239815\n"
          ]
        }
      ]
    },
    {
      "cell_type": "code",
      "metadata": {
        "colab": {
          "base_uri": "https://localhost:8080/"
        },
        "id": "_E6KSWqXHGtM",
        "outputId": "6d28b7e0-01e7-4e56-a815-3dba7d076bfc"
      },
      "source": [
        "execute_cross_validation(rfc, XWithoutDeveloperRating)"
      ],
      "execution_count": null,
      "outputs": [
        {
          "output_type": "stream",
          "name": "stdout",
          "text": [
            "elapsed time:  0:01:14.094350\n",
            "Mean results\n",
            "Precision:  63.0  recall:  63.0  f-measure:  63.0\n",
            "Mean results\n",
            "Precision:  0.6342220901056226  recall:  0.6327270645304226  f-measure:  0.6328004143885722\n",
            "Precision max:  0.6579378068739771\n",
            "Precision min:  0.6052631578947368\n",
            "recall max:  0.6442307692307693\n",
            "recall min:  0.6222038111019056\n",
            "f-measure max:  0.6501992031872509\n",
            "f-measure min:  0.6212871287128713\n",
            "f-measure standard deviation:  0.007364868155270673\n",
            "f-measure standard variance:  5.424128294452005e-05\n"
          ]
        }
      ]
    },
    {
      "cell_type": "markdown",
      "metadata": {
        "id": "45HgW7VVv5W2"
      },
      "source": [
        ""
      ]
    },
    {
      "cell_type": "markdown",
      "metadata": {
        "id": "6U87anmM_Is8"
      },
      "source": [
        "#Wilcoxon test"
      ]
    },
    {
      "cell_type": "code",
      "metadata": {
        "id": "Y6ESrHR7x6Qm"
      },
      "source": [
        "#svdPrediction = np.array(metrics_SVD['f1_score'])"
      ],
      "execution_count": null,
      "outputs": []
    },
    {
      "cell_type": "code",
      "metadata": {
        "id": "mmncTNsbyEOA"
      },
      "source": [
        "#svdPrediction"
      ],
      "execution_count": null,
      "outputs": []
    },
    {
      "cell_type": "code",
      "metadata": {
        "id": "udIhs5cZyF8C"
      },
      "source": [
        "#from scipy.stats import wilcoxon, friedmanchisquare, rankdata\n"
      ],
      "execution_count": null,
      "outputs": []
    },
    {
      "cell_type": "code",
      "metadata": {
        "id": "u-kjczZKyOWT"
      },
      "source": [
        "#wilcoxon(randonForestScore, svdPrediction, zero_method='zsplit')"
      ],
      "execution_count": null,
      "outputs": []
    },
    {
      "cell_type": "code",
      "metadata": {
        "colab": {
          "base_uri": "https://localhost:8080/",
          "height": 52
        },
        "id": "Ocr8t0Z2ywdj",
        "outputId": "0240b7e1-d695-45e9-97f2-4711e8799d2e"
      },
      "source": [
        "'''\n",
        "stat, p = wilcoxon(randonForestScore, svdPrediction)\n",
        "print('stat=%.3f, p=%.3f' % (stat, p))\n",
        "if p > 0.05:\n",
        "\tprint('Probably the same distribution')\n",
        "else:\n",
        "\tprint('Probably different distributions')\n",
        "\n",
        "\t'''"
      ],
      "execution_count": null,
      "outputs": [
        {
          "data": {
            "application/vnd.google.colaboratory.intrinsic+json": {
              "type": "string"
            },
            "text/plain": [
              "\"\\nstat, p = wilcoxon(randonForestScore, svdPrediction)\\nprint('stat=%.3f, p=%.3f' % (stat, p))\\nif p > 0.05:\\n\\tprint('Probably the same distribution')\\nelse:\\n\\tprint('Probably different distributions')\\n\\n\\t\""
            ]
          },
          "execution_count": 77,
          "metadata": {},
          "output_type": "execute_result"
        }
      ]
    },
    {
      "cell_type": "markdown",
      "metadata": {
        "id": "66e9NUslXkuH"
      },
      "source": [
        "#implementar\n",
        "https://blog.cambridgespark.com/nowadays-recommender-systems-are-used-to-personalize-your-experience-on-the-web-telling-you-what-120f39b89c3c\n",
        "\n",
        "https://github.com/mpszumowski/ml_recommendations\n"
      ]
    },
    {
      "cell_type": "markdown",
      "metadata": {
        "id": "tKLOnMwczFHs"
      },
      "source": [
        "\n",
        "\n",
        "inspirar na solução: https://github.com/jzymet/recommender\n",
        "\n",
        "https://edisciplinas.usp.br/pluginfile.php/4129451/mod_resource/content/1/model_selection_evaluation.pdf\n",
        "\n",
        "https://stats.stackexchange.com/questions/157968/wilcoxon-signed-rank-test-for-comparing-classifiers\n",
        "\n",
        "\n",
        "https://machinelearningmastery.com/statistical-hypothesis-tests-in-python-cheat-sheet/"
      ]
    },
    {
      "cell_type": "code",
      "metadata": {
        "id": "lWWOlOAYXWw4"
      },
      "source": [
        ""
      ],
      "execution_count": null,
      "outputs": []
    },
    {
      "cell_type": "markdown",
      "metadata": {
        "id": "D_kQEib9XXFy"
      },
      "source": [
        "#Collaborative"
      ]
    },
    {
      "cell_type": "code",
      "metadata": {
        "id": "1AM2DGAYXZsd"
      },
      "source": [
        "from sklearn.model_selection import train_test_split\n",
        "from sklearn.metrics.pairwise import pairwise_distances"
      ],
      "execution_count": null,
      "outputs": []
    },
    {
      "cell_type": "code",
      "metadata": {
        "id": "nHMsfyFRZXIE"
      },
      "source": [
        "#bugfixclass['characteristic']= bugfixclass['bug_severity']+bugfixclass['priority']+bugfixclass['product_id'].astype(str)+bugfixclass['component_id'].astype(str)+bugfixclass['op_sys']+bugfixclass['rep_platform']+bugfixclass['number_cc'].astype(str)+bugfixclass['number_attachment'].astype(str)+bugfixclass['month_creation'].astype(str)+bugfixclass['year_creation'].astype(str)\n",
        "bugfixclass['characteristic']= bugfixclass['bug_severity']+bugfixclass['priority']+bugfixclass['product_id'].astype(str)+bugfixclass['component_id'].astype(str)+bugfixclass['op_sys']+bugfixclass['rep_platform']"
      ],
      "execution_count": null,
      "outputs": []
    },
    {
      "cell_type": "code",
      "metadata": {
        "id": "jw2tKeJHkE8o"
      },
      "source": [
        "from sklearn import preprocessing\n",
        "le = preprocessing.LabelEncoder()"
      ],
      "execution_count": null,
      "outputs": []
    },
    {
      "cell_type": "code",
      "metadata": {
        "colab": {
          "base_uri": "https://localhost:8080/"
        },
        "id": "ePr3M-AokHiq",
        "outputId": "7a5af1b5-5146-42f4-937c-3e316701fe14"
      },
      "source": [
        "bugfixclass['characteristic_n'] = le.fit_transform(bugfixclass['characteristic'].values.reshape(-1,1))"
      ],
      "execution_count": null,
      "outputs": [
        {
          "name": "stderr",
          "output_type": "stream",
          "text": [
            "/usr/local/lib/python3.7/dist-packages/sklearn/preprocessing/_label.py:251: DataConversionWarning: A column-vector y was passed when a 1d array was expected. Please change the shape of y to (n_samples, ), for example using ravel().\n",
            "  y = column_or_1d(y, warn=True)\n"
          ]
        }
      ]
    },
    {
      "cell_type": "code",
      "metadata": {
        "id": "sw3hu6OTkRbW"
      },
      "source": [
        "#features = ['assigned_to','reporter', 'characteristic_n', 'ratings' ]\n",
        "features = ['reporter', 'characteristic_n', 'ratings' ]\n",
        "data = bugfixclass[features]"
      ],
      "execution_count": null,
      "outputs": []
    },
    {
      "cell_type": "code",
      "metadata": {
        "id": "xsQI_QfhkiIC"
      },
      "source": [
        "n_reporter = data.reporter.unique().shape[0]\n",
        "n_bugs = data.characteristic_n.unique().shape[0]"
      ],
      "execution_count": null,
      "outputs": []
    },
    {
      "cell_type": "code",
      "metadata": {
        "id": "yX1eHxrokgYj"
      },
      "source": [
        "train_data, test_data = train_test_split(data, test_size=0.20)"
      ],
      "execution_count": null,
      "outputs": []
    },
    {
      "cell_type": "code",
      "metadata": {
        "id": "EcjyLSzak7NK"
      },
      "source": [
        "train_data_matrix = np.zeros((n_reporter, n_bugs))"
      ],
      "execution_count": null,
      "outputs": []
    },
    {
      "cell_type": "code",
      "metadata": {
        "colab": {
          "base_uri": "https://localhost:8080/",
          "height": 203
        },
        "id": "5-rErbpLYyvg",
        "outputId": "38b09f55-b28a-47b2-97ce-606dbe13b410"
      },
      "source": [
        "for line in train_data.itertuples():\n",
        "    # adjust to count rows and cols from 0 and fill in the matrix\n",
        "    train_data_matrix[line[1]-1, line[2]-1] = line[3]"
      ],
      "execution_count": null,
      "outputs": [
        {
          "ename": "IndexError",
          "evalue": "ignored",
          "output_type": "error",
          "traceback": [
            "\u001b[0;31m---------------------------------------------------------------------------\u001b[0m",
            "\u001b[0;31mIndexError\u001b[0m                                Traceback (most recent call last)",
            "\u001b[0;32m<ipython-input-42-2cd9c2365fae>\u001b[0m in \u001b[0;36m<module>\u001b[0;34m()\u001b[0m\n\u001b[1;32m      1\u001b[0m \u001b[0;32mfor\u001b[0m \u001b[0mline\u001b[0m \u001b[0;32min\u001b[0m \u001b[0mtrain_data\u001b[0m\u001b[0;34m.\u001b[0m\u001b[0mitertuples\u001b[0m\u001b[0;34m(\u001b[0m\u001b[0;34m)\u001b[0m\u001b[0;34m:\u001b[0m\u001b[0;34m\u001b[0m\u001b[0;34m\u001b[0m\u001b[0m\n\u001b[1;32m      2\u001b[0m     \u001b[0;31m# adjust to count rows and cols from 0 and fill in the matrix\u001b[0m\u001b[0;34m\u001b[0m\u001b[0;34m\u001b[0m\u001b[0;34m\u001b[0m\u001b[0m\n\u001b[0;32m----> 3\u001b[0;31m     \u001b[0mtrain_data_matrix\u001b[0m\u001b[0;34m[\u001b[0m\u001b[0mline\u001b[0m\u001b[0;34m[\u001b[0m\u001b[0;36m1\u001b[0m\u001b[0;34m]\u001b[0m\u001b[0;34m-\u001b[0m\u001b[0;36m1\u001b[0m\u001b[0;34m,\u001b[0m \u001b[0mline\u001b[0m\u001b[0;34m[\u001b[0m\u001b[0;36m2\u001b[0m\u001b[0;34m]\u001b[0m\u001b[0;34m-\u001b[0m\u001b[0;36m1\u001b[0m\u001b[0;34m]\u001b[0m \u001b[0;34m=\u001b[0m \u001b[0mline\u001b[0m\u001b[0;34m[\u001b[0m\u001b[0;36m3\u001b[0m\u001b[0;34m]\u001b[0m\u001b[0;34m\u001b[0m\u001b[0;34m\u001b[0m\u001b[0m\n\u001b[0m",
            "\u001b[0;31mIndexError\u001b[0m: index 75189 is out of bounds for axis 0 with size 3090"
          ]
        }
      ]
    },
    {
      "cell_type": "code",
      "metadata": {
        "id": "KfklcWbhlo_F"
      },
      "source": [
        "user_similarity = pairwise_distances(train_data_matrix, metric='cosine')"
      ],
      "execution_count": null,
      "outputs": []
    },
    {
      "cell_type": "code",
      "metadata": {
        "id": "QGTdjB5Mlthj"
      },
      "source": [
        "def predict(ratings, similarity, type='user'):\n",
        "    if type == 'user':\n",
        "        mean_user_rating = ratings.mean(axis=1)\n",
        "        #You use np.newaxis so that mean_user_rating has same format as ratings\n",
        "        ratings_diff = (ratings - mean_user_rating[:, np.newaxis])\n",
        "        pred = mean_user_rating[:, np.newaxis] + similarity.dot(ratings_diff) / np.array([np.abs(similarity).sum(axis=1)]).T\n",
        "    elif type == 'item':\n",
        "        pred = ratings.dot(similarity) / np.array([np.abs(similarity).sum(axis=1)])\n",
        "    return pred"
      ],
      "execution_count": null,
      "outputs": []
    },
    {
      "cell_type": "code",
      "metadata": {
        "id": "ufc1p3-Hl2lj"
      },
      "source": [
        "user_prediction = predict(train_data_matrix, user_similarity, type='user')"
      ],
      "execution_count": null,
      "outputs": []
    },
    {
      "cell_type": "code",
      "metadata": {
        "id": "HuJ6HkFgmMSy"
      },
      "source": [
        "def rmse(prediction, ground_truth):\n",
        "    prediction = prediction[ground_truth.nonzero()].flatten()\n",
        "    ground_truth = ground_truth[ground_truth.nonzero()].flatten()\n",
        "    return sqrt(mean_squared_error(prediction, ground_truth))"
      ],
      "execution_count": null,
      "outputs": []
    },
    {
      "cell_type": "code",
      "metadata": {
        "colab": {
          "base_uri": "https://localhost:8080/",
          "height": 167
        },
        "id": "eLso7y3KmQ1q",
        "outputId": "1b7702f5-6528-46c6-eb41-b3e62fc608cd"
      },
      "source": [
        "print('User-based CF RMSE: ' + str(rmse(user_prediction, test_data_matrix)))"
      ],
      "execution_count": null,
      "outputs": [
        {
          "ename": "NameError",
          "evalue": "ignored",
          "output_type": "error",
          "traceback": [
            "\u001b[0;31m---------------------------------------------------------------------------\u001b[0m",
            "\u001b[0;31mNameError\u001b[0m                                 Traceback (most recent call last)",
            "\u001b[0;32m<ipython-input-47-b8391bbbbe93>\u001b[0m in \u001b[0;36m<module>\u001b[0;34m()\u001b[0m\n\u001b[0;32m----> 1\u001b[0;31m \u001b[0mprint\u001b[0m\u001b[0;34m(\u001b[0m\u001b[0;34m'User-based CF RMSE: '\u001b[0m \u001b[0;34m+\u001b[0m \u001b[0mstr\u001b[0m\u001b[0;34m(\u001b[0m\u001b[0mrmse\u001b[0m\u001b[0;34m(\u001b[0m\u001b[0muser_prediction\u001b[0m\u001b[0;34m,\u001b[0m \u001b[0mtest_data_matrix\u001b[0m\u001b[0;34m)\u001b[0m\u001b[0;34m)\u001b[0m\u001b[0;34m)\u001b[0m\u001b[0;34m\u001b[0m\u001b[0;34m\u001b[0m\u001b[0m\n\u001b[0m",
            "\u001b[0;31mNameError\u001b[0m: name 'test_data_matrix' is not defined"
          ]
        }
      ]
    }
  ]
}