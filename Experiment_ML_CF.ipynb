{
  "nbformat": 4,
  "nbformat_minor": 0,
  "metadata": {
    "colab": {
      "name": "Experiment_ML_CF.ipynb",
      "provenance": [],
      "collapsed_sections": [
        "Kd_kWodukquh",
        "ImEFheNp8gDK",
        "P4ebuy6AAAwx",
        "Vm9HRWS7AFao"
      ],
      "include_colab_link": true
    },
    "kernelspec": {
      "display_name": "Python 3",
      "name": "python3"
    }
  },
  "cells": [
    {
      "cell_type": "markdown",
      "metadata": {
        "id": "view-in-github",
        "colab_type": "text"
      },
      "source": [
        "<a href=\"https://colab.research.google.com/github/brunorodriguesti/Experiment_CF_ML_Bug_Fixing_Time/blob/main/Experiment_ML_CF.ipynb\" target=\"_parent\"><img src=\"https://colab.research.google.com/assets/colab-badge.svg\" alt=\"Open In Colab\"/></a>"
      ]
    },
    {
      "cell_type": "code",
      "metadata": {
        "id": "2jYhOYH44MSG",
        "colab": {
          "base_uri": "https://localhost:8080/"
        },
        "outputId": "b780a9d4-aa4f-42bd-9cc4-00b5d945fb16"
      },
      "source": [
        "from google.colab import drive\n",
        "drive.mount('/content/gdrive')"
      ],
      "execution_count": 1,
      "outputs": [
        {
          "output_type": "stream",
          "text": [
            "Drive already mounted at /content/gdrive; to attempt to forcibly remount, call drive.mount(\"/content/gdrive\", force_remount=True).\n"
          ],
          "name": "stdout"
        }
      ]
    },
    {
      "cell_type": "code",
      "metadata": {
        "id": "ctrnxQMl7RGG",
        "colab": {
          "base_uri": "https://localhost:8080/"
        },
        "outputId": "a2f4ebcd-5dd6-463a-df46-58d45e51f4db"
      },
      "source": [
        "cd /content/gdrive/My Drive/"
      ],
      "execution_count": 2,
      "outputs": [
        {
          "output_type": "stream",
          "text": [
            "/content/gdrive/My Drive\n"
          ],
          "name": "stdout"
        }
      ]
    },
    {
      "cell_type": "code",
      "metadata": {
        "id": "_k5ye4-Z7gax",
        "colab": {
          "base_uri": "https://localhost:8080/"
        },
        "outputId": "595aa856-f1cb-40e9-be1e-532058144f63"
      },
      "source": [
        "cd Colab\\ Notebooks"
      ],
      "execution_count": 3,
      "outputs": [
        {
          "output_type": "stream",
          "text": [
            "/content/gdrive/My Drive/Colab Notebooks\n"
          ],
          "name": "stdout"
        }
      ]
    },
    {
      "cell_type": "code",
      "metadata": {
        "id": "_ss567U68J44"
      },
      "source": [
        "import pandas as pd\n",
        "import numpy as np\n",
        "import matplotlib.pyplot as plt\n",
        "import datetime\n",
        "import nltk\n",
        "import time\n",
        "from datetime import timedelta"
      ],
      "execution_count": 4,
      "outputs": []
    },
    {
      "cell_type": "code",
      "metadata": {
        "id": "UNMZc7cJuAC6"
      },
      "source": [
        "#Select dataset\n",
        "#bugfixclass = pd.read_csv('/content/gdrive/My Drive/Colab Notebooks/eclipse_clean.csv', low_memory=False)\n",
        "bugfixclass = pd.read_csv('/content/gdrive/My Drive/Colab Notebooks/netbeans_clean.csv', low_memory=False)"
      ],
      "execution_count": 5,
      "outputs": []
    },
    {
      "cell_type": "code",
      "metadata": {
        "id": "1QWZbkIu8-nl",
        "colab": {
          "base_uri": "https://localhost:8080/"
        },
        "outputId": "0ad7b4ba-0f12-4530-9574-1cd95a1dbfd9"
      },
      "source": [
        "bugfixclass['classification'].value_counts()"
      ],
      "execution_count": 6,
      "outputs": [
        {
          "output_type": "execute_result",
          "data": {
            "text/plain": [
              "0.0    1534\n",
              "1.0    1534\n",
              "Name: classification, dtype: int64"
            ]
          },
          "metadata": {},
          "execution_count": 6
        }
      ]
    },
    {
      "cell_type": "markdown",
      "metadata": {
        "id": "Nm4Dq2LLwIj6"
      },
      "source": [
        "#Treating the textual features"
      ]
    },
    {
      "cell_type": "code",
      "metadata": {
        "colab": {
          "base_uri": "https://localhost:8080/"
        },
        "id": "xBoKRn8AyUya",
        "outputId": "30e2b5bb-8a8f-4c93-fde1-d8c9c7f99570"
      },
      "source": [
        "nltk.download('punkt')\n",
        "nltk.download('averaged_perceptron_tagger')\n",
        "nltk.download('tagsets')\n",
        "nltk.download(\"stopwords\")\n",
        "nltk.download('wordnet')\n",
        "from nltk.tokenize import RegexpTokenizer\n",
        "from nltk.stem import WordNetLemmatizer,PorterStemmer\n",
        "from nltk.corpus import stopwords\n",
        "import re\n",
        "lemmatizer = WordNetLemmatizer()\n",
        "stemmer = PorterStemmer() \n"
      ],
      "execution_count": 13,
      "outputs": [
        {
          "output_type": "stream",
          "text": [
            "[nltk_data] Downloading package punkt to /root/nltk_data...\n",
            "[nltk_data]   Package punkt is already up-to-date!\n",
            "[nltk_data] Downloading package averaged_perceptron_tagger to\n",
            "[nltk_data]     /root/nltk_data...\n",
            "[nltk_data]   Package averaged_perceptron_tagger is already up-to-\n",
            "[nltk_data]       date!\n",
            "[nltk_data] Downloading package tagsets to /root/nltk_data...\n",
            "[nltk_data]   Package tagsets is already up-to-date!\n",
            "[nltk_data] Downloading package stopwords to /root/nltk_data...\n",
            "[nltk_data]   Package stopwords is already up-to-date!\n",
            "[nltk_data] Downloading package wordnet to /root/nltk_data...\n",
            "[nltk_data]   Package wordnet is already up-to-date!\n"
          ],
          "name": "stdout"
        }
      ]
    },
    {
      "cell_type": "code",
      "metadata": {
        "id": "imEKU453xoIG"
      },
      "source": [
        "def preprocess(sentence):\n",
        "    sentence=str(sentence)\n",
        "    sentence = sentence.lower()\n",
        "    sentence=sentence.replace('{html}',\"\") \n",
        "    cleanr = re.compile('<.*?>')\n",
        "    cleantext = re.sub(cleanr, '', sentence)\n",
        "    rem_url=re.sub(r'http\\S+', '',cleantext)\n",
        "    rem_num = re.sub('[0-9]+', '', rem_url)\n",
        "    tokenizer = RegexpTokenizer(r'\\w+')\n",
        "    tokens = tokenizer.tokenize(rem_num)  \n",
        "    filtered_words = [w for w in tokens if len(w) > 2 if not w in stopwords.words('english')]\n",
        "    stem_words=[stemmer.stem(w) for w in filtered_words]\n",
        "    #lemma_words=[lemmatizer.lemmatize(w) for w in stem_words]\n",
        "    return \" \".join(stem_words)"
      ],
      "execution_count": 14,
      "outputs": []
    },
    {
      "cell_type": "code",
      "metadata": {
        "id": "0342eRFdUcFZ"
      },
      "source": [
        "bugfixclass['summary_plus_comment']= bugfixclass['short_desc']+\" \" +bugfixclass['comments']"
      ],
      "execution_count": 15,
      "outputs": []
    },
    {
      "cell_type": "code",
      "metadata": {
        "id": "vU6KMOugxpyQ"
      },
      "source": [
        "bugfixclass['summary_plus_comment_tok']= np.array(bugfixclass['summary_plus_comment'].map(lambda s:preprocess(s)))"
      ],
      "execution_count": null,
      "outputs": []
    },
    {
      "cell_type": "code",
      "metadata": {
        "id": "RNGJKv_MFQZ1"
      },
      "source": [
        "from sklearn.feature_extraction.text import CountVectorizer\n",
        "countVect = CountVectorizer(min_df=0.005)"
      ],
      "execution_count": null,
      "outputs": []
    },
    {
      "cell_type": "code",
      "metadata": {
        "id": "TsgMqZHMFxV-"
      },
      "source": [
        "sentence_count_vect = countVect.fit_transform(bugfixclass['summary_plus_comment_tok'])"
      ],
      "execution_count": null,
      "outputs": []
    },
    {
      "cell_type": "code",
      "metadata": {
        "id": "nRSRIQewGEvx"
      },
      "source": [
        " sentence_count_vect.shape"
      ],
      "execution_count": null,
      "outputs": []
    },
    {
      "cell_type": "code",
      "metadata": {
        "id": "VbkyO6pdVmHJ"
      },
      "source": [
        "from sklearn.feature_extraction.text import TfidfTransformer"
      ],
      "execution_count": null,
      "outputs": []
    },
    {
      "cell_type": "code",
      "metadata": {
        "id": "4nq5whDZWNBT"
      },
      "source": [
        "tfidf_transformer = TfidfTransformer()\n",
        "X_train_tfidf = tfidf_transformer.fit_transform(sentence_count_vect)"
      ],
      "execution_count": null,
      "outputs": []
    },
    {
      "cell_type": "code",
      "metadata": {
        "id": "UyFG0BaXcTOp"
      },
      "source": [
        "sentence = X_train_tfidf"
      ],
      "execution_count": null,
      "outputs": []
    },
    {
      "cell_type": "code",
      "metadata": {
        "id": "2HG2bE4KcU3Y"
      },
      "source": [
        "sentence.shape"
      ],
      "execution_count": null,
      "outputs": []
    },
    {
      "cell_type": "code",
      "metadata": {
        "id": "ec7znAlQr2tu"
      },
      "source": [
        "count_vect_df = pd.DataFrame(sentence.todense(), columns=countVect.get_feature_names())"
      ],
      "execution_count": null,
      "outputs": []
    },
    {
      "cell_type": "markdown",
      "metadata": {
        "id": "K2CHtLvojR7M"
      },
      "source": [
        "#Features"
      ]
    },
    {
      "cell_type": "code",
      "metadata": {
        "id": "3lzA5y-iwM4M"
      },
      "source": [
        "features = ['reporter', 'assigned_to', 'priority_n', 'severity_n', 'product_id', 'component_id', 'month_creation', 'year_creation', 'number_cc','number_attachment' ]"
      ],
      "execution_count": 7,
      "outputs": []
    },
    {
      "cell_type": "code",
      "metadata": {
        "id": "9OzIFXDJH1s1"
      },
      "source": [
        "bugfixclass.columns"
      ],
      "execution_count": null,
      "outputs": []
    },
    {
      "cell_type": "code",
      "metadata": {
        "id": "qO3D8odpUOrd"
      },
      "source": [
        "# Using textual information\n",
        "#X = pd.concat([bugfixclass[features], count_vect_df], axis=1)\n",
        "\n",
        "# It does not use textual information\n",
        "X = bugfixclass[features]"
      ],
      "execution_count": 8,
      "outputs": []
    },
    {
      "cell_type": "code",
      "metadata": {
        "id": "sIgwy0SGxRhZ"
      },
      "source": [
        "y = bugfixclass['classification']"
      ],
      "execution_count": 9,
      "outputs": []
    },
    {
      "cell_type": "code",
      "metadata": {
        "id": "R1OtwgFXvcMy"
      },
      "source": [
        "from sklearn.model_selection import train_test_split, KFold, cross_val_score\n",
        "from sklearn import metrics"
      ],
      "execution_count": 10,
      "outputs": []
    },
    {
      "cell_type": "markdown",
      "metadata": {
        "id": "BPXf-KBHKY7p"
      },
      "source": [
        "#Cross validation"
      ]
    },
    {
      "cell_type": "code",
      "metadata": {
        "id": "A8Fq5Tl__32-"
      },
      "source": [
        "def cross_validation(X, y, c, model,v=0):\n",
        "  return {'precision': cross_val_score(model, X, y, scoring=\"precision\", cv=c, verbose=v), 'recall': cross_val_score(model, X, y, scoring=\"recall\", cv=c, verbose = v), 'f1_score': cross_val_score(model, X, y, scoring=\"f1\", cv=c, verbose=v)};  \n"
      ],
      "execution_count": 11,
      "outputs": []
    },
    {
      "cell_type": "code",
      "metadata": {
        "id": "9rEB1ROtUZor"
      },
      "source": [
        "kf = KFold(n_splits=10,shuffle=True)"
      ],
      "execution_count": 12,
      "outputs": []
    },
    {
      "cell_type": "markdown",
      "metadata": {
        "id": "Kd_kWodukquh"
      },
      "source": [
        "#Naive Bayes"
      ]
    },
    {
      "cell_type": "code",
      "metadata": {
        "id": "g-PI9aizks33"
      },
      "source": [
        "from sklearn.naive_bayes import GaussianNB\n",
        "#from sklearn.naive_bayes import MultinomialNB"
      ],
      "execution_count": 13,
      "outputs": []
    },
    {
      "cell_type": "code",
      "metadata": {
        "id": "fb_n-IFylIp4"
      },
      "source": [
        "gnb = GaussianNB()\n",
        "\n",
        "# Used to classify with textual features\n",
        "#classifier = MultinomialNB() "
      ],
      "execution_count": 14,
      "outputs": []
    },
    {
      "cell_type": "code",
      "metadata": {
        "colab": {
          "base_uri": "https://localhost:8080/"
        },
        "id": "hoFe0AAXQI7u",
        "outputId": "fa9307e4-4635-4fc7-e2db-5b2a0949bf23"
      },
      "source": [
        "start = time.time()\n",
        "nbScore = cross_validation(X, y, kf, gnb)\n",
        "#nbScore = cross_validation(XsD, y, kf, gnb)\n",
        "end = time.time()\n",
        "print('elapsed time: ', timedelta(seconds= end - start))\n",
        "print ('Precision: ', round(nbScore['precision'].mean(),2)*100, ' recall: ', round(nbScore['recall'].mean(),2)*100, ' f-measure: ', round(nbScore['f1_score'].mean(),2)*100)"
      ],
      "execution_count": 15,
      "outputs": [
        {
          "output_type": "stream",
          "text": [
            "elapsed time:  0:00:00.146771\n",
            "Precision:  70.0  recall:  21.0  f-measure:  34.0\n"
          ],
          "name": "stdout"
        }
      ]
    },
    {
      "cell_type": "markdown",
      "metadata": {
        "id": "ImEFheNp8gDK"
      },
      "source": [
        "#Decision Tree"
      ]
    },
    {
      "cell_type": "code",
      "metadata": {
        "id": "NuXTWc808ikU"
      },
      "source": [
        "from sklearn.tree import DecisionTreeClassifier "
      ],
      "execution_count": 16,
      "outputs": []
    },
    {
      "cell_type": "code",
      "metadata": {
        "id": "bnaOjL8JSXYU"
      },
      "source": [
        "cdt = DecisionTreeClassifier(criterion='gini', max_depth=None)"
      ],
      "execution_count": 17,
      "outputs": []
    },
    {
      "cell_type": "code",
      "metadata": {
        "id": "utfRSE4ORWsK",
        "colab": {
          "base_uri": "https://localhost:8080/"
        },
        "outputId": "fe143ad7-15c6-43cb-e7f1-9110c39bb61b"
      },
      "source": [
        "tart = time.time()\n",
        "dtScore = cross_validation(X, y, kf, cdt)\n",
        "end = time.time()\n",
        "print('elapsed time: ', timedelta(seconds=end - start))\n",
        "print ('Precision: ', round(dtScore['precision'].mean(),2)*100, ' recall: ', round(dtScore['recall'].mean(),2)*100, ' f-measure: ', round(dtScore['f1_score'].mean(),2)*100)"
      ],
      "execution_count": 18,
      "outputs": [
        {
          "output_type": "stream",
          "text": [
            "elapsed time:  0:00:05.973461\n",
            "Precision:  60.0  recall:  59.0  f-measure:  59.0\n"
          ],
          "name": "stdout"
        }
      ]
    },
    {
      "cell_type": "markdown",
      "metadata": {
        "id": "P4ebuy6AAAwx"
      },
      "source": [
        "#KNN"
      ]
    },
    {
      "cell_type": "code",
      "metadata": {
        "id": "VxhwqSRNAEuF"
      },
      "source": [
        "from sklearn.neighbors import KNeighborsClassifier"
      ],
      "execution_count": 19,
      "outputs": []
    },
    {
      "cell_type": "code",
      "metadata": {
        "id": "qpIpSgS6yy0N"
      },
      "source": [
        "knn = KNeighborsClassifier()"
      ],
      "execution_count": 20,
      "outputs": []
    },
    {
      "cell_type": "code",
      "metadata": {
        "id": "tuDmDvtDy1f3",
        "colab": {
          "base_uri": "https://localhost:8080/"
        },
        "outputId": "16640fb3-1ce9-4e3b-809d-806b8ff0b116"
      },
      "source": [
        "start = time.time()\n",
        "knnScore = cross_validation(X, y, kf, knn)\n",
        "end = time.time()\n",
        "print('elapsed time: ', timedelta(seconds=end - start))\n",
        "print ('Precision: ', round(knnScore['precision'].mean(),2)*100, ' recall: ', round(knnScore['recall'].mean(),2)*100, ' f-measure: ', round(knnScore['f1_score'].mean(),2)*100)"
      ],
      "execution_count": 21,
      "outputs": [
        {
          "output_type": "stream",
          "text": [
            "elapsed time:  0:00:00.572907\n",
            "Precision:  57.99999999999999  recall:  56.99999999999999  f-measure:  56.99999999999999\n"
          ],
          "name": "stdout"
        }
      ]
    },
    {
      "cell_type": "markdown",
      "metadata": {
        "id": "Vm9HRWS7AFao"
      },
      "source": [
        "#Random Forest"
      ]
    },
    {
      "cell_type": "code",
      "metadata": {
        "id": "Both_i7oAKK3"
      },
      "source": [
        "from sklearn.ensemble import RandomForestClassifier"
      ],
      "execution_count": 22,
      "outputs": []
    },
    {
      "cell_type": "code",
      "metadata": {
        "id": "j16Vx-zdh8rD"
      },
      "source": [
        "rfc=RandomForestClassifier(n_estimators=100)"
      ],
      "execution_count": 23,
      "outputs": []
    },
    {
      "cell_type": "code",
      "metadata": {
        "id": "uNgLTrWriA77",
        "colab": {
          "base_uri": "https://localhost:8080/"
        },
        "outputId": "9a0cb7a7-8e24-44f5-855d-29647c6ad1da"
      },
      "source": [
        "start = time.time()\n",
        "rfcScore = cross_validation(X, y, kf, rfc)\n",
        "end = time.time()\n",
        "print('elapsed time: ', timedelta(seconds=end - start))\n",
        "print ('Precision: ', round(rfcScore['precision'].mean(),2)*100, ' recall: ', round(rfcScore['recall'].mean(),2)*100, ' f-measure: ', round(rfcScore['f1_score'].mean(),2)*100)"
      ],
      "execution_count": 25,
      "outputs": [
        {
          "output_type": "stream",
          "text": [
            "elapsed time:  0:00:13.712701\n",
            "Precision:  63.0  recall:  62.0  f-measure:  63.0\n"
          ],
          "name": "stdout"
        }
      ]
    },
    {
      "cell_type": "code",
      "metadata": {
        "id": "hjrIPccMwEP1"
      },
      "source": [
        "randonForestScore = np.array(rfcScore['f1_score'])"
      ],
      "execution_count": 26,
      "outputs": []
    },
    {
      "cell_type": "markdown",
      "metadata": {
        "id": "EGzaIjqDAK0c"
      },
      "source": [
        "#SVM"
      ]
    },
    {
      "cell_type": "code",
      "metadata": {
        "id": "mTaSWkjsAOAa"
      },
      "source": [
        "from sklearn.linear_model import SGDClassifier"
      ],
      "execution_count": 27,
      "outputs": []
    },
    {
      "cell_type": "code",
      "metadata": {
        "id": "DTZgxBSlwvv4"
      },
      "source": [
        "svmclf = SGDClassifier(loss='hinge', penalty='l2',alpha=1e-3, random_state=42, max_iter=5, tol=None)"
      ],
      "execution_count": 28,
      "outputs": []
    },
    {
      "cell_type": "code",
      "metadata": {
        "id": "svtY19yVeeh5",
        "colab": {
          "base_uri": "https://localhost:8080/"
        },
        "outputId": "2e522647-6340-440f-994a-0717a3424d2f"
      },
      "source": [
        "start = time.time()\n",
        "svmScore = cross_validation(X, y, kf, svmclf)\n",
        "end = time.time()\n",
        "print('elapsed time: ',timedelta(seconds=end - start))\n",
        "print ('Precision: ', round(svmScore['precision'].mean(),2)*100, ' recall: ', round(svmScore['recall'].mean(),2)*100, ' f-measure: ', round(svmScore['f1_score'].mean(),2)*100)"
      ],
      "execution_count": 29,
      "outputs": [
        {
          "output_type": "stream",
          "text": [
            "elapsed time:  0:00:00.185055\n",
            "Precision:  42.0  recall:  56.99999999999999  f-measure:  48.0\n"
          ],
          "name": "stdout"
        },
        {
          "output_type": "stream",
          "text": [
            "/usr/local/lib/python3.7/dist-packages/sklearn/metrics/_classification.py:1272: UndefinedMetricWarning: Precision is ill-defined and being set to 0.0 due to no predicted samples. Use `zero_division` parameter to control this behavior.\n",
            "  _warn_prf(average, modifier, msg_start, len(result))\n"
          ],
          "name": "stderr"
        }
      ]
    },
    {
      "cell_type": "markdown",
      "metadata": {
        "id": "45HgW7VVv5W2"
      },
      "source": [
        ""
      ]
    },
    {
      "cell_type": "markdown",
      "metadata": {
        "id": "WkV2xXUUv5nl"
      },
      "source": [
        "#Collaborative Filtering"
      ]
    },
    {
      "cell_type": "code",
      "metadata": {
        "colab": {
          "base_uri": "https://localhost:8080/"
        },
        "id": "M_--iP5Mv7r1",
        "outputId": "ce58d4ba-1082-47e5-84b3-eddcb1ad26ba"
      },
      "source": [
        "first = bugfixclass['days'].mode()\n",
        "second = np.percentile(bugfixclass['days'], [25])\n",
        "third = np.percentile(bugfixclass['days'], [50])\n",
        "forth = np.percentile(bugfixclass['days'], [75])\n",
        "fifth= np.percentile(bugfixclass['days'], [])\n",
        "np.percentile(bugfixclass['days'], [25, 50, 75])"
      ],
      "execution_count": 30,
      "outputs": [
        {
          "output_type": "execute_result",
          "data": {
            "text/plain": [
              "array([ 3. ,  6.5, 14. ])"
            ]
          },
          "metadata": {},
          "execution_count": 30
        }
      ]
    },
    {
      "cell_type": "code",
      "metadata": {
        "id": "xYbJakZTxOub"
      },
      "source": [
        "bugfixclass.loc[(bugfixclass['days'] <= int(first)), 'ratings'] = 1\n",
        "bugfixclass.loc[(bugfixclass['days'] > int(first)) & (bugfixclass['days'] <= int(second)) , 'ratings'] = 2\n",
        "bugfixclass.loc[(bugfixclass['days'] > int(second)) & (bugfixclass['days'] <= int(third)), 'ratings'] = 3\n",
        "bugfixclass.loc[(bugfixclass['days'] > int(third)) & (bugfixclass['days'] <= int(forth)), 'ratings'] = 4\n",
        "bugfixclass.loc[bugfixclass['days'] > int(forth), 'ratings'] = 5"
      ],
      "execution_count": 31,
      "outputs": []
    },
    {
      "cell_type": "code",
      "metadata": {
        "id": "1HmQklDkxTrf"
      },
      "source": [
        "#bugfixclass['characteristic']= bugfixclass['bug_severity']+bugfixclass['priority']+bugfixclass['product_id'].astype(str)+bugfixclass['component_id'].astype(str)+bugfixclass['op_sys']+bugfixclass['rep_platform']+bugfixclass['number_cc'].astype(str)+bugfixclass['number_attachment'].astype(str)+bugfixclass['month_creation'].astype(str)+bugfixclass['year_creation'].astype(str)\n",
        "bugfixclass['characteristic']= bugfixclass['bug_severity']+bugfixclass['priority']+bugfixclass['product_id'].astype(str)+bugfixclass['component_id'].astype(str)+bugfixclass['op_sys']+bugfixclass['rep_platform']"
      ],
      "execution_count": 32,
      "outputs": []
    },
    {
      "cell_type": "code",
      "metadata": {
        "id": "AoWk1wvPxW3_"
      },
      "source": [
        "from sklearn import preprocessing\n",
        "le = preprocessing.LabelEncoder()"
      ],
      "execution_count": 33,
      "outputs": []
    },
    {
      "cell_type": "code",
      "metadata": {
        "colab": {
          "base_uri": "https://localhost:8080/"
        },
        "id": "n64sTxxfxZlt",
        "outputId": "e55d434b-d17b-4a86-8082-eeb1dcf230d8"
      },
      "source": [
        "bugfixclass['characteristic_n'] = le.fit_transform(bugfixclass['characteristic'].values.reshape(-1,1))"
      ],
      "execution_count": 34,
      "outputs": [
        {
          "output_type": "stream",
          "text": [
            "/usr/local/lib/python3.7/dist-packages/sklearn/preprocessing/_label.py:251: DataConversionWarning: A column-vector y was passed when a 1d array was expected. Please change the shape of y to (n_samples, ), for example using ravel().\n",
            "  y = column_or_1d(y, warn=True)\n"
          ],
          "name": "stderr"
        }
      ]
    },
    {
      "cell_type": "code",
      "metadata": {
        "id": "u7wxRl1AxcoC"
      },
      "source": [
        "def precision_recall_at_k(predictions, k = 10, threshold = 3):\n",
        "    \n",
        "    # First map the predictions to each user.\n",
        "    user_est_true = defaultdict(list)\n",
        "    for uid, _, true_r, est, _ in predictions:\n",
        "        est = round(est, 0)\n",
        "        user_est_true[uid].append((est, true_r))\n",
        "        #print ('estimado '+ str(est)+ ' verdadeiro: '+ str(true_r))\n",
        "    \n",
        "    precisions = dict()\n",
        "    recalls = dict()\n",
        "    for uid, user_ratings in user_est_true.items():\n",
        "        \n",
        "        # Sort user ratings by estimated value\n",
        "        user_ratings.sort(key=lambda x: x[0], reverse=True)\n",
        "        \n",
        "        # Number of relevant items\n",
        "        n_rel = sum((true_r <= threshold) for (_, true_r) in user_ratings)\n",
        "        \n",
        "        # Number of recommended items in top k\n",
        "        n_rec_k = sum((est <= threshold) for (est, _) in user_ratings[:k])\n",
        "        \n",
        "        # Number of relevant and recommended items in top k\n",
        "        n_rel_and_rec_k = sum(((true_r <= threshold) and (est <= threshold)) for (est, true_r) in user_ratings[:k])\n",
        "        \n",
        "        # Precision@K: Proportion of recommended items that are relevant\n",
        "        precisions[uid] = n_rel_and_rec_k / n_rec_k if n_rec_k != 0 else 1\n",
        "        \n",
        "        # Recall@K: Proportion of relevant items that are recommended\n",
        "        recalls[uid] = n_rel_and_rec_k / n_rel if n_rel != 0 else 1\n",
        "        #print (\"ratings: \"+ str(user_ratings) + \" predicted: \"+ str(user_est_true) + ' true_r '+ str(true_r))\n",
        "    \n",
        "    return precisions, recalls;"
      ],
      "execution_count": 35,
      "outputs": []
    },
    {
      "cell_type": "code",
      "metadata": {
        "id": "tYWQ4ouVxdGy"
      },
      "source": [
        "def get_precision_vs_recall(algo, k_max = 10, verbose = False):\n",
        "    precision_list = []\n",
        "    recall_list = []\n",
        "    f1_score_list = []\n",
        "        \n",
        "    if algo:\n",
        "        for k_curr in range(1, k_max + 1):\n",
        "            algo.fit(data_train)\n",
        "            predictions = algo.test(data_testset)\n",
        "           # print(\"prediction \", predictions)\n",
        "            \n",
        "            # Get precision and recall at k metrics for each user\n",
        "            precisions, recalls = precision_recall_at_k(predictions, k = k_curr, threshold = 3)\n",
        "            \n",
        "            # Precision and recall can then be averaged over all users\n",
        "            precision = sum(prec for prec in precisions.values()) / len(precisions)\n",
        "            recall = sum(rec for rec in recalls.values()) / len(recalls)\n",
        "            f1_score = 2 * (precision * recall) / (precision + recall)\n",
        "            \n",
        "            # Save measures\n",
        "            precision_list.append(precision)\n",
        "            recall_list.append(recall)\n",
        "            f1_score_list.append(f1_score)\n",
        "\n",
        "            \n",
        "            \n",
        "            if verbose:\n",
        "                print('K =', k_curr, '- Precision:', precision, ', Recall:', recall, ', F1 score:', f1_score)\n",
        "    \n",
        "    return {'precision': precision_list, 'recall': recall_list, 'f1_score': f1_score_list};"
      ],
      "execution_count": 36,
      "outputs": []
    },
    {
      "cell_type": "code",
      "metadata": {
        "colab": {
          "base_uri": "https://localhost:8080/"
        },
        "id": "x7mUhEWExgNg",
        "outputId": "b2518138-5e06-44a8-9094-e3103de3e818"
      },
      "source": [
        "pip install scikit-surprise"
      ],
      "execution_count": 37,
      "outputs": [
        {
          "output_type": "stream",
          "text": [
            "Requirement already satisfied: scikit-surprise in /usr/local/lib/python3.7/dist-packages (1.1.1)\n",
            "Requirement already satisfied: numpy>=1.11.2 in /usr/local/lib/python3.7/dist-packages (from scikit-surprise) (1.19.5)\n",
            "Requirement already satisfied: joblib>=0.11 in /usr/local/lib/python3.7/dist-packages (from scikit-surprise) (1.0.1)\n",
            "Requirement already satisfied: six>=1.10.0 in /usr/local/lib/python3.7/dist-packages (from scikit-surprise) (1.15.0)\n",
            "Requirement already satisfied: scipy>=1.0.0 in /usr/local/lib/python3.7/dist-packages (from scikit-surprise) (1.4.1)\n"
          ],
          "name": "stdout"
        }
      ]
    },
    {
      "cell_type": "code",
      "metadata": {
        "id": "TmjMlr4zxkzG"
      },
      "source": [
        "features = ['assigned_to','reporter', 'characteristic_n', 'ratings' ]\n",
        "data = bugfixclass[features]"
      ],
      "execution_count": 38,
      "outputs": []
    },
    {
      "cell_type": "code",
      "metadata": {
        "id": "bqHDfMZmxpgy"
      },
      "source": [
        "from surprise import SVD, SVDpp, SlopeOne, CoClustering, NMF, BaselineOnly, NormalPredictor\n",
        "from surprise import Reader\n",
        "from surprise import Dataset\n",
        "from surprise import accuracy\n",
        "from surprise.prediction_algorithms import KNNBaseline, KNNBasic, KNNWithMeans, KNNWithZScore\n",
        "from surprise.model_selection import GridSearchCV\n",
        "#from surprise.model_selection import train_test_split\n",
        "from sklearn.model_selection import train_test_split\n",
        "import timeit\n",
        "import time\n",
        "from collections import defaultdict\n",
        "from surprise import accuracy\n",
        "from surprise import dump"
      ],
      "execution_count": 39,
      "outputs": []
    },
    {
      "cell_type": "code",
      "metadata": {
        "id": "JOoL7aQ8xsEN"
      },
      "source": [
        "reader = Reader(rating_scale=(1, 5))\n",
        "trainset, testset = train_test_split(data, test_size=0.20)"
      ],
      "execution_count": 40,
      "outputs": []
    },
    {
      "cell_type": "code",
      "metadata": {
        "id": "F5QzTOMQxui2"
      },
      "source": [
        "reader = Reader(rating_scale = (1, 5))\n",
        "data_train = Dataset.load_from_df(trainset[['reporter', 'characteristic_n', 'ratings']], reader)\n",
        "data_test = Dataset.load_from_df(testset[['reporter', 'characteristic_n', 'ratings']], reader)"
      ],
      "execution_count": 41,
      "outputs": []
    },
    {
      "cell_type": "code",
      "metadata": {
        "id": "fTGao5zexyy_"
      },
      "source": [
        "data_train = data_train.build_full_trainset()\n",
        "data_test = data_test.build_full_trainset()\n",
        "\n",
        "# Create the trainset and testset\n",
        "data_trainset = data_train.build_testset()\n",
        "data_testset = data_test.build_testset()"
      ],
      "execution_count": 42,
      "outputs": []
    },
    {
      "cell_type": "code",
      "metadata": {
        "id": "flb-_efvx1cV"
      },
      "source": [
        "k_max = 10"
      ],
      "execution_count": 43,
      "outputs": []
    },
    {
      "cell_type": "markdown",
      "metadata": {
        "id": "lILUQbHnYtEU"
      },
      "source": [
        "#SVD"
      ]
    },
    {
      "cell_type": "code",
      "metadata": {
        "colab": {
          "base_uri": "https://localhost:8080/"
        },
        "id": "quWIlk7Dx3zg",
        "outputId": "d0dc4bae-3b87-49f8-a0f7-5ea05804ffb1"
      },
      "source": [
        "algo = SVD()\n",
        "start = time.time()\n",
        "metrics_SVD = get_precision_vs_recall(algo, k_max, True)\n",
        "end = time.time()\n",
        "print ('precision ', round(np.array(metrics_SVD['precision']).mean(),2)*100, 'recall ', round(np.array(metrics_SVD['recall']).mean(),2)*100, ' f1-score ', round(np.array(metrics_SVD['f1_score']).mean(),2)*100, 'elapsed time: ', timedelta(seconds=end - start))"
      ],
      "execution_count": 44,
      "outputs": [
        {
          "output_type": "stream",
          "text": [
            "K = 1 - Precision: 0.6551724137931034 , Recall: 0.684985632183908 , F1 score: 0.6697474098651559\n",
            "K = 2 - Precision: 0.6163793103448276 , Recall: 0.7442528735632183 , F1 score: 0.6743072497542147\n",
            "K = 3 - Precision: 0.6091954022988506 , Recall: 0.813731527093596 , F1 score: 0.6967631222254002\n",
            "K = 4 - Precision: 0.6084770114942529 , Recall: 0.8428263546798029 , F1 score: 0.7067308923235233\n",
            "K = 5 - Precision: 0.5936063218390806 , Recall: 0.8325294198139027 , F1 score: 0.6930542616451797\n",
            "K = 6 - Precision: 0.5691810344827587 , Recall: 0.8406027640941434 , F1 score: 0.6787638662596984\n",
            "K = 7 - Precision: 0.5857450738916257 , Recall: 0.8596401204159826 , F1 score: 0.6967415576641143\n",
            "K = 8 - Precision: 0.5936268472906405 , Recall: 0.85308908045977 , F1 score: 0.7000912502274912\n",
            "K = 9 - Precision: 0.5934694854953477 , Recall: 0.8591825738916256 , F1 score: 0.702024461782282\n",
            "K = 10 - Precision: 0.569391420361248 , Recall: 0.8624623700054734 , F1 score: 0.6859341046822545\n",
            "precision  60.0 recall  82.0  f1-score  69.0 elapsed time:  0:00:01.548836\n"
          ],
          "name": "stdout"
        }
      ]
    },
    {
      "cell_type": "code",
      "metadata": {
        "id": "Y6ESrHR7x6Qm"
      },
      "source": [
        "#To statistic method\n",
        "svdPrediction = np.array(metrics_SVD['f1_score'])"
      ],
      "execution_count": 45,
      "outputs": []
    },
    {
      "cell_type": "markdown",
      "metadata": {
        "id": "DQ2Cj7mGYxen"
      },
      "source": [
        "#KNNBasic"
      ]
    },
    {
      "cell_type": "code",
      "metadata": {
        "colab": {
          "base_uri": "https://localhost:8080/"
        },
        "id": "Aebgpf_IYzkh",
        "outputId": "d65b6ce9-5061-4a9b-d8a7-94ac88e0b408"
      },
      "source": [
        "algo = KNNBasic()\n",
        "start = time.time()\n",
        "metrics_KNN = get_precision_vs_recall(algo, k_max, True)\n",
        "end = time.time()\n",
        "print ('precision ', round(np.array(metrics_KNN['precision']).mean(),2)*100, 'recall ', round(np.array(metrics_KNN['recall']).mean(),2)*100, ' f1-score ', round(np.array(metrics_KNN['f1_score']).mean(),2)*100, 'elapsed time: ', timedelta(seconds=end - start))"
      ],
      "execution_count": 46,
      "outputs": [
        {
          "output_type": "stream",
          "text": [
            "Computing the msd similarity matrix...\n",
            "Done computing similarity matrix.\n",
            "K = 1 - Precision: 0.6767241379310345 , Recall: 0.6875 , F1 score: 0.6820695102685623\n",
            "Computing the msd similarity matrix...\n",
            "Done computing similarity matrix.\n",
            "K = 2 - Precision: 0.5991379310344828 , Recall: 0.740301724137931 , F1 score: 0.6622811884484147\n",
            "Computing the msd similarity matrix...\n",
            "Done computing similarity matrix.\n",
            "K = 3 - Precision: 0.5833333333333333 , Recall: 0.7977729885057472 , F1 score: 0.6739055049848288\n",
            "Computing the msd similarity matrix...\n",
            "Done computing similarity matrix.\n",
            "K = 4 - Precision: 0.5754310344827587 , Recall: 0.8195812807881775 , F1 score: 0.6761409904184964\n",
            "Computing the msd similarity matrix...\n",
            "Done computing similarity matrix.\n",
            "K = 5 - Precision: 0.5757902298850573 , Recall: 0.8392515051997811 , F1 score: 0.6829944377313936\n",
            "Computing the msd similarity matrix...\n",
            "Done computing similarity matrix.\n",
            "K = 6 - Precision: 0.5715517241379311 , Recall: 0.8456143951833608 , F1 score: 0.682082867962397\n",
            "Computing the msd similarity matrix...\n",
            "Done computing similarity matrix.\n",
            "K = 7 - Precision: 0.5717159277504107 , Recall: 0.8540469348659004 , F1 score: 0.6849276952175075\n",
            "Computing the msd similarity matrix...\n",
            "Done computing similarity matrix.\n",
            "K = 8 - Precision: 0.5651067323481117 , Recall: 0.8567323481116584 , F1 score: 0.6810126749107916\n",
            "Computing the msd similarity matrix...\n",
            "Done computing similarity matrix.\n",
            "K = 9 - Precision: 0.5644704433497537 , Recall: 0.8582888615216203 , F1 score: 0.6810409779454075\n",
            "Computing the msd similarity matrix...\n",
            "Done computing similarity matrix.\n",
            "K = 10 - Precision: 0.5635262725779967 , Recall: 0.8603585112205804 , F1 score: 0.6810026069882814\n",
            "precision  57.99999999999999 recall  82.0  f1-score  68.0 elapsed time:  0:00:00.245412\n"
          ],
          "name": "stdout"
        }
      ]
    },
    {
      "cell_type": "markdown",
      "metadata": {
        "id": "ZqGVQ4-BY34P"
      },
      "source": [
        "#KNNWithMeans"
      ]
    },
    {
      "cell_type": "code",
      "metadata": {
        "colab": {
          "base_uri": "https://localhost:8080/"
        },
        "id": "j1IlH7EdY4Gz",
        "outputId": "ee4c17f6-fcf5-4170-fd0e-ff37ee634dcd"
      },
      "source": [
        "algo = KNNWithMeans()\n",
        "start = time.time()\n",
        "metrics_KNNM = get_precision_vs_recall(algo, k_max, True)\n",
        "end = time.time()\n",
        "print ('precision ', round(np.array(metrics_KNNM['precision']).mean(),2)*100, 'recall ', round(np.array(metrics_KNNM['recall']).mean(),2)*100, ' f1-score ', round(np.array(metrics_KNNM['f1_score']).mean(),2)*100, 'elapsed time: ', timedelta(seconds=end - start))"
      ],
      "execution_count": 47,
      "outputs": [
        {
          "output_type": "stream",
          "text": [
            "Computing the msd similarity matrix...\n",
            "Done computing similarity matrix.\n",
            "K = 1 - Precision: 0.7025862068965517 , Recall: 0.6569683908045978 , F1 score: 0.6790119801393887\n",
            "Computing the msd similarity matrix...\n",
            "Done computing similarity matrix.\n",
            "K = 2 - Precision: 0.6314655172413793 , Recall: 0.7173132183908045 , F1 score: 0.6716573304559438\n",
            "Computing the msd similarity matrix...\n",
            "Done computing similarity matrix.\n",
            "K = 3 - Precision: 0.6221264367816093 , Recall: 0.7747844827586207 , F1 score: 0.6901140262987562\n",
            "Computing the msd similarity matrix...\n",
            "Done computing similarity matrix.\n",
            "K = 4 - Precision: 0.620330459770115 , Recall: 0.7938389436234264 , F1 score: 0.6964405759304968\n",
            "Computing the msd similarity matrix...\n",
            "Done computing similarity matrix.\n",
            "K = 5 - Precision: 0.6137931034482759 , Recall: 0.8120723864258348 , F1 score: 0.6991464956950018\n",
            "Computing the msd similarity matrix...\n",
            "Done computing similarity matrix.\n",
            "K = 6 - Precision: 0.6037356321839081 , Recall: 0.8187944718117133 , F1 score: 0.6950086984865037\n",
            "Computing the msd similarity matrix...\n",
            "Done computing similarity matrix.\n",
            "K = 7 - Precision: 0.6066297208538589 , Recall: 0.8277059386973182 , F1 score: 0.7001304320888916\n",
            "Computing the msd similarity matrix...\n",
            "Done computing similarity matrix.\n",
            "K = 8 - Precision: 0.6037151067323482 , Recall: 0.8303913519430762 , F1 score: 0.6991388967468487\n",
            "Computing the msd similarity matrix...\n",
            "Done computing similarity matrix.\n",
            "K = 9 - Precision: 0.6015240147783252 , Recall: 0.8319478653530378 , F1 score: 0.6982161659251481\n",
            "Computing the msd similarity matrix...\n",
            "Done computing similarity matrix.\n",
            "K = 10 - Precision: 0.600788519430761 , Recall: 0.8344964422550631 , F1 score: 0.6986151118364479\n",
            "precision  62.0 recall  79.0  f1-score  69.0 elapsed time:  0:00:00.319453\n"
          ],
          "name": "stdout"
        }
      ]
    },
    {
      "cell_type": "markdown",
      "metadata": {
        "id": "dbQW2Zo7ZAbQ"
      },
      "source": [
        "#KNNWithZScore"
      ]
    },
    {
      "cell_type": "code",
      "metadata": {
        "colab": {
          "base_uri": "https://localhost:8080/"
        },
        "id": "uqXPdj3uZAmR",
        "outputId": "628c5481-e948-4673-c51c-2f88d980f6d6"
      },
      "source": [
        "algo = KNNWithZScore()\n",
        "start = time.time()\n",
        "metrics_KNNZ = get_precision_vs_recall(algo, k_max, True)\n",
        "end = time.time()\n",
        "print ('precision ', round(np.array(metrics_KNNZ['precision']).mean(),2)*100, 'recall ', round(np.array(metrics_KNNZ['recall']).mean(),2)*100, ' f1-score ', round(np.array(metrics_KNNZ['f1_score']).mean(),2)*100, 'elapsed time: ', timedelta(seconds=end - start))"
      ],
      "execution_count": 48,
      "outputs": [
        {
          "output_type": "stream",
          "text": [
            "Computing the msd similarity matrix...\n",
            "Done computing similarity matrix.\n",
            "K = 1 - Precision: 0.6982758620689655 , Recall: 0.6526580459770116 , F1 score: 0.6746967515976127\n",
            "Computing the msd similarity matrix...\n",
            "Done computing similarity matrix.\n",
            "K = 2 - Precision: 0.6336206896551724 , Recall: 0.7173132183908045 , F1 score: 0.6728745106308849\n",
            "Computing the msd similarity matrix...\n",
            "Done computing similarity matrix.\n",
            "K = 3 - Precision: 0.6242816091954022 , Recall: 0.7747844827586207 , F1 score: 0.6914379620202734\n",
            "Computing the msd similarity matrix...\n",
            "Done computing similarity matrix.\n",
            "K = 4 - Precision: 0.6224856321839082 , Recall: 0.7938389436234264 , F1 score: 0.6977967411064045\n",
            "Computing the msd similarity matrix...\n",
            "Done computing similarity matrix.\n",
            "K = 5 - Precision: 0.615948275862069 , Recall: 0.8120723864258348 , F1 score: 0.7005425054463874\n",
            "Computing the msd similarity matrix...\n",
            "Done computing similarity matrix.\n",
            "K = 6 - Precision: 0.6069683908045979 , Recall: 0.8192733990147785 , F1 score: 0.6973194309388305\n",
            "Computing the msd similarity matrix...\n",
            "Done computing similarity matrix.\n",
            "K = 7 - Precision: 0.6096469622331692 , Recall: 0.8281848659003832 , F1 score: 0.7023079859333253\n",
            "Computing the msd similarity matrix...\n",
            "Done computing similarity matrix.\n",
            "K = 8 - Precision: 0.6058702791461412 , Recall: 0.8303913519430762 , F1 score: 0.7005818846817626\n",
            "Computing the msd similarity matrix...\n",
            "Done computing similarity matrix.\n",
            "K = 9 - Precision: 0.6042949507389163 , Recall: 0.8330425561029009 , F1 score: 0.700466533444499\n",
            "Computing the msd similarity matrix...\n",
            "Done computing similarity matrix.\n",
            "K = 10 - Precision: 0.600788519430761 , Recall: 0.8347658388067872 , F1 score: 0.6987094978191252\n",
            "precision  62.0 recall  79.0  f1-score  69.0 elapsed time:  0:00:00.519768\n"
          ],
          "name": "stdout"
        }
      ]
    },
    {
      "cell_type": "markdown",
      "metadata": {
        "id": "p7mCzOVGZGF5"
      },
      "source": [
        "#KNNBaseline"
      ]
    },
    {
      "cell_type": "code",
      "metadata": {
        "colab": {
          "base_uri": "https://localhost:8080/"
        },
        "id": "W_bfT5bMZI7w",
        "outputId": "616d2945-55a8-4869-ffbf-ee2fbb32622d"
      },
      "source": [
        "algo = KNNBaseline()\n",
        "start = time.time()\n",
        "metrics_KNNBL = get_precision_vs_recall(algo, k_max, True)\n",
        "end = time.time()\n",
        "print ('precision ', round(np.array(metrics_KNNBL['precision']).mean(),2)*100, 'recall ', round(np.array(metrics_KNNBL['recall']).mean(),2)*100, ' f1-score ', round(np.array(metrics_KNNBL['f1_score']).mean(),2)*100, 'elapsed time: ', timedelta(seconds=end - start))"
      ],
      "execution_count": 49,
      "outputs": [
        {
          "output_type": "stream",
          "text": [
            "Estimating biases using als...\n",
            "Computing the msd similarity matrix...\n",
            "Done computing similarity matrix.\n",
            "K = 1 - Precision: 0.6939655172413793 , Recall: 0.6731321839080461 , F1 score: 0.6833901099896715\n",
            "Estimating biases using als...\n",
            "Computing the msd similarity matrix...\n",
            "Done computing similarity matrix.\n",
            "K = 2 - Precision: 0.6228448275862069 , Recall: 0.7216235632183907 , F1 score: 0.6686055349295696\n",
            "Estimating biases using als...\n",
            "Computing the msd similarity matrix...\n",
            "Done computing similarity matrix.\n",
            "K = 3 - Precision: 0.6056034482758621 , Recall: 0.7787356321839082 , F1 score: 0.6813431633949503\n",
            "Estimating biases using als...\n",
            "Computing the msd similarity matrix...\n",
            "Done computing similarity matrix.\n",
            "K = 4 - Precision: 0.6045258620689655 , Recall: 0.7973111658456487 , F1 score: 0.6876622749608394\n",
            "Estimating biases using als...\n",
            "Computing the msd similarity matrix...\n",
            "Done computing similarity matrix.\n",
            "K = 5 - Precision: 0.5994252873563218 , Recall: 0.8144670224411604 , F1 score: 0.6905930891426506\n",
            "Estimating biases using als...\n",
            "Computing the msd similarity matrix...\n",
            "Done computing similarity matrix.\n",
            "K = 6 - Precision: 0.5893678160919541 , Recall: 0.8208299124247401 , F1 score: 0.6861034067578163\n",
            "Estimating biases using als...\n",
            "Computing the msd similarity matrix...\n",
            "Done computing similarity matrix.\n",
            "K = 7 - Precision: 0.5918308702791462 , Recall: 0.8291256157635469 , F1 score: 0.6906645482363204\n",
            "Estimating biases using als...\n",
            "Computing the msd similarity matrix...\n",
            "Done computing similarity matrix.\n",
            "K = 8 - Precision: 0.5887007389162563 , Recall: 0.831195265462507 , F1 score: 0.6892409943438957\n",
            "Estimating biases using als...\n",
            "Computing the msd similarity matrix...\n",
            "Done computing similarity matrix.\n",
            "K = 9 - Precision: 0.5879977422003285 , Recall: 0.8327517788724685 , F1 score: 0.6892927409478669\n",
            "Estimating biases using als...\n",
            "Computing the msd similarity matrix...\n",
            "Done computing similarity matrix.\n",
            "K = 10 - Precision: 0.5874418445539137 , Recall: 0.8354371921182266 , F1 score: 0.689827810373394\n",
            "precision  61.0 recall  79.0  f1-score  69.0 elapsed time:  0:00:00.340070\n"
          ],
          "name": "stdout"
        }
      ]
    },
    {
      "cell_type": "markdown",
      "metadata": {
        "id": "LXtnuaM9ZMaP"
      },
      "source": [
        "#SVDpp"
      ]
    },
    {
      "cell_type": "code",
      "metadata": {
        "colab": {
          "base_uri": "https://localhost:8080/"
        },
        "id": "-mqdrmyUZLgT",
        "outputId": "732257ac-01d1-44ee-8f0f-0977a6943672"
      },
      "source": [
        "algo = SVDpp()\n",
        "start = time.time()\n",
        "metrics_SVDpp = get_precision_vs_recall(algo, k_max, True)\n",
        "end = time.time()\n",
        "print ('precision ', round(np.array(metrics_SVDpp['precision']).mean(),2)*100, 'recall ', round(np.array(metrics_SVDpp['recall']).mean(),2)*100, ' f1-score ', round(np.array(metrics_SVDpp['f1_score']).mean(),2)*100, 'elapsed time: ', timedelta(seconds=end - start))"
      ],
      "execution_count": 50,
      "outputs": [
        {
          "output_type": "stream",
          "text": [
            "K = 1 - Precision: 0.6681034482758621 , Recall: 0.6684626436781609 , F1 score: 0.6682829977110343\n",
            "K = 2 - Precision: 0.6573275862068966 , Recall: 0.7453304597701149 , F1 score: 0.6985683694644355\n",
            "K = 3 - Precision: 0.6285919540229885 , Recall: 0.7873563218390804 , F1 score: 0.6990733451133389\n",
            "K = 4 - Precision: 0.6235632183908046 , Recall: 0.8172037493158183 , F1 score: 0.7073707427031561\n",
            "K = 5 - Precision: 0.6129310344827585 , Recall: 0.8150314723590586 , F1 score: 0.699679551942721\n",
            "K = 6 - Precision: 0.6067528735632185 , Recall: 0.8221298576902025 , F1 score: 0.6982093669199503\n",
            "K = 7 - Precision: 0.5892549261083745 , Recall: 0.8485050629447182 , F1 score: 0.6955066102477393\n",
            "K = 8 - Precision: 0.6180162151067324 , Recall: 0.8455801860974276 , F1 score: 0.7141070663349938\n",
            "K = 9 - Precision: 0.6050680760810072 , Recall: 0.8456058429118773 , F1 score: 0.705395049562558\n",
            "K = 10 - Precision: 0.5951440202517789 , Recall: 0.8359845374931583 , F1 score: 0.6952990991892075\n",
            "precision  62.0 recall  80.0  f1-score  70.0 elapsed time:  0:00:10.451888\n"
          ],
          "name": "stdout"
        }
      ]
    },
    {
      "cell_type": "markdown",
      "metadata": {
        "id": "7hNNxfB5ZTVM"
      },
      "source": [
        "#SlopeOne"
      ]
    },
    {
      "cell_type": "code",
      "metadata": {
        "colab": {
          "base_uri": "https://localhost:8080/"
        },
        "id": "fbHtN6o3ZUHy",
        "outputId": "bd4516c5-4b12-42af-ac37-8857afd5c6dc"
      },
      "source": [
        "algo = SlopeOne()\n",
        "start = time.time()\n",
        "metrics_slope = get_precision_vs_recall(algo, k_max, True)\n",
        "end = time.time()\n",
        "print ('precision ', round(np.array(metrics_slope['precision']).mean(),2)*100, 'recall ', round(np.array(metrics_slope['recall']).mean(),2)*100, ' f1-score ', round(np.array(metrics_slope['f1_score']).mean(),2)*100, 'elapsed time: ', timedelta(seconds=end - start))"
      ],
      "execution_count": 51,
      "outputs": [
        {
          "output_type": "stream",
          "text": [
            "K = 1 - Precision: 0.7025862068965517 , Recall: 0.6505028735632185 , F1 score: 0.6755421399998169\n",
            "K = 2 - Precision: 0.6379310344827587 , Recall: 0.71875 , F1 score: 0.675933280381255\n",
            "K = 3 - Precision: 0.6221264367816091 , Recall: 0.7833025451559933 , F1 score: 0.6934725661741036\n",
            "K = 4 - Precision: 0.622485632183908 , Recall: 0.8037937876299945 , F1 score: 0.7016157943352216\n",
            "K = 5 - Precision: 0.6145833333333333 , Recall: 0.8192562944718117 , F1 score: 0.7023118269949579\n",
            "K = 6 - Precision: 0.6066810344827587 , Recall: 0.8282532840722496 , F1 score: 0.7003603617212278\n",
            "K = 7 - Precision: 0.6090722495894909 , Recall: 0.8353687739463601 , F1 score: 0.7044938908462067\n",
            "K = 8 - Precision: 0.6068041871921183 , Recall: 0.8375752599890531 , F1 score: 0.7037543712516348\n",
            "K = 9 - Precision: 0.6053520114942529 , Recall: 0.8405685550082101 , F1 score: 0.7038282425207772\n",
            "K = 10 - Precision: 0.6043188970990696 , Recall: 0.8440749863163656 , F1 score: 0.7043532434654886\n",
            "precision  62.0 recall  80.0  f1-score  70.0 elapsed time:  0:00:00.540004\n"
          ],
          "name": "stdout"
        }
      ]
    },
    {
      "cell_type": "markdown",
      "metadata": {
        "id": "2EO9S2MPZZXf"
      },
      "source": [
        "#CoClustering"
      ]
    },
    {
      "cell_type": "code",
      "metadata": {
        "colab": {
          "base_uri": "https://localhost:8080/"
        },
        "id": "HVVsMtRRZW-C",
        "outputId": "cd47ec66-aaf5-49fb-c0ce-0e6a48f7d9b0"
      },
      "source": [
        "algo = CoClustering()\n",
        "start = time.time()\n",
        "metrics_coc = get_precision_vs_recall(algo, k_max, True)\n",
        "end = time.time()\n",
        "print ('precision ', round(np.array(metrics_coc['precision']).mean(),2)*100, 'recall ', round(np.array(metrics_coc['recall']).mean(),2)*100, ' f1-score ', round(np.array(metrics_coc['f1_score']).mean(),2)*100, 'elapsed time: ', timedelta(seconds=end - start))"
      ],
      "execution_count": 52,
      "outputs": [
        {
          "output_type": "stream",
          "text": [
            "K = 1 - Precision: 0.6853448275862069 , Recall: 0.6702586206896551 , F1 score: 0.6777177786305575\n",
            "K = 2 - Precision: 0.6163793103448276 , Recall: 0.728448275862069 , F1 score: 0.6677442528735632\n",
            "K = 3 - Precision: 0.6077586206896551 , Recall: 0.8001847290640394 , F1 score: 0.6908220665525536\n",
            "K = 4 - Precision: 0.6005747126436782 , Recall: 0.8344280240831965 , F1 score: 0.6984465715078\n",
            "K = 5 - Precision: 0.600359195402299 , Recall: 0.8157669677066228 , F1 score: 0.6916801809422567\n",
            "K = 6 - Precision: 0.5900862068965518 , Recall: 0.829690065681445 , F1 score: 0.6896701589028967\n",
            "K = 7 - Precision: 0.5927032019704433 , Recall: 0.8364463601532568 , F1 score: 0.693789438248377\n",
            "K = 8 - Precision: 0.5783507799671593 , Recall: 0.8434250136836344 , F1 score: 0.686177830127766\n",
            "K = 9 - Precision: 0.5808172550629448 , Recall: 0.8389094143404489 , F1 score: 0.686404043516966\n",
            "K = 10 - Precision: 0.5806872605363984 , Recall: 0.8465465927750411 , F1 score: 0.68885532771579\n",
            "precision  60.0 recall  80.0  f1-score  69.0 elapsed time:  0:00:01.987667\n"
          ],
          "name": "stdout"
        }
      ]
    },
    {
      "cell_type": "markdown",
      "metadata": {
        "id": "Ap80_FoXZeSW"
      },
      "source": [
        "#NMF\n"
      ]
    },
    {
      "cell_type": "code",
      "metadata": {
        "colab": {
          "base_uri": "https://localhost:8080/"
        },
        "id": "_LnDYf7oZe0w",
        "outputId": "4b82fa82-6b47-49fa-e7b8-954fe25618a1"
      },
      "source": [
        "algo = NMF()\n",
        "start = time.time()\n",
        "metrics_nmf = get_precision_vs_recall(algo, k_max, True)\n",
        "end = time.time()\n",
        "print ('precision ', round(np.array(metrics_nmf['precision']).mean(),2)*100, 'recall ', round(np.array(metrics_nmf['recall']).mean(),2)*100, ' f1-score ', round(np.array(metrics_nmf['f1_score']).mean(),2)*100, 'elapsed time: ', timedelta(seconds=end - start))"
      ],
      "execution_count": 53,
      "outputs": [
        {
          "output_type": "stream",
          "text": [
            "K = 1 - Precision: 0.646551724137931 , Recall: 0.6670258620689655 , F1 score: 0.6566292325535346\n",
            "K = 2 - Precision: 0.5991379310344828 , Recall: 0.7600574712643677 , F1 score: 0.6700718087045272\n",
            "K = 3 - Precision: 0.5897988505747127 , Recall: 0.8036398467432949 , F1 score: 0.6803110302556232\n",
            "K = 4 - Precision: 0.5768678160919539 , Recall: 0.8418685002736727 , F1 score: 0.6846188930069295\n",
            "K = 5 - Precision: 0.5602011494252875 , Recall: 0.8637794198139027 , F1 score: 0.6796303745748314\n",
            "K = 6 - Precision: 0.5704022988505748 , Recall: 0.864908319649699 , F1 score: 0.687441014459522\n",
            "K = 7 - Precision: 0.5625718390804598 , Recall: 0.8668411330049262 , F1 score: 0.6823226316096987\n",
            "K = 8 - Precision: 0.5646962233169129 , Recall: 0.8652333059660646 , F1 score: 0.6833819012214453\n",
            "K = 9 - Precision: 0.5604012725779967 , Recall: 0.8812901956759716 , F1 score: 0.6851343134678591\n",
            "K = 10 - Precision: 0.5666632457580733 , Recall: 0.8750684181718664 , F1 score: 0.6878798912552\n",
            "precision  57.99999999999999 recall  83.0  f1-score  68.0 elapsed time:  0:00:02.604163\n"
          ],
          "name": "stdout"
        }
      ]
    },
    {
      "cell_type": "markdown",
      "metadata": {
        "id": "QlJVRTZOZlln"
      },
      "source": [
        "#BaselineOnly\n",
        "\n"
      ]
    },
    {
      "cell_type": "code",
      "metadata": {
        "colab": {
          "base_uri": "https://localhost:8080/"
        },
        "id": "ha2m4yodZmK5",
        "outputId": "520e720c-c48d-4088-81f5-b6b02f523092"
      },
      "source": [
        "algo = BaselineOnly()\n",
        "start = time.time()\n",
        "metrics_bl = get_precision_vs_recall(algo, k_max, True)\n",
        "end = time.time()\n",
        "print ('precision ', round(np.array(metrics_bl['precision']).mean(),2)*100, 'recall ', round(np.array(metrics_bl['recall']).mean(),2)*100, ' f1-score ', round(np.array(metrics_bl['f1_score']).mean(),2)*100, 'elapsed time: ', timedelta(seconds=end - start))"
      ],
      "execution_count": 54,
      "outputs": [
        {
          "output_type": "stream",
          "text": [
            "Estimating biases using als...\n",
            "K = 1 - Precision: 0.6120689655172413 , Recall: 0.7157738095238094 , F1 score: 0.6598717007381071\n",
            "Estimating biases using als...\n",
            "K = 2 - Precision: 0.5732758620689655 , Recall: 0.8022372742200329 , F1 score: 0.6687006511666199\n",
            "Estimating biases using als...\n",
            "K = 3 - Precision: 0.5567528735632185 , Recall: 0.8544574438970991 , F1 score: 0.6742037403515078\n",
            "Estimating biases using als...\n",
            "K = 4 - Precision: 0.5499281609195402 , Recall: 0.8746921182266011 , F1 score: 0.6752926867438305\n",
            "Estimating biases using als...\n",
            "K = 5 - Precision: 0.5423132183908046 , Recall: 0.8840483032293377 , F1 score: 0.6722434295516708\n",
            "Estimating biases using als...\n",
            "K = 6 - Precision: 0.5361350574712643 , Recall: 0.8916256157635468 , F1 score: 0.6696244821860603\n",
            "Estimating biases using als...\n",
            "K = 7 - Precision: 0.539090722495895 , Recall: 0.8996091611932129 , F1 score: 0.6741794562852327\n",
            "Estimating biases using als...\n",
            "K = 8 - Precision: 0.5377257799671593 , Recall: 0.9032481527093597 , F1 score: 0.674127139159803\n",
            "Estimating biases using als...\n",
            "K = 9 - Precision: 0.537717227695676 , Recall: 0.9060361932129173 , F1 score: 0.6748953982734683\n",
            "Estimating biases using als...\n",
            "K = 10 - Precision: 0.5334445128626164 , Recall: 0.90940578817734 , F1 score: 0.6724433259902971\n",
            "precision  55.00000000000001 recall  86.0  f1-score  67.0 elapsed time:  0:00:00.168389\n"
          ],
          "name": "stdout"
        }
      ]
    },
    {
      "cell_type": "markdown",
      "metadata": {
        "id": "7bWtWI5tZuYY"
      },
      "source": [
        "#NormalPredictor"
      ]
    },
    {
      "cell_type": "code",
      "metadata": {
        "colab": {
          "base_uri": "https://localhost:8080/"
        },
        "id": "EdODrUxcZumb",
        "outputId": "525cf421-f45e-4544-e821-6bf6d36fb3fe"
      },
      "source": [
        "algo = NormalPredictor()\n",
        "start = time.time()\n",
        "metrics_norm = get_precision_vs_recall(algo, k_max, True)\n",
        "end = time.time()\n",
        "print ('precision ', round(np.array(metrics_norm['precision']).mean(),2)*100, 'recall ', round(np.array(metrics_norm['recall']).mean(),2)*100, ' f1-score ', round(np.array(metrics_norm['f1_score']).mean(),2)*100, 'elapsed time: ', timedelta(seconds=end - start))"
      ],
      "execution_count": 55,
      "outputs": [
        {
          "output_type": "stream",
          "text": [
            "K = 1 - Precision: 0.7370689655172413 , Recall: 0.5380747126436781 , F1 score: 0.6220446818844099\n",
            "K = 2 - Precision: 0.7025862068965517 , Recall: 0.552801724137931 , F1 score: 0.6187583247003108\n",
            "K = 3 - Precision: 0.7277298850574712 , Recall: 0.6519396551724138 , F1 score: 0.6877530546104192\n",
            "K = 4 - Precision: 0.6752873563218391 , Recall: 0.6532738095238094 , F1 score: 0.6640982065840124\n",
            "K = 5 - Precision: 0.6933908045977012 , Recall: 0.6998836891078271 , F1 score: 0.6966221179067263\n",
            "K = 6 - Precision: 0.6334770114942527 , Recall: 0.7067084017515053 , F1 score: 0.6680919250645937\n",
            "K = 7 - Precision: 0.6655890804597702 , Recall: 0.6862342638204708 , F1 score: 0.6757540244719543\n",
            "K = 8 - Precision: 0.6832820197044334 , Recall: 0.7041256157635467 , F1 score: 0.6935472467718702\n",
            "K = 9 - Precision: 0.7004515599343186 , Recall: 0.6693820128626163 , F1 score: 0.6845644382101873\n",
            "K = 10 - Precision: 0.6255336617405584 , Recall: 0.6707204433497537 , F1 score: 0.6473394580356463\n",
            "precision  68.0 recall  65.0  f1-score  67.0 elapsed time:  0:00:00.119757\n"
          ],
          "name": "stdout"
        }
      ]
    },
    {
      "cell_type": "markdown",
      "metadata": {
        "id": "l9s9SCnpZ5SE"
      },
      "source": [
        "# Wilcoxon Test"
      ]
    },
    {
      "cell_type": "code",
      "metadata": {
        "id": "udIhs5cZyF8C"
      },
      "source": [
        "from scipy.stats import wilcoxon, friedmanchisquare, rankdata"
      ],
      "execution_count": 56,
      "outputs": []
    },
    {
      "cell_type": "code",
      "metadata": {
        "colab": {
          "base_uri": "https://localhost:8080/"
        },
        "id": "u-kjczZKyOWT",
        "outputId": "2154183e-ece7-4819-ee43-c2d685ecf025"
      },
      "source": [
        "wilcoxon(randonForestScore, svdPrediction, zero_method='zsplit')"
      ],
      "execution_count": 57,
      "outputs": [
        {
          "output_type": "execute_result",
          "data": {
            "text/plain": [
              "WilcoxonResult(statistic=0.0, pvalue=0.005062032126267864)"
            ]
          },
          "metadata": {},
          "execution_count": 57
        }
      ]
    },
    {
      "cell_type": "code",
      "metadata": {
        "colab": {
          "base_uri": "https://localhost:8080/"
        },
        "id": "Ocr8t0Z2ywdj",
        "outputId": "3ebf7518-fdff-44cd-cdbf-10f785c36e13"
      },
      "source": [
        "stat, p = wilcoxon(randonForestScore, svdPrediction)\n",
        "print('stat=%.3f, p=%.3f' % (stat, p))\n",
        "if p >= 0.05:\n",
        "\tprint('statistically significant')\n",
        "else:\n",
        "\tprint('It is not statistically significant')"
      ],
      "execution_count": 58,
      "outputs": [
        {
          "output_type": "stream",
          "text": [
            "stat=0.000, p=0.005\n",
            "It is not statistically significant\n"
          ],
          "name": "stdout"
        }
      ]
    }
  ]
}