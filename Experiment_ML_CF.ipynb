{
  "nbformat": 4,
  "nbformat_minor": 0,
  "metadata": {
    "colab": {
      "name": "Experiment_ML_CF.ipynb",
      "provenance": [],
      "collapsed_sections": [
        "Kd_kWodukquh",
        "ImEFheNp8gDK",
        "P4ebuy6AAAwx",
        "Vm9HRWS7AFao"
      ],
      "include_colab_link": true
    },
    "kernelspec": {
      "display_name": "Python 3",
      "name": "python3"
    }
  },
  "cells": [
    {
      "cell_type": "markdown",
      "metadata": {
        "id": "view-in-github",
        "colab_type": "text"
      },
      "source": [
        "<a href=\"https://colab.research.google.com/github/brunorodriguesti/Experiment_CF_ML_Bug_Fixing_Time/blob/main/Experiment_ML_CF.ipynb\" target=\"_parent\"><img src=\"https://colab.research.google.com/assets/colab-badge.svg\" alt=\"Open In Colab\"/></a>"
      ]
    },
    {
      "cell_type": "code",
      "metadata": {
        "id": "2jYhOYH44MSG",
        "colab": {
          "base_uri": "https://localhost:8080/"
        },
        "outputId": "3fea1aa2-068a-47fb-984a-cffd7e68dbb8"
      },
      "source": [
        "from google.colab import drive\n",
        "drive.mount('/content/gdrive')"
      ],
      "execution_count": 95,
      "outputs": [
        {
          "output_type": "stream",
          "text": [
            "Drive already mounted at /content/gdrive; to attempt to forcibly remount, call drive.mount(\"/content/gdrive\", force_remount=True).\n"
          ],
          "name": "stdout"
        }
      ]
    },
    {
      "cell_type": "code",
      "metadata": {
        "id": "ctrnxQMl7RGG",
        "colab": {
          "base_uri": "https://localhost:8080/"
        },
        "outputId": "1a22c110-ab91-4298-8512-d46ae22585b2"
      },
      "source": [
        "cd /content/gdrive/My Drive/"
      ],
      "execution_count": 96,
      "outputs": [
        {
          "output_type": "stream",
          "text": [
            "/content/gdrive/My Drive\n"
          ],
          "name": "stdout"
        }
      ]
    },
    {
      "cell_type": "code",
      "metadata": {
        "id": "_k5ye4-Z7gax",
        "colab": {
          "base_uri": "https://localhost:8080/"
        },
        "outputId": "de974746-9332-433f-a7f1-0c05d5263769"
      },
      "source": [
        "cd Colab\\ Notebooks"
      ],
      "execution_count": 97,
      "outputs": [
        {
          "output_type": "stream",
          "text": [
            "/content/gdrive/My Drive/Colab Notebooks\n"
          ],
          "name": "stdout"
        }
      ]
    },
    {
      "cell_type": "code",
      "metadata": {
        "id": "_ss567U68J44"
      },
      "source": [
        "import pandas as pd\n",
        "import numpy as np\n",
        "import matplotlib.pyplot as plt\n",
        "import datetime\n",
        "import nltk\n",
        "import time\n",
        "from datetime import timedelta"
      ],
      "execution_count": 98,
      "outputs": []
    },
    {
      "cell_type": "code",
      "metadata": {
        "id": "UNMZc7cJuAC6"
      },
      "source": [
        "#Select dataset\n",
        "#bugfixclass = pd.read_csv('/content/gdrive/My Drive/Colab Notebooks/eclipse_clean.csv', low_memory=False)\n",
        "bugfixclass = pd.read_csv('/content/gdrive/My Drive/Colab Notebooks/netbeans_clean.csv', low_memory=False)"
      ],
      "execution_count": 99,
      "outputs": []
    },
    {
      "cell_type": "code",
      "metadata": {
        "id": "1QWZbkIu8-nl",
        "colab": {
          "base_uri": "https://localhost:8080/"
        },
        "outputId": "7786a446-6e7d-4291-cfd0-c4f5153ffe5b"
      },
      "source": [
        "bugfixclass['classification'].value_counts()"
      ],
      "execution_count": 100,
      "outputs": [
        {
          "output_type": "execute_result",
          "data": {
            "text/plain": [
              "0.0    56952\n",
              "1.0    56952\n",
              "Name: classification, dtype: int64"
            ]
          },
          "metadata": {},
          "execution_count": 100
        }
      ]
    },
    {
      "cell_type": "markdown",
      "metadata": {
        "id": "Nm4Dq2LLwIj6"
      },
      "source": [
        "#Treating the textual features"
      ]
    },
    {
      "cell_type": "code",
      "metadata": {
        "colab": {
          "base_uri": "https://localhost:8080/"
        },
        "id": "xBoKRn8AyUya",
        "outputId": "d0522b64-1983-4933-b753-cfa501670876"
      },
      "source": [
        "nltk.download('punkt')\n",
        "nltk.download('averaged_perceptron_tagger')\n",
        "nltk.download('tagsets')\n",
        "nltk.download(\"stopwords\")\n",
        "nltk.download('wordnet')\n",
        "from nltk.tokenize import RegexpTokenizer\n",
        "from nltk.stem import WordNetLemmatizer,PorterStemmer\n",
        "from nltk.corpus import stopwords\n",
        "import re\n",
        "lemmatizer = WordNetLemmatizer()\n",
        "stemmer = PorterStemmer() \n"
      ],
      "execution_count": 7,
      "outputs": [
        {
          "output_type": "stream",
          "text": [
            "[nltk_data] Downloading package punkt to /root/nltk_data...\n",
            "[nltk_data]   Unzipping tokenizers/punkt.zip.\n",
            "[nltk_data] Downloading package averaged_perceptron_tagger to\n",
            "[nltk_data]     /root/nltk_data...\n",
            "[nltk_data]   Unzipping taggers/averaged_perceptron_tagger.zip.\n",
            "[nltk_data] Downloading package tagsets to /root/nltk_data...\n",
            "[nltk_data]   Unzipping help/tagsets.zip.\n",
            "[nltk_data] Downloading package stopwords to /root/nltk_data...\n",
            "[nltk_data]   Unzipping corpora/stopwords.zip.\n",
            "[nltk_data] Downloading package wordnet to /root/nltk_data...\n",
            "[nltk_data]   Unzipping corpora/wordnet.zip.\n"
          ],
          "name": "stdout"
        }
      ]
    },
    {
      "cell_type": "code",
      "metadata": {
        "id": "imEKU453xoIG"
      },
      "source": [
        "def preprocess(sentence):\n",
        "    sentence=str(sentence)\n",
        "    sentence = sentence.lower()\n",
        "    sentence=sentence.replace('{html}',\"\") \n",
        "    cleanr = re.compile('<.*?>')\n",
        "    cleantext = re.sub(cleanr, '', sentence)\n",
        "    rem_url=re.sub(r'http\\S+', '',cleantext)\n",
        "    rem_num = re.sub('[0-9]+', '', rem_url)\n",
        "    tokenizer = RegexpTokenizer(r'\\w+')\n",
        "    tokens = tokenizer.tokenize(rem_num)  \n",
        "    filtered_words = [w for w in tokens if len(w) > 2 if not w in stopwords.words('english')]\n",
        "    stem_words=[stemmer.stem(w) for w in filtered_words]\n",
        "    #lemma_words=[lemmatizer.lemmatize(w) for w in stem_words]\n",
        "    return \" \".join(stem_words)"
      ],
      "execution_count": 8,
      "outputs": []
    },
    {
      "cell_type": "code",
      "metadata": {
        "id": "0342eRFdUcFZ"
      },
      "source": [
        "bugfixclass['summary_plus_comment']= bugfixclass['short_desc']+\" \" +bugfixclass['comments']"
      ],
      "execution_count": null,
      "outputs": []
    },
    {
      "cell_type": "code",
      "metadata": {
        "id": "vU6KMOugxpyQ"
      },
      "source": [
        "bugfixclass['summary_plus_comment_tok']= np.array(bugfixclass['summary_plus_comment'].map(lambda s:preprocess(s)))"
      ],
      "execution_count": null,
      "outputs": []
    },
    {
      "cell_type": "code",
      "metadata": {
        "id": "RNGJKv_MFQZ1"
      },
      "source": [
        "from sklearn.feature_extraction.text import CountVectorizer\n",
        "countVect = CountVectorizer(min_df=0.005)"
      ],
      "execution_count": null,
      "outputs": []
    },
    {
      "cell_type": "code",
      "metadata": {
        "id": "TsgMqZHMFxV-"
      },
      "source": [
        "sentence_count_vect = countVect.fit_transform(bugfixclass['summary_plus_comment_tok'])"
      ],
      "execution_count": null,
      "outputs": []
    },
    {
      "cell_type": "code",
      "metadata": {
        "id": "nRSRIQewGEvx",
        "colab": {
          "base_uri": "https://localhost:8080/"
        },
        "outputId": "7733859b-81e1-43d4-bf77-ad153e37f0b8"
      },
      "source": [
        " sentence_count_vect.shape"
      ],
      "execution_count": null,
      "outputs": [
        {
          "output_type": "execute_result",
          "data": {
            "text/plain": [
              "(113904, 1262)"
            ]
          },
          "metadata": {
            "tags": []
          },
          "execution_count": 58
        }
      ]
    },
    {
      "cell_type": "code",
      "metadata": {
        "id": "VbkyO6pdVmHJ"
      },
      "source": [
        "from sklearn.feature_extraction.text import TfidfTransformer"
      ],
      "execution_count": null,
      "outputs": []
    },
    {
      "cell_type": "code",
      "metadata": {
        "id": "4nq5whDZWNBT"
      },
      "source": [
        "tfidf_transformer = TfidfTransformer()\n",
        "X_train_tfidf = tfidf_transformer.fit_transform(sentence_count_vect)"
      ],
      "execution_count": null,
      "outputs": []
    },
    {
      "cell_type": "code",
      "metadata": {
        "id": "UyFG0BaXcTOp"
      },
      "source": [
        "sentence = X_train_tfidf"
      ],
      "execution_count": null,
      "outputs": []
    },
    {
      "cell_type": "code",
      "metadata": {
        "colab": {
          "base_uri": "https://localhost:8080/"
        },
        "id": "2HG2bE4KcU3Y",
        "outputId": "5fe8b331-88e6-4181-d52f-34d83078d479"
      },
      "source": [
        "sentence.shape"
      ],
      "execution_count": null,
      "outputs": [
        {
          "output_type": "execute_result",
          "data": {
            "text/plain": [
              "(113904, 1262)"
            ]
          },
          "metadata": {
            "tags": []
          },
          "execution_count": 80
        }
      ]
    },
    {
      "cell_type": "code",
      "metadata": {
        "id": "ec7znAlQr2tu"
      },
      "source": [
        "count_vect_df = pd.DataFrame(sentence.todense(), columns=countVect.get_feature_names())"
      ],
      "execution_count": null,
      "outputs": []
    },
    {
      "cell_type": "markdown",
      "metadata": {
        "id": "K2CHtLvojR7M"
      },
      "source": [
        "#Features"
      ]
    },
    {
      "cell_type": "code",
      "metadata": {
        "id": "3lzA5y-iwM4M"
      },
      "source": [
        "features = ['reporter', 'assigned_to', 'priority_n', 'severity_n', 'product_id', 'component_id', 'month_creation', 'year_creation', 'number_cc','number_attachment' ]"
      ],
      "execution_count": 101,
      "outputs": []
    },
    {
      "cell_type": "code",
      "metadata": {
        "id": "9OzIFXDJH1s1",
        "colab": {
          "base_uri": "https://localhost:8080/"
        },
        "outputId": "39acfa67-94ed-4f2e-a077-c5db400b4440"
      },
      "source": [
        "bugfixclass.columns"
      ],
      "execution_count": null,
      "outputs": [
        {
          "output_type": "execute_result",
          "data": {
            "text/plain": [
              "Index(['Unnamed: 0', 'bug_id', 'assigned_to', 'bug_severity', 'priority',\n",
              "       'bug_status', 'creation_ts', 'delta_ts', 'short_desc', 'op_sys',\n",
              "       'rep_platform', 'reporter', 'version', 'resolution', 'lastdiffed',\n",
              "       'estimated_time', 'product_id', 'component_id', 'short_desc.1',\n",
              "       'comments', 'days', 'year_creation', 'year_creation_n',\n",
              "       'month_creation', 'year_lastdiffed', 'month_lastdiffed',\n",
              "       'classification', 'number_cc', 'number_attachment', 'priority_n',\n",
              "       'severity_n'],\n",
              "      dtype='object')"
            ]
          },
          "metadata": {
            "tags": []
          },
          "execution_count": 7
        }
      ]
    },
    {
      "cell_type": "code",
      "metadata": {
        "id": "qO3D8odpUOrd"
      },
      "source": [
        "# Using textual information\n",
        "#X = pd.concat([bugfixclass[features], count_vect_df], axis=1)\n",
        "\n",
        "# It does not use textual information\n",
        "X = bugfixclass[features]"
      ],
      "execution_count": 102,
      "outputs": []
    },
    {
      "cell_type": "code",
      "metadata": {
        "id": "sIgwy0SGxRhZ"
      },
      "source": [
        "y = bugfixclass['classification']"
      ],
      "execution_count": 103,
      "outputs": []
    },
    {
      "cell_type": "code",
      "metadata": {
        "id": "R1OtwgFXvcMy"
      },
      "source": [
        "from sklearn.model_selection import train_test_split, KFold, cross_val_score\n",
        "from sklearn import metrics"
      ],
      "execution_count": 104,
      "outputs": []
    },
    {
      "cell_type": "markdown",
      "metadata": {
        "id": "BPXf-KBHKY7p"
      },
      "source": [
        "#Cross validation"
      ]
    },
    {
      "cell_type": "code",
      "metadata": {
        "id": "A8Fq5Tl__32-"
      },
      "source": [
        "def cross_validation(X, y, c, model,v=0):\n",
        "  return {'precision': cross_val_score(model, X, y, scoring=\"precision\", cv=c, verbose=v), 'recall': cross_val_score(model, X, y, scoring=\"recall\", cv=c, verbose = v), 'f1_score': cross_val_score(model, X, y, scoring=\"f1\", cv=c, verbose=v)};  \n"
      ],
      "execution_count": 105,
      "outputs": []
    },
    {
      "cell_type": "code",
      "metadata": {
        "id": "9rEB1ROtUZor"
      },
      "source": [
        "kf = KFold(n_splits=10,shuffle=True)"
      ],
      "execution_count": 106,
      "outputs": []
    },
    {
      "cell_type": "markdown",
      "metadata": {
        "id": "Kd_kWodukquh"
      },
      "source": [
        "#Naive Bayes"
      ]
    },
    {
      "cell_type": "code",
      "metadata": {
        "id": "g-PI9aizks33"
      },
      "source": [
        "from sklearn.naive_bayes import GaussianNB\n",
        "#from sklearn.naive_bayes import MultinomialNB"
      ],
      "execution_count": 107,
      "outputs": []
    },
    {
      "cell_type": "code",
      "metadata": {
        "id": "fb_n-IFylIp4"
      },
      "source": [
        "gnb = GaussianNB()\n",
        "\n",
        "# Used to classify with textual features\n",
        "#classifier = MultinomialNB() "
      ],
      "execution_count": 108,
      "outputs": []
    },
    {
      "cell_type": "code",
      "metadata": {
        "colab": {
          "base_uri": "https://localhost:8080/"
        },
        "id": "hoFe0AAXQI7u",
        "outputId": "f4cf8d08-2551-4059-b6ed-42a400f3b029"
      },
      "source": [
        "start = time.time()\n",
        "nbScore = cross_validation(X, y, kf, gnb)\n",
        "#nbScore = cross_validation(XsD, y, kf, gnb)\n",
        "end = time.time()\n",
        "print('elapsed time: ', timedelta(seconds= end - start))\n",
        "print ('Precision: ', round(nbScore['precision'].mean(),2)*100, ' recall: ', round(nbScore['recall'].mean(),2)*100, ' f-measure: ', round(nbScore['f1_score'].mean(),2)*100)"
      ],
      "execution_count": 109,
      "outputs": [
        {
          "output_type": "stream",
          "text": [
            "elapsed time:  0:00:01.383014\n",
            "Precision:  57.99999999999999  recall:  44.0  f-measure:  50.0\n"
          ],
          "name": "stdout"
        }
      ]
    },
    {
      "cell_type": "markdown",
      "metadata": {
        "id": "ImEFheNp8gDK"
      },
      "source": [
        "#Decision Tree"
      ]
    },
    {
      "cell_type": "code",
      "metadata": {
        "id": "NuXTWc808ikU"
      },
      "source": [
        "from sklearn.tree import DecisionTreeClassifier "
      ],
      "execution_count": 110,
      "outputs": []
    },
    {
      "cell_type": "code",
      "metadata": {
        "id": "bnaOjL8JSXYU"
      },
      "source": [
        "cdt = DecisionTreeClassifier(criterion='gini', max_depth=None)"
      ],
      "execution_count": 111,
      "outputs": []
    },
    {
      "cell_type": "code",
      "metadata": {
        "id": "utfRSE4ORWsK",
        "colab": {
          "base_uri": "https://localhost:8080/"
        },
        "outputId": "942283a9-d248-40de-a6d7-28c771acfff4"
      },
      "source": [
        "tart = time.time()\n",
        "dtScore = cross_validation(X, y, kf, cdt)\n",
        "end = time.time()\n",
        "print('elapsed time: ', timedelta(seconds=end - start))\n",
        "print ('Precision: ', round(dtScore['precision'].mean(),2)*100, ' recall: ', round(dtScore['recall'].mean(),2)*100, ' f-measure: ', round(dtScore['f1_score'].mean(),2)*100)"
      ],
      "execution_count": 112,
      "outputs": [
        {
          "output_type": "stream",
          "text": [
            "elapsed time:  0:02:18.713404\n",
            "Precision:  67.0  recall:  65.0  f-measure:  66.0\n"
          ],
          "name": "stdout"
        }
      ]
    },
    {
      "cell_type": "markdown",
      "metadata": {
        "id": "P4ebuy6AAAwx"
      },
      "source": [
        "#KNN"
      ]
    },
    {
      "cell_type": "code",
      "metadata": {
        "id": "VxhwqSRNAEuF"
      },
      "source": [
        "from sklearn.neighbors import KNeighborsClassifier"
      ],
      "execution_count": 113,
      "outputs": []
    },
    {
      "cell_type": "code",
      "metadata": {
        "id": "qpIpSgS6yy0N"
      },
      "source": [
        "knn = KNeighborsClassifier()"
      ],
      "execution_count": 114,
      "outputs": []
    },
    {
      "cell_type": "code",
      "metadata": {
        "id": "tuDmDvtDy1f3",
        "colab": {
          "base_uri": "https://localhost:8080/"
        },
        "outputId": "56a91c49-48d5-4ec2-833d-851f85354590"
      },
      "source": [
        "start = time.time()\n",
        "knnScore = cross_validation(X, y, kf, knn)\n",
        "end = time.time()\n",
        "print('elapsed time: ', timedelta(seconds=end - start))\n",
        "print ('Precision: ', round(knnScore['precision'].mean(),2)*100, ' recall: ', round(knnScore['recall'].mean(),2)*100, ' f-measure: ', round(knnScore['f1_score'].mean(),2)*100)"
      ],
      "execution_count": 115,
      "outputs": [
        {
          "output_type": "stream",
          "text": [
            "elapsed time:  0:00:20.196745\n",
            "Mean results feature + summary+ comments - eclipse\n",
            "Precision:  65.0  recall:  62.0  f-measure:  63.0\n"
          ],
          "name": "stdout"
        }
      ]
    },
    {
      "cell_type": "markdown",
      "metadata": {
        "id": "Vm9HRWS7AFao"
      },
      "source": [
        "#Random Forest"
      ]
    },
    {
      "cell_type": "code",
      "metadata": {
        "id": "Both_i7oAKK3"
      },
      "source": [
        "from sklearn.ensemble import RandomForestClassifier"
      ],
      "execution_count": 116,
      "outputs": []
    },
    {
      "cell_type": "code",
      "metadata": {
        "id": "j16Vx-zdh8rD"
      },
      "source": [
        "rfc=RandomForestClassifier(n_estimators=100)"
      ],
      "execution_count": 117,
      "outputs": []
    },
    {
      "cell_type": "code",
      "metadata": {
        "id": "uNgLTrWriA77",
        "colab": {
          "base_uri": "https://localhost:8080/"
        },
        "outputId": "5280b079-21c3-468f-d622-69321ccd7dc3"
      },
      "source": [
        "start = time.time()\n",
        "rfcScore = cross_validation(X, y, kf, rfc)\n",
        "end = time.time()\n",
        "print('elapsed time: ', timedelta(seconds=end - start))\n",
        "print ('Precision: ', round(rfcScore['precision'].mean(),2)*100, ' recall: ', round(rfcScore['recall'].mean(),2)*100, ' f-measure: ', round(rfcScore['f1_score'].mean(),2)*100)"
      ],
      "execution_count": 118,
      "outputs": [
        {
          "output_type": "stream",
          "text": [
            "elapsed time:  0:07:37.072081\n",
            "Mean results feature + summary+ comments - eclispe\n",
            "Precision:  72.0  recall:  70.0  f-measure:  71.0\n"
          ],
          "name": "stdout"
        }
      ]
    },
    {
      "cell_type": "code",
      "metadata": {
        "id": "hjrIPccMwEP1"
      },
      "source": [
        "randonForestScore = np.array(rfcScore['f1_score'])"
      ],
      "execution_count": 119,
      "outputs": []
    },
    {
      "cell_type": "markdown",
      "metadata": {
        "id": "EGzaIjqDAK0c"
      },
      "source": [
        "#SVM"
      ]
    },
    {
      "cell_type": "code",
      "metadata": {
        "id": "mTaSWkjsAOAa"
      },
      "source": [
        "from sklearn.linear_model import SGDClassifier"
      ],
      "execution_count": null,
      "outputs": []
    },
    {
      "cell_type": "code",
      "metadata": {
        "id": "DTZgxBSlwvv4"
      },
      "source": [
        "svmclf = SGDClassifier(loss='hinge', penalty='l2',alpha=1e-3, random_state=42, max_iter=5, tol=None)"
      ],
      "execution_count": null,
      "outputs": []
    },
    {
      "cell_type": "code",
      "metadata": {
        "id": "svtY19yVeeh5"
      },
      "source": [
        "start = time.time()\n",
        "svmScore = cross_validation(X, y, kf, svmclf)\n",
        "end = time.time()\n",
        "print('elapsed time: ',timedelta(seconds=end - start))\n",
        "print(\"Mean results feature + summary+ comments - Eclipse\")\n",
        "print ('Precision: ', round(svmScore['precision'].mean(),2)*100, ' recall: ', round(svmScore['recall'].mean(),2)*100, ' f-measure: ', round(svmScore['f1_score'].mean(),2)*100)"
      ],
      "execution_count": null,
      "outputs": []
    },
    {
      "cell_type": "markdown",
      "metadata": {
        "id": "45HgW7VVv5W2"
      },
      "source": [
        ""
      ]
    },
    {
      "cell_type": "markdown",
      "metadata": {
        "id": "WkV2xXUUv5nl"
      },
      "source": [
        "#Collaborative Filtering"
      ]
    },
    {
      "cell_type": "code",
      "metadata": {
        "colab": {
          "base_uri": "https://localhost:8080/"
        },
        "id": "M_--iP5Mv7r1",
        "outputId": "7fe3a433-c0c5-4d06-b724-f3a383abafdf"
      },
      "source": [
        "first = bugfixclass['days'].mode()\n",
        "second = np.percentile(bugfixclass['days'], [25])\n",
        "third = np.percentile(bugfixclass['days'], [50])\n",
        "forth = np.percentile(bugfixclass['days'], [75])\n",
        "fifth= np.percentile(bugfixclass['days'], [])\n",
        "np.percentile(bugfixclass['days'], [25, 50, 75])"
      ],
      "execution_count": 120,
      "outputs": [
        {
          "output_type": "execute_result",
          "data": {
            "text/plain": [
              "array([ 6. , 25.5, 78. ])"
            ]
          },
          "metadata": {},
          "execution_count": 120
        }
      ]
    },
    {
      "cell_type": "code",
      "metadata": {
        "id": "xYbJakZTxOub"
      },
      "source": [
        "bugfixclass.loc[(bugfixclass['days'] <= int(first)), 'ratings'] = 1\n",
        "bugfixclass.loc[(bugfixclass['days'] > int(first)) & (bugfixclass['days'] <= int(second)) , 'ratings'] = 2\n",
        "bugfixclass.loc[(bugfixclass['days'] > int(second)) & (bugfixclass['days'] <= int(third)), 'ratings'] = 3\n",
        "bugfixclass.loc[(bugfixclass['days'] > int(third)) & (bugfixclass['days'] <= int(forth)), 'ratings'] = 4\n",
        "bugfixclass.loc[bugfixclass['days'] > int(forth), 'ratings'] = 5"
      ],
      "execution_count": 121,
      "outputs": []
    },
    {
      "cell_type": "code",
      "metadata": {
        "id": "1HmQklDkxTrf"
      },
      "source": [
        "#bugfixclass['characteristic']= bugfixclass['bug_severity']+bugfixclass['priority']+bugfixclass['product_id'].astype(str)+bugfixclass['component_id'].astype(str)+bugfixclass['op_sys']+bugfixclass['rep_platform']+bugfixclass['number_cc'].astype(str)+bugfixclass['number_attachment'].astype(str)+bugfixclass['month_creation'].astype(str)+bugfixclass['year_creation'].astype(str)\n",
        "bugfixclass['characteristic']= bugfixclass['bug_severity']+bugfixclass['priority']+bugfixclass['product_id'].astype(str)+bugfixclass['component_id'].astype(str)+bugfixclass['op_sys']+bugfixclass['rep_platform']"
      ],
      "execution_count": 122,
      "outputs": []
    },
    {
      "cell_type": "code",
      "metadata": {
        "id": "AoWk1wvPxW3_"
      },
      "source": [
        "from sklearn import preprocessing\n",
        "le = preprocessing.LabelEncoder()"
      ],
      "execution_count": 123,
      "outputs": []
    },
    {
      "cell_type": "code",
      "metadata": {
        "colab": {
          "base_uri": "https://localhost:8080/"
        },
        "id": "n64sTxxfxZlt",
        "outputId": "220ad5ea-621a-4f55-a282-9145df1b5cd8"
      },
      "source": [
        "bugfixclass['characteristic_n'] = le.fit_transform(bugfixclass['characteristic'].values.reshape(-1,1))"
      ],
      "execution_count": 124,
      "outputs": [
        {
          "output_type": "stream",
          "text": [
            "/usr/local/lib/python3.7/dist-packages/sklearn/preprocessing/_label.py:251: DataConversionWarning: A column-vector y was passed when a 1d array was expected. Please change the shape of y to (n_samples, ), for example using ravel().\n",
            "  y = column_or_1d(y, warn=True)\n"
          ],
          "name": "stderr"
        }
      ]
    },
    {
      "cell_type": "code",
      "metadata": {
        "id": "u7wxRl1AxcoC"
      },
      "source": [
        "def precision_recall_at_k(predictions, k = 10, threshold = 3):\n",
        "    \n",
        "    # First map the predictions to each user.\n",
        "    user_est_true = defaultdict(list)\n",
        "    for uid, _, true_r, est, _ in predictions:\n",
        "        est = round(est, 0)\n",
        "        user_est_true[uid].append((est, true_r))\n",
        "        #print ('estimado '+ str(est)+ ' verdadeiro: '+ str(true_r))\n",
        "    \n",
        "    precisions = dict()\n",
        "    recalls = dict()\n",
        "    for uid, user_ratings in user_est_true.items():\n",
        "        \n",
        "        # Sort user ratings by estimated value\n",
        "        user_ratings.sort(key=lambda x: x[0], reverse=True)\n",
        "        \n",
        "        # Number of relevant items\n",
        "        n_rel = sum((true_r <= threshold) for (_, true_r) in user_ratings)\n",
        "        \n",
        "        # Number of recommended items in top k\n",
        "        n_rec_k = sum((est <= threshold) for (est, _) in user_ratings[:k])\n",
        "        \n",
        "        # Number of relevant and recommended items in top k\n",
        "        n_rel_and_rec_k = sum(((true_r <= threshold) and (est <= threshold)) for (est, true_r) in user_ratings[:k])\n",
        "        \n",
        "        # Precision@K: Proportion of recommended items that are relevant\n",
        "        precisions[uid] = n_rel_and_rec_k / n_rec_k if n_rec_k != 0 else 1\n",
        "        \n",
        "        # Recall@K: Proportion of relevant items that are recommended\n",
        "        recalls[uid] = n_rel_and_rec_k / n_rel if n_rel != 0 else 1\n",
        "        #print (\"ratings: \"+ str(user_ratings) + \" predicted: \"+ str(user_est_true) + ' true_r '+ str(true_r))\n",
        "    \n",
        "    return precisions, recalls;"
      ],
      "execution_count": 125,
      "outputs": []
    },
    {
      "cell_type": "code",
      "metadata": {
        "id": "tYWQ4ouVxdGy"
      },
      "source": [
        "def get_precision_vs_recall(algo, k_max = 10, verbose = False):\n",
        "    precision_list = []\n",
        "    recall_list = []\n",
        "    f1_score_list = []\n",
        "        \n",
        "    if algo:\n",
        "        for k_curr in range(1, k_max + 1):\n",
        "            algo.fit(data_train)\n",
        "            predictions = algo.test(data_testset)\n",
        "           # print(\"prediction \", predictions)\n",
        "            \n",
        "            # Get precision and recall at k metrics for each user\n",
        "            precisions, recalls = precision_recall_at_k(predictions, k = k_curr, threshold = 3)\n",
        "            \n",
        "            # Precision and recall can then be averaged over all users\n",
        "            precision = sum(prec for prec in precisions.values()) / len(precisions)\n",
        "            recall = sum(rec for rec in recalls.values()) / len(recalls)\n",
        "            f1_score = 2 * (precision * recall) / (precision + recall)\n",
        "            \n",
        "            # Save measures\n",
        "            precision_list.append(precision)\n",
        "            recall_list.append(recall)\n",
        "            f1_score_list.append(f1_score)\n",
        "\n",
        "            \n",
        "            \n",
        "            if verbose:\n",
        "                print('K =', k_curr, '- Precision:', precision, ', Recall:', recall, ', F1 score:', f1_score)\n",
        "    \n",
        "    return {'precision': precision_list, 'recall': recall_list, 'f1_score': f1_score_list};"
      ],
      "execution_count": 126,
      "outputs": []
    },
    {
      "cell_type": "code",
      "metadata": {
        "colab": {
          "base_uri": "https://localhost:8080/"
        },
        "id": "x7mUhEWExgNg",
        "outputId": "907ba1e2-9a1f-45f8-f212-8760dff3e886"
      },
      "source": [
        "pip install scikit-surprise"
      ],
      "execution_count": 26,
      "outputs": [
        {
          "output_type": "stream",
          "text": [
            "Requirement already satisfied: scikit-surprise in /usr/local/lib/python3.7/dist-packages (1.1.1)\n",
            "Requirement already satisfied: six>=1.10.0 in /usr/local/lib/python3.7/dist-packages (from scikit-surprise) (1.15.0)\n",
            "Requirement already satisfied: scipy>=1.0.0 in /usr/local/lib/python3.7/dist-packages (from scikit-surprise) (1.4.1)\n",
            "Requirement already satisfied: numpy>=1.11.2 in /usr/local/lib/python3.7/dist-packages (from scikit-surprise) (1.19.5)\n",
            "Requirement already satisfied: joblib>=0.11 in /usr/local/lib/python3.7/dist-packages (from scikit-surprise) (1.0.1)\n"
          ],
          "name": "stdout"
        }
      ]
    },
    {
      "cell_type": "code",
      "metadata": {
        "id": "TmjMlr4zxkzG"
      },
      "source": [
        "features = ['assigned_to','reporter', 'characteristic_n', 'ratings' ]\n",
        "data = bugfixclass[features]"
      ],
      "execution_count": 127,
      "outputs": []
    },
    {
      "cell_type": "code",
      "metadata": {
        "id": "bqHDfMZmxpgy"
      },
      "source": [
        "from surprise import SVD, SVDpp, SlopeOne, CoClustering, NMF, BaselineOnly, NormalPredictor\n",
        "from surprise import Reader\n",
        "from surprise import Dataset\n",
        "from surprise import accuracy\n",
        "from surprise.prediction_algorithms import KNNBaseline, KNNBasic, KNNWithMeans, KNNWithZScore\n",
        "from surprise.model_selection import GridSearchCV\n",
        "#from surprise.model_selection import train_test_split\n",
        "from sklearn.model_selection import train_test_split\n",
        "import timeit\n",
        "import time\n",
        "from collections import defaultdict\n",
        "from surprise import accuracy\n",
        "from surprise import dump"
      ],
      "execution_count": 128,
      "outputs": []
    },
    {
      "cell_type": "code",
      "metadata": {
        "id": "JOoL7aQ8xsEN"
      },
      "source": [
        "reader = Reader(rating_scale=(1, 5))\n",
        "trainset, testset = train_test_split(data, test_size=0.20)"
      ],
      "execution_count": 129,
      "outputs": []
    },
    {
      "cell_type": "code",
      "metadata": {
        "id": "F5QzTOMQxui2"
      },
      "source": [
        "reader = Reader(rating_scale = (1, 5))\n",
        "data_train = Dataset.load_from_df(trainset[['reporter', 'characteristic_n', 'ratings']], reader)\n",
        "data_test = Dataset.load_from_df(testset[['reporter', 'characteristic_n', 'ratings']], reader)"
      ],
      "execution_count": 130,
      "outputs": []
    },
    {
      "cell_type": "code",
      "metadata": {
        "id": "fTGao5zexyy_"
      },
      "source": [
        "data_train = data_train.build_full_trainset()\n",
        "data_test = data_test.build_full_trainset()\n",
        "\n",
        "# Create the trainset and testset\n",
        "data_trainset = data_train.build_testset()\n",
        "data_testset = data_test.build_testset()"
      ],
      "execution_count": 131,
      "outputs": []
    },
    {
      "cell_type": "code",
      "metadata": {
        "id": "flb-_efvx1cV"
      },
      "source": [
        "k_max = 10"
      ],
      "execution_count": 132,
      "outputs": []
    },
    {
      "cell_type": "markdown",
      "metadata": {
        "id": "lILUQbHnYtEU"
      },
      "source": [
        "#SVD"
      ]
    },
    {
      "cell_type": "code",
      "metadata": {
        "colab": {
          "base_uri": "https://localhost:8080/"
        },
        "id": "quWIlk7Dx3zg",
        "outputId": "21623c7a-fea9-4b20-c294-ab7d1c6867cd"
      },
      "source": [
        "algo = SVD()\n",
        "start = time.time()\n",
        "metrics_SVD = get_precision_vs_recall(algo, k_max, True)\n",
        "end = time.time()\n",
        "print ('precision ', round(np.array(metrics_SVD['precision']).mean(),2)*100, 'recall ', round(np.array(metrics_SVD['recall']).mean(),2)*100, ' f1-score ', round(np.array(metrics_SVD['f1_score']).mean(),2)*100, 'elapsed time: ', timedelta(seconds=end - start))"
      ],
      "execution_count": 133,
      "outputs": [
        {
          "output_type": "stream",
          "text": [
            "K = 1 - Precision: 0.7994121969140338 , Recall: 0.6194200534266138 , F1 score: 0.6979992815972313\n",
            "K = 2 - Precision: 0.7667156502571638 , Recall: 0.6647398751547386 , F1 score: 0.7120954253670919\n",
            "K = 3 - Precision: 0.7544289329741206 , Recall: 0.6869328756429826 , F1 score: 0.7191005524052293\n",
            "K = 4 - Precision: 0.7444485264103192 , Recall: 0.7019707027410474 , F1 score: 0.7225858792618433\n",
            "K = 5 - Precision: 0.7418319862845946 , Recall: 0.7082442355767286 , F1 score: 0.7246491186209448\n",
            "K = 6 - Precision: 0.7403502326720547 , Recall: 0.7170571149025463 , F1 score: 0.7285175318221433\n",
            "K = 7 - Precision: 0.7298129293353391 , Recall: 0.7213178918031709 , F1 score: 0.7255405452498703\n",
            "K = 8 - Precision: 0.7298350885786593 , Recall: 0.7302393578155417 , F1 score: 0.7300371672295378\n",
            "K = 9 - Precision: 0.7273620975861975 , Recall: 0.7342321289472993 , F1 score: 0.7307809674274841\n",
            "K = 10 - Precision: 0.7292907292723602 , Recall: 0.7372298705256123 , F1 score: 0.7332388102711394\n",
            "precision  75.0 recall  70.0  f1-score  72.0 elapsed time:  0:00:57.634020\n"
          ],
          "name": "stdout"
        }
      ]
    },
    {
      "cell_type": "code",
      "metadata": {
        "id": "Y6ESrHR7x6Qm"
      },
      "source": [
        "#To statistic method\n",
        "svdPrediction = np.array(metrics_SVD['f1_score'])"
      ],
      "execution_count": 134,
      "outputs": []
    },
    {
      "cell_type": "markdown",
      "metadata": {
        "id": "DQ2Cj7mGYxen"
      },
      "source": [
        "#KNNBasic"
      ]
    },
    {
      "cell_type": "code",
      "metadata": {
        "colab": {
          "base_uri": "https://localhost:8080/"
        },
        "id": "Aebgpf_IYzkh",
        "outputId": "85436120-a22c-4aa8-faa9-c2ee54b796e2"
      },
      "source": [
        "algo = KNNBasic()\n",
        "start = time.time()\n",
        "metrics_KNN = get_precision_vs_recall(algo, k_max, True)\n",
        "end = time.time()\n",
        "print ('precision ', round(np.array(metrics_KNN['precision']).mean(),2)*100, 'recall ', round(np.array(metrics_KNN['recall']).mean(),2)*100, ' f1-score ', round(np.array(metrics_KNN['f1_score']).mean(),2)*100, 'elapsed time: ', timedelta(seconds=end - start))"
      ],
      "execution_count": 135,
      "outputs": [
        {
          "output_type": "stream",
          "text": [
            "Computing the msd similarity matrix...\n",
            "Done computing similarity matrix.\n",
            "K = 1 - Precision: 0.6833210874357091 , Recall: 0.6719472572016657 , F1 score: 0.6775864459718334\n",
            "Computing the msd similarity matrix...\n",
            "Done computing similarity matrix.\n",
            "K = 2 - Precision: 0.6383786431545432 , Recall: 0.7301839072090724 , F1 score: 0.6812020565863982\n",
            "Computing the msd similarity matrix...\n",
            "Done computing similarity matrix.\n",
            "K = 3 - Precision: 0.6192750428606419 , Recall: 0.7566478264693676 , F1 score: 0.6811037531419123\n",
            "Computing the msd similarity matrix...\n",
            "Done computing similarity matrix.\n",
            "K = 4 - Precision: 0.6060086537676547 , Recall: 0.7744933527772843 , F1 score: 0.6799695644676786\n",
            "Computing the msd similarity matrix...\n",
            "Done computing similarity matrix.\n",
            "K = 5 - Precision: 0.5995183280267776 , Recall: 0.7845660110051796 , F1 score: 0.6796720255839894\n",
            "Computing the msd similarity matrix...\n",
            "Done computing similarity matrix.\n",
            "K = 6 - Precision: 0.592766756469916 , Recall: 0.7922495575110042 , F1 score: 0.6781424821931643\n",
            "Computing the msd similarity matrix...\n",
            "Done computing similarity matrix.\n",
            "K = 7 - Precision: 0.5890375890743267 , Recall: 0.7985704984990903 , F1 score: 0.6779840004599276\n",
            "Computing the msd similarity matrix...\n",
            "Done computing similarity matrix.\n",
            "K = 8 - Precision: 0.586751979753449 , Recall: 0.8044819553512819 , F1 score: 0.6785794510435893\n",
            "Computing the msd similarity matrix...\n",
            "Done computing similarity matrix.\n",
            "K = 9 - Precision: 0.5817544872467721 , Recall: 0.808437169575318 , F1 score: 0.6766145498709594\n",
            "Computing the msd similarity matrix...\n",
            "Done computing similarity matrix.\n",
            "K = 10 - Precision: 0.5781139568244633 , Recall: 0.811658966144899 , F1 score: 0.6752633739726773\n",
            "precision  61.0 recall  77.0  f1-score  68.0 elapsed time:  0:01:15.620748\n"
          ],
          "name": "stdout"
        }
      ]
    },
    {
      "cell_type": "markdown",
      "metadata": {
        "id": "ZqGVQ4-BY34P"
      },
      "source": [
        "#KNNWithMeans"
      ]
    },
    {
      "cell_type": "code",
      "metadata": {
        "colab": {
          "base_uri": "https://localhost:8080/"
        },
        "id": "j1IlH7EdY4Gz",
        "outputId": "783d698e-dd27-4fef-cb27-b6b8626cccd4"
      },
      "source": [
        "algo = KNNWithMeans()\n",
        "start = time.time()\n",
        "metrics_KNNM = get_precision_vs_recall(algo, k_max, True)\n",
        "end = time.time()\n",
        "print ('precision ', round(np.array(metrics_KNNM['precision']).mean(),2)*100, 'recall ', round(np.array(metrics_KNNM['recall']).mean(),2)*100, ' f1-score ', round(np.array(metrics_KNNM['f1_score']).mean(),2)*100, 'elapsed time: ', timedelta(seconds=end - start))"
      ],
      "execution_count": 136,
      "outputs": [
        {
          "output_type": "stream",
          "text": [
            "Computing the msd similarity matrix...\n",
            "Done computing similarity matrix.\n",
            "K = 1 - Precision: 0.7127112417340191 , Recall: 0.6510271807867286 , F1 score: 0.6804741770983547\n",
            "Computing the msd similarity matrix...\n",
            "Done computing similarity matrix.\n",
            "K = 2 - Precision: 0.6803820720058781 , Recall: 0.7021981511069486 , F1 score: 0.6911179908724241\n",
            "Computing the msd similarity matrix...\n",
            "Done computing similarity matrix.\n",
            "K = 3 - Precision: 0.6641766674830603 , Recall: 0.7250752414329625 , F1 score: 0.6932911942588963\n",
            "Computing the msd similarity matrix...\n",
            "Done computing similarity matrix.\n",
            "K = 4 - Precision: 0.6566250306147443 , Recall: 0.7411325091653114 , F1 score: 0.6963241372989927\n",
            "Computing the msd similarity matrix...\n",
            "Done computing similarity matrix.\n",
            "K = 5 - Precision: 0.6484284431382151 , Recall: 0.7506555651512778 , F1 score: 0.6958072804208115\n",
            "Computing the msd similarity matrix...\n",
            "Done computing similarity matrix.\n",
            "K = 6 - Precision: 0.6441913625602088 , Recall: 0.7590450949014209 , F1 score: 0.6969178876861669\n",
            "Computing the msd similarity matrix...\n",
            "Done computing similarity matrix.\n",
            "K = 7 - Precision: 0.6395140128057101 , Recall: 0.7645583158738645 , F1 score: 0.6964680474378236\n",
            "Computing the msd similarity matrix...\n",
            "Done computing similarity matrix.\n",
            "K = 8 - Precision: 0.6371523039781671 , Recall: 0.7697866597174365 , F1 score: 0.6972176568659411\n",
            "Computing the msd similarity matrix...\n",
            "Done computing similarity matrix.\n",
            "K = 9 - Precision: 0.6340782921054777 , Recall: 0.7737540511199762 , F1 score: 0.6969873218281075\n",
            "Computing the msd similarity matrix...\n",
            "Done computing similarity matrix.\n",
            "K = 10 - Precision: 0.6294854973583844 , Recall: 0.7769173982496886 , F1 score: 0.6954738736258614\n",
            "precision  65.0 recall  74.0  f1-score  69.0 elapsed time:  0:01:17.706279\n"
          ],
          "name": "stdout"
        }
      ]
    },
    {
      "cell_type": "markdown",
      "metadata": {
        "id": "dbQW2Zo7ZAbQ"
      },
      "source": [
        "#KNNWithZScore"
      ]
    },
    {
      "cell_type": "code",
      "metadata": {
        "colab": {
          "base_uri": "https://localhost:8080/"
        },
        "id": "uqXPdj3uZAmR",
        "outputId": "da51f267-f86c-4749-fbb9-7c157cd34d21"
      },
      "source": [
        "algo = KNNWithZScore()\n",
        "start = time.time()\n",
        "metrics_KNNZ = get_precision_vs_recall(algo, k_max, True)\n",
        "end = time.time()\n",
        "print ('precision ', round(np.array(metrics_KNNZ['precision']).mean(),2)*100, 'recall ', round(np.array(metrics_KNNZ['recall']).mean(),2)*100, ' f1-score ', round(np.array(metrics_KNNZ['f1_score']).mean(),2)*100, 'elapsed time: ', timedelta(seconds=end - start))"
      ],
      "execution_count": 137,
      "outputs": [
        {
          "output_type": "stream",
          "text": [
            "Computing the msd similarity matrix...\n",
            "Done computing similarity matrix.\n",
            "K = 1 - Precision: 0.7117315699240754 , Recall: 0.6496717957255908 , F1 score: 0.6792871808224346\n",
            "Computing the msd similarity matrix...\n",
            "Done computing similarity matrix.\n",
            "K = 2 - Precision: 0.6813617438158217 , Recall: 0.7010040036978642 , F1 score: 0.6910433237231534\n",
            "Computing the msd similarity matrix...\n",
            "Done computing similarity matrix.\n",
            "K = 3 - Precision: 0.6654012572454897 , Recall: 0.7233449676588504 , F1 score: 0.6931642977975347\n",
            "Computing the msd similarity matrix...\n",
            "Done computing similarity matrix.\n",
            "K = 4 - Precision: 0.6567474895909872 , Recall: 0.7399134877841779 , F1 score: 0.6958543748104451\n",
            "Computing the msd similarity matrix...\n",
            "Done computing similarity matrix.\n",
            "K = 5 - Precision: 0.6488611315209402 , Recall: 0.749114864233895 , F1 score: 0.6953932255231705\n",
            "Computing the msd similarity matrix...\n",
            "Done computing similarity matrix.\n",
            "K = 6 - Precision: 0.6449342803494162 , Recall: 0.7571055995035133 , F1 score: 0.6965327619861019\n",
            "Computing the msd similarity matrix...\n",
            "Done computing similarity matrix.\n",
            "K = 7 - Precision: 0.639555998740422 , Recall: 0.7626734911625264 , F1 score: 0.6957098105062016\n",
            "Computing the msd similarity matrix...\n",
            "Done computing similarity matrix.\n",
            "K = 8 - Precision: 0.6367038708699249 , Recall: 0.7679895320906408 , F1 score: 0.696211581600801\n",
            "Computing the msd similarity matrix...\n",
            "Done computing similarity matrix.\n",
            "K = 9 - Precision: 0.6340483576890629 , Recall: 0.7717950402864396 , F1 score: 0.6961733838504086\n",
            "Computing the msd similarity matrix...\n",
            "Done computing similarity matrix.\n",
            "K = 10 - Precision: 0.630056875391188 , Recall: 0.7749889213520649 , F1 score: 0.695047947023032\n",
            "precision  65.0 recall  74.0  f1-score  69.0 elapsed time:  0:01:23.371578\n"
          ],
          "name": "stdout"
        }
      ]
    },
    {
      "cell_type": "markdown",
      "metadata": {
        "id": "p7mCzOVGZGF5"
      },
      "source": [
        "#KNNBaseline"
      ]
    },
    {
      "cell_type": "code",
      "metadata": {
        "colab": {
          "base_uri": "https://localhost:8080/"
        },
        "id": "W_bfT5bMZI7w",
        "outputId": "6bfc6b82-0c13-4664-d91f-a4f2f8d4f802"
      },
      "source": [
        "algo = KNNBaseline()\n",
        "start = time.time()\n",
        "metrics_KNNBL = get_precision_vs_recall(algo, k_max, True)\n",
        "end = time.time()\n",
        "print ('precision ', round(np.array(metrics_KNNBL['precision']).mean(),2)*100, 'recall ', round(np.array(metrics_KNNBL['recall']).mean(),2)*100, ' f1-score ', round(np.array(metrics_KNNBL['f1_score']).mean(),2)*100, 'elapsed time: ', timedelta(seconds=end - start))"
      ],
      "execution_count": 138,
      "outputs": [
        {
          "output_type": "stream",
          "text": [
            "Estimating biases using als...\n",
            "Computing the msd similarity matrix...\n",
            "Done computing similarity matrix.\n",
            "K = 1 - Precision: 0.7957384276267451 , Recall: 0.6197661457756848 , F1 score: 0.6968140514733924\n",
            "Estimating biases using als...\n",
            "Computing the msd similarity matrix...\n",
            "Done computing similarity matrix.\n",
            "K = 2 - Precision: 0.7566740142052413 , Recall: 0.6694141872924753 , F1 score: 0.7103744631398908\n",
            "Estimating biases using als...\n",
            "Computing the msd similarity matrix...\n",
            "Done computing similarity matrix.\n",
            "K = 3 - Precision: 0.7389174626500123 , Recall: 0.6924206215778563 , F1 score: 0.7149138200411368\n",
            "Estimating biases using als...\n",
            "Computing the msd similarity matrix...\n",
            "Done computing similarity matrix.\n",
            "K = 4 - Precision: 0.7292840231855664 , Recall: 0.7068656376859711 , F1 score: 0.7178998542400068\n",
            "Estimating biases using als...\n",
            "Computing the msd similarity matrix...\n",
            "Done computing similarity matrix.\n",
            "K = 5 - Precision: 0.724120336353988 , Recall: 0.7172349190669529 , F1 score: 0.7206611817402495\n",
            "Estimating biases using als...\n",
            "Computing the msd similarity matrix...\n",
            "Done computing similarity matrix.\n",
            "K = 6 - Precision: 0.7179565678830925 , Recall: 0.72471658673954 , F1 score: 0.7213207394013942\n",
            "Estimating biases using als...\n",
            "Computing the msd similarity matrix...\n",
            "Done computing similarity matrix.\n",
            "K = 7 - Precision: 0.7147189858064215 , Recall: 0.7300831412516817 , F1 score: 0.7223193716253211\n",
            "Estimating biases using als...\n",
            "Computing the msd similarity matrix...\n",
            "Done computing similarity matrix.\n",
            "K = 8 - Precision: 0.7121420990634805 , Recall: 0.7349724208742993 , F1 score: 0.7233771693171811\n",
            "Estimating biases using als...\n",
            "Computing the msd similarity matrix...\n",
            "Done computing similarity matrix.\n",
            "K = 9 - Precision: 0.7092626608974882 , Recall: 0.7386797498529594 , F1 score: 0.7236723795668943\n",
            "Estimating biases using als...\n",
            "Computing the msd similarity matrix...\n",
            "Done computing similarity matrix.\n",
            "K = 10 - Precision: 0.7068737389641137 , Recall: 0.7416173227228643 , F1 score: 0.7238288501181708\n",
            "precision  73.0 recall  71.0  f1-score  72.0 elapsed time:  0:01:25.635256\n"
          ],
          "name": "stdout"
        }
      ]
    },
    {
      "cell_type": "markdown",
      "metadata": {
        "id": "LXtnuaM9ZMaP"
      },
      "source": [
        "#SVDpp"
      ]
    },
    {
      "cell_type": "code",
      "metadata": {
        "colab": {
          "base_uri": "https://localhost:8080/"
        },
        "id": "-mqdrmyUZLgT",
        "outputId": "a1170176-85be-4581-ae90-376795b84256"
      },
      "source": [
        "algo = SVDpp()\n",
        "start = time.time()\n",
        "metrics_SVDpp = get_precision_vs_recall(algo, k_max, True)\n",
        "end = time.time()\n",
        "print ('precision ', round(np.array(metrics_SVDpp['precision']).mean(),2)*100, 'recall ', round(np.array(metrics_SVDpp['recall']).mean(),2)*100, ' f1-score ', round(np.array(metrics_SVDpp['f1_score']).mean(),2)*100, 'elapsed time: ', timedelta(seconds=end - start))"
      ],
      "execution_count": 139,
      "outputs": [
        {
          "output_type": "stream",
          "text": [
            "K = 1 - Precision: 0.807739407298555 , Recall: 0.6159597721323845 , F1 score: 0.6989327358618451\n",
            "K = 2 - Precision: 0.7763899093803576 , Recall: 0.6615787111670282 , F1 score: 0.71440089619677\n",
            "K = 3 - Precision: 0.7594089313413342 , Recall: 0.6854283046425066 , F1 score: 0.7205245869583748\n",
            "K = 4 - Precision: 0.754102375704139 , Recall: 0.6932129771877752 , F1 score: 0.7223768502444398\n",
            "K = 5 - Precision: 0.752522654910605 , Recall: 0.7040484591480184 , F1 score: 0.7274789545805367\n",
            "K = 6 - Precision: 0.744628132908809 , Recall: 0.7132548196002669 , F1 score: 0.7286039029307462\n",
            "K = 7 - Precision: 0.7438508099786572 , Recall: 0.718981980675551 , F1 score: 0.7312050045670465\n",
            "K = 8 - Precision: 0.7358513231400816 , Recall: 0.7228599661218509 , F1 score: 0.7292977937874109\n",
            "K = 9 - Precision: 0.740900423358175 , Recall: 0.7258999689170014 , F1 score: 0.7333234939378114\n",
            "K = 10 - Precision: 0.7340281422390165 , Recall: 0.7295691028411981 , F1 score: 0.7317918300183196\n",
            "precision  75.0 recall  70.0  f1-score  72.0 elapsed time:  0:58:40.034265\n"
          ],
          "name": "stdout"
        }
      ]
    },
    {
      "cell_type": "markdown",
      "metadata": {
        "id": "7hNNxfB5ZTVM"
      },
      "source": [
        "#SlopeOne"
      ]
    },
    {
      "cell_type": "code",
      "metadata": {
        "colab": {
          "base_uri": "https://localhost:8080/"
        },
        "id": "fbHtN6o3ZUHy",
        "outputId": "2398b1ea-b237-4e83-8c98-5044d27c6043"
      },
      "source": [
        "algo = SlopeOne()\n",
        "start = time.time()\n",
        "metrics_slope = get_precision_vs_recall(algo, k_max, True)\n",
        "end = time.time()\n",
        "print ('precision ', round(np.array(metrics_slope['precision']).mean(),2)*100, 'recall ', round(np.array(metrics_slope['recall']).mean(),2)*100, ' f1-score ', round(np.array(metrics_slope['f1_score']).mean(),2)*100, 'elapsed time: ', timedelta(seconds=end - start))"
      ],
      "execution_count": 140,
      "outputs": [
        {
          "output_type": "stream",
          "text": [
            "K = 1 - Precision: 0.7178545187362234 , Recall: 0.6480307978685754 , F1 score: 0.6811579725983602\n",
            "K = 2 - Precision: 0.6819740386970365 , Recall: 0.6990556035448907 , F1 score: 0.6904091825999911\n",
            "K = 3 - Precision: 0.6637684708955837 , Recall: 0.7212872258806533 , F1 score: 0.6913335255956369\n",
            "K = 4 - Precision: 0.6510123275369419 , Recall: 0.7378619779416172 , F1 score: 0.6917216939876629\n",
            "K = 5 - Precision: 0.6449016246224181 , Recall: 0.7477538604621388 , F1 score: 0.6925297528274756\n",
            "K = 6 - Precision: 0.6380480039186872 , Recall: 0.7554509435113819 , F1 score: 0.6918038473654683\n",
            "K = 7 - Precision: 0.6351317308701585 , Recall: 0.7619909486033504 , F1 score: 0.6928019095305459\n",
            "K = 8 - Precision: 0.632323629917311 , Recall: 0.7670490533810954 , F1 score: 0.6932009571822457\n",
            "K = 9 - Precision: 0.6288152774376139 , Recall: 0.7709692110097647 , F1 score: 0.6926740827864064\n",
            "K = 10 - Precision: 0.6264817536125397 , Recall: 0.7743560978824643 , F1 score: 0.6926140175384885\n",
            "precision  65.0 recall  74.0  f1-score  69.0 elapsed time:  0:01:53.456259\n"
          ],
          "name": "stdout"
        }
      ]
    },
    {
      "cell_type": "markdown",
      "metadata": {
        "id": "2EO9S2MPZZXf"
      },
      "source": [
        "#CoClustering"
      ]
    },
    {
      "cell_type": "code",
      "metadata": {
        "colab": {
          "base_uri": "https://localhost:8080/"
        },
        "id": "HVVsMtRRZW-C",
        "outputId": "de77c2c5-d94b-4609-b738-4e2a5513d819"
      },
      "source": [
        "algo = CoClustering()\n",
        "start = time.time()\n",
        "metrics_coc = get_precision_vs_recall(algo, k_max, True)\n",
        "end = time.time()\n",
        "print ('precision ', round(np.array(metrics_coc['precision']).mean(),2)*100, 'recall ', round(np.array(metrics_coc['recall']).mean(),2)*100, ' f1-score ', round(np.array(metrics_coc['f1_score']).mean(),2)*100, 'elapsed time: ', timedelta(seconds=end - start))"
      ],
      "execution_count": 141,
      "outputs": [
        {
          "output_type": "stream",
          "text": [
            "K = 1 - Precision: 0.7063433749693853 , Recall: 0.6568573331635377 , F1 score: 0.6807021487181953\n",
            "K = 2 - Precision: 0.6749938770511879 , Recall: 0.7096740346405375 , F1 score: 0.6918996591743406\n",
            "K = 3 - Precision: 0.6571148665197161 , Recall: 0.7357803113003222 , F1 score: 0.6942262257015487\n",
            "K = 4 - Precision: 0.6475426565433916 , Recall: 0.7529329392089575 , F1 score: 0.6962723193937163\n",
            "K = 5 - Precision: 0.6431749530573924 , Recall: 0.7570369373961817 , F1 score: 0.6954764489462751\n",
            "K = 6 - Precision: 0.6404237080578007 , Recall: 0.7669457718047622 , F1 score: 0.6979975935053289\n",
            "K = 7 - Precision: 0.6330662561375273 , Recall: 0.7745109342805561 , F1 score: 0.6966818457138177\n",
            "K = 8 - Precision: 0.6278220962644178 , Recall: 0.7799364106392336 , F1 score: 0.6956609530387052\n",
            "K = 9 - Precision: 0.630604539146053 , Recall: 0.7803544168717611 , F1 score: 0.6975327458296254\n",
            "K = 10 - Precision: 0.6237561666841608 , Recall: 0.7908584695987453 , F1 score: 0.697437782324713\n",
            "precision  65.0 recall  75.0  f1-score  69.0 elapsed time:  0:00:47.715689\n"
          ],
          "name": "stdout"
        }
      ]
    },
    {
      "cell_type": "markdown",
      "metadata": {
        "id": "Ap80_FoXZeSW"
      },
      "source": [
        "#NMF\n"
      ]
    },
    {
      "cell_type": "code",
      "metadata": {
        "colab": {
          "base_uri": "https://localhost:8080/"
        },
        "id": "_LnDYf7oZe0w",
        "outputId": "e0410543-4ef2-428b-9f28-01e2d9fb7d30"
      },
      "source": [
        "algo = NMF()\n",
        "start = time.time()\n",
        "metrics_nmf = get_precision_vs_recall(algo, k_max, True)\n",
        "end = time.time()\n",
        "print ('precision ', round(np.array(metrics_nmf['precision']).mean(),2)*100, 'recall ', round(np.array(metrics_nmf['recall']).mean(),2)*100, ' f1-score ', round(np.array(metrics_nmf['f1_score']).mean(),2)*100, 'elapsed time: ', timedelta(seconds=end - start))"
      ],
      "execution_count": 142,
      "outputs": [
        {
          "output_type": "stream",
          "text": [
            "K = 1 - Precision: 0.6857702669605682 , Recall: 0.6704888774159491 , F1 score: 0.6780434821267161\n",
            "K = 2 - Precision: 0.6484202792064658 , Recall: 0.7293593477287152 , F1 score: 0.6865123894277889\n",
            "K = 3 - Precision: 0.6335619234223201 , Recall: 0.752241819559552 , F1 score: 0.6878200127434495\n",
            "K = 4 - Precision: 0.62252020573108 , Recall: 0.7703066348093627 , F1 score: 0.688572952243616\n",
            "K = 5 - Precision: 0.6103437015266551 , Recall: 0.781519749680836 , F1 score: 0.685405822564815\n",
            "K = 6 - Precision: 0.6068577026696057 , Recall: 0.7871909526136 , F1 score: 0.6853604302187555\n",
            "K = 7 - Precision: 0.596928029110248 , Recall: 0.7963885015339888 , F1 score: 0.6823813658579649\n",
            "K = 8 - Precision: 0.5989471443733015 , Recall: 0.7996816967432802 , F1 score: 0.6849094693194021\n",
            "K = 9 - Precision: 0.5937989106982492 , Recall: 0.8089150639967458 , F1 score: 0.6848621921701684\n",
            "K = 10 - Precision: 0.5909437699481783 , Recall: 0.8118157829064777 , F1 score: 0.6839910350678509\n",
            "precision  62.0 recall  77.0  f1-score  68.0 elapsed time:  0:01:25.126045\n"
          ],
          "name": "stdout"
        }
      ]
    },
    {
      "cell_type": "markdown",
      "metadata": {
        "id": "QlJVRTZOZlln"
      },
      "source": [
        "#BaselineOnly\n",
        "\n"
      ]
    },
    {
      "cell_type": "code",
      "metadata": {
        "colab": {
          "base_uri": "https://localhost:8080/"
        },
        "id": "ha2m4yodZmK5",
        "outputId": "7b376cd0-27e1-4dd0-d32e-4b8076f1dab9"
      },
      "source": [
        "algo = BaselineOnly()\n",
        "start = time.time()\n",
        "metrics_bl = get_precision_vs_recall(algo, k_max, True)\n",
        "end = time.time()\n",
        "print ('precision ', round(np.array(metrics_bl['precision']).mean(),2)*100, 'recall ', round(np.array(metrics_bl['recall']).mean(),2)*100, ' f1-score ', round(np.array(metrics_bl['f1_score']).mean(),2)*100, 'elapsed time: ', timedelta(seconds=end - start))"
      ],
      "execution_count": 143,
      "outputs": [
        {
          "output_type": "stream",
          "text": [
            "Estimating biases using als...\n",
            "K = 1 - Precision: 0.7795738427626745 , Recall: 0.6323280042190264 , F1 score: 0.6982728625070889\n",
            "Estimating biases using als...\n",
            "K = 2 - Precision: 0.7444281165809454 , Recall: 0.6838677377343626 , F1 score: 0.7128640336719448\n",
            "Estimating biases using als...\n",
            "K = 3 - Precision: 0.7280186137643894 , Recall: 0.707511876048459 , F1 score: 0.7176187742132782\n",
            "Estimating biases using als...\n",
            "K = 4 - Precision: 0.7216099273410075 , Recall: 0.722872579882407 , F1 score: 0.7222407017561353\n",
            "Estimating biases using als...\n",
            "K = 5 - Precision: 0.71851987917381 , Recall: 0.7333754287528625 , F1 score: 0.7258716542159402\n",
            "Estimating biases using als...\n",
            "K = 6 - Precision: 0.713237815331864 , Recall: 0.7402236437602805 , F1 score: 0.7264802120894818\n",
            "Estimating biases using als...\n",
            "K = 7 - Precision: 0.7101932519272711 , Recall: 0.7459019950431522 , F1 score: 0.7276097694582966\n",
            "Estimating biases using als...\n",
            "K = 8 - Precision: 0.7082534434297844 , Recall: 0.7511066417759592 , F1 score: 0.7290508638871068\n",
            "Estimating biases using als...\n",
            "K = 9 - Precision: 0.7066598245143433 , Recall: 0.7544331973305526 , F1 score: 0.72976548770349\n",
            "Estimating biases using als...\n",
            "K = 10 - Precision: 0.7057220414494478 , Recall: 0.7569514781660789 , F1 score: 0.7304396166137739\n",
            "precision  72.0 recall  72.0  f1-score  72.0 elapsed time:  0:00:07.619793\n"
          ],
          "name": "stdout"
        }
      ]
    },
    {
      "cell_type": "markdown",
      "metadata": {
        "id": "7bWtWI5tZuYY"
      },
      "source": [
        "#NormalPredictor"
      ]
    },
    {
      "cell_type": "code",
      "metadata": {
        "colab": {
          "base_uri": "https://localhost:8080/"
        },
        "id": "EdODrUxcZumb",
        "outputId": "d5630561-ad82-440e-dc40-04fc511bf0d8"
      },
      "source": [
        "algo = NormalPredictor()\n",
        "start = time.time()\n",
        "metrics_norm = get_precision_vs_recall(algo, k_max, True)\n",
        "end = time.time()\n",
        "print ('precision ', round(np.array(metrics_norm['precision']).mean(),2)*100, 'recall ', round(np.array(metrics_norm['recall']).mean(),2)*100, ' f1-score ', round(np.array(metrics_norm['f1_score']).mean(),2)*100, 'elapsed time: ', timedelta(seconds=end - start))"
      ],
      "execution_count": 144,
      "outputs": [
        {
          "output_type": "stream",
          "text": [
            "K = 1 - Precision: 0.7950036737692873 , Recall: 0.5689525675565352 , F1 score: 0.6632461771181761\n",
            "K = 2 - Precision: 0.7418564780798432 , Recall: 0.6088660298799902 , F1 score: 0.6688142174094253\n",
            "K = 3 - Precision: 0.710139603232917 , Recall: 0.6299949655754209 , F1 score: 0.6676708224761094\n",
            "K = 4 - Precision: 0.6866682994530164 , Recall: 0.649327933475619 , F1 score: 0.6674762950336279\n",
            "K = 5 - Precision: 0.6693689280757611 , Recall: 0.6516720598094587 , F1 score: 0.6604019589579626\n",
            "K = 6 - Precision: 0.6664952240999263 , Recall: 0.662971606726199 , F1 score: 0.6647287459173263\n",
            "K = 7 - Precision: 0.6610772891081489 , Recall: 0.6789060790897676 , F1 score: 0.6698730760028607\n",
            "K = 8 - Precision: 0.6566483561340285 , Recall: 0.6718298906579582 , F1 score: 0.664152377906913\n",
            "K = 9 - Precision: 0.6622832184551507 , Recall: 0.689050913322927 , F1 score: 0.6754019540000971\n",
            "K = 10 - Precision: 0.6504584436436016 , Recall: 0.6833528296758191 , F1 score: 0.6665000168190024\n",
            "precision  69.0 recall  65.0  f1-score  67.0 elapsed time:  0:00:04.113550\n"
          ],
          "name": "stdout"
        }
      ]
    },
    {
      "cell_type": "markdown",
      "metadata": {
        "id": "l9s9SCnpZ5SE"
      },
      "source": [
        "# Wilcoxon Test"
      ]
    },
    {
      "cell_type": "code",
      "metadata": {
        "id": "udIhs5cZyF8C"
      },
      "source": [
        "from scipy.stats import wilcoxon, friedmanchisquare, rankdata"
      ],
      "execution_count": 92,
      "outputs": []
    },
    {
      "cell_type": "code",
      "metadata": {
        "colab": {
          "base_uri": "https://localhost:8080/"
        },
        "id": "u-kjczZKyOWT",
        "outputId": "8fa12fc9-2d41-4636-8ff1-7705a584175f"
      },
      "source": [
        "wilcoxon(randonForestScore, svdPrediction, zero_method='zsplit')"
      ],
      "execution_count": 93,
      "outputs": [
        {
          "output_type": "execute_result",
          "data": {
            "text/plain": [
              "WilcoxonResult(statistic=1.0, pvalue=0.0069104298078147995)"
            ]
          },
          "metadata": {},
          "execution_count": 93
        }
      ]
    },
    {
      "cell_type": "code",
      "metadata": {
        "colab": {
          "base_uri": "https://localhost:8080/"
        },
        "id": "Ocr8t0Z2ywdj",
        "outputId": "7ec8d537-0a69-4a09-816b-3504145cfb14"
      },
      "source": [
        "stat, p = wilcoxon(randonForestScore, svdPrediction)\n",
        "print('stat=%.3f, p=%.3f' % (stat, p))\n",
        "if p >= 0.05:\n",
        "\tprint('statistically significant')\n",
        "else:\n",
        "\tprint('It is not statistically significant')"
      ],
      "execution_count": 94,
      "outputs": [
        {
          "output_type": "stream",
          "text": [
            "stat=1.000, p=0.007\n",
            "It is not statistically significant\n"
          ],
          "name": "stdout"
        }
      ]
    }
  ]
}