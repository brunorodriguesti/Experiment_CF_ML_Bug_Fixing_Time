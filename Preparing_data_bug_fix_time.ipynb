{
  "nbformat": 4,
  "nbformat_minor": 0,
  "metadata": {
    "colab": {
      "name": "Preparing_data_bug_fix_time.ipynb",
      "provenance": [],
      "collapsed_sections": [],
      "include_colab_link": true
    },
    "kernelspec": {
      "display_name": "Python 3",
      "name": "python3"
    }
  },
  "cells": [
    {
      "cell_type": "markdown",
      "metadata": {
        "id": "view-in-github",
        "colab_type": "text"
      },
      "source": [
        "<a href=\"https://colab.research.google.com/github/brunorodriguesti/Experiment_CF_ML_Bug_Fixing_Time/blob/main/Preparing_data_bug_fix_time.ipynb\" target=\"_parent\"><img src=\"https://colab.research.google.com/assets/colab-badge.svg\" alt=\"Open In Colab\"/></a>"
      ]
    },
    {
      "cell_type": "code",
      "metadata": {
        "id": "2jYhOYH44MSG",
        "colab": {
          "base_uri": "https://localhost:8080/"
        },
        "outputId": "3568a5fd-9500-40f7-9f99-cf536d31f953"
      },
      "source": [
        "from google.colab import drive\n",
        "drive.mount('/content/gdrive')"
      ],
      "execution_count": null,
      "outputs": [
        {
          "output_type": "stream",
          "text": [
            "Mounted at /content/gdrive\n"
          ],
          "name": "stdout"
        }
      ]
    },
    {
      "cell_type": "code",
      "metadata": {
        "id": "lbnrhvQDLECG"
      },
      "source": [
        "import pandas as pd\n",
        "pd.show_versions()"
      ],
      "execution_count": null,
      "outputs": []
    },
    {
      "cell_type": "code",
      "metadata": {
        "id": "ctrnxQMl7RGG",
        "colab": {
          "base_uri": "https://localhost:8080/"
        },
        "outputId": "6b25bac0-718c-482d-83f8-fdacabed8201"
      },
      "source": [
        "cd /content/gdrive/My Drive/"
      ],
      "execution_count": null,
      "outputs": [
        {
          "output_type": "stream",
          "text": [
            "/content/gdrive/My Drive\n"
          ],
          "name": "stdout"
        }
      ]
    },
    {
      "cell_type": "code",
      "metadata": {
        "id": "_k5ye4-Z7gax",
        "colab": {
          "base_uri": "https://localhost:8080/"
        },
        "outputId": "f2af32b2-61f0-4523-b96d-12675c788c25"
      },
      "source": [
        "cd Colab\\ Notebooks"
      ],
      "execution_count": null,
      "outputs": [
        {
          "output_type": "stream",
          "text": [
            "/content/gdrive/My Drive/Colab Notebooks\n"
          ],
          "name": "stdout"
        }
      ]
    },
    {
      "cell_type": "code",
      "metadata": {
        "id": "_ss567U68J44"
      },
      "source": [
        "import pandas as pd\n",
        "import numpy as np\n",
        "import matplotlib.pyplot as plt\n",
        "import datetime\n",
        "import nltk"
      ],
      "execution_count": null,
      "outputs": []
    },
    {
      "cell_type": "code",
      "metadata": {
        "id": "00CW7EHG8cax"
      },
      "source": [
        "#Select the dataset\n",
        "#data_bug = pd.read_csv('/content/gdrive/My Drive/Colab Notebooks/netbeans-dataset.csv', low_memory=False)\n",
        "data_bug = pd.read_csv('/content/gdrive/My Drive/Colab Notebooks/eclipse_dataset1.csv', low_memory=False)"
      ],
      "execution_count": null,
      "outputs": []
    },
    {
      "cell_type": "code",
      "metadata": {
        "id": "UNMZc7cJuAC6"
      },
      "source": [
        "data_bug['year_creation'] = pd.to_numeric(pd.DatetimeIndex(data_bug['creation_ts']).year)\n",
        "data_bug['year_creation_n'] = pd.to_datetime(data_bug['creation_ts']).dt.to_period('Y')\n",
        "data_bug['month_creation'] = pd.DatetimeIndex(data_bug['creation_ts']).month\n",
        "data_bug['year_lastdiffed'] = pd.DatetimeIndex(data_bug['lastdiffed']).year\n",
        "data_bug['month_lastdiffed'] = pd.DatetimeIndex(data_bug['lastdiffed']).month\n",
        "bugfix = data_bug[(data_bug['resolution'] == 'FIXED') & (data_bug['lastdiffed'].notna())]"
      ],
      "execution_count": null,
      "outputs": []
    },
    {
      "cell_type": "code",
      "metadata": {
        "id": "hKwCALlTEcv6"
      },
      "source": [
        "list(data_bug)"
      ],
      "execution_count": null,
      "outputs": []
    },
    {
      "cell_type": "code",
      "metadata": {
        "id": "fJsIAYoi_UoV"
      },
      "source": [
        "data_bug.head()"
      ],
      "execution_count": null,
      "outputs": []
    },
    {
      "cell_type": "markdown",
      "metadata": {
        "id": "VwW6757K3ych"
      },
      "source": [
        "#Analysing the dataset"
      ]
    },
    {
      "cell_type": "code",
      "metadata": {
        "id": "0NUFLnHp9gqY"
      },
      "source": [
        "data_bug.describe()"
      ],
      "execution_count": null,
      "outputs": []
    },
    {
      "cell_type": "code",
      "metadata": {
        "id": "lqySI-hTJAcL"
      },
      "source": [
        "data_bug.shape"
      ],
      "execution_count": null,
      "outputs": []
    },
    {
      "cell_type": "code",
      "metadata": {
        "id": "fpnx04MO-zyU",
        "colab": {
          "base_uri": "https://localhost:8080/"
        },
        "outputId": "5ed2b9ad-b92c-4e76-99a9-07724bbf0451"
      },
      "source": [
        " data_bug['reporter'].nunique()"
      ],
      "execution_count": null,
      "outputs": [
        {
          "output_type": "execute_result",
          "data": {
            "text/plain": [
              "2416"
            ]
          },
          "metadata": {
            "tags": []
          },
          "execution_count": 8
        }
      ]
    },
    {
      "cell_type": "code",
      "metadata": {
        "id": "QA1AUfXo0ARy",
        "colab": {
          "base_uri": "https://localhost:8080/"
        },
        "outputId": "c64f36d9-9a05-40f5-9188-cd96cdca3f7a"
      },
      "source": [
        "data_bug['assigned_to'].nunique()"
      ],
      "execution_count": null,
      "outputs": [
        {
          "output_type": "execute_result",
          "data": {
            "text/plain": [
              "219"
            ]
          },
          "metadata": {
            "tags": []
          },
          "execution_count": 14
        }
      ]
    },
    {
      "cell_type": "code",
      "metadata": {
        "id": "g_Xj5HdhN-EB",
        "colab": {
          "base_uri": "https://localhost:8080/"
        },
        "outputId": "df60c687-30f5-4d62-d6cf-4e60457ad5b3"
      },
      "source": [
        "data_bug.groupby('reporter').size()"
      ],
      "execution_count": null,
      "outputs": [
        {
          "output_type": "execute_result",
          "data": {
            "text/plain": [
              "reporter\n",
              "2         53\n",
              "3        268\n",
              "5         52\n",
              "6         87\n",
              "9          6\n",
              "        ... \n",
              "92270      1\n",
              "92271      1\n",
              "92273      1\n",
              "92278      2\n",
              "92280      1\n",
              "Length: 2416, dtype: int64"
            ]
          },
          "metadata": {
            "tags": []
          },
          "execution_count": 15
        }
      ]
    },
    {
      "cell_type": "code",
      "metadata": {
        "id": "a_p60aR5J-Jh"
      },
      "source": [
        "list(data_bug)"
      ],
      "execution_count": null,
      "outputs": []
    },
    {
      "cell_type": "code",
      "metadata": {
        "id": "lWdoPgVYKV5E",
        "colab": {
          "base_uri": "https://localhost:8080/"
        },
        "outputId": "8dd9712a-1a8b-4021-bea2-667b8b224e24"
      },
      "source": [
        " data_bug['resolution'].value_counts()"
      ],
      "execution_count": null,
      "outputs": [
        {
          "output_type": "execute_result",
          "data": {
            "text/plain": [
              "FIXED         4747\n",
              "DUPLICATE     1501\n",
              "WORKSFORME     576\n",
              "INVALID        410\n",
              "WONTFIX        406\n",
              "INCOMPLETE     369\n",
              "Name: resolution, dtype: int64"
            ]
          },
          "metadata": {
            "tags": []
          },
          "execution_count": 14
        }
      ]
    },
    {
      "cell_type": "code",
      "metadata": {
        "id": "eF6m-qfOK6uw",
        "colab": {
          "base_uri": "https://localhost:8080/"
        },
        "outputId": "c928ec64-3061-419b-c9fb-3541665698a2"
      },
      "source": [
        "data_bug['bug_severity'].value_counts()"
      ],
      "execution_count": null,
      "outputs": [
        {
          "output_type": "execute_result",
          "data": {
            "text/plain": [
              "normal         12088\n",
              "enhancement        3\n",
              "Name: bug_severity, dtype: int64"
            ]
          },
          "metadata": {
            "tags": []
          },
          "execution_count": 17
        }
      ]
    },
    {
      "cell_type": "code",
      "metadata": {
        "id": "-YObQ43ZLeu-",
        "colab": {
          "base_uri": "https://localhost:8080/"
        },
        "outputId": "d6344780-71a9-46ec-ed38-322046e42883"
      },
      "source": [
        "data_bug['priority'].value_counts()"
      ],
      "execution_count": null,
      "outputs": [
        {
          "output_type": "execute_result",
          "data": {
            "text/plain": [
              "P3    9124\n",
              "P2    1785\n",
              "P1     655\n",
              "P4     527\n",
              "Name: priority, dtype: int64"
            ]
          },
          "metadata": {
            "tags": []
          },
          "execution_count": 18
        }
      ]
    },
    {
      "cell_type": "code",
      "metadata": {
        "id": "KJcLfzWbmAUm"
      },
      "source": [
        "bugfix = data_bug[(data_bug['resolution'] == 'FIXED') & (data_bug['lastdiffed'].notna())]\n",
        "bugdifzero = bugfix[bugfix['days'] != 0]"
      ],
      "execution_count": null,
      "outputs": []
    },
    {
      "cell_type": "code",
      "metadata": {
        "colab": {
          "base_uri": "https://localhost:8080/"
        },
        "id": "8hkarF6FeMM0",
        "outputId": "a964e4b4-daf8-4e08-c6a3-f225a65925d0"
      },
      "source": [
        "bugfix.shape"
      ],
      "execution_count": null,
      "outputs": [
        {
          "output_type": "execute_result",
          "data": {
            "text/plain": [
              "(4747, 25)"
            ]
          },
          "metadata": {
            "tags": []
          },
          "execution_count": 12
        }
      ]
    },
    {
      "cell_type": "code",
      "metadata": {
        "id": "K0h882ZsYDof",
        "colab": {
          "base_uri": "https://localhost:8080/"
        },
        "outputId": "d21b4593-2498-4c56-ce9c-bc5484fc6454"
      },
      "source": [
        "bugfix['days'].describe()"
      ],
      "execution_count": null,
      "outputs": [
        {
          "output_type": "execute_result",
          "data": {
            "text/plain": [
              "count    4747.000000\n",
              "mean       27.358332\n",
              "std        40.299980\n",
              "min         0.000000\n",
              "25%         3.000000\n",
              "50%         9.000000\n",
              "75%        33.000000\n",
              "max       217.000000\n",
              "Name: days, dtype: float64"
            ]
          },
          "metadata": {
            "tags": []
          },
          "execution_count": 11
        }
      ]
    },
    {
      "cell_type": "code",
      "metadata": {
        "id": "7kZZ07Tba6yF",
        "colab": {
          "base_uri": "https://localhost:8080/"
        },
        "outputId": "688bd895-ff6b-4194-ea28-9bb3eb321266"
      },
      "source": [
        "bugfix['days'].median()"
      ],
      "execution_count": null,
      "outputs": [
        {
          "output_type": "execute_result",
          "data": {
            "text/plain": [
              "9.0"
            ]
          },
          "metadata": {
            "tags": []
          },
          "execution_count": 22
        }
      ]
    },
    {
      "cell_type": "code",
      "metadata": {
        "id": "eAUGx5IabTSo",
        "colab": {
          "base_uri": "https://localhost:8080/"
        },
        "outputId": "ad066701-0fe1-4685-b950-3315d3339a95"
      },
      "source": [
        "priority = bugfix[(bugfix['priority'] == 'P1')]\n",
        "\n",
        "priority['days'].describe()"
      ],
      "execution_count": null,
      "outputs": [
        {
          "output_type": "execute_result",
          "data": {
            "text/plain": [
              "count    420.000000\n",
              "mean      20.802381\n",
              "std       34.926879\n",
              "min        0.000000\n",
              "25%        3.000000\n",
              "50%        7.000000\n",
              "75%       19.000000\n",
              "max      217.000000\n",
              "Name: days, dtype: float64"
            ]
          },
          "metadata": {
            "tags": []
          },
          "execution_count": 23
        }
      ]
    },
    {
      "cell_type": "code",
      "metadata": {
        "id": "W2Dt2oOQdH1h",
        "colab": {
          "base_uri": "https://localhost:8080/"
        },
        "outputId": "52dd5e04-069e-446b-e417-5123e10c400f"
      },
      "source": [
        "priority['days'].median()"
      ],
      "execution_count": null,
      "outputs": [
        {
          "output_type": "execute_result",
          "data": {
            "text/plain": [
              "7.0"
            ]
          },
          "metadata": {
            "tags": []
          },
          "execution_count": 24
        }
      ]
    },
    {
      "cell_type": "code",
      "metadata": {
        "id": "1_amVA4WdUxu",
        "colab": {
          "base_uri": "https://localhost:8080/"
        },
        "outputId": "617d6505-9445-4547-8157-a63d9e6b1c7e"
      },
      "source": [
        "print(priority['days'].mode())"
      ],
      "execution_count": null,
      "outputs": [
        {
          "output_type": "stream",
          "text": [
            "0    1\n",
            "dtype: int64\n"
          ],
          "name": "stdout"
        }
      ]
    },
    {
      "cell_type": "code",
      "metadata": {
        "id": "RpBnBWH2iRD_",
        "colab": {
          "base_uri": "https://localhost:8080/",
          "height": 170
        },
        "outputId": "1c8308d5-f266-4ecb-bf95-0ad493f18b78"
      },
      "source": [
        "severity = bugfix[(bugfix['bug_severity'] == 'enhancement')]\n",
        "\n",
        "severity['days'].describe()"
      ],
      "execution_count": null,
      "outputs": [
        {
          "output_type": "execute_result",
          "data": {
            "text/plain": [
              "count    17363.000000\n",
              "mean       340.309969\n",
              "std        452.182009\n",
              "min          0.000000\n",
              "25%         32.000000\n",
              "50%        153.000000\n",
              "75%        463.000000\n",
              "max       3070.000000\n",
              "Name: days, dtype: float64"
            ]
          },
          "metadata": {
            "tags": []
          },
          "execution_count": 76
        }
      ]
    },
    {
      "cell_type": "code",
      "metadata": {
        "id": "ifw6rzOyjmr0",
        "colab": {
          "base_uri": "https://localhost:8080/",
          "height": 51
        },
        "outputId": "b396f96c-c76b-4df2-d1fd-8821771e120e"
      },
      "source": [
        "severity['days'].mode()"
      ],
      "execution_count": null,
      "outputs": [
        {
          "output_type": "execute_result",
          "data": {
            "text/plain": [
              "0    0.0\n",
              "dtype: float64"
            ]
          },
          "metadata": {
            "tags": []
          },
          "execution_count": 74
        }
      ]
    },
    {
      "cell_type": "code",
      "metadata": {
        "id": "1VW1mVvzjupD",
        "colab": {
          "base_uri": "https://localhost:8080/",
          "height": 34
        },
        "outputId": "c8942194-44e0-4213-b984-e555a7fd829a"
      },
      "source": [
        "severity['days'].median()"
      ],
      "execution_count": null,
      "outputs": [
        {
          "output_type": "execute_result",
          "data": {
            "text/plain": [
              "26.0"
            ]
          },
          "metadata": {
            "tags": []
          },
          "execution_count": 75
        }
      ]
    },
    {
      "cell_type": "code",
      "metadata": {
        "id": "Z6G_EwKDpBbZ"
      },
      "source": [
        "severity[['short_desc', 'comments']]"
      ],
      "execution_count": null,
      "outputs": []
    },
    {
      "cell_type": "code",
      "metadata": {
        "id": "9lxjQaf3w5p-"
      },
      "source": [
        "bugfix['product_id'].value_counts()"
      ],
      "execution_count": null,
      "outputs": []
    },
    {
      "cell_type": "code",
      "metadata": {
        "id": "Y8n5w1goyXZx"
      },
      "source": [
        "bugfix[['product_id', 'days']]"
      ],
      "execution_count": null,
      "outputs": []
    },
    {
      "cell_type": "code",
      "metadata": {
        "id": "Axra-e-t6SK5",
        "colab": {
          "base_uri": "https://localhost:8080/",
          "height": 34
        },
        "outputId": "936142ee-732d-43cc-d3e5-05ae5e00e908"
      },
      "source": [
        "bugfix['assigned_to'].nunique()"
      ],
      "execution_count": null,
      "outputs": [
        {
          "output_type": "execute_result",
          "data": {
            "text/plain": [
              "2085"
            ]
          },
          "metadata": {
            "tags": []
          },
          "execution_count": 12
        }
      ]
    },
    {
      "cell_type": "code",
      "metadata": {
        "id": "8RLU0nmWi3_4"
      },
      "source": [
        "bugfix.columns"
      ],
      "execution_count": null,
      "outputs": []
    },
    {
      "cell_type": "code",
      "metadata": {
        "id": "kXZmDCR4fXYt",
        "colab": {
          "base_uri": "https://localhost:8080/"
        },
        "outputId": "e588e33c-096a-4482-fd35-dcbc29452f27"
      },
      "source": [
        "bugYear = bugfix.groupby('year_lastdiffed')\n",
        "print(bugYear['assigned_to'].agg(np.count_nonzero))"
      ],
      "execution_count": null,
      "outputs": [
        {
          "output_type": "stream",
          "text": [
            "year_lastdiffed\n",
            "2009     663\n",
            "2010    4084\n",
            "Name: assigned_to, dtype: int64\n"
          ],
          "name": "stdout"
        }
      ]
    },
    {
      "cell_type": "code",
      "metadata": {
        "id": "0Pz18JXYWc1U",
        "colab": {
          "base_uri": "https://localhost:8080/"
        },
        "outputId": "7282f23c-b930-454e-a609-050db1164f48"
      },
      "source": [
        "bugYear = bugfix.groupby('year_creation')\n",
        "print(bugYear['reporter'].agg(np.count_nonzero))"
      ],
      "execution_count": null,
      "outputs": [
        {
          "output_type": "stream",
          "text": [
            "year_creation\n",
            "2009    1262\n",
            "2010    3485\n",
            "Name: reporter, dtype: int64\n"
          ],
          "name": "stdout"
        }
      ]
    },
    {
      "cell_type": "markdown",
      "metadata": {
        "id": "Zt_R8DSuYIEr"
      },
      "source": [
        "Calcular a média de tempo de resolução de bugs por ano"
      ]
    },
    {
      "cell_type": "code",
      "metadata": {
        "id": "6nyqZbvVYL-p",
        "colab": {
          "base_uri": "https://localhost:8080/"
        },
        "outputId": "bc7e11c1-6505-4de2-813e-ac913030a82c"
      },
      "source": [
        "bugYear = bugfix.groupby('year_lastdiffed')\n",
        "print(bugYear['days'].agg(np.mean))"
      ],
      "execution_count": null,
      "outputs": [
        {
          "output_type": "stream",
          "text": [
            "year_lastdiffed\n",
            "2009     7.404223\n",
            "2010    30.597698\n",
            "Name: days, dtype: float64\n"
          ],
          "name": "stdout"
        }
      ]
    },
    {
      "cell_type": "code",
      "metadata": {
        "id": "SFqyZTe0vHaD",
        "colab": {
          "base_uri": "https://localhost:8080/"
        },
        "outputId": "b51bf901-473e-4081-bd5e-8fd8b12473b4"
      },
      "source": [
        "bugYear = bugfix.groupby('year_lastdiffed')\n",
        "print(bugYear['product_id'].agg(np.count_nonzero))"
      ],
      "execution_count": null,
      "outputs": [
        {
          "output_type": "stream",
          "text": [
            "year_lastdiffed\n",
            "2009     663\n",
            "2010    4084\n",
            "Name: product_id, dtype: int64\n"
          ],
          "name": "stdout"
        }
      ]
    },
    {
      "cell_type": "markdown",
      "metadata": {
        "id": "21t_UKH5-7Mq"
      },
      "source": [
        "#Outliers\n"
      ]
    },
    {
      "cell_type": "code",
      "metadata": {
        "id": "G91Vj0nkOQ1L",
        "colab": {
          "base_uri": "https://localhost:8080/"
        },
        "outputId": "b838b611-dc2b-4eb4-c0e3-75a32e622c23"
      },
      "source": [
        "bugfix['days'].describe()"
      ],
      "execution_count": null,
      "outputs": [
        {
          "output_type": "execute_result",
          "data": {
            "text/plain": [
              "count    171413.000000\n",
              "mean        219.683851\n",
              "std         386.383059\n",
              "min           0.000000\n",
              "25%           6.000000\n",
              "50%          44.000000\n",
              "75%         239.000000\n",
              "max        3131.000000\n",
              "Name: days, dtype: float64"
            ]
          },
          "metadata": {
            "tags": []
          },
          "execution_count": 17
        }
      ]
    },
    {
      "cell_type": "code",
      "metadata": {
        "id": "3zfdpQ6LL3ZN",
        "colab": {
          "base_uri": "https://localhost:8080/",
          "height": 265
        },
        "outputId": "238c7438-5cf1-408c-e4b5-87caaec7418f"
      },
      "source": [
        "#Tentar usar o log\n",
        "bugfix.boxplot(column='days')\n",
        "plt.show()"
      ],
      "execution_count": null,
      "outputs": [
        {
          "output_type": "display_data",
          "data": {
            "image/png": "[encoded data removed]",
            "text/plain": [
              "<Figure size 432x288 with 1 Axes>"
            ]
          },
          "metadata": {
            "tags": [],
            "needs_background": "light"
          }
        }
      ]
    },
    {
      "cell_type": "code",
      "metadata": {
        "id": "dXXzidq6-6K0"
      },
      "source": [
        "quantirl1, quantirl3 = np.percentile(bugfix['days'], [25, 75])\n",
        "print(quantirl1)\n",
        "print(quantirl3)"
      ],
      "execution_count": null,
      "outputs": []
    },
    {
      "cell_type": "code",
      "metadata": {
        "id": "6XQ1plCkNiFY"
      },
      "source": [
        "bugfix.shape"
      ],
      "execution_count": null,
      "outputs": []
    },
    {
      "cell_type": "code",
      "metadata": {
        "id": "l4vd1k8bWulU"
      },
      "source": [
        "bug_q3 = bugfix[bugfix['days'] > quantirl3]\n",
        "bug_q0 = bugfix[bugfix['days'] == 0]\n",
        "\n",
        "\n",
        "print ('maior que o quartil: ' + str(bug_q3['days'].count()) + ' zero :' + str(bug_q0['days'].count()))"
      ],
      "execution_count": null,
      "outputs": []
    },
    {
      "cell_type": "code",
      "metadata": {
        "id": "-euEmtjiT9uW"
      },
      "source": [
        "bugfix_filter1 = bugfix[bugfix['days'] < quantirl3]\n",
        "bugfix_filter2 = bugfix_filter1[bugfix['days'] > 0]"
      ],
      "execution_count": null,
      "outputs": []
    },
    {
      "cell_type": "code",
      "metadata": {
        "id": "Byv4gwiQhkz-"
      },
      "source": [
        "bugfix_filter2['days'].median()"
      ],
      "execution_count": null,
      "outputs": []
    },
    {
      "cell_type": "code",
      "metadata": {
        "id": "v7qYzZ10VYmb"
      },
      "source": [
        "median = bugfix_filter2['days'].median()\n",
        "bugfixclass = bugfix_filter2\n",
        "pd.options.mode.chained_assignment = None\n",
        "bugfixclass.loc[bugfixclass['days'] <=median, 'classification'] = 0\n",
        "bugfixclass.loc[bugfixclass['days'] >median, 'classification'] = 1\n",
        "\n"
      ],
      "execution_count": null,
      "outputs": []
    },
    {
      "cell_type": "code",
      "metadata": {
        "id": "m1vxImdtgvVU"
      },
      "source": [
        "bugfixclass.shape"
      ],
      "execution_count": null,
      "outputs": []
    },
    {
      "cell_type": "code",
      "metadata": {
        "id": "bTSNa30We0f1"
      },
      "source": [
        "bugfixclass['classification'].value_counts()"
      ],
      "execution_count": null,
      "outputs": []
    },
    {
      "cell_type": "code",
      "metadata": {
        "id": "jtIghORev0pr"
      },
      "source": [
        "#set the less value of each dataset\n",
        "excess = bugfixclass[bugfixclass['classification']==0][56952:]"
      ],
      "execution_count": null,
      "outputs": []
    },
    {
      "cell_type": "code",
      "metadata": {
        "id": "yiWFdRqhyheh"
      },
      "source": [
        "bugfixclass = bugfixclass.drop(excess.index)"
      ],
      "execution_count": null,
      "outputs": []
    },
    {
      "cell_type": "code",
      "metadata": {
        "id": "DEbY-TThzV7l"
      },
      "source": [
        "bugfixclass['classification'].value_counts()"
      ],
      "execution_count": null,
      "outputs": []
    },
    {
      "cell_type": "code",
      "metadata": {
        "id": "Jg5wB37izg65"
      },
      "source": [
        "len(bugfixclass)"
      ],
      "execution_count": null,
      "outputs": []
    },
    {
      "cell_type": "code",
      "metadata": {
        "id": "sroBChNMfIEU"
      },
      "source": [
        "#Adding the cc and attachment for each dataset\n",
        "data_cc_count = pd.read_csv('/content/gdrive/My Drive/Colab Notebooks/netbeans-cc-counts.csv', low_memory=False)\n",
        "data_attachments_count = pd.read_csv('/content/gdrive/My Drive/Colab Notebooks/netbeans-attachments-counts.csv', low_memory=False)\n",
        "\n",
        "#data_cc_count = pd.read_csv('/content/gdrive/My Drive/Colab Notebooks/eclipse-cc-count.csv', low_memory=False)\n",
        "#data_attachments_count = pd.read_csv('/content/gdrive/My Drive/Colab Notebooks/eclipse-attachments-count.csv', low_memory=False)\n"
      ],
      "execution_count": null,
      "outputs": []
    },
    {
      "cell_type": "code",
      "metadata": {
        "id": "kLx-Phakt_lX"
      },
      "source": [
        "bugfixclass = bugfixclass.merge(data_cc_count, on ='bug_id', how='left')\n",
        "bugfixclass = bugfixclass.merge(data_attachments_count, on ='bug_id', how='left')"
      ],
      "execution_count": null,
      "outputs": []
    },
    {
      "cell_type": "code",
      "metadata": {
        "id": "Kr76-KkSxsj-"
      },
      "source": [
        "bugfixclass[\"number_cc\"] = bugfixclass['number_cc'].fillna(0)\n",
        "bugfixclass[\"number_attachment\"] = bugfixclass['number_attachment'].fillna(0)"
      ],
      "execution_count": null,
      "outputs": []
    },
    {
      "cell_type": "code",
      "metadata": {
        "id": "mep8z2g475KY"
      },
      "source": [
        "bugfixclass['classification'].value_counts()"
      ],
      "execution_count": null,
      "outputs": []
    },
    {
      "cell_type": "code",
      "metadata": {
        "id": "QPK-vc5ffP7M"
      },
      "source": [
        "bugfixclass['days'].describe()"
      ],
      "execution_count": null,
      "outputs": []
    },
    {
      "cell_type": "code",
      "metadata": {
        "id": "C8pv8oA3jiJF",
        "colab": {
          "base_uri": "https://localhost:8080/"
        },
        "outputId": "7b1c9dbf-0f03-4d1d-82c9-8b5edfaf1895"
      },
      "source": [
        "first = 1\n",
        "second = np.percentile(bugfixclass['days'], [25])\n",
        "third = np.percentile(bugfixclass['days'], [50])\n",
        "forth = np.percentile(bugfixclass['days'], [75])\n",
        "np.percentile(bugfixclass['days'], [25, 50, 75])"
      ],
      "execution_count": null,
      "outputs": [
        {
          "output_type": "execute_result",
          "data": {
            "text/plain": [
              "array([ 6., 13., 16.])"
            ]
          },
          "metadata": {
            "tags": []
          },
          "execution_count": 53
        }
      ]
    },
    {
      "cell_type": "code",
      "metadata": {
        "id": "Ry_bwkTwjXnQ"
      },
      "source": [
        "bugfixclass.loc[(bugfixclass['days'] <= int(first)), 'ratings'] = 1\n",
        "bugfixclass.loc[(bugfixclass['days'] > int(first)) & (bugfixclass['days'] <= int(second)) , 'ratings'] = 2\n",
        "bugfixclass.loc[(bugfixclass['days'] > int(second)) & (bugfixclass['days'] <= int(third)), 'ratings'] = 3\n",
        "bugfixclass.loc[(bugfixclass['days'] > int(third)) & (bugfixclass['days'] <= int(forth)), 'ratings'] = 4\n",
        "bugfixclass.loc[bugfixclass['days'] > int(forth), 'ratings'] = 5"
      ],
      "execution_count": null,
      "outputs": []
    },
    {
      "cell_type": "code",
      "metadata": {
        "id": "6yz-mrw0C_fW",
        "colab": {
          "base_uri": "https://localhost:8080/"
        },
        "outputId": "499ba17f-c3e9-4951-a258-d7f59e0014db"
      },
      "source": [
        "bugfixclass.columns"
      ],
      "execution_count": null,
      "outputs": [
        {
          "output_type": "execute_result",
          "data": {
            "text/plain": [
              "Index(['bug_id', 'assigned_to', 'bug_severity', 'priority', 'bug_status',\n",
              "       'creation_ts', 'delta_ts', 'short_desc', 'short_desc.1', 'comments',\n",
              "       'op_sys', 'rep_platform', 'reporter', 'version', 'resolution',\n",
              "       'lastdiffed', 'estimated_time', 'product_id', 'component_id', 'days',\n",
              "       'year_creation', 'year_creation_n', 'month_creation', 'year_lastdiffed',\n",
              "       'month_lastdiffed', 'classification', 'number_cc', 'number_attachment'],\n",
              "      dtype='object')"
            ]
          },
          "metadata": {
            "tags": []
          },
          "execution_count": 115
        }
      ]
    },
    {
      "cell_type": "markdown",
      "metadata": {
        "id": "_tgiYq6DO7l1"
      },
      "source": [
        "#Correlação - Spearman"
      ]
    },
    {
      "cell_type": "code",
      "metadata": {
        "id": "3GYzn0D3O_HT"
      },
      "source": [
        "import scipy.stats"
      ],
      "execution_count": null,
      "outputs": []
    },
    {
      "cell_type": "code",
      "metadata": {
        "colab": {
          "base_uri": "https://localhost:8080/"
        },
        "id": "6hiClK2TPAXl",
        "outputId": "deac02b8-4cda-4780-e4a9-e8c5ca6ee8ad"
      },
      "source": [
        "\n",
        "print ('reporter ', scipy.stats.spearmanr(bugfixclass['reporter'].astype('category'), bugfixclass['days']))\n",
        "print ('priority ', scipy.stats.spearmanr(bugfixclass['priority'].astype('category'), bugfixclass['days']))\n",
        "print ('bug_severity ', scipy.stats.spearmanr(bugfixclass['bug_severity'].astype('category'), bugfixclass['days']))\n",
        "print ('assigned_to ', scipy.stats.spearmanr(bugfixclass['assigned_to'].astype('category'), bugfixclass['days']))\n",
        "print ('number_cc ', scipy.stats.spearmanr(bugfixclass['number_cc'].astype('category'), bugfixclass['days']))\n",
        "print ('number_attachment ', scipy.stats.spearmanr(bugfixclass['number_attachment'].astype('category'), bugfixclass['days']))"
      ],
      "execution_count": null,
      "outputs": [
        {
          "output_type": "stream",
          "text": [
            "reporter  SpearmanrResult(correlation=0.008892615612720927, pvalue=0.6224600580503741)\n",
            "priority  SpearmanrResult(correlation=-0.015191010521185254, pvalue=0.40027590981867167)\n",
            "bug_severity  SpearmanrResult(correlation=nan, pvalue=nan)\n",
            "assigned_to  SpearmanrResult(correlation=0.03439612866557717, pvalue=0.05678362482280548)\n",
            "number_cc  SpearmanrResult(correlation=0.21046805766443327, pvalue=4.6520938464618994e-32)\n",
            "number_attachment  SpearmanrResult(correlation=0.0004472531216955643, pvalue=0.9802439669907264)\n"
          ],
          "name": "stdout"
        },
        {
          "output_type": "stream",
          "text": [
            "/usr/local/lib/python3.6/dist-packages/numpy/lib/function_base.py:2534: RuntimeWarning: invalid value encountered in true_divide\n",
            "  c /= stddev[:, None]\n",
            "/usr/local/lib/python3.6/dist-packages/numpy/lib/function_base.py:2535: RuntimeWarning: invalid value encountered in true_divide\n",
            "  c /= stddev[None, :]\n",
            "/usr/local/lib/python3.6/dist-packages/scipy/stats/_distn_infrastructure.py:903: RuntimeWarning: invalid value encountered in greater\n",
            "  return (a < x) & (x < b)\n",
            "/usr/local/lib/python3.6/dist-packages/scipy/stats/_distn_infrastructure.py:903: RuntimeWarning: invalid value encountered in less\n",
            "  return (a < x) & (x < b)\n",
            "/usr/local/lib/python3.6/dist-packages/scipy/stats/_distn_infrastructure.py:1912: RuntimeWarning: invalid value encountered in less_equal\n",
            "  cond2 = cond0 & (x <= _a)\n"
          ],
          "name": "stderr"
        }
      ]
    },
    {
      "cell_type": "markdown",
      "metadata": {
        "id": "K2CHtLvojR7M"
      },
      "source": [
        "#Features"
      ]
    },
    {
      "cell_type": "code",
      "metadata": {
        "id": "BX90IQhSjTfG"
      },
      "source": [
        "from sklearn.model_selection import train_test_split \n",
        "from sklearn import metrics"
      ],
      "execution_count": null,
      "outputs": []
    },
    {
      "cell_type": "code",
      "metadata": {
        "id": "WazkkU-AjeHI"
      },
      "source": [
        "from sklearn.preprocessing import OrdinalEncoder\n",
        "ordinal_encoder = OrdinalEncoder()"
      ],
      "execution_count": null,
      "outputs": []
    },
    {
      "cell_type": "code",
      "metadata": {
        "id": "j1CuSflBjnA0"
      },
      "source": [
        "bugfixclass['priority_n']  = ordinal_encoder.fit_transform(bugfixclass['priority'].values.reshape(-1,1))"
      ],
      "execution_count": null,
      "outputs": []
    },
    {
      "cell_type": "code",
      "metadata": {
        "id": "8ESoG7mvjs-c"
      },
      "source": [
        "bugfixclass['priority_n']"
      ],
      "execution_count": null,
      "outputs": []
    },
    {
      "cell_type": "code",
      "metadata": {
        "id": "XqGvc4Ckjw4h"
      },
      "source": [
        "bugfixclass['severity_n']  = ordinal_encoder.fit_transform(bugfixclass['bug_severity'].values.reshape(-1,1))"
      ],
      "execution_count": null,
      "outputs": []
    },
    {
      "cell_type": "code",
      "metadata": {
        "id": "C7UXumTGhp1x"
      },
      "source": [
        "bugfixclass['classification'].value_counts()"
      ],
      "execution_count": null,
      "outputs": []
    },
    {
      "cell_type": "code",
      "metadata": {
        "id": "s0r0x29Sh5We"
      },
      "source": [
        "#Export to CSV\n",
        "\n",
        "#bugfixclass.to_csv('eclipse_clean.csv')\n",
        "bugfixclass.to_csv('netbeans_clean.csv')"
      ],
      "execution_count": null,
      "outputs": []
    }
  ]
}